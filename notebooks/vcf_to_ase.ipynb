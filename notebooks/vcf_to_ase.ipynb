{
 "cells": [
  {
   "cell_type": "code",
   "execution_count": 1,
   "metadata": {
    "ExecuteTime": {
     "end_time": "2019-07-24T13:21:20.804458Z",
     "start_time": "2019-07-24T13:21:11.742301Z"
    }
   },
   "outputs": [],
   "source": [
    "%matplotlib inline\n",
    "\n",
    "import argparse\n",
    "from collections import defaultdict, OrderedDict\n",
    "import multiprocessing as mp\n",
    "import os\n",
    "import pickle\n",
    "import re\n",
    "import subprocess\n",
    "import sys\n",
    "import warnings\n",
    "\n",
    "warnings.simplefilter(\"ignore\", FutureWarning)\n",
    "\n",
    "from joblib import Parallel, delayed\n",
    "import numpy as np\n",
    "# import ray\n",
    "# # use fewer CPUs so the OS doesn't run out of processes\n",
    "# ray.init(num_cpus=16)\n",
    "# import modin.pandas as pd\n",
    "import pandas as pd\n",
    "from tqdm import tqdm, tqdm_notebook\n",
    "\n",
    "import matplotlib.pyplot as plt\n",
    "import seaborn as sns\n",
    "sns.set()\n",
    "\n",
    "log = sys.stdout"
   ]
  },
  {
   "cell_type": "markdown",
   "metadata": {},
   "source": [
    "## Global, general purpose functions"
   ]
  },
  {
   "cell_type": "code",
   "execution_count": 2,
   "metadata": {},
   "outputs": [],
   "source": [
    "def pickle_dump(obj, path):\n",
    "    with open(path, \"wb\") as outfile:\n",
    "        pickle.dump(obj, outfile)\n",
    "       \n",
    "    \n",
    "def pickle_load(path):\n",
    "    with open(path, \"rb\") as infile:\n",
    "        return pickle.load(infile)\n",
    "    \n",
    "    \n",
    "def nan_fraction(df, verbose=False, show_plots=False):\n",
    "    ostream = sys.stdout if verbose else open(os.devnull, \"w\")\n",
    "    column_wise =  df.isna().mean()\n",
    "    in_total = df.isna().sum().sum() / df.size\n",
    "    print(\"Per column:\\n\", column_wise, file=ostream)\n",
    "    if show_plots:\n",
    "        plt.title(\"Fraction of NaNs in column\")\n",
    "        sns.distplot(column_wise.values)\n",
    "    print(\"In total: \", in_total, file=ostream)\n",
    "    return column_wise, in_total"
   ]
  },
  {
   "cell_type": "code",
   "execution_count": 3,
   "metadata": {},
   "outputs": [],
   "source": [
    "def extract_barcodes(df):\n",
    "    barcode_list = []\n",
    "    barcode_pattern = r\"(^(A|C|G|T)+-1)|(.*_(ad|dp)$)\"\n",
    "    for colname in df.columns:\n",
    "        if re.match(barcode_pattern, colname) is not None:\n",
    "            barcode_list.append(colname.split(\"_\")[0])\n",
    "    return np.unique(barcode_list)\n",
    "\n",
    "\n",
    "def filter_barcodes(df, keep_list):\n",
    "    barcode_pattern = r\"(^(A|C|G|T)+-1)|(.*_(ad|dp)$)\"\n",
    "    remaining_list = []\n",
    "    keep_set = set(keep_list)\n",
    "    for colname in df.columns:\n",
    "        if re.match(barcode_pattern, colname) is None:\n",
    "            remaining_list.append(colname)\n",
    "        else: \n",
    "            maybe_barcode = colname.split(\"_\")[0] \n",
    "            if maybe_barcode in keep_set:\n",
    "                remaining_list.append(colname)\n",
    "    # https://stackoverflow.com/questions/40636514/selecting-pandas-dataframe-column-by-list\n",
    "    return df[df.columns.intersection(remaining_list)]\n",
    "        \n",
    "\n",
    "def extract_snps(df):\n",
    "    return np.array([\n",
    "        f\"{chrom},{pos}\"\n",
    "        for chrom, pos in \n",
    "        tqdm_notebook(df[[\"CHROM\", \"POS\"]]\\\n",
    "                      .to_dense()\\\n",
    "                      .values\\\n",
    "                      .astype(np.int64), \n",
    "                      desc=\"extracting snps...\")\n",
    "    ])\n",
    "\n",
    "\n",
    "def extract_counts(df, suffix=\"dp\"):\n",
    "    barcode_list = extract_barcodes(df)\n",
    "    return df[[f\"{barcode}_{suffix}\" for barcode in barcode_list]]\n",
    "\n",
    "\n",
    "def assert_gene_ordering(df, genome_df):\n",
    "    true_gene_ids = np.hstack(np.where(genome_df.GENE_ID == gene_id) \n",
    "                              for gene_id in tqdm_notebook(df.GENE_ID, \"asserting correct gene ordering\"))\n",
    "    # assert correct (strictly ascending) gene ordering in gene_counts_df\n",
    "    assert np.all(np.diff(true_gene_ids) > 0) "
   ]
  },
  {
   "cell_type": "markdown",
   "metadata": {},
   "source": [
    "## Loading data\n",
    "\n",
    "### Setting up paths"
   ]
  },
  {
   "cell_type": "code",
   "execution_count": 4,
   "metadata": {
    "ExecuteTime": {
     "end_time": "2019-07-24T11:51:48.940890Z",
     "start_time": "2019-07-24T11:51:48.935520Z"
    }
   },
   "outputs": [],
   "source": [
    "root_data_dir = subprocess.check_output(\n",
    "    \"echo $MB_PROCESSED/vcf_to_ase\", \n",
    "    shell=True\n",
    ").decode(\"UTF-8\").strip()\n",
    "sample_data_dir = \"/\".join([root_data_dir, \"first_sample\", \"scRNA\"])\n",
    "data_name = \"scRNA\"\n",
    "experiment_name = \"sample-1\"\n",
    "clustering_name = \"seurat\""
   ]
  },
  {
   "cell_type": "markdown",
   "metadata": {},
   "source": [
    "### Loading reference genome"
   ]
  },
  {
   "cell_type": "code",
   "execution_count": 5,
   "metadata": {
    "ExecuteTime": {
     "end_time": "2019-07-24T13:20:38.156849Z",
     "start_time": "2019-07-24T13:15:45.685089Z"
    }
   },
   "outputs": [
    {
     "data": {
      "text/html": [
       "<div>\n",
       "<style scoped>\n",
       "    .dataframe tbody tr th:only-of-type {\n",
       "        vertical-align: middle;\n",
       "    }\n",
       "\n",
       "    .dataframe tbody tr th {\n",
       "        vertical-align: top;\n",
       "    }\n",
       "\n",
       "    .dataframe thead th {\n",
       "        text-align: right;\n",
       "    }\n",
       "</style>\n",
       "<table border=\"1\" class=\"dataframe\">\n",
       "  <thead>\n",
       "    <tr style=\"text-align: right;\">\n",
       "      <th></th>\n",
       "      <th>CHROM</th>\n",
       "      <th>START</th>\n",
       "      <th>END</th>\n",
       "      <th>GENE_NAME</th>\n",
       "      <th>GENE_ID</th>\n",
       "    </tr>\n",
       "  </thead>\n",
       "  <tbody>\n",
       "    <tr>\n",
       "      <th>0</th>\n",
       "      <td>1</td>\n",
       "      <td>11869</td>\n",
       "      <td>31109</td>\n",
       "      <td>DDX11L1,MIR1302-10,WASH7P</td>\n",
       "      <td>ENSG00000223972,ENSG00000227232,ENSG00000243485</td>\n",
       "    </tr>\n",
       "    <tr>\n",
       "      <th>1</th>\n",
       "      <td>1</td>\n",
       "      <td>34554</td>\n",
       "      <td>36081</td>\n",
       "      <td>FAM138A</td>\n",
       "      <td>ENSG00000237613</td>\n",
       "    </tr>\n",
       "    <tr>\n",
       "      <th>2</th>\n",
       "      <td>1</td>\n",
       "      <td>52473</td>\n",
       "      <td>54936</td>\n",
       "      <td>OR4G4P</td>\n",
       "      <td>ENSG00000268020</td>\n",
       "    </tr>\n",
       "    <tr>\n",
       "      <th>3</th>\n",
       "      <td>1</td>\n",
       "      <td>62948</td>\n",
       "      <td>63887</td>\n",
       "      <td>OR4G11P</td>\n",
       "      <td>ENSG00000240361</td>\n",
       "    </tr>\n",
       "    <tr>\n",
       "      <th>4</th>\n",
       "      <td>1</td>\n",
       "      <td>69091</td>\n",
       "      <td>70008</td>\n",
       "      <td>OR4F5</td>\n",
       "      <td>ENSG00000186092</td>\n",
       "    </tr>\n",
       "  </tbody>\n",
       "</table>\n",
       "</div>"
      ],
      "text/plain": [
       "  CHROM  START    END                  GENE_NAME  \\\n",
       "0     1  11869  31109  DDX11L1,MIR1302-10,WASH7P   \n",
       "1     1  34554  36081                    FAM138A   \n",
       "2     1  52473  54936                     OR4G4P   \n",
       "3     1  62948  63887                    OR4G11P   \n",
       "4     1  69091  70008                      OR4F5   \n",
       "\n",
       "                                           GENE_ID  \n",
       "0  ENSG00000223972,ENSG00000227232,ENSG00000243485  \n",
       "1                                  ENSG00000237613  \n",
       "2                                  ENSG00000268020  \n",
       "3                                  ENSG00000240361  \n",
       "4                                  ENSG00000186092  "
      ]
     },
     "execution_count": 5,
     "metadata": {},
     "output_type": "execute_result"
    }
   ],
   "source": [
    "genome_df = pd.read_csv(f\"{root_data_dir}/genome.csv\")\n",
    "assert np.all(np.isin([\"CHROM\", \"START\", \"END\", \"GENE_ID\"], genome_df.columns))\n",
    "genome_df.head()"
   ]
  },
  {
   "cell_type": "markdown",
   "metadata": {},
   "source": [
    "### Loading phasing information"
   ]
  },
  {
   "cell_type": "code",
   "execution_count": 6,
   "metadata": {
    "ExecuteTime": {
     "end_time": "2019-07-24T13:20:38.156849Z",
     "start_time": "2019-07-24T13:15:45.685089Z"
    },
    "scrolled": true
   },
   "outputs": [
    {
     "data": {
      "text/html": [
       "<div>\n",
       "<style scoped>\n",
       "    .dataframe tbody tr th:only-of-type {\n",
       "        vertical-align: middle;\n",
       "    }\n",
       "\n",
       "    .dataframe tbody tr th {\n",
       "        vertical-align: top;\n",
       "    }\n",
       "\n",
       "    .dataframe thead th {\n",
       "        text-align: right;\n",
       "    }\n",
       "</style>\n",
       "<table border=\"1\" class=\"dataframe\">\n",
       "  <thead>\n",
       "    <tr style=\"text-align: right;\">\n",
       "      <th></th>\n",
       "      <th>CHROM</th>\n",
       "      <th>POS</th>\n",
       "      <th>REF</th>\n",
       "      <th>ALT</th>\n",
       "      <th>PHASE</th>\n",
       "    </tr>\n",
       "  </thead>\n",
       "  <tbody>\n",
       "    <tr>\n",
       "      <th>0</th>\n",
       "      <td>1</td>\n",
       "      <td>14464</td>\n",
       "      <td>A</td>\n",
       "      <td>T</td>\n",
       "      <td>1</td>\n",
       "    </tr>\n",
       "    <tr>\n",
       "      <th>1</th>\n",
       "      <td>1</td>\n",
       "      <td>14907</td>\n",
       "      <td>A</td>\n",
       "      <td>G</td>\n",
       "      <td>1</td>\n",
       "    </tr>\n",
       "    <tr>\n",
       "      <th>2</th>\n",
       "      <td>1</td>\n",
       "      <td>14976</td>\n",
       "      <td>G</td>\n",
       "      <td>A</td>\n",
       "      <td>1</td>\n",
       "    </tr>\n",
       "    <tr>\n",
       "      <th>3</th>\n",
       "      <td>1</td>\n",
       "      <td>15118</td>\n",
       "      <td>A</td>\n",
       "      <td>G</td>\n",
       "      <td>1</td>\n",
       "    </tr>\n",
       "    <tr>\n",
       "      <th>4</th>\n",
       "      <td>1</td>\n",
       "      <td>15211</td>\n",
       "      <td>T</td>\n",
       "      <td>G</td>\n",
       "      <td>1</td>\n",
       "    </tr>\n",
       "  </tbody>\n",
       "</table>\n",
       "</div>"
      ],
      "text/plain": [
       "   CHROM    POS REF ALT  PHASE\n",
       "0      1  14464   A   T      1\n",
       "1      1  14907   A   G      1\n",
       "2      1  14976   G   A      1\n",
       "3      1  15118   A   G      1\n",
       "4      1  15211   T   G      1"
      ]
     },
     "execution_count": 6,
     "metadata": {},
     "output_type": "execute_result"
    }
   ],
   "source": [
    "phasing_df = pd.read_csv(f\"{root_data_dir}/phasing.csv\")\n",
    "assert np.all(np.isin([\"CHROM\", \"POS\", \"PHASE\"], phasing_df.columns))\n",
    "phasing_df.head()"
   ]
  },
  {
   "cell_type": "markdown",
   "metadata": {},
   "source": [
    "### Loading read counts"
   ]
  },
  {
   "cell_type": "code",
   "execution_count": 8,
   "metadata": {
    "ExecuteTime": {
     "end_time": "2019-07-24T13:20:38.156849Z",
     "start_time": "2019-07-24T13:15:45.685089Z"
    },
    "scrolled": false
   },
   "outputs": [
    {
     "data": {
      "application/vnd.jupyter.widget-view+json": {
       "model_id": "df653d71df574a21b84bb14e8f5956ed",
       "version_major": 2,
       "version_minor": 0
      },
      "text/plain": [
       "HBox(children=(IntProgress(value=1, bar_style='info', description='reading counts in chunks of size 4096', max…"
      ]
     },
     "metadata": {},
     "output_type": "display_data"
    },
    {
     "name": "stdout",
     "output_type": "stream",
     "text": [
      "CPU times: user 33min 14s, sys: 1min 53s, total: 35min 7s\n",
      "Wall time: 34min 4s\n"
     ]
    },
    {
     "data": {
      "text/html": [
       "<div>\n",
       "<style scoped>\n",
       "    .dataframe tbody tr th:only-of-type {\n",
       "        vertical-align: middle;\n",
       "    }\n",
       "\n",
       "    .dataframe tbody tr th {\n",
       "        vertical-align: top;\n",
       "    }\n",
       "\n",
       "    .dataframe thead th {\n",
       "        text-align: right;\n",
       "    }\n",
       "</style>\n",
       "<table border=\"1\" class=\"dataframe\">\n",
       "  <thead>\n",
       "    <tr style=\"text-align: right;\">\n",
       "      <th></th>\n",
       "      <th>CHROM</th>\n",
       "      <th>POS</th>\n",
       "      <th>AAACCTGCACATCCAA-1_ad</th>\n",
       "      <th>AAACCTGCACATCCAA-1_dp</th>\n",
       "      <th>AAACCTGCACTAGTAC-1_ad</th>\n",
       "      <th>AAACCTGCACTAGTAC-1_dp</th>\n",
       "      <th>AAACCTGCATCATCCC-1_ad</th>\n",
       "      <th>AAACCTGCATCATCCC-1_dp</th>\n",
       "      <th>AAACCTGGTAGCGATG-1_ad</th>\n",
       "      <th>AAACCTGGTAGCGATG-1_dp</th>\n",
       "      <th>...</th>\n",
       "      <th>TTTGTCAGTGCGCTTG-1_ad</th>\n",
       "      <th>TTTGTCAGTGCGCTTG-1_dp</th>\n",
       "      <th>TTTGTCAGTGTTTGTG-1_ad</th>\n",
       "      <th>TTTGTCAGTGTTTGTG-1_dp</th>\n",
       "      <th>TTTGTCAGTTAAAGAC-1_ad</th>\n",
       "      <th>TTTGTCAGTTAAAGAC-1_dp</th>\n",
       "      <th>TTTGTCATCATCGGAT-1_ad</th>\n",
       "      <th>TTTGTCATCATCGGAT-1_dp</th>\n",
       "      <th>TTTGTCATCCCAAGAT-1_ad</th>\n",
       "      <th>TTTGTCATCCCAAGAT-1_dp</th>\n",
       "    </tr>\n",
       "  </thead>\n",
       "  <tbody>\n",
       "    <tr>\n",
       "      <th>0</th>\n",
       "      <td>1.0</td>\n",
       "      <td>14907.0</td>\n",
       "      <td>NaN</td>\n",
       "      <td>NaN</td>\n",
       "      <td>NaN</td>\n",
       "      <td>NaN</td>\n",
       "      <td>NaN</td>\n",
       "      <td>NaN</td>\n",
       "      <td>NaN</td>\n",
       "      <td>NaN</td>\n",
       "      <td>...</td>\n",
       "      <td>NaN</td>\n",
       "      <td>NaN</td>\n",
       "      <td>NaN</td>\n",
       "      <td>NaN</td>\n",
       "      <td>NaN</td>\n",
       "      <td>NaN</td>\n",
       "      <td>NaN</td>\n",
       "      <td>NaN</td>\n",
       "      <td>NaN</td>\n",
       "      <td>NaN</td>\n",
       "    </tr>\n",
       "    <tr>\n",
       "      <th>1</th>\n",
       "      <td>1.0</td>\n",
       "      <td>14976.0</td>\n",
       "      <td>NaN</td>\n",
       "      <td>NaN</td>\n",
       "      <td>NaN</td>\n",
       "      <td>NaN</td>\n",
       "      <td>NaN</td>\n",
       "      <td>NaN</td>\n",
       "      <td>NaN</td>\n",
       "      <td>NaN</td>\n",
       "      <td>...</td>\n",
       "      <td>NaN</td>\n",
       "      <td>NaN</td>\n",
       "      <td>NaN</td>\n",
       "      <td>NaN</td>\n",
       "      <td>NaN</td>\n",
       "      <td>NaN</td>\n",
       "      <td>NaN</td>\n",
       "      <td>NaN</td>\n",
       "      <td>NaN</td>\n",
       "      <td>NaN</td>\n",
       "    </tr>\n",
       "    <tr>\n",
       "      <th>2</th>\n",
       "      <td>1.0</td>\n",
       "      <td>15118.0</td>\n",
       "      <td>NaN</td>\n",
       "      <td>NaN</td>\n",
       "      <td>NaN</td>\n",
       "      <td>NaN</td>\n",
       "      <td>NaN</td>\n",
       "      <td>NaN</td>\n",
       "      <td>NaN</td>\n",
       "      <td>NaN</td>\n",
       "      <td>...</td>\n",
       "      <td>NaN</td>\n",
       "      <td>NaN</td>\n",
       "      <td>NaN</td>\n",
       "      <td>NaN</td>\n",
       "      <td>NaN</td>\n",
       "      <td>NaN</td>\n",
       "      <td>NaN</td>\n",
       "      <td>NaN</td>\n",
       "      <td>NaN</td>\n",
       "      <td>NaN</td>\n",
       "    </tr>\n",
       "    <tr>\n",
       "      <th>3</th>\n",
       "      <td>1.0</td>\n",
       "      <td>15211.0</td>\n",
       "      <td>NaN</td>\n",
       "      <td>NaN</td>\n",
       "      <td>NaN</td>\n",
       "      <td>NaN</td>\n",
       "      <td>NaN</td>\n",
       "      <td>NaN</td>\n",
       "      <td>NaN</td>\n",
       "      <td>NaN</td>\n",
       "      <td>...</td>\n",
       "      <td>NaN</td>\n",
       "      <td>NaN</td>\n",
       "      <td>NaN</td>\n",
       "      <td>NaN</td>\n",
       "      <td>NaN</td>\n",
       "      <td>NaN</td>\n",
       "      <td>NaN</td>\n",
       "      <td>NaN</td>\n",
       "      <td>NaN</td>\n",
       "      <td>NaN</td>\n",
       "    </tr>\n",
       "    <tr>\n",
       "      <th>4</th>\n",
       "      <td>1.0</td>\n",
       "      <td>16068.0</td>\n",
       "      <td>NaN</td>\n",
       "      <td>NaN</td>\n",
       "      <td>NaN</td>\n",
       "      <td>NaN</td>\n",
       "      <td>NaN</td>\n",
       "      <td>NaN</td>\n",
       "      <td>NaN</td>\n",
       "      <td>NaN</td>\n",
       "      <td>...</td>\n",
       "      <td>NaN</td>\n",
       "      <td>NaN</td>\n",
       "      <td>NaN</td>\n",
       "      <td>NaN</td>\n",
       "      <td>NaN</td>\n",
       "      <td>NaN</td>\n",
       "      <td>NaN</td>\n",
       "      <td>NaN</td>\n",
       "      <td>NaN</td>\n",
       "      <td>NaN</td>\n",
       "    </tr>\n",
       "  </tbody>\n",
       "</table>\n",
       "<p>5 rows × 13340 columns</p>\n",
       "</div>"
      ],
      "text/plain": [
       "   CHROM      POS  AAACCTGCACATCCAA-1_ad  AAACCTGCACATCCAA-1_dp  \\\n",
       "0    1.0  14907.0                    NaN                    NaN   \n",
       "1    1.0  14976.0                    NaN                    NaN   \n",
       "2    1.0  15118.0                    NaN                    NaN   \n",
       "3    1.0  15211.0                    NaN                    NaN   \n",
       "4    1.0  16068.0                    NaN                    NaN   \n",
       "\n",
       "   AAACCTGCACTAGTAC-1_ad  AAACCTGCACTAGTAC-1_dp  AAACCTGCATCATCCC-1_ad  \\\n",
       "0                    NaN                    NaN                    NaN   \n",
       "1                    NaN                    NaN                    NaN   \n",
       "2                    NaN                    NaN                    NaN   \n",
       "3                    NaN                    NaN                    NaN   \n",
       "4                    NaN                    NaN                    NaN   \n",
       "\n",
       "   AAACCTGCATCATCCC-1_dp  AAACCTGGTAGCGATG-1_ad  AAACCTGGTAGCGATG-1_dp  ...  \\\n",
       "0                    NaN                    NaN                    NaN  ...   \n",
       "1                    NaN                    NaN                    NaN  ...   \n",
       "2                    NaN                    NaN                    NaN  ...   \n",
       "3                    NaN                    NaN                    NaN  ...   \n",
       "4                    NaN                    NaN                    NaN  ...   \n",
       "\n",
       "   TTTGTCAGTGCGCTTG-1_ad  TTTGTCAGTGCGCTTG-1_dp  TTTGTCAGTGTTTGTG-1_ad  \\\n",
       "0                    NaN                    NaN                    NaN   \n",
       "1                    NaN                    NaN                    NaN   \n",
       "2                    NaN                    NaN                    NaN   \n",
       "3                    NaN                    NaN                    NaN   \n",
       "4                    NaN                    NaN                    NaN   \n",
       "\n",
       "   TTTGTCAGTGTTTGTG-1_dp  TTTGTCAGTTAAAGAC-1_ad  TTTGTCAGTTAAAGAC-1_dp  \\\n",
       "0                    NaN                    NaN                    NaN   \n",
       "1                    NaN                    NaN                    NaN   \n",
       "2                    NaN                    NaN                    NaN   \n",
       "3                    NaN                    NaN                    NaN   \n",
       "4                    NaN                    NaN                    NaN   \n",
       "\n",
       "   TTTGTCATCATCGGAT-1_ad  TTTGTCATCATCGGAT-1_dp  TTTGTCATCCCAAGAT-1_ad  \\\n",
       "0                    NaN                    NaN                    NaN   \n",
       "1                    NaN                    NaN                    NaN   \n",
       "2                    NaN                    NaN                    NaN   \n",
       "3                    NaN                    NaN                    NaN   \n",
       "4                    NaN                    NaN                    NaN   \n",
       "\n",
       "   TTTGTCATCCCAAGAT-1_dp  \n",
       "0                    NaN  \n",
       "1                    NaN  \n",
       "2                    NaN  \n",
       "3                    NaN  \n",
       "4                    NaN  \n",
       "\n",
       "[5 rows x 13340 columns]"
      ]
     },
     "execution_count": 8,
     "metadata": {},
     "output_type": "execute_result"
    }
   ],
   "source": [
    "%%time\n",
    "if os.path.exists(f\"{sample_data_dir}/raw_counts.pkl\"):\n",
    "    # this is much faster than reading in chunks and concatenating those\n",
    "    raw_counts_df = pd.read_pickle(f\"{sample_data_dir}/raw_counts.pkl\")\n",
    "else:\n",
    "    chunksize = 2**12\n",
    "    reader = pd.read_csv(f\"{sample_data_dir}/raw_counts.csv\", \n",
    "                         dtype=np.float64, \n",
    "                         chunksize=chunksize)\n",
    "    raw_counts_df = pd.concat(\n",
    "        [chunk.to_sparse() for chunk in \n",
    "         tqdm_notebook(reader, desc=f\"reading counts in chunks of size {chunksize}\")]\n",
    "    )\n",
    "    raw_counts_df.to_pickle(f\"{sample_data_dir}/raw_counts.pkl\")\n",
    "    \n",
    "raw_counts_df.head()"
   ]
  },
  {
   "cell_type": "code",
   "execution_count": 9,
   "metadata": {
    "scrolled": true
   },
   "outputs": [
    {
     "name": "stdout",
     "output_type": "stream",
     "text": [
      "<class 'pandas.core.sparse.frame.SparseDataFrame'>\n",
      "RangeIndex: 240960 entries, 0 to 240959\n",
      "Columns: 13340 entries, CHROM to TTTGTCATCCCAAGAT-1_dp\n",
      "dtypes: Sparse[float64, nan](13340)\n",
      "memory usage: 24.2 MB\n"
     ]
    }
   ],
   "source": [
    "raw_counts_df.info()"
   ]
  },
  {
   "cell_type": "code",
   "execution_count": 10,
   "metadata": {},
   "outputs": [
    {
     "name": "stdout",
     "output_type": "stream",
     "text": [
      "Per column:\n",
      " CHROM                    0.000000\n",
      "POS                      0.000000\n",
      "AAACCTGCACATCCAA-1_ad    0.999797\n",
      "AAACCTGCACATCCAA-1_dp    0.999797\n",
      "AAACCTGCACTAGTAC-1_ad    0.999680\n",
      "                           ...   \n",
      "TTTGTCAGTTAAAGAC-1_dp    0.999689\n",
      "TTTGTCATCATCGGAT-1_ad    0.999427\n",
      "TTTGTCATCATCGGAT-1_dp    0.999427\n",
      "TTTGTCATCCCAAGAT-1_ad    0.999660\n",
      "TTTGTCATCCCAAGAT-1_dp    0.999660\n",
      "Length: 13340, dtype: float64\n",
      "In total:  0.9993720924647238\n"
     ]
    },
    {
     "data": {
      "image/png": "[encoded data removed]",
      "text/plain": [
       "<Figure size 432x288 with 1 Axes>"
      ]
     },
     "metadata": {
      "needs_background": "light"
     },
     "output_type": "display_data"
    }
   ],
   "source": [
    "nan_fraction(raw_counts_df, verbose=True, show_plots=True);"
   ]
  },
  {
   "cell_type": "markdown",
   "metadata": {},
   "source": [
    "## Ensuring that alternative allele is maternal (0|1 in raw phasing results)"
   ]
  },
  {
   "cell_type": "code",
   "execution_count": 11,
   "metadata": {},
   "outputs": [
    {
     "data": {
      "application/vnd.jupyter.widget-view+json": {
       "model_id": "e743d262a91c402b93b69cb232fdaacb",
       "version_major": 2,
       "version_minor": 0
      },
      "text/plain": [
       "HBox(children=(IntProgress(value=0, description='cell_barcode', max=6669, style=ProgressStyle(description_widt…"
      ]
     },
     "metadata": {},
     "output_type": "display_data"
    },
    {
     "name": "stdout",
     "output_type": "stream",
     "text": [
      "CPU times: user 7min 12s, sys: 9.14 s, total: 7min 22s\n",
      "Wall time: 7min 18s\n"
     ]
    }
   ],
   "source": [
    "%%time\n",
    "phasing_df = phasing_df.merge(raw_counts_df[[\"CHROM\", \"POS\"]].to_dense())\n",
    "assert phasing_df.shape[0] == raw_counts_df.shape[0]\n",
    "\n",
    "if os.path.exists(f\"{sample_data_dir}/counts.pkl\"):\n",
    "    counts_df = pd.read_pickle(f\"{sample_data_dir}/counts.pkl\")\n",
    "else:\n",
    "    counts_df = raw_counts_df.copy()\n",
    "    counts_df[\"PHASE\"] = phasing_df.PHASE\n",
    "    male_alt = counts_df.PHASE == 1\n",
    "    \n",
    "    for barcode in tqdm_notebook(extract_barcodes(counts_df), desc=\"cell_barcode\"):\n",
    "        ad = counts_df[f\"{barcode}_ad\"].to_dense()\n",
    "        dp = counts_df[f\"{barcode}_dp\"].to_dense()\n",
    "        ad[male_alt] = dp[male_alt].sub(ad[male_alt], fill_value=0)\n",
    "        counts_df[f\"{barcode}_ad\"] = ad.to_sparse()\n",
    "        \n",
    "    assert nan_fraction(counts_df.drop(columns=[\"PHASE\"]))[1] == nan_fraction(raw_counts_df)[1]\n",
    "    counts_df.to_pickle(f\"{sample_data_dir}/counts.pkl\")\n"
   ]
  },
  {
   "cell_type": "code",
   "execution_count": 12,
   "metadata": {},
   "outputs": [
    {
     "data": {
      "application/vnd.jupyter.widget-view+json": {
       "model_id": "60a0d84c506945f8ad97fa8b5b92df31",
       "version_major": 2,
       "version_minor": 0
      },
      "text/plain": [
       "HBox(children=(IntProgress(value=0, description='extracting snps...', max=240960, style=ProgressStyle(descript…"
      ]
     },
     "metadata": {},
     "output_type": "display_data"
    },
    {
     "data": {
      "application/vnd.jupyter.widget-view+json": {
       "model_id": "2a0ab2dc1ba74dfd9275d8612e7b286a",
       "version_major": 2,
       "version_minor": 0
      },
      "text/plain": [
       "HBox(children=(IntProgress(value=0, description='extracting snps...', max=240960, style=ProgressStyle(descript…"
      ]
     },
     "metadata": {},
     "output_type": "display_data"
    }
   ],
   "source": [
    "# ensure that non-phased SNPs were filtered out\n",
    "assert np.all(np.isin(extract_snps(counts_df), \n",
    "                      extract_snps(phasing_df)))"
   ]
  },
  {
   "cell_type": "code",
   "execution_count": 13,
   "metadata": {},
   "outputs": [
    {
     "name": "stdout",
     "output_type": "stream",
     "text": [
      "<class 'pandas.core.sparse.frame.SparseDataFrame'>\n",
      "RangeIndex: 240960 entries, 0 to 240959\n",
      "Columns: 13341 entries, CHROM to PHASE\n",
      "dtypes: Sparse[float64, nan](13340), Sparse[int64, nan](1)\n",
      "memory usage: 26.0 MB\n"
     ]
    }
   ],
   "source": [
    "counts_df.info()"
   ]
  },
  {
   "cell_type": "code",
   "execution_count": 14,
   "metadata": {},
   "outputs": [
    {
     "data": {
      "text/plain": [
       "0.0007028173690566172"
      ]
     },
     "execution_count": 14,
     "metadata": {},
     "output_type": "execute_result"
    }
   ],
   "source": [
    "counts_df.density"
   ]
  },
  {
   "cell_type": "markdown",
   "metadata": {},
   "source": [
    "### Loading clustering information"
   ]
  },
  {
   "cell_type": "code",
   "execution_count": 15,
   "metadata": {},
   "outputs": [],
   "source": [
    "def extract_clusters(clustering_df, entry_col=\"BARCODE\"):\n",
    "    cluster_to_entries = {}\n",
    "    for label, indices in clustering_df.groupby(\"LABEL\").groups.items():\n",
    "        cluster_to_entries[label] = clustering_df[entry_col][indices].values\n",
    "    return cluster_to_entries\n",
    "\n",
    "def extract_cluster_labels(clustering_df):\n",
    "    return sorted(clustering_df.LABEL.unique())"
   ]
  },
  {
   "cell_type": "code",
   "execution_count": 18,
   "metadata": {},
   "outputs": [
    {
     "name": "stdout",
     "output_type": "stream",
     "text": [
      "Cluster labels:  [0, 1, 2, 3, 4, 5, 6, 7, 8, 9]\n",
      "<class 'pandas.core.frame.DataFrame'>\n",
      "Int64Index: 6126 entries, 0 to 6125\n",
      "Data columns (total 4 columns):\n",
      "BARCODE    6126 non-null object\n",
      "LABEL      6126 non-null int64\n",
      "TSNE_1     6126 non-null float64\n",
      "TSNE_2     6126 non-null float64\n",
      "dtypes: float64(2), int64(1), object(1)\n",
      "memory usage: 239.3+ KB\n"
     ]
    }
   ],
   "source": [
    "counts_df = pd.read_pickle(f\"{sample_data_dir}/counts.pkl\")\n",
    "clustering_df = pd.read_csv(f\"{sample_data_dir}/clustering.csv\").sort_values(by=\"BARCODE\")\n",
    "clustering_df.to_csv(f\"{sample_data_dir}/clustering.csv\", index=False)\n",
    "\n",
    "curr_barcodes = extract_barcodes(counts_df)\n",
    "if len(curr_barcodes) != len(clustering_df[\"BARCODE\"]) or np.any(curr_barcodes != clustering_df[\"BARCODE\"]): \n",
    "    counts_df = filter_barcodes(counts_df, clustering_df[\"BARCODE\"]) \n",
    "    counts_df.to_pickle(f\"{sample_data_dir}/counts.pkl\")\n",
    "    \n",
    "assert np.all(extract_barcodes(counts_df) == clustering_df[\"BARCODE\"])\n",
    "\n",
    "print(\"Cluster labels: \", extract_cluster_labels(clustering_df))\n",
    "clustering_df.info()"
   ]
  },
  {
   "cell_type": "markdown",
   "metadata": {},
   "source": [
    "## Mapping SNPs to genes (and the other way around)"
   ]
  },
  {
   "cell_type": "code",
   "execution_count": 19,
   "metadata": {},
   "outputs": [],
   "source": [
    "counts_df = pd.read_pickle(f\"{sample_data_dir}/counts.pkl\")\n",
    "genome_df = pd.read_csv(f\"{root_data_dir}/genome.csv\")\n",
    "snp_df = counts_df[[\"CHROM\", \"POS\"]].to_dense().astype(np.int64)"
   ]
  },
  {
   "cell_type": "code",
   "execution_count": 20,
   "metadata": {},
   "outputs": [],
   "source": [
    "def extract_genes_on_chromosome(df):\n",
    "    chrom_to_genes = {}\n",
    "    for chrom in genome_df[\"CHROM\"].value_counts().keys():\n",
    "        chrom_to_genes[chrom] = genome_df[genome_df.CHROM == chrom]\n",
    "    return chrom_to_genes\n",
    "\n",
    "chrom_to_genes = extract_genes_on_chromosome(genome_df)"
   ]
  },
  {
   "cell_type": "code",
   "execution_count": 21,
   "metadata": {},
   "outputs": [
    {
     "data": {
      "application/vnd.jupyter.widget-view+json": {
       "model_id": "6695b57cc8934cc0ac161e6d8d7f0b57",
       "version_major": 2,
       "version_minor": 0
      },
      "text/plain": [
       "HBox(children=(IntProgress(value=0, description='SNP processing', max=240960, style=ProgressStyle(description_…"
      ]
     },
     "metadata": {},
     "output_type": "display_data"
    },
    {
     "name": "stdout",
     "output_type": "stream",
     "text": [
      "CPU times: user 3.64 s, sys: 5.17 s, total: 8.8 s\n",
      "Wall time: 42.5 s\n"
     ]
    }
   ],
   "source": [
    "%%time\n",
    "\n",
    "# Here gene coverage for each phased SNP is computed\n",
    "# TODO: rewrite this using \"bedtools intersect\".\n",
    "# This part doesn't scale well.\n",
    "\n",
    "def map_snp_to_genes(snp_tuple):\n",
    "    chrom, pos = snp_tuple\n",
    "    # 1-based to 0-based \n",
    "    pos -= 1 # because CellCNP is 1-based, but .bed files are 0-based\n",
    "    genes_on_chrom = chrom_to_genes[str(chrom)]\n",
    "    mask = (genes_on_chrom.START <= pos) & (pos < genes_on_chrom.END)\n",
    "    return ';'.join(genes_on_chrom[mask].GENE_ID)\n",
    "\n",
    "pool = mp.Pool(16)\n",
    "result = pool.map(map_snp_to_genes, \n",
    "                  tqdm_notebook(snp_df.values, \"SNP processing\"))\n",
    "pool.close()\n",
    "pool.join()"
   ]
  },
  {
   "cell_type": "code",
   "execution_count": 22,
   "metadata": {},
   "outputs": [
    {
     "data": {
      "text/html": [
       "<div>\n",
       "<style scoped>\n",
       "    .dataframe tbody tr th:only-of-type {\n",
       "        vertical-align: middle;\n",
       "    }\n",
       "\n",
       "    .dataframe tbody tr th {\n",
       "        vertical-align: top;\n",
       "    }\n",
       "\n",
       "    .dataframe thead th {\n",
       "        text-align: right;\n",
       "    }\n",
       "</style>\n",
       "<table border=\"1\" class=\"dataframe\">\n",
       "  <thead>\n",
       "    <tr style=\"text-align: right;\">\n",
       "      <th></th>\n",
       "      <th>CHROM</th>\n",
       "      <th>START</th>\n",
       "      <th>END</th>\n",
       "      <th>GENE_NAME</th>\n",
       "      <th>GENE_ID</th>\n",
       "    </tr>\n",
       "  </thead>\n",
       "  <tbody>\n",
       "    <tr>\n",
       "      <th>0</th>\n",
       "      <td>1</td>\n",
       "      <td>11869</td>\n",
       "      <td>31109</td>\n",
       "      <td>DDX11L1,MIR1302-10,WASH7P</td>\n",
       "      <td>ENSG00000223972,ENSG00000227232,ENSG00000243485</td>\n",
       "    </tr>\n",
       "    <tr>\n",
       "      <th>1</th>\n",
       "      <td>1</td>\n",
       "      <td>34554</td>\n",
       "      <td>36081</td>\n",
       "      <td>FAM138A</td>\n",
       "      <td>ENSG00000237613</td>\n",
       "    </tr>\n",
       "    <tr>\n",
       "      <th>2</th>\n",
       "      <td>1</td>\n",
       "      <td>52473</td>\n",
       "      <td>54936</td>\n",
       "      <td>OR4G4P</td>\n",
       "      <td>ENSG00000268020</td>\n",
       "    </tr>\n",
       "    <tr>\n",
       "      <th>3</th>\n",
       "      <td>1</td>\n",
       "      <td>62948</td>\n",
       "      <td>63887</td>\n",
       "      <td>OR4G11P</td>\n",
       "      <td>ENSG00000240361</td>\n",
       "    </tr>\n",
       "    <tr>\n",
       "      <th>4</th>\n",
       "      <td>1</td>\n",
       "      <td>69091</td>\n",
       "      <td>70008</td>\n",
       "      <td>OR4F5</td>\n",
       "      <td>ENSG00000186092</td>\n",
       "    </tr>\n",
       "  </tbody>\n",
       "</table>\n",
       "</div>"
      ],
      "text/plain": [
       "  CHROM  START    END                  GENE_NAME  \\\n",
       "0     1  11869  31109  DDX11L1,MIR1302-10,WASH7P   \n",
       "1     1  34554  36081                    FAM138A   \n",
       "2     1  52473  54936                     OR4G4P   \n",
       "3     1  62948  63887                    OR4G11P   \n",
       "4     1  69091  70008                      OR4F5   \n",
       "\n",
       "                                           GENE_ID  \n",
       "0  ENSG00000223972,ENSG00000227232,ENSG00000243485  \n",
       "1                                  ENSG00000237613  \n",
       "2                                  ENSG00000268020  \n",
       "3                                  ENSG00000240361  \n",
       "4                                  ENSG00000186092  "
      ]
     },
     "execution_count": 22,
     "metadata": {},
     "output_type": "execute_result"
    }
   ],
   "source": [
    "genome_df.head()"
   ]
  },
  {
   "cell_type": "code",
   "execution_count": 23,
   "metadata": {},
   "outputs": [
    {
     "data": {
      "application/vnd.jupyter.widget-view+json": {
       "model_id": "8db33dbeb6054f0e838ab95969c2bc1f",
       "version_major": 2,
       "version_minor": 0
      },
      "text/plain": [
       "HBox(children=(IntProgress(value=1, bar_style='info', description='mapping SNPs to genes', max=1, style=Progre…"
      ]
     },
     "metadata": {},
     "output_type": "display_data"
    }
   ],
   "source": [
    "\"\"\" Here the raw results computed in parallel are parsed \"\"\"\n",
    "\n",
    "snp_to_genes, gene_to_snps = {}, OrderedDict()\n",
    "\n",
    "# This way we ensure proper gene ordering\n",
    "for gene_id in genome_df.GENE_ID:\n",
    "    gene_to_snps[gene_id] = []\n",
    "\n",
    "for i, row in tqdm_notebook(enumerate(snp_df.values), \"mapping SNPs to genes\"):\n",
    "    chrom, pos = row\n",
    "    snp = f\"{chrom},{pos}\"\n",
    "    snp_to_genes[snp] = result[i].split(\";\") if result[i] else []\n",
    "    for gene in snp_to_genes[snp]:\n",
    "        gene_to_snps[gene].append(snp)"
   ]
  },
  {
   "cell_type": "code",
   "execution_count": 24,
   "metadata": {},
   "outputs": [
    {
     "data": {
      "image/png": "[encoded data removed]",
      "text/plain": [
       "<Figure size 1152x576 with 1 Axes>"
      ]
     },
     "metadata": {
      "needs_background": "light"
     },
     "output_type": "display_data"
    }
   ],
   "source": [
    "plt.figure(figsize=(16,8))\n",
    "sns.set(font_scale=1.5)\n",
    "plt.title(\"Number of genes covering one SNP\")\n",
    "sns.distplot([len(gene_list) for gene_list in snp_to_genes.values()]);"
   ]
  },
  {
   "cell_type": "code",
   "execution_count": 25,
   "metadata": {
    "scrolled": false
   },
   "outputs": [
    {
     "data": {
      "image/png": "[encoded data removed]",
      "text/plain": [
       "<Figure size 1152x576 with 1 Axes>"
      ]
     },
     "metadata": {},
     "output_type": "display_data"
    }
   ],
   "source": [
    "plt.figure(figsize=(16,8))\n",
    "plt.title(\"Number of SNPs covered by gene\")\n",
    "sns.distplot([len(snp_list) for snp_list in gene_to_snps.values()]);"
   ]
  },
  {
   "cell_type": "code",
   "execution_count": 26,
   "metadata": {},
   "outputs": [],
   "source": [
    "pickle_dump(snp_to_genes, f\"{sample_data_dir}/snp_to_genes.pkl\")\n",
    "pickle_dump(gene_to_snps, f\"{sample_data_dir}/gene_to_snps.pkl\")"
   ]
  },
  {
   "cell_type": "markdown",
   "metadata": {},
   "source": [
    "## Aggregating read counts over genes"
   ]
  },
  {
   "cell_type": "code",
   "execution_count": 27,
   "metadata": {},
   "outputs": [],
   "source": [
    "gene_to_snps = pickle_load(f\"{sample_data_dir}/gene_to_snps.pkl\")\n",
    "snp_to_genes = pickle_load(f\"{sample_data_dir}/snp_to_genes.pkl\")\n",
    "gene_counts_df = pd.SparseDataFrame()"
   ]
  },
  {
   "cell_type": "code",
   "execution_count": 28,
   "metadata": {},
   "outputs": [
    {
     "data": {
      "application/vnd.jupyter.widget-view+json": {
       "model_id": "da3f844e011141b4a35e7d3964f7e524",
       "version_major": 2,
       "version_minor": 0
      },
      "text/plain": [
       "HBox(children=(IntProgress(value=0, description='extracting snps...', max=240960, style=ProgressStyle(descript…"
      ]
     },
     "metadata": {},
     "output_type": "display_data"
    },
    {
     "data": {
      "application/vnd.jupyter.widget-view+json": {
       "model_id": "35a68e0d090e4a618d5355887ad55478",
       "version_major": 2,
       "version_minor": 0
      },
      "text/plain": [
       "HBox(children=(IntProgress(value=1, bar_style='info', description='mapping snps to their index numbers by posi…"
      ]
     },
     "metadata": {},
     "output_type": "display_data"
    }
   ],
   "source": [
    "snp_to_idx = {snp : i for i, snp in \n",
    "              tqdm_notebook(enumerate(extract_snps(counts_df)), \n",
    "                            \"mapping snps to their index numbers by position in the genome\")}"
   ]
  },
  {
   "cell_type": "code",
   "execution_count": 29,
   "metadata": {},
   "outputs": [
    {
     "name": "stdout",
     "output_type": "stream",
     "text": [
      "Per column:\n",
      " AAACCTGCACATCCAA-1_ad    0.999797\n",
      "AAACCTGCACATCCAA-1_dp    0.999797\n",
      "AAACCTGCACTAGTAC-1_ad    0.999680\n",
      "AAACCTGCACTAGTAC-1_dp    0.999680\n",
      "AAACCTGCATCATCCC-1_ad    0.999830\n",
      "                           ...   \n",
      "TTTGTCAGTTAAAGAC-1_dp    0.999689\n",
      "TTTGTCATCATCGGAT-1_ad    0.999427\n",
      "TTTGTCATCATCGGAT-1_dp    0.999427\n",
      "TTTGTCATCCCAAGAT-1_ad    0.999660\n",
      "TTTGTCATCCCAAGAT-1_dp    0.999660\n",
      "Length: 12252, dtype: float64\n",
      "In total:  0.9996002292386662\n"
     ]
    },
    {
     "data": {
      "image/png": "[encoded data removed]",
      "text/plain": [
       "<Figure size 432x288 with 1 Axes>"
      ]
     },
     "metadata": {},
     "output_type": "display_data"
    }
   ],
   "source": [
    "nan_fraction(counts_df.drop(columns=[\"CHROM\", \"POS\", \"PHASE\"]), \n",
    "             verbose=True, show_plots=True);"
   ]
  },
  {
   "cell_type": "code",
   "execution_count": 30,
   "metadata": {},
   "outputs": [
    {
     "data": {
      "application/vnd.jupyter.widget-view+json": {
       "model_id": "f1f25c3aa68e4cf4a48c1a6dd922d393",
       "version_major": 2,
       "version_minor": 0
      },
      "text/plain": [
       "HBox(children=(IntProgress(value=0, description='mapping gene to SNP ids (for faster row selection)', max=3399…"
      ]
     },
     "metadata": {},
     "output_type": "display_data"
    },
    {
     "data": {
      "application/vnd.jupyter.widget-view+json": {
       "model_id": "8231677816724d90ba9e6a06c38bdbac",
       "version_major": 2,
       "version_minor": 0
      },
      "text/plain": [
       "HBox(children=(IntProgress(value=0, description='cell_barcode processing', max=6126, style=ProgressStyle(descr…"
      ]
     },
     "metadata": {},
     "output_type": "display_data"
    },
    {
     "name": "stdout",
     "output_type": "stream",
     "text": [
      "<class 'pandas.core.frame.DataFrame'>\n",
      "RangeIndex: 10224 entries, 0 to 10223\n",
      "Columns: 12252 entries, AAACCTGCACATCCAA-1_ad to TTTGTCATCCCAAGAT-1_dp\n",
      "dtypes: float64(12252)\n",
      "memory usage: 955.7 MB\n",
      "CPU times: user 6.5 s, sys: 18.6 s, total: 25.1 s\n",
      "Wall time: 1min 52s\n"
     ]
    }
   ],
   "source": [
    "%%time\n",
    "\n",
    "gene_to_snp_ids = {gene : np.array([snp_to_idx[snp] for snp in snp_list]) \n",
    "                   for gene, snp_list in tqdm_notebook(gene_to_snps.items(), \n",
    "                                                       desc=\"mapping gene to SNP ids (for faster row selection)\")}\n",
    "\n",
    "def extract_gene_counts(barcode):\n",
    "    gene_to_ad, gene_to_dp = [], []\n",
    "    # I need to convert these columns to dense format\n",
    "    # because I need only a subset of rows on each iteration \n",
    "    ad = counts_df[f\"{barcode}_ad\"].to_dense().values\n",
    "    dp = counts_df[f\"{barcode}_dp\"].to_dense().values\n",
    "    # gene_to_snps is an OrderedDict, so we can guarantee\n",
    "    # that all the genes are processed in a correct order\n",
    "    for gene, snp_ids in gene_to_snp_ids.items():\n",
    "        if len(snp_ids) > 0:\n",
    "            ad_sample, dp_sample = ad[snp_ids], dp[snp_ids]\n",
    "            gene_to_ad.append(np.nan if np.all(np.isnan(ad_sample)) else np.nansum(ad_sample))\n",
    "            gene_to_dp.append(np.nan if np.all(np.isnan(dp_sample)) else np.nansum(dp_sample))\n",
    "    return pd.DataFrame({f\"{barcode}_ad\" : gene_to_ad, \n",
    "                         f\"{barcode}_dp\" : gene_to_dp})\n",
    "\n",
    "with mp.Pool(16) as pool:\n",
    "    result_list = pool.map(\n",
    "        extract_gene_counts, \n",
    "        tqdm_notebook(extract_barcodes(counts_df), \n",
    "                      desc=\"cell_barcode processing\")\n",
    "    )\n",
    "# result_list = [extract_gene_counts(barcode) for barcode in tqdm_notebook(extract_barcodes(counts_df))]    \n",
    "gene_counts_df = pd.concat(result_list, axis=1).to_dense()\n",
    "gene_counts_df.info()"
   ]
  },
  {
   "cell_type": "code",
   "execution_count": 31,
   "metadata": {},
   "outputs": [
    {
     "name": "stdout",
     "output_type": "stream",
     "text": [
      "Per column:\n",
      " AAACCTGCACATCCAA-1_ad    0.997164\n",
      "AAACCTGCACATCCAA-1_dp    0.997164\n",
      "AAACCTGCACTAGTAC-1_ad    0.995990\n",
      "AAACCTGCACTAGTAC-1_dp    0.995990\n",
      "AAACCTGCATCATCCC-1_ad    0.997457\n",
      "                           ...   \n",
      "TTTGTCAGTTAAAGAC-1_dp    0.995794\n",
      "TTTGTCATCATCGGAT-1_ad    0.991686\n",
      "TTTGTCATCATCGGAT-1_dp    0.991686\n",
      "TTTGTCATCCCAAGAT-1_ad    0.995012\n",
      "TTTGTCATCCCAAGAT-1_dp    0.995012\n",
      "Length: 12252, dtype: float64\n",
      "In total:  0.9947778958000917\n"
     ]
    },
    {
     "data": {
      "image/png": "[encoded data removed]",
      "text/plain": [
       "<Figure size 432x288 with 1 Axes>"
      ]
     },
     "metadata": {},
     "output_type": "display_data"
    }
   ],
   "source": [
    "nan_fraction(gene_counts_df, verbose=True, show_plots=True);"
   ]
  },
  {
   "cell_type": "code",
   "execution_count": 32,
   "metadata": {
    "scrolled": true
   },
   "outputs": [
    {
     "data": {
      "application/vnd.jupyter.widget-view+json": {
       "model_id": "ab8ad0aa1bf94d70a5fdb11a55b08c55",
       "version_major": 2,
       "version_minor": 0
      },
      "text/plain": [
       "HBox(children=(IntProgress(value=0, description='asserting correct gene ordering', max=10224, style=ProgressSt…"
      ]
     },
     "metadata": {},
     "output_type": "display_data"
    },
    {
     "data": {
      "text/html": [
       "<div>\n",
       "<style scoped>\n",
       "    .dataframe tbody tr th:only-of-type {\n",
       "        vertical-align: middle;\n",
       "    }\n",
       "\n",
       "    .dataframe tbody tr th {\n",
       "        vertical-align: top;\n",
       "    }\n",
       "\n",
       "    .dataframe thead th {\n",
       "        text-align: right;\n",
       "    }\n",
       "</style>\n",
       "<table border=\"1\" class=\"dataframe\">\n",
       "  <thead>\n",
       "    <tr style=\"text-align: right;\">\n",
       "      <th></th>\n",
       "      <th>GENE_ID</th>\n",
       "      <th>AAACCTGCACATCCAA-1_ad</th>\n",
       "      <th>AAACCTGCACATCCAA-1_dp</th>\n",
       "      <th>AAACCTGCACTAGTAC-1_ad</th>\n",
       "      <th>AAACCTGCACTAGTAC-1_dp</th>\n",
       "      <th>AAACCTGCATCATCCC-1_ad</th>\n",
       "      <th>AAACCTGCATCATCCC-1_dp</th>\n",
       "      <th>AAACCTGGTAGCTCCG-1_ad</th>\n",
       "      <th>AAACCTGGTAGCTCCG-1_dp</th>\n",
       "      <th>AAACCTGGTCTAAACC-1_ad</th>\n",
       "      <th>...</th>\n",
       "      <th>TTTGTCAGTGCGCTTG-1_ad</th>\n",
       "      <th>TTTGTCAGTGCGCTTG-1_dp</th>\n",
       "      <th>TTTGTCAGTGTTTGTG-1_ad</th>\n",
       "      <th>TTTGTCAGTGTTTGTG-1_dp</th>\n",
       "      <th>TTTGTCAGTTAAAGAC-1_ad</th>\n",
       "      <th>TTTGTCAGTTAAAGAC-1_dp</th>\n",
       "      <th>TTTGTCATCATCGGAT-1_ad</th>\n",
       "      <th>TTTGTCATCATCGGAT-1_dp</th>\n",
       "      <th>TTTGTCATCCCAAGAT-1_ad</th>\n",
       "      <th>TTTGTCATCCCAAGAT-1_dp</th>\n",
       "    </tr>\n",
       "  </thead>\n",
       "  <tbody>\n",
       "    <tr>\n",
       "      <th>0</th>\n",
       "      <td>ENSG00000223972,ENSG00000227232,ENSG00000243485</td>\n",
       "      <td>NaN</td>\n",
       "      <td>NaN</td>\n",
       "      <td>NaN</td>\n",
       "      <td>NaN</td>\n",
       "      <td>NaN</td>\n",
       "      <td>NaN</td>\n",
       "      <td>NaN</td>\n",
       "      <td>NaN</td>\n",
       "      <td>NaN</td>\n",
       "      <td>...</td>\n",
       "      <td>NaN</td>\n",
       "      <td>NaN</td>\n",
       "      <td>NaN</td>\n",
       "      <td>NaN</td>\n",
       "      <td>NaN</td>\n",
       "      <td>NaN</td>\n",
       "      <td>NaN</td>\n",
       "      <td>NaN</td>\n",
       "      <td>NaN</td>\n",
       "      <td>NaN</td>\n",
       "    </tr>\n",
       "    <tr>\n",
       "      <th>1</th>\n",
       "      <td>ENSG00000233750,ENSG00000238009,ENSG00000239945</td>\n",
       "      <td>NaN</td>\n",
       "      <td>NaN</td>\n",
       "      <td>NaN</td>\n",
       "      <td>NaN</td>\n",
       "      <td>NaN</td>\n",
       "      <td>NaN</td>\n",
       "      <td>NaN</td>\n",
       "      <td>NaN</td>\n",
       "      <td>NaN</td>\n",
       "      <td>...</td>\n",
       "      <td>NaN</td>\n",
       "      <td>NaN</td>\n",
       "      <td>NaN</td>\n",
       "      <td>NaN</td>\n",
       "      <td>NaN</td>\n",
       "      <td>NaN</td>\n",
       "      <td>NaN</td>\n",
       "      <td>NaN</td>\n",
       "      <td>NaN</td>\n",
       "      <td>NaN</td>\n",
       "    </tr>\n",
       "    <tr>\n",
       "      <th>2</th>\n",
       "      <td>ENSG00000239906</td>\n",
       "      <td>NaN</td>\n",
       "      <td>NaN</td>\n",
       "      <td>NaN</td>\n",
       "      <td>NaN</td>\n",
       "      <td>NaN</td>\n",
       "      <td>NaN</td>\n",
       "      <td>NaN</td>\n",
       "      <td>NaN</td>\n",
       "      <td>NaN</td>\n",
       "      <td>...</td>\n",
       "      <td>NaN</td>\n",
       "      <td>NaN</td>\n",
       "      <td>NaN</td>\n",
       "      <td>NaN</td>\n",
       "      <td>NaN</td>\n",
       "      <td>NaN</td>\n",
       "      <td>NaN</td>\n",
       "      <td>NaN</td>\n",
       "      <td>NaN</td>\n",
       "      <td>NaN</td>\n",
       "    </tr>\n",
       "    <tr>\n",
       "      <th>3</th>\n",
       "      <td>ENSG00000228463,ENSG00000241670</td>\n",
       "      <td>NaN</td>\n",
       "      <td>NaN</td>\n",
       "      <td>NaN</td>\n",
       "      <td>NaN</td>\n",
       "      <td>NaN</td>\n",
       "      <td>NaN</td>\n",
       "      <td>NaN</td>\n",
       "      <td>NaN</td>\n",
       "      <td>NaN</td>\n",
       "      <td>...</td>\n",
       "      <td>NaN</td>\n",
       "      <td>NaN</td>\n",
       "      <td>NaN</td>\n",
       "      <td>NaN</td>\n",
       "      <td>NaN</td>\n",
       "      <td>NaN</td>\n",
       "      <td>NaN</td>\n",
       "      <td>NaN</td>\n",
       "      <td>NaN</td>\n",
       "      <td>NaN</td>\n",
       "    </tr>\n",
       "    <tr>\n",
       "      <th>4</th>\n",
       "      <td>ENSG00000185097,ENSG00000198744,ENSG0000022365...</td>\n",
       "      <td>NaN</td>\n",
       "      <td>NaN</td>\n",
       "      <td>NaN</td>\n",
       "      <td>NaN</td>\n",
       "      <td>NaN</td>\n",
       "      <td>NaN</td>\n",
       "      <td>NaN</td>\n",
       "      <td>NaN</td>\n",
       "      <td>NaN</td>\n",
       "      <td>...</td>\n",
       "      <td>NaN</td>\n",
       "      <td>NaN</td>\n",
       "      <td>NaN</td>\n",
       "      <td>NaN</td>\n",
       "      <td>NaN</td>\n",
       "      <td>NaN</td>\n",
       "      <td>NaN</td>\n",
       "      <td>NaN</td>\n",
       "      <td>NaN</td>\n",
       "      <td>NaN</td>\n",
       "    </tr>\n",
       "  </tbody>\n",
       "</table>\n",
       "<p>5 rows × 12253 columns</p>\n",
       "</div>"
      ],
      "text/plain": [
       "                                             GENE_ID  AAACCTGCACATCCAA-1_ad  \\\n",
       "0    ENSG00000223972,ENSG00000227232,ENSG00000243485                    NaN   \n",
       "1    ENSG00000233750,ENSG00000238009,ENSG00000239945                    NaN   \n",
       "2                                    ENSG00000239906                    NaN   \n",
       "3                    ENSG00000228463,ENSG00000241670                    NaN   \n",
       "4  ENSG00000185097,ENSG00000198744,ENSG0000022365...                    NaN   \n",
       "\n",
       "   AAACCTGCACATCCAA-1_dp  AAACCTGCACTAGTAC-1_ad  AAACCTGCACTAGTAC-1_dp  \\\n",
       "0                    NaN                    NaN                    NaN   \n",
       "1                    NaN                    NaN                    NaN   \n",
       "2                    NaN                    NaN                    NaN   \n",
       "3                    NaN                    NaN                    NaN   \n",
       "4                    NaN                    NaN                    NaN   \n",
       "\n",
       "   AAACCTGCATCATCCC-1_ad  AAACCTGCATCATCCC-1_dp  AAACCTGGTAGCTCCG-1_ad  \\\n",
       "0                    NaN                    NaN                    NaN   \n",
       "1                    NaN                    NaN                    NaN   \n",
       "2                    NaN                    NaN                    NaN   \n",
       "3                    NaN                    NaN                    NaN   \n",
       "4                    NaN                    NaN                    NaN   \n",
       "\n",
       "   AAACCTGGTAGCTCCG-1_dp  AAACCTGGTCTAAACC-1_ad  ...  TTTGTCAGTGCGCTTG-1_ad  \\\n",
       "0                    NaN                    NaN  ...                    NaN   \n",
       "1                    NaN                    NaN  ...                    NaN   \n",
       "2                    NaN                    NaN  ...                    NaN   \n",
       "3                    NaN                    NaN  ...                    NaN   \n",
       "4                    NaN                    NaN  ...                    NaN   \n",
       "\n",
       "   TTTGTCAGTGCGCTTG-1_dp  TTTGTCAGTGTTTGTG-1_ad  TTTGTCAGTGTTTGTG-1_dp  \\\n",
       "0                    NaN                    NaN                    NaN   \n",
       "1                    NaN                    NaN                    NaN   \n",
       "2                    NaN                    NaN                    NaN   \n",
       "3                    NaN                    NaN                    NaN   \n",
       "4                    NaN                    NaN                    NaN   \n",
       "\n",
       "   TTTGTCAGTTAAAGAC-1_ad  TTTGTCAGTTAAAGAC-1_dp  TTTGTCATCATCGGAT-1_ad  \\\n",
       "0                    NaN                    NaN                    NaN   \n",
       "1                    NaN                    NaN                    NaN   \n",
       "2                    NaN                    NaN                    NaN   \n",
       "3                    NaN                    NaN                    NaN   \n",
       "4                    NaN                    NaN                    NaN   \n",
       "\n",
       "   TTTGTCATCATCGGAT-1_dp  TTTGTCATCCCAAGAT-1_ad  TTTGTCATCCCAAGAT-1_dp  \n",
       "0                    NaN                    NaN                    NaN  \n",
       "1                    NaN                    NaN                    NaN  \n",
       "2                    NaN                    NaN                    NaN  \n",
       "3                    NaN                    NaN                    NaN  \n",
       "4                    NaN                    NaN                    NaN  \n",
       "\n",
       "[5 rows x 12253 columns]"
      ]
     },
     "execution_count": 32,
     "metadata": {},
     "output_type": "execute_result"
    }
   ],
   "source": [
    "gene_counts_df.insert(0, \"GENE_ID\", [gene for gene, snp_list \n",
    "                                     in gene_to_snps.items() \n",
    "                                     if len(snp_list) > 0])\n",
    "assert_gene_ordering(gene_counts_df, genome_df)\n",
    "gene_counts_df.head()"
   ]
  },
  {
   "cell_type": "code",
   "execution_count": 33,
   "metadata": {},
   "outputs": [],
   "source": [
    "gene_counts_df.to_pickle(f\"{sample_data_dir}/gene_counts.pkl\")"
   ]
  },
  {
   "cell_type": "markdown",
   "metadata": {},
   "source": [
    "## Summarizing the dataset (for QC purposes)"
   ]
  },
  {
   "cell_type": "code",
   "execution_count": 34,
   "metadata": {},
   "outputs": [],
   "source": [
    "# This function is really, REALLY inefficient. It implicitly converts counts_df to dense,\n",
    "# which is absolutely unacceptable given the size of that dataframe.\n",
    "# I have to find a way to compute the same statistics better.\n",
    "\n",
    "def describe_raw_counts(counts_df, desc, clustering_df=None, feature_name=\"SNP\"):\n",
    "    \"\"\"\n",
    "    @counts_df — pd.SparseDataframe — raw counts\n",
    "    @desc — description of counts_df\n",
    "    @clustering_df — pd.DataFrame — assigns cluster label to each barcode\n",
    "    \n",
    "    This function summarizes the information about the raw counts.\n",
    "    It computes such summary statistics as:\n",
    "        1. Fraction of NaNs (per barcode)\n",
    "        2. Average number of reads mapped to SNP (per barcode)\n",
    "        3. Total number of reads (per barcode)\n",
    "        4. Number of SNPs with at least one mapped read (per barcode). \n",
    "    If clustering information is provided, it also computes the distribution\n",
    "    of reads across genome, taking cluster structure into account. \n",
    "    To do so, it adds up the reads mapping to each SNP (individually) for each \n",
    "    barcode in the cluster and then divides the sum by the cluster size.\n",
    "    \"\"\"\n",
    "    \n",
    "    print(\"{} columns, {} barcodes, {} {}s\".format(\n",
    "        counts_df.shape[1],\n",
    "        len(extract_barcodes(counts_df)),\n",
    "        counts_df.shape[0],\n",
    "        feature_name\n",
    "    ))\n",
    "\n",
    "    fig, axes = plt.subplots(2, 2, figsize=(15,10), constrained_layout=True)\n",
    "    fig.suptitle(desc)\n",
    "    axes[0,0].set_title(\"Fraction of NaNs per cell\");\n",
    "    counts_df.isna().mean().hist(ax=axes[0,0]);\n",
    "\n",
    "    axes[0,1].set_title(f\"Reads per {feature_name} (on average) per cell\");\n",
    "    extract_counts(counts_df, suffix=\"dp\").mean().hist(ax=axes[0,1]);\n",
    "\n",
    "    axes[1,0].set_title(\"Reads per barcode (in total)\");\n",
    "    extract_counts(counts_df, suffix=\"dp\").sum().hist(ax=axes[1,0]);\n",
    "\n",
    "    axes[1,1].set_title(f\"{feature_name}s with at least one mapped read (one point per cell)\");\n",
    "    (extract_counts(counts_df, suffix=\"dp\") > 0).sum().hist(ax=axes[1,1]);\n",
    "    fig.show()\n",
    "\n",
    "    if clustering_df is not None:\n",
    "        cluster_to_barcodes = extract_clusters(clustering_df)\n",
    "        cluster_label_list = extract_cluster_labels(clustering_df)\n",
    "        print(\"Cluster labels: \", cluster_label_list)\n",
    "\n",
    "        n_clusters = len(cluster_label_list)\n",
    "        grid_shape = (n_clusters // 2 + n_clusters % 2, 2)\n",
    "        sns.set()\n",
    "        fig, axes = plt.subplots(*grid_shape, figsize=(15, 2 * n_clusters), constrained_layout=True)\n",
    "        fig.suptitle(\"Distribution of reads in the genome (per cluster, DP counts averaged within cluster)\")\n",
    "        for i, label in enumerate(tqdm_notebook(cluster_label_list, desc=\"processing clusters\")):\n",
    "            ax = axes[i // grid_shape[1], i % grid_shape[1]]\n",
    "            ax.set_title(f\"Cluster label: {label}\")\n",
    "            ax.set_xlabel(f\"{feature_name} id\")\n",
    "            ax.set_ylabel(\"mean DP count\")    \n",
    "            dp_counts = np.zeros(counts_df.shape[0])\n",
    "            for barcode in cluster_to_barcodes[label]:\n",
    "                dp_counts = dp_counts + counts_df[f\"{barcode}_dp\"].to_dense().fillna(0).values\n",
    "            dp_counts /= len(cluster_to_barcodes[label])\n",
    "            ax.plot(dp_counts, label=label)\n",
    "        fig.show()"
   ]
  },
  {
   "cell_type": "code",
   "execution_count": 35,
   "metadata": {
    "scrolled": false
   },
   "outputs": [],
   "source": [
    "# %%time\n",
    "# describe_raw_counts(counts_df, \"scRNA, sample-1\", clustering_df)"
   ]
  },
  {
   "cell_type": "code",
   "execution_count": 36,
   "metadata": {
    "scrolled": false
   },
   "outputs": [
    {
     "name": "stdout",
     "output_type": "stream",
     "text": [
      "12253 columns, 6126 barcodes, 10224 genes\n"
     ]
    },
    {
     "name": "stderr",
     "output_type": "stream",
     "text": [
      "/home/v390v/.conda/envs/mb/lib/python3.7/site-packages/ipykernel_launcher.py:43: UserWarning: Matplotlib is currently using module://ipykernel.pylab.backend_inline, which is a non-GUI backend, so cannot show the figure.\n"
     ]
    },
    {
     "name": "stdout",
     "output_type": "stream",
     "text": [
      "Cluster labels:  [0, 1, 2, 3, 4, 5, 6, 7, 8, 9]\n"
     ]
    },
    {
     "data": {
      "application/vnd.jupyter.widget-view+json": {
       "model_id": "8c8b024aacaa4aaeaedf585d2840b738",
       "version_major": 2,
       "version_minor": 0
      },
      "text/plain": [
       "HBox(children=(IntProgress(value=0, description='processing clusters', max=10, style=ProgressStyle(description…"
      ]
     },
     "metadata": {},
     "output_type": "display_data"
    },
    {
     "name": "stdout",
     "output_type": "stream",
     "text": [
      "CPU times: user 11.7 s, sys: 2.92 s, total: 14.7 s\n",
      "Wall time: 16 s\n"
     ]
    },
    {
     "name": "stderr",
     "output_type": "stream",
     "text": [
      "/home/v390v/.conda/envs/mb/lib/python3.7/site-packages/ipykernel_launcher.py:65: UserWarning: Matplotlib is currently using module://ipykernel.pylab.backend_inline, which is a non-GUI backend, so cannot show the figure.\n"
     ]
    },
    {
     "data": {
      "image/png": "[encoded data removed]",
      "text/plain": [
       "<Figure size 1080x720 with 4 Axes>"
      ]
     },
     "metadata": {},
     "output_type": "display_data"
    },
    {
     "data": {
      "image/png": "[encoded data removed]",
      "text/plain": [
       "<Figure size 1080x1440 with 10 Axes>"
      ]
     },
     "metadata": {},
     "output_type": "display_data"
    }
   ],
   "source": [
    "%%time\n",
    "gene_counts_df = pd.read_pickle(f\"{sample_data_dir}/gene_counts.pkl\")\n",
    "describe_raw_counts(gene_counts_df, \n",
    "                    f\"{data_name}, {experiment_name}\", \n",
    "                    clustering_df, \n",
    "                    feature_name=\"gene\")"
   ]
  },
  {
   "cell_type": "markdown",
   "metadata": {},
   "source": [
    "## Getting an ASE matrix"
   ]
  },
  {
   "cell_type": "code",
   "execution_count": 37,
   "metadata": {},
   "outputs": [],
   "source": [
    "def compute_ase(counts_df, barcode_list):\n",
    "    ase_df = pd.concat([\n",
    "        pd.DataFrame({\n",
    "            f\"{barcode}\" \n",
    "            : counts_df[f\"{barcode}_ad\"].to_dense().fillna(0) \n",
    "            / counts_df[f\"{barcode}_dp\"].to_dense().fillna(0)\n",
    "        }) \n",
    "        for barcode in tqdm_notebook(barcode_list, desc=\"ase from read counts\")], \n",
    "        axis=1\n",
    "    )\n",
    "    return ase_df"
   ]
  },
  {
   "cell_type": "code",
   "execution_count": 38,
   "metadata": {},
   "outputs": [],
   "source": [
    "def plot_ase(ase_df, title=\"\", figsize=(10,10), **clustermap_kwargs):\n",
    "    try: \n",
    "        sns.clustermap(\n",
    "            ase_df\\\n",
    "            .fillna(value=0.5)\\\n",
    "            .astype(np.float32)\\\n",
    "            .values,\n",
    "            cmap=\"viridis\",\n",
    "            figsize=figsize,\n",
    "            row_cluster=False,\n",
    "            xticklabels=[colname for colname in ase_df.columns \n",
    "                         if colname != \"GENE_ID\"], \n",
    "            **clustermap_kwargs\n",
    "        ).fig.suptitle(title);\n",
    "    except RecursionError:\n",
    "        print(\"RecursionError: increase stack size\")"
   ]
  },
  {
   "cell_type": "code",
   "execution_count": 39,
   "metadata": {},
   "outputs": [
    {
     "data": {
      "application/vnd.jupyter.widget-view+json": {
       "model_id": "867d74ff64e64427bd225dbf05fe91ce",
       "version_major": 2,
       "version_minor": 0
      },
      "text/plain": [
       "HBox(children=(IntProgress(value=0, description='ase from read counts', max=6126, style=ProgressStyle(descript…"
      ]
     },
     "metadata": {},
     "output_type": "display_data"
    },
    {
     "name": "stdout",
     "output_type": "stream",
     "text": [
      "<class 'pandas.core.frame.DataFrame'>\n",
      "RangeIndex: 10224 entries, 0 to 10223\n",
      "Columns: 6126 entries, AAACCTGCACATCCAA-1 to TTTGTCATCCCAAGAT-1\n",
      "dtypes: float64(6126)\n",
      "memory usage: 477.8 MB\n",
      "CPU times: user 13.9 s, sys: 4.18 s, total: 18.1 s\n",
      "Wall time: 18.9 s\n"
     ]
    }
   ],
   "source": [
    "%%time\n",
    "gene_counts_df = pd.read_pickle(f\"{sample_data_dir}/gene_counts.pkl\")\n",
    "ase_df = compute_ase(gene_counts_df, extract_barcodes(gene_counts_df))\n",
    "ase_df.to_pickle(f\"{sample_data_dir}/ase.pkl\")\n",
    "ase_df.info()"
   ]
  },
  {
   "cell_type": "code",
   "execution_count": 40,
   "metadata": {},
   "outputs": [
    {
     "name": "stdout",
     "output_type": "stream",
     "text": [
      "Per column:\n",
      " AAACCTGCACATCCAA-1    0.997164\n",
      "AAACCTGCACTAGTAC-1    0.996088\n",
      "AAACCTGCATCATCCC-1    0.997555\n",
      "AAACCTGGTAGCTCCG-1    0.995794\n",
      "AAACCTGGTCTAAACC-1    0.994914\n",
      "                        ...   \n",
      "TTTGTCAGTGCGCTTG-1    0.989241\n",
      "TTTGTCAGTGTTTGTG-1    0.993642\n",
      "TTTGTCAGTTAAAGAC-1    0.995794\n",
      "TTTGTCATCATCGGAT-1    0.991784\n",
      "TTTGTCATCCCAAGAT-1    0.995012\n",
      "Length: 6126, dtype: float64\n",
      "In total:  0.9948370985516976\n"
     ]
    },
    {
     "data": {
      "image/png": "[encoded data removed]",
      "text/plain": [
       "<Figure size 432x288 with 1 Axes>"
      ]
     },
     "metadata": {},
     "output_type": "display_data"
    }
   ],
   "source": [
    "nan_fraction(ase_df, verbose=True, show_plots=True);"
   ]
  },
  {
   "cell_type": "markdown",
   "metadata": {},
   "source": [
    "## Aggregating by cell barcode (by groups of columns)\n",
    "\n",
    "Take read counts and clustering info as an input.\n",
    "Add up the counts in each cluster. "
   ]
  },
  {
   "cell_type": "code",
   "execution_count": 41,
   "metadata": {},
   "outputs": [],
   "source": [
    "\"\"\" TODO: check for bugs \"\"\"\n",
    "def aggregate_by_barcode_groups(counts_df, clustering_df):\n",
    "    assert np.all(np.isin(clustering_df.BARCODE, \n",
    "                          extract_barcodes(counts_df)))\n",
    "    \n",
    "    cluster_to_barcodes = extract_clusters(clustering_df)\n",
    "    cluster_labels = extract_cluster_labels(clustering_df)\n",
    "    \n",
    "    result_df = pd.DataFrame()\n",
    "    \n",
    "    for label in tqdm_notebook(cluster_labels, desc=\"cluster label\"):\n",
    "        for suffix in [\"ad\", \"dp\"]:\n",
    "            result_df[f\"{label}_{suffix}\"] = np.zeros(counts_df.shape[0])    \n",
    "            na_mask = np.full(counts_df.shape[0], True)\n",
    "            for barcode in cluster_to_barcodes[label]:\n",
    "                counts = counts_df[f\"{barcode}_{suffix}\"].to_dense().values\n",
    "                na_mask = na_mask & np.isnan(counts)\n",
    "                result_df[f\"{label}_{suffix}\"] += np.nan_to_num(counts)\n",
    "            result_df[f\"{label}_{suffix}\"][na_mask] = np.nan\n",
    "    return result_df"
   ]
  },
  {
   "cell_type": "code",
   "execution_count": 42,
   "metadata": {
    "scrolled": true
   },
   "outputs": [
    {
     "data": {
      "application/vnd.jupyter.widget-view+json": {
       "model_id": "2329bbe00c0c436ca969c891114607ff",
       "version_major": 2,
       "version_minor": 0
      },
      "text/plain": [
       "HBox(children=(IntProgress(value=0, description='cluster label', max=10, style=ProgressStyle(description_width…"
      ]
     },
     "metadata": {},
     "output_type": "display_data"
    },
    {
     "data": {
      "text/html": [
       "<div>\n",
       "<style scoped>\n",
       "    .dataframe tbody tr th:only-of-type {\n",
       "        vertical-align: middle;\n",
       "    }\n",
       "\n",
       "    .dataframe tbody tr th {\n",
       "        vertical-align: top;\n",
       "    }\n",
       "\n",
       "    .dataframe thead th {\n",
       "        text-align: right;\n",
       "    }\n",
       "</style>\n",
       "<table border=\"1\" class=\"dataframe\">\n",
       "  <thead>\n",
       "    <tr style=\"text-align: right;\">\n",
       "      <th></th>\n",
       "      <th>0_ad</th>\n",
       "      <th>0_dp</th>\n",
       "      <th>1_ad</th>\n",
       "      <th>1_dp</th>\n",
       "      <th>2_ad</th>\n",
       "      <th>2_dp</th>\n",
       "      <th>3_ad</th>\n",
       "      <th>3_dp</th>\n",
       "      <th>4_ad</th>\n",
       "      <th>4_dp</th>\n",
       "      <th>5_ad</th>\n",
       "      <th>5_dp</th>\n",
       "      <th>6_ad</th>\n",
       "      <th>6_dp</th>\n",
       "      <th>7_ad</th>\n",
       "      <th>7_dp</th>\n",
       "      <th>8_ad</th>\n",
       "      <th>8_dp</th>\n",
       "      <th>9_ad</th>\n",
       "      <th>9_dp</th>\n",
       "    </tr>\n",
       "  </thead>\n",
       "  <tbody>\n",
       "    <tr>\n",
       "      <th>0</th>\n",
       "      <td>164.0</td>\n",
       "      <td>183.0</td>\n",
       "      <td>41.0</td>\n",
       "      <td>61.0</td>\n",
       "      <td>77.0</td>\n",
       "      <td>107.0</td>\n",
       "      <td>59.0</td>\n",
       "      <td>88.0</td>\n",
       "      <td>88.0</td>\n",
       "      <td>102.0</td>\n",
       "      <td>20.0</td>\n",
       "      <td>39.0</td>\n",
       "      <td>52.0</td>\n",
       "      <td>52.0</td>\n",
       "      <td>NaN</td>\n",
       "      <td>NaN</td>\n",
       "      <td>NaN</td>\n",
       "      <td>NaN</td>\n",
       "      <td>0.0</td>\n",
       "      <td>6.0</td>\n",
       "    </tr>\n",
       "    <tr>\n",
       "      <th>1</th>\n",
       "      <td>0.0</td>\n",
       "      <td>2.0</td>\n",
       "      <td>NaN</td>\n",
       "      <td>NaN</td>\n",
       "      <td>NaN</td>\n",
       "      <td>NaN</td>\n",
       "      <td>NaN</td>\n",
       "      <td>NaN</td>\n",
       "      <td>NaN</td>\n",
       "      <td>NaN</td>\n",
       "      <td>NaN</td>\n",
       "      <td>NaN</td>\n",
       "      <td>NaN</td>\n",
       "      <td>NaN</td>\n",
       "      <td>NaN</td>\n",
       "      <td>NaN</td>\n",
       "      <td>NaN</td>\n",
       "      <td>NaN</td>\n",
       "      <td>NaN</td>\n",
       "      <td>NaN</td>\n",
       "    </tr>\n",
       "    <tr>\n",
       "      <th>2</th>\n",
       "      <td>0.0</td>\n",
       "      <td>1.0</td>\n",
       "      <td>0.0</td>\n",
       "      <td>4.0</td>\n",
       "      <td>0.0</td>\n",
       "      <td>1.0</td>\n",
       "      <td>NaN</td>\n",
       "      <td>NaN</td>\n",
       "      <td>NaN</td>\n",
       "      <td>NaN</td>\n",
       "      <td>NaN</td>\n",
       "      <td>NaN</td>\n",
       "      <td>NaN</td>\n",
       "      <td>NaN</td>\n",
       "      <td>NaN</td>\n",
       "      <td>NaN</td>\n",
       "      <td>NaN</td>\n",
       "      <td>NaN</td>\n",
       "      <td>NaN</td>\n",
       "      <td>NaN</td>\n",
       "    </tr>\n",
       "    <tr>\n",
       "      <th>3</th>\n",
       "      <td>NaN</td>\n",
       "      <td>NaN</td>\n",
       "      <td>3.0</td>\n",
       "      <td>5.0</td>\n",
       "      <td>4.0</td>\n",
       "      <td>5.0</td>\n",
       "      <td>NaN</td>\n",
       "      <td>NaN</td>\n",
       "      <td>NaN</td>\n",
       "      <td>NaN</td>\n",
       "      <td>NaN</td>\n",
       "      <td>NaN</td>\n",
       "      <td>NaN</td>\n",
       "      <td>NaN</td>\n",
       "      <td>NaN</td>\n",
       "      <td>NaN</td>\n",
       "      <td>NaN</td>\n",
       "      <td>NaN</td>\n",
       "      <td>NaN</td>\n",
       "      <td>NaN</td>\n",
       "    </tr>\n",
       "    <tr>\n",
       "      <th>4</th>\n",
       "      <td>1.0</td>\n",
       "      <td>1.0</td>\n",
       "      <td>3.0</td>\n",
       "      <td>6.0</td>\n",
       "      <td>1.0</td>\n",
       "      <td>2.0</td>\n",
       "      <td>2.0</td>\n",
       "      <td>7.0</td>\n",
       "      <td>1.0</td>\n",
       "      <td>1.0</td>\n",
       "      <td>0.0</td>\n",
       "      <td>1.0</td>\n",
       "      <td>1.0</td>\n",
       "      <td>2.0</td>\n",
       "      <td>NaN</td>\n",
       "      <td>NaN</td>\n",
       "      <td>NaN</td>\n",
       "      <td>NaN</td>\n",
       "      <td>NaN</td>\n",
       "      <td>NaN</td>\n",
       "    </tr>\n",
       "  </tbody>\n",
       "</table>\n",
       "</div>"
      ],
      "text/plain": [
       "    0_ad   0_dp  1_ad  1_dp  2_ad   2_dp  3_ad  3_dp  4_ad   4_dp  5_ad  5_dp  \\\n",
       "0  164.0  183.0  41.0  61.0  77.0  107.0  59.0  88.0  88.0  102.0  20.0  39.0   \n",
       "1    0.0    2.0   NaN   NaN   NaN    NaN   NaN   NaN   NaN    NaN   NaN   NaN   \n",
       "2    0.0    1.0   0.0   4.0   0.0    1.0   NaN   NaN   NaN    NaN   NaN   NaN   \n",
       "3    NaN    NaN   3.0   5.0   4.0    5.0   NaN   NaN   NaN    NaN   NaN   NaN   \n",
       "4    1.0    1.0   3.0   6.0   1.0    2.0   2.0   7.0   1.0    1.0   0.0   1.0   \n",
       "\n",
       "   6_ad  6_dp  7_ad  7_dp  8_ad  8_dp  9_ad  9_dp  \n",
       "0  52.0  52.0   NaN   NaN   NaN   NaN   0.0   6.0  \n",
       "1   NaN   NaN   NaN   NaN   NaN   NaN   NaN   NaN  \n",
       "2   NaN   NaN   NaN   NaN   NaN   NaN   NaN   NaN  \n",
       "3   NaN   NaN   NaN   NaN   NaN   NaN   NaN   NaN  \n",
       "4   1.0   2.0   NaN   NaN   NaN   NaN   NaN   NaN  "
      ]
     },
     "execution_count": 42,
     "metadata": {},
     "output_type": "execute_result"
    }
   ],
   "source": [
    "gene_counts_df = pd.read_pickle(f\"{sample_data_dir}/gene_counts.pkl\")\n",
    "clustered_df = aggregate_by_barcode_groups(gene_counts_df, clustering_df)\n",
    "clustered_df.to_pickle(f\"{sample_data_dir}/clustered_gene_counts.pkl\")\n",
    "clustered_df.head()"
   ]
  },
  {
   "cell_type": "code",
   "execution_count": 43,
   "metadata": {
    "scrolled": false
   },
   "outputs": [
    {
     "name": "stdout",
     "output_type": "stream",
     "text": [
      "20 columns, 10 barcodes, 10224 genes\n"
     ]
    },
    {
     "name": "stderr",
     "output_type": "stream",
     "text": [
      "/home/v390v/.conda/envs/mb/lib/python3.7/site-packages/ipykernel_launcher.py:43: UserWarning: Matplotlib is currently using module://ipykernel.pylab.backend_inline, which is a non-GUI backend, so cannot show the figure.\n"
     ]
    },
    {
     "data": {
      "image/png": "[encoded data removed]",
      "text/plain": [
       "<Figure size 1080x720 with 4 Axes>"
      ]
     },
     "metadata": {},
     "output_type": "display_data"
    }
   ],
   "source": [
    "describe_raw_counts(clustered_df, \n",
    "                    f\"{data_name}, {experiment_name}, {clustering_name} clustering\", \n",
    "                    feature_name=\"gene\")"
   ]
  },
  {
   "cell_type": "code",
   "execution_count": 44,
   "metadata": {
    "scrolled": true
   },
   "outputs": [
    {
     "data": {
      "application/vnd.jupyter.widget-view+json": {
       "model_id": "cdabd881d1334408bdbbf8d2fd149e8b",
       "version_major": 2,
       "version_minor": 0
      },
      "text/plain": [
       "HBox(children=(IntProgress(value=0, description='ase from read counts', max=10, style=ProgressStyle(descriptio…"
      ]
     },
     "metadata": {},
     "output_type": "display_data"
    },
    {
     "name": "stdout",
     "output_type": "stream",
     "text": [
      "<class 'pandas.core.frame.DataFrame'>\n",
      "RangeIndex: 10224 entries, 0 to 10223\n",
      "Data columns (total 10 columns):\n",
      "0    7279 non-null float64\n",
      "1    6363 non-null float64\n",
      "2    7239 non-null float64\n",
      "3    5851 non-null float64\n",
      "4    5274 non-null float64\n",
      "5    4226 non-null float64\n",
      "6    3730 non-null float64\n",
      "7    2144 non-null float64\n",
      "8    929 non-null float64\n",
      "9    776 non-null float64\n",
      "dtypes: float64(10)\n",
      "memory usage: 798.9 KB\n"
     ]
    }
   ],
   "source": [
    "# clustered_ase_df = pd.read_pickle(f\"{sample_data_dir}/clustered_ase_df.pkl\")\n",
    "clustered_ase_df = compute_ase(clustered_df, extract_cluster_labels(clustering_df))\n",
    "clustered_ase_df.to_pickle(f\"{sample_data_dir}/clustered_ase.pkl\")\n",
    "clustered_ase_df.info()"
   ]
  },
  {
   "cell_type": "code",
   "execution_count": 45,
   "metadata": {},
   "outputs": [
    {
     "data": {
      "text/html": [
       "<div>\n",
       "<style scoped>\n",
       "    .dataframe tbody tr th:only-of-type {\n",
       "        vertical-align: middle;\n",
       "    }\n",
       "\n",
       "    .dataframe tbody tr th {\n",
       "        vertical-align: top;\n",
       "    }\n",
       "\n",
       "    .dataframe thead th {\n",
       "        text-align: right;\n",
       "    }\n",
       "</style>\n",
       "<table border=\"1\" class=\"dataframe\">\n",
       "  <thead>\n",
       "    <tr style=\"text-align: right;\">\n",
       "      <th></th>\n",
       "      <th>0</th>\n",
       "      <th>1</th>\n",
       "      <th>2</th>\n",
       "      <th>3</th>\n",
       "      <th>4</th>\n",
       "      <th>5</th>\n",
       "      <th>6</th>\n",
       "      <th>7</th>\n",
       "      <th>8</th>\n",
       "      <th>9</th>\n",
       "    </tr>\n",
       "  </thead>\n",
       "  <tbody>\n",
       "    <tr>\n",
       "      <th>0</th>\n",
       "      <td>0.896175</td>\n",
       "      <td>0.672131</td>\n",
       "      <td>0.719626</td>\n",
       "      <td>0.670455</td>\n",
       "      <td>0.862745</td>\n",
       "      <td>0.512821</td>\n",
       "      <td>1.0</td>\n",
       "      <td>NaN</td>\n",
       "      <td>NaN</td>\n",
       "      <td>0.0</td>\n",
       "    </tr>\n",
       "    <tr>\n",
       "      <th>1</th>\n",
       "      <td>0.000000</td>\n",
       "      <td>NaN</td>\n",
       "      <td>NaN</td>\n",
       "      <td>NaN</td>\n",
       "      <td>NaN</td>\n",
       "      <td>NaN</td>\n",
       "      <td>NaN</td>\n",
       "      <td>NaN</td>\n",
       "      <td>NaN</td>\n",
       "      <td>NaN</td>\n",
       "    </tr>\n",
       "    <tr>\n",
       "      <th>2</th>\n",
       "      <td>0.000000</td>\n",
       "      <td>0.000000</td>\n",
       "      <td>0.000000</td>\n",
       "      <td>NaN</td>\n",
       "      <td>NaN</td>\n",
       "      <td>NaN</td>\n",
       "      <td>NaN</td>\n",
       "      <td>NaN</td>\n",
       "      <td>NaN</td>\n",
       "      <td>NaN</td>\n",
       "    </tr>\n",
       "    <tr>\n",
       "      <th>3</th>\n",
       "      <td>NaN</td>\n",
       "      <td>0.600000</td>\n",
       "      <td>0.800000</td>\n",
       "      <td>NaN</td>\n",
       "      <td>NaN</td>\n",
       "      <td>NaN</td>\n",
       "      <td>NaN</td>\n",
       "      <td>NaN</td>\n",
       "      <td>NaN</td>\n",
       "      <td>NaN</td>\n",
       "    </tr>\n",
       "    <tr>\n",
       "      <th>4</th>\n",
       "      <td>1.000000</td>\n",
       "      <td>0.500000</td>\n",
       "      <td>0.500000</td>\n",
       "      <td>0.285714</td>\n",
       "      <td>1.000000</td>\n",
       "      <td>0.000000</td>\n",
       "      <td>0.5</td>\n",
       "      <td>NaN</td>\n",
       "      <td>NaN</td>\n",
       "      <td>NaN</td>\n",
       "    </tr>\n",
       "  </tbody>\n",
       "</table>\n",
       "</div>"
      ],
      "text/plain": [
       "          0         1         2         3         4         5    6   7   8  \\\n",
       "0  0.896175  0.672131  0.719626  0.670455  0.862745  0.512821  1.0 NaN NaN   \n",
       "1  0.000000       NaN       NaN       NaN       NaN       NaN  NaN NaN NaN   \n",
       "2  0.000000  0.000000  0.000000       NaN       NaN       NaN  NaN NaN NaN   \n",
       "3       NaN  0.600000  0.800000       NaN       NaN       NaN  NaN NaN NaN   \n",
       "4  1.000000  0.500000  0.500000  0.285714  1.000000  0.000000  0.5 NaN NaN   \n",
       "\n",
       "     9  \n",
       "0  0.0  \n",
       "1  NaN  \n",
       "2  NaN  \n",
       "3  NaN  \n",
       "4  NaN  "
      ]
     },
     "execution_count": 45,
     "metadata": {},
     "output_type": "execute_result"
    }
   ],
   "source": [
    "clustered_ase_df.head()"
   ]
  },
  {
   "cell_type": "code",
   "execution_count": 57,
   "metadata": {
    "scrolled": false
   },
   "outputs": [
    {
     "data": {
      "image/png": "[encoded data removed]",
      "text/plain": [
       "<Figure size 720x720 with 4 Axes>"
      ]
     },
     "metadata": {},
     "output_type": "display_data"
    }
   ],
   "source": [
    "sys.setrecursionlimit(15000)\n",
    "plot_ase(clustered_ase_df,\n",
    "         f\"{data_name}, {experiment_name}, {clustering_name} clustering\")"
   ]
  },
  {
   "cell_type": "markdown",
   "metadata": {},
   "source": [
    "## Aggregating by genes (by groups of rows)\n",
    "\n",
    "This one is tricky because row operations seem to be very inefficient in pd.SparseDataFrame.  \n",
    "But I still can process the barcode columns individually (or in batches). This is fast enough to be useful"
   ]
  },
  {
   "cell_type": "code",
   "execution_count": 47,
   "metadata": {},
   "outputs": [],
   "source": [
    "def select_by_score(gene_counts_df, scoring_df, smaller_is_better=True, n_out=1000):\n",
    "    assert np.all(np.isin([\"SCORE\", \"GENE_ID\"], scoring_df.columns))\n",
    "    \n",
    "    result_df = gene_counts_df.to_dense().merge(scoring_df[[\"SCORE\", \"GENE_ID\"]])\n",
    "    result_df.sort_values(by=\"SCORE\", ascending=smaller_is_better, inplace=True)\n",
    "    result_df = result_df.iloc[:n_out, :]\n",
    "    result_df.sort_index(inplace=True)\n",
    "    result_df.drop(columns=[\"SCORE\"], inplace=True)\n",
    "    return result_df"
   ]
  },
  {
   "cell_type": "markdown",
   "metadata": {},
   "source": [
    "#### Giving it a try: selecting top 1000 genes by PCA loading scores"
   ]
  },
  {
   "cell_type": "code",
   "execution_count": 48,
   "metadata": {},
   "outputs": [
    {
     "data": {
      "text/html": [
       "<div>\n",
       "<style scoped>\n",
       "    .dataframe tbody tr th:only-of-type {\n",
       "        vertical-align: middle;\n",
       "    }\n",
       "\n",
       "    .dataframe tbody tr th {\n",
       "        vertical-align: top;\n",
       "    }\n",
       "\n",
       "    .dataframe thead th {\n",
       "        text-align: right;\n",
       "    }\n",
       "</style>\n",
       "<table border=\"1\" class=\"dataframe\">\n",
       "  <thead>\n",
       "    <tr style=\"text-align: right;\">\n",
       "      <th></th>\n",
       "      <th>GENE_ID</th>\n",
       "      <th>1</th>\n",
       "      <th>2</th>\n",
       "      <th>3</th>\n",
       "      <th>PC1</th>\n",
       "      <th>PC2</th>\n",
       "      <th>LS1</th>\n",
       "      <th>LS2</th>\n",
       "    </tr>\n",
       "  </thead>\n",
       "  <tbody>\n",
       "    <tr>\n",
       "      <th>0</th>\n",
       "      <td>ENSG00000000003</td>\n",
       "      <td>1.0</td>\n",
       "      <td>1.0</td>\n",
       "      <td>2.0</td>\n",
       "      <td>0.002593</td>\n",
       "      <td>-0.003106</td>\n",
       "      <td>0.002593</td>\n",
       "      <td>0.003106</td>\n",
       "    </tr>\n",
       "    <tr>\n",
       "      <th>1</th>\n",
       "      <td>ENSG00000000005</td>\n",
       "      <td>1.0</td>\n",
       "      <td>1.0</td>\n",
       "      <td>2.0</td>\n",
       "      <td>0.002550</td>\n",
       "      <td>-0.003145</td>\n",
       "      <td>0.002550</td>\n",
       "      <td>0.003145</td>\n",
       "    </tr>\n",
       "    <tr>\n",
       "      <th>2</th>\n",
       "      <td>ENSG00000000419,ENSG00000101126,ENSG0000022866...</td>\n",
       "      <td>2.0</td>\n",
       "      <td>2.0</td>\n",
       "      <td>4.0</td>\n",
       "      <td>0.005235</td>\n",
       "      <td>0.002535</td>\n",
       "      <td>0.005235</td>\n",
       "      <td>0.002535</td>\n",
       "    </tr>\n",
       "    <tr>\n",
       "      <th>3</th>\n",
       "      <td>ENSG00000000457,ENSG00000000460,ENSG0000000790...</td>\n",
       "      <td>2.0</td>\n",
       "      <td>2.0</td>\n",
       "      <td>4.0</td>\n",
       "      <td>0.005780</td>\n",
       "      <td>0.001431</td>\n",
       "      <td>0.005780</td>\n",
       "      <td>0.001431</td>\n",
       "    </tr>\n",
       "    <tr>\n",
       "      <th>4</th>\n",
       "      <td>ENSG00000000938</td>\n",
       "      <td>2.0</td>\n",
       "      <td>2.0</td>\n",
       "      <td>4.0</td>\n",
       "      <td>0.005479</td>\n",
       "      <td>0.000884</td>\n",
       "      <td>0.005479</td>\n",
       "      <td>0.000884</td>\n",
       "    </tr>\n",
       "  </tbody>\n",
       "</table>\n",
       "</div>"
      ],
      "text/plain": [
       "                                             GENE_ID    1    2    3       PC1  \\\n",
       "0                                    ENSG00000000003  1.0  1.0  2.0  0.002593   \n",
       "1                                    ENSG00000000005  1.0  1.0  2.0  0.002550   \n",
       "2  ENSG00000000419,ENSG00000101126,ENSG0000022866...  2.0  2.0  4.0  0.005235   \n",
       "3  ENSG00000000457,ENSG00000000460,ENSG0000000790...  2.0  2.0  4.0  0.005780   \n",
       "4                                    ENSG00000000938  2.0  2.0  4.0  0.005479   \n",
       "\n",
       "        PC2       LS1       LS2  \n",
       "0 -0.003106  0.002593  0.003106  \n",
       "1 -0.003145  0.002550  0.003145  \n",
       "2  0.002535  0.005235  0.002535  \n",
       "3  0.001431  0.005780  0.001431  \n",
       "4  0.000884  0.005479  0.000884  "
      ]
     },
     "execution_count": 48,
     "metadata": {},
     "output_type": "execute_result"
    }
   ],
   "source": [
    "scoring_df = pd.read_csv(f\"{root_data_dir}/first_sample/scores.csv\")\n",
    "scoring_df[\"LS1\"] = scoring_df.PC1.abs()\n",
    "scoring_df[\"LS2\"] = scoring_df.PC2.abs()\n",
    "scoring_df.head()"
   ]
  },
  {
   "cell_type": "code",
   "execution_count": 49,
   "metadata": {},
   "outputs": [
    {
     "data": {
      "text/plain": [
       "<matplotlib.collections.PathCollection at 0x7febcb715ba8>"
      ]
     },
     "execution_count": 49,
     "metadata": {},
     "output_type": "execute_result"
    },
    {
     "data": {
      "image/png": "[encoded data removed]",
      "text/plain": [
       "<Figure size 432x288 with 1 Axes>"
      ]
     },
     "metadata": {},
     "output_type": "display_data"
    }
   ],
   "source": [
    "plt.scatter(scoring_df.LS1, scoring_df.LS2)"
   ]
  },
  {
   "cell_type": "code",
   "execution_count": 50,
   "metadata": {},
   "outputs": [
    {
     "data": {
      "text/html": [
       "<div>\n",
       "<style scoped>\n",
       "    .dataframe tbody tr th:only-of-type {\n",
       "        vertical-align: middle;\n",
       "    }\n",
       "\n",
       "    .dataframe tbody tr th {\n",
       "        vertical-align: top;\n",
       "    }\n",
       "\n",
       "    .dataframe thead th {\n",
       "        text-align: right;\n",
       "    }\n",
       "</style>\n",
       "<table border=\"1\" class=\"dataframe\">\n",
       "  <thead>\n",
       "    <tr style=\"text-align: right;\">\n",
       "      <th></th>\n",
       "      <th>GENE_ID</th>\n",
       "      <th>AAACCTGCACATCCAA-1_ad</th>\n",
       "      <th>AAACCTGCACATCCAA-1_dp</th>\n",
       "      <th>AAACCTGCACTAGTAC-1_ad</th>\n",
       "      <th>AAACCTGCACTAGTAC-1_dp</th>\n",
       "      <th>AAACCTGCATCATCCC-1_ad</th>\n",
       "      <th>AAACCTGCATCATCCC-1_dp</th>\n",
       "      <th>AAACCTGGTAGCTCCG-1_ad</th>\n",
       "      <th>AAACCTGGTAGCTCCG-1_dp</th>\n",
       "      <th>AAACCTGGTCTAAACC-1_ad</th>\n",
       "      <th>...</th>\n",
       "      <th>TTTGTCAGTGCGCTTG-1_ad</th>\n",
       "      <th>TTTGTCAGTGCGCTTG-1_dp</th>\n",
       "      <th>TTTGTCAGTGTTTGTG-1_ad</th>\n",
       "      <th>TTTGTCAGTGTTTGTG-1_dp</th>\n",
       "      <th>TTTGTCAGTTAAAGAC-1_ad</th>\n",
       "      <th>TTTGTCAGTTAAAGAC-1_dp</th>\n",
       "      <th>TTTGTCATCATCGGAT-1_ad</th>\n",
       "      <th>TTTGTCATCATCGGAT-1_dp</th>\n",
       "      <th>TTTGTCATCCCAAGAT-1_ad</th>\n",
       "      <th>TTTGTCATCCCAAGAT-1_dp</th>\n",
       "    </tr>\n",
       "  </thead>\n",
       "  <tbody>\n",
       "    <tr>\n",
       "      <th>0</th>\n",
       "      <td>ENSG00000223972,ENSG00000227232,ENSG00000243485</td>\n",
       "      <td>NaN</td>\n",
       "      <td>NaN</td>\n",
       "      <td>NaN</td>\n",
       "      <td>NaN</td>\n",
       "      <td>NaN</td>\n",
       "      <td>NaN</td>\n",
       "      <td>NaN</td>\n",
       "      <td>NaN</td>\n",
       "      <td>NaN</td>\n",
       "      <td>...</td>\n",
       "      <td>NaN</td>\n",
       "      <td>NaN</td>\n",
       "      <td>NaN</td>\n",
       "      <td>NaN</td>\n",
       "      <td>NaN</td>\n",
       "      <td>NaN</td>\n",
       "      <td>NaN</td>\n",
       "      <td>NaN</td>\n",
       "      <td>NaN</td>\n",
       "      <td>NaN</td>\n",
       "    </tr>\n",
       "    <tr>\n",
       "      <th>1</th>\n",
       "      <td>ENSG00000233750,ENSG00000238009,ENSG00000239945</td>\n",
       "      <td>NaN</td>\n",
       "      <td>NaN</td>\n",
       "      <td>NaN</td>\n",
       "      <td>NaN</td>\n",
       "      <td>NaN</td>\n",
       "      <td>NaN</td>\n",
       "      <td>NaN</td>\n",
       "      <td>NaN</td>\n",
       "      <td>NaN</td>\n",
       "      <td>...</td>\n",
       "      <td>NaN</td>\n",
       "      <td>NaN</td>\n",
       "      <td>NaN</td>\n",
       "      <td>NaN</td>\n",
       "      <td>NaN</td>\n",
       "      <td>NaN</td>\n",
       "      <td>NaN</td>\n",
       "      <td>NaN</td>\n",
       "      <td>NaN</td>\n",
       "      <td>NaN</td>\n",
       "    </tr>\n",
       "    <tr>\n",
       "      <th>2</th>\n",
       "      <td>ENSG00000239906</td>\n",
       "      <td>NaN</td>\n",
       "      <td>NaN</td>\n",
       "      <td>NaN</td>\n",
       "      <td>NaN</td>\n",
       "      <td>NaN</td>\n",
       "      <td>NaN</td>\n",
       "      <td>NaN</td>\n",
       "      <td>NaN</td>\n",
       "      <td>NaN</td>\n",
       "      <td>...</td>\n",
       "      <td>NaN</td>\n",
       "      <td>NaN</td>\n",
       "      <td>NaN</td>\n",
       "      <td>NaN</td>\n",
       "      <td>NaN</td>\n",
       "      <td>NaN</td>\n",
       "      <td>NaN</td>\n",
       "      <td>NaN</td>\n",
       "      <td>NaN</td>\n",
       "      <td>NaN</td>\n",
       "    </tr>\n",
       "    <tr>\n",
       "      <th>3</th>\n",
       "      <td>ENSG00000228463,ENSG00000241670</td>\n",
       "      <td>NaN</td>\n",
       "      <td>NaN</td>\n",
       "      <td>NaN</td>\n",
       "      <td>NaN</td>\n",
       "      <td>NaN</td>\n",
       "      <td>NaN</td>\n",
       "      <td>NaN</td>\n",
       "      <td>NaN</td>\n",
       "      <td>NaN</td>\n",
       "      <td>...</td>\n",
       "      <td>NaN</td>\n",
       "      <td>NaN</td>\n",
       "      <td>NaN</td>\n",
       "      <td>NaN</td>\n",
       "      <td>NaN</td>\n",
       "      <td>NaN</td>\n",
       "      <td>NaN</td>\n",
       "      <td>NaN</td>\n",
       "      <td>NaN</td>\n",
       "      <td>NaN</td>\n",
       "    </tr>\n",
       "    <tr>\n",
       "      <th>4</th>\n",
       "      <td>ENSG00000185097,ENSG00000198744,ENSG0000022365...</td>\n",
       "      <td>NaN</td>\n",
       "      <td>NaN</td>\n",
       "      <td>NaN</td>\n",
       "      <td>NaN</td>\n",
       "      <td>NaN</td>\n",
       "      <td>NaN</td>\n",
       "      <td>NaN</td>\n",
       "      <td>NaN</td>\n",
       "      <td>NaN</td>\n",
       "      <td>...</td>\n",
       "      <td>NaN</td>\n",
       "      <td>NaN</td>\n",
       "      <td>NaN</td>\n",
       "      <td>NaN</td>\n",
       "      <td>NaN</td>\n",
       "      <td>NaN</td>\n",
       "      <td>NaN</td>\n",
       "      <td>NaN</td>\n",
       "      <td>NaN</td>\n",
       "      <td>NaN</td>\n",
       "    </tr>\n",
       "  </tbody>\n",
       "</table>\n",
       "<p>5 rows × 12253 columns</p>\n",
       "</div>"
      ],
      "text/plain": [
       "                                             GENE_ID  AAACCTGCACATCCAA-1_ad  \\\n",
       "0    ENSG00000223972,ENSG00000227232,ENSG00000243485                    NaN   \n",
       "1    ENSG00000233750,ENSG00000238009,ENSG00000239945                    NaN   \n",
       "2                                    ENSG00000239906                    NaN   \n",
       "3                    ENSG00000228463,ENSG00000241670                    NaN   \n",
       "4  ENSG00000185097,ENSG00000198744,ENSG0000022365...                    NaN   \n",
       "\n",
       "   AAACCTGCACATCCAA-1_dp  AAACCTGCACTAGTAC-1_ad  AAACCTGCACTAGTAC-1_dp  \\\n",
       "0                    NaN                    NaN                    NaN   \n",
       "1                    NaN                    NaN                    NaN   \n",
       "2                    NaN                    NaN                    NaN   \n",
       "3                    NaN                    NaN                    NaN   \n",
       "4                    NaN                    NaN                    NaN   \n",
       "\n",
       "   AAACCTGCATCATCCC-1_ad  AAACCTGCATCATCCC-1_dp  AAACCTGGTAGCTCCG-1_ad  \\\n",
       "0                    NaN                    NaN                    NaN   \n",
       "1                    NaN                    NaN                    NaN   \n",
       "2                    NaN                    NaN                    NaN   \n",
       "3                    NaN                    NaN                    NaN   \n",
       "4                    NaN                    NaN                    NaN   \n",
       "\n",
       "   AAACCTGGTAGCTCCG-1_dp  AAACCTGGTCTAAACC-1_ad  ...  TTTGTCAGTGCGCTTG-1_ad  \\\n",
       "0                    NaN                    NaN  ...                    NaN   \n",
       "1                    NaN                    NaN  ...                    NaN   \n",
       "2                    NaN                    NaN  ...                    NaN   \n",
       "3                    NaN                    NaN  ...                    NaN   \n",
       "4                    NaN                    NaN  ...                    NaN   \n",
       "\n",
       "   TTTGTCAGTGCGCTTG-1_dp  TTTGTCAGTGTTTGTG-1_ad  TTTGTCAGTGTTTGTG-1_dp  \\\n",
       "0                    NaN                    NaN                    NaN   \n",
       "1                    NaN                    NaN                    NaN   \n",
       "2                    NaN                    NaN                    NaN   \n",
       "3                    NaN                    NaN                    NaN   \n",
       "4                    NaN                    NaN                    NaN   \n",
       "\n",
       "   TTTGTCAGTTAAAGAC-1_ad  TTTGTCAGTTAAAGAC-1_dp  TTTGTCATCATCGGAT-1_ad  \\\n",
       "0                    NaN                    NaN                    NaN   \n",
       "1                    NaN                    NaN                    NaN   \n",
       "2                    NaN                    NaN                    NaN   \n",
       "3                    NaN                    NaN                    NaN   \n",
       "4                    NaN                    NaN                    NaN   \n",
       "\n",
       "   TTTGTCATCATCGGAT-1_dp  TTTGTCATCCCAAGAT-1_ad  TTTGTCATCCCAAGAT-1_dp  \n",
       "0                    NaN                    NaN                    NaN  \n",
       "1                    NaN                    NaN                    NaN  \n",
       "2                    NaN                    NaN                    NaN  \n",
       "3                    NaN                    NaN                    NaN  \n",
       "4                    NaN                    NaN                    NaN  \n",
       "\n",
       "[5 rows x 12253 columns]"
      ]
     },
     "execution_count": 50,
     "metadata": {},
     "output_type": "execute_result"
    }
   ],
   "source": [
    "gene_counts_df = pd.read_pickle(f\"{sample_data_dir}/gene_counts.pkl\")\n",
    "gene_counts_df.head()"
   ]
  },
  {
   "cell_type": "code",
   "execution_count": 51,
   "metadata": {},
   "outputs": [
    {
     "name": "stdout",
     "output_type": "stream",
     "text": [
      "639\n",
      "CPU times: user 28.2 ms, sys: 5.02 ms, total: 33.2 ms\n",
      "Wall time: 29 ms\n"
     ]
    }
   ],
   "source": [
    "%%time\n",
    "\n",
    "top_genes = np.intersect1d(\n",
    "    scoring_df.sort_values(by=\"LS1\", ascending=False).GENE_ID[:1000],\n",
    "    scoring_df.sort_values(by=\"LS2\", ascending=False).GENE_ID[:1000]\n",
    ")\n",
    "print(len(top_genes))"
   ]
  },
  {
   "cell_type": "code",
   "execution_count": 52,
   "metadata": {},
   "outputs": [
    {
     "name": "stdout",
     "output_type": "stream",
     "text": [
      "<class 'pandas.core.frame.DataFrame'>\n",
      "Int64Index: 213 entries, 1501 to 9818\n",
      "Columns: 12253 entries, GENE_ID to TTTGTCATCCCAAGAT-1_dp\n",
      "dtypes: float64(12252), object(1)\n",
      "memory usage: 19.9+ MB\n"
     ]
    }
   ],
   "source": [
    "# top_1k_gene_counts_df = select_by_score(\n",
    "#     gene_counts_df, \n",
    "#     scoring_df.rename(columns={\"PC1\" : \"SCORE\"}), \n",
    "#     smaller_is_better=False, \n",
    "#     n_out=1000\n",
    "# )\n",
    "top_gene_counts_df = gene_counts_df[gene_counts_df.GENE_ID.isin(top_genes)]\n",
    "top_gene_counts_df.to_pickle(f\"{sample_data_dir}/1kPC1_^_1kPC2_gene_counts.pkl\")\n",
    "top_gene_counts_df.info()"
   ]
  },
  {
   "cell_type": "code",
   "execution_count": 53,
   "metadata": {},
   "outputs": [
    {
     "data": {
      "text/plain": [
       "(213, 12253)"
      ]
     },
     "execution_count": 53,
     "metadata": {},
     "output_type": "execute_result"
    }
   ],
   "source": [
    "top_gene_counts_df.shape"
   ]
  },
  {
   "cell_type": "code",
   "execution_count": 54,
   "metadata": {},
   "outputs": [
    {
     "data": {
      "application/vnd.jupyter.widget-view+json": {
       "model_id": "6ce3ffefc9bd47a08f0932a922bdac3c",
       "version_major": 2,
       "version_minor": 0
      },
      "text/plain": [
       "HBox(children=(IntProgress(value=0, description='cluster label', max=10, style=ProgressStyle(description_width…"
      ]
     },
     "metadata": {},
     "output_type": "display_data"
    },
    {
     "data": {
      "text/html": [
       "<div>\n",
       "<style scoped>\n",
       "    .dataframe tbody tr th:only-of-type {\n",
       "        vertical-align: middle;\n",
       "    }\n",
       "\n",
       "    .dataframe tbody tr th {\n",
       "        vertical-align: top;\n",
       "    }\n",
       "\n",
       "    .dataframe thead th {\n",
       "        text-align: right;\n",
       "    }\n",
       "</style>\n",
       "<table border=\"1\" class=\"dataframe\">\n",
       "  <thead>\n",
       "    <tr style=\"text-align: right;\">\n",
       "      <th></th>\n",
       "      <th>0_ad</th>\n",
       "      <th>0_dp</th>\n",
       "      <th>1_ad</th>\n",
       "      <th>1_dp</th>\n",
       "      <th>2_ad</th>\n",
       "      <th>2_dp</th>\n",
       "      <th>3_ad</th>\n",
       "      <th>3_dp</th>\n",
       "      <th>4_ad</th>\n",
       "      <th>4_dp</th>\n",
       "      <th>5_ad</th>\n",
       "      <th>5_dp</th>\n",
       "      <th>6_ad</th>\n",
       "      <th>6_dp</th>\n",
       "      <th>7_ad</th>\n",
       "      <th>7_dp</th>\n",
       "      <th>8_ad</th>\n",
       "      <th>8_dp</th>\n",
       "      <th>9_ad</th>\n",
       "      <th>9_dp</th>\n",
       "    </tr>\n",
       "  </thead>\n",
       "  <tbody>\n",
       "    <tr>\n",
       "      <th>0</th>\n",
       "      <td>46.0</td>\n",
       "      <td>50.0</td>\n",
       "      <td>112.0</td>\n",
       "      <td>115.0</td>\n",
       "      <td>8.0</td>\n",
       "      <td>13.0</td>\n",
       "      <td>12.0</td>\n",
       "      <td>54.0</td>\n",
       "      <td>4.0</td>\n",
       "      <td>6.0</td>\n",
       "      <td>1.0</td>\n",
       "      <td>1.0</td>\n",
       "      <td>NaN</td>\n",
       "      <td>NaN</td>\n",
       "      <td>0.0</td>\n",
       "      <td>1.0</td>\n",
       "      <td>NaN</td>\n",
       "      <td>NaN</td>\n",
       "      <td>NaN</td>\n",
       "      <td>NaN</td>\n",
       "    </tr>\n",
       "    <tr>\n",
       "      <th>1</th>\n",
       "      <td>3.0</td>\n",
       "      <td>9.0</td>\n",
       "      <td>2.0</td>\n",
       "      <td>34.0</td>\n",
       "      <td>2.0</td>\n",
       "      <td>9.0</td>\n",
       "      <td>0.0</td>\n",
       "      <td>5.0</td>\n",
       "      <td>0.0</td>\n",
       "      <td>1.0</td>\n",
       "      <td>NaN</td>\n",
       "      <td>NaN</td>\n",
       "      <td>NaN</td>\n",
       "      <td>NaN</td>\n",
       "      <td>NaN</td>\n",
       "      <td>NaN</td>\n",
       "      <td>NaN</td>\n",
       "      <td>NaN</td>\n",
       "      <td>NaN</td>\n",
       "      <td>NaN</td>\n",
       "    </tr>\n",
       "    <tr>\n",
       "      <th>2</th>\n",
       "      <td>134.0</td>\n",
       "      <td>286.0</td>\n",
       "      <td>25.0</td>\n",
       "      <td>152.0</td>\n",
       "      <td>79.0</td>\n",
       "      <td>247.0</td>\n",
       "      <td>29.0</td>\n",
       "      <td>40.0</td>\n",
       "      <td>15.0</td>\n",
       "      <td>17.0</td>\n",
       "      <td>21.0</td>\n",
       "      <td>50.0</td>\n",
       "      <td>17.0</td>\n",
       "      <td>61.0</td>\n",
       "      <td>0.0</td>\n",
       "      <td>2.0</td>\n",
       "      <td>NaN</td>\n",
       "      <td>NaN</td>\n",
       "      <td>NaN</td>\n",
       "      <td>NaN</td>\n",
       "    </tr>\n",
       "    <tr>\n",
       "      <th>3</th>\n",
       "      <td>1.0</td>\n",
       "      <td>2.0</td>\n",
       "      <td>19.0</td>\n",
       "      <td>19.0</td>\n",
       "      <td>0.0</td>\n",
       "      <td>5.0</td>\n",
       "      <td>NaN</td>\n",
       "      <td>NaN</td>\n",
       "      <td>9.0</td>\n",
       "      <td>9.0</td>\n",
       "      <td>1.0</td>\n",
       "      <td>1.0</td>\n",
       "      <td>NaN</td>\n",
       "      <td>NaN</td>\n",
       "      <td>NaN</td>\n",
       "      <td>NaN</td>\n",
       "      <td>NaN</td>\n",
       "      <td>NaN</td>\n",
       "      <td>NaN</td>\n",
       "      <td>NaN</td>\n",
       "    </tr>\n",
       "    <tr>\n",
       "      <th>4</th>\n",
       "      <td>1.0</td>\n",
       "      <td>1.0</td>\n",
       "      <td>1.0</td>\n",
       "      <td>1.0</td>\n",
       "      <td>2.0</td>\n",
       "      <td>12.0</td>\n",
       "      <td>NaN</td>\n",
       "      <td>NaN</td>\n",
       "      <td>2.0</td>\n",
       "      <td>2.0</td>\n",
       "      <td>0.0</td>\n",
       "      <td>1.0</td>\n",
       "      <td>NaN</td>\n",
       "      <td>NaN</td>\n",
       "      <td>NaN</td>\n",
       "      <td>NaN</td>\n",
       "      <td>NaN</td>\n",
       "      <td>NaN</td>\n",
       "      <td>NaN</td>\n",
       "      <td>NaN</td>\n",
       "    </tr>\n",
       "  </tbody>\n",
       "</table>\n",
       "</div>"
      ],
      "text/plain": [
       "    0_ad   0_dp   1_ad   1_dp  2_ad   2_dp  3_ad  3_dp  4_ad  4_dp  5_ad  \\\n",
       "0   46.0   50.0  112.0  115.0   8.0   13.0  12.0  54.0   4.0   6.0   1.0   \n",
       "1    3.0    9.0    2.0   34.0   2.0    9.0   0.0   5.0   0.0   1.0   NaN   \n",
       "2  134.0  286.0   25.0  152.0  79.0  247.0  29.0  40.0  15.0  17.0  21.0   \n",
       "3    1.0    2.0   19.0   19.0   0.0    5.0   NaN   NaN   9.0   9.0   1.0   \n",
       "4    1.0    1.0    1.0    1.0   2.0   12.0   NaN   NaN   2.0   2.0   0.0   \n",
       "\n",
       "   5_dp  6_ad  6_dp  7_ad  7_dp  8_ad  8_dp  9_ad  9_dp  \n",
       "0   1.0   NaN   NaN   0.0   1.0   NaN   NaN   NaN   NaN  \n",
       "1   NaN   NaN   NaN   NaN   NaN   NaN   NaN   NaN   NaN  \n",
       "2  50.0  17.0  61.0   0.0   2.0   NaN   NaN   NaN   NaN  \n",
       "3   1.0   NaN   NaN   NaN   NaN   NaN   NaN   NaN   NaN  \n",
       "4   1.0   NaN   NaN   NaN   NaN   NaN   NaN   NaN   NaN  "
      ]
     },
     "execution_count": 54,
     "metadata": {},
     "output_type": "execute_result"
    }
   ],
   "source": [
    "top_clustered_gene_counts_df = aggregate_by_barcode_groups(\n",
    "    top_gene_counts_df, \n",
    "    clustering_df\n",
    ")\n",
    "top_clustered_gene_counts_df.head()"
   ]
  },
  {
   "cell_type": "code",
   "execution_count": 55,
   "metadata": {},
   "outputs": [
    {
     "data": {
      "application/vnd.jupyter.widget-view+json": {
       "model_id": "c65d0ac56039441da8610f4d3230ac65",
       "version_major": 2,
       "version_minor": 0
      },
      "text/plain": [
       "HBox(children=(IntProgress(value=0, description='ase from read counts', max=10, style=ProgressStyle(descriptio…"
      ]
     },
     "metadata": {},
     "output_type": "display_data"
    }
   ],
   "source": [
    "top_ase_df = compute_ase(\n",
    "    top_clustered_gene_counts_df, \n",
    "    extract_cluster_labels(clustering_df)\n",
    ")\n",
    "top_ase_df.to_pickle(f\"{sample_data_dir}/1kPC1_^_1kPC2_clustered_ase.pkl\")"
   ]
  },
  {
   "cell_type": "code",
   "execution_count": 56,
   "metadata": {},
   "outputs": [
    {
     "data": {
      "image/png": "[encoded data removed]",
      "text/plain": [
       "<Figure size 720x720 with 4 Axes>"
      ]
     },
     "metadata": {},
     "output_type": "display_data"
    }
   ],
   "source": [
    "plot_ase(\n",
    "    top_ase_df,\n",
    "    f\"{data_name}, {experiment_name}, {clustering_name} clustering, first 1k genes (loading scores, first 2 components)\"\n",
    ")"
   ]
  }
 ],
 "metadata": {
  "kernelspec": {
   "display_name": "Python 3",
   "language": "python",
   "name": "python3"
  },
  "language_info": {
   "codemirror_mode": {
    "name": "ipython",
    "version": 3
   },
   "file_extension": ".py",
   "mimetype": "text/x-python",
   "name": "python",
   "nbconvert_exporter": "python",
   "pygments_lexer": "ipython3",
   "version": "3.7.3"
  },
  "toc": {
   "base_numbering": 1,
   "nav_menu": {},
   "number_sections": true,
   "sideBar": true,
   "skip_h1_title": false,
   "title_cell": "Table of Contents",
   "title_sidebar": "Contents",
   "toc_cell": false,
   "toc_position": {},
   "toc_section_display": true,
   "toc_window_display": false
  },
  "varInspector": {
   "cols": {
    "lenName": 16,
    "lenType": 16,
    "lenVar": 40
   },
   "kernels_config": {
    "python": {
     "delete_cmd_postfix": "",
     "delete_cmd_prefix": "del ",
     "library": "var_list.py",
     "varRefreshCmd": "print(var_dic_list())"
    },
    "r": {
     "delete_cmd_postfix": ") ",
     "delete_cmd_prefix": "rm(",
     "library": "var_list.r",
     "varRefreshCmd": "cat(var_dic_list()) "
    }
   },
   "types_to_exclude": [
    "module",
    "function",
    "builtin_function_or_method",
    "instance",
    "_Feature"
   ],
   "window_display": false
  }
 },
 "nbformat": 4,
 "nbformat_minor": 2
}
