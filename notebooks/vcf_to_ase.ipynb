{
 "cells": [
  {
   "cell_type": "code",
   "execution_count": 2,
   "metadata": {
    "ExecuteTime": {
     "end_time": "2019-07-24T13:21:20.804458Z",
     "start_time": "2019-07-24T13:21:11.742301Z"
    }
   },
   "outputs": [],
   "source": [
    "import argparse\n",
    "from collections import defaultdict\n",
    "import multiprocessing as mp\n",
    "import os\n",
    "import pickle\n",
    "import re\n",
    "import subprocess\n",
    "import sys\n",
    "\n",
    "from joblib import Parallel, delayed\n",
    "import numpy as np\n",
    "# import ray\n",
    "# # use fewer CPUs so the OS doesn't run out of processes\n",
    "# ray.init(num_cpus=16)\n",
    "# import modin.pandas as pd\n",
    "import pandas as pd\n",
    "from tqdm import tqdm, tqdm_notebook\n",
    "\n",
    "import matplotlib.pyplot as plt\n",
    "import seaborn as sns\n",
    "\n",
    "log = sys.stdout"
   ]
  },
  {
   "cell_type": "markdown",
   "metadata": {},
   "source": [
    "## Functions:"
   ]
  },
  {
   "cell_type": "code",
   "execution_count": 3,
   "metadata": {
    "ExecuteTime": {
     "start_time": "2019-07-24T13:21:43.151Z"
    }
   },
   "outputs": [],
   "source": [
    "def all_unique(iterable):\n",
    "    \"\"\"\n",
    "    Input: an iterable\n",
    "    Output: whether or not it doesn't contain duplicates\n",
    "    \"\"\"\n",
    "    filtered = np.unique(iterable)\n",
    "    return len(iterable) == len(filtered)\n",
    "\n",
    "\n",
    "def parse_header(path_to_vcf):\n",
    "    \"\"\" \n",
    "    Input: path to vcf\n",
    "    Output: list of the column names\n",
    "    \"\"\"\n",
    "    try:\n",
    "        n_lines_to_skip = int(subprocess.check_output(\n",
    "            \"grep -Ec '^#{{2}}' {}\".format(path_to_vcf), \n",
    "            shell=True\n",
    "        ).decode(\"utf-8\"))\n",
    "    except subprocess.CalledProcessError as err: \n",
    "        if err.returncode == 1:\n",
    "            n_lines_to_skip = 0\n",
    "        else: \n",
    "            raise err\n",
    "    header_line = subprocess.check_output(\n",
    "        \"sed -n '{}p' {}\".format(n_lines_to_skip + 1, path_to_vcf), \n",
    "        shell=True\n",
    "    ).decode(\"utf-8\").strip(\"#\\n\")\n",
    "    print(header_line)\n",
    "    column_names = header_line.split('\\t')\n",
    "    return column_names, n_lines_to_skip\n",
    "\n",
    "\n",
    "def read_vcf(path_to_vcf, usecols=None, **pd_kwargs):\n",
    "    \"\"\"\n",
    "    Skip metadata and read only the specified columns from th\n",
    "    \"\"\"\n",
    "    column_names, n_lines_to_skip = parse_header(path_to_vcf)\n",
    "    if usecols is not None:\n",
    "        usecols[0] = \"#\" + usecols[0]\n",
    "    resulting_df = pd.read_csv(\n",
    "        path_to_vcf, sep='\\t', \n",
    "        skiprows=n_lines_to_skip, \n",
    "        usecols=usecols,\n",
    "        **pd_kwargs\n",
    "    )\n",
    "    resulting_df.rename(columns={\n",
    "        resulting_df.columns[0] \n",
    "        : resulting_df.columns[0].strip('#')\n",
    "       }, inplace=True\n",
    "    )\n",
    "    return resulting_df\n",
    "\n",
    "\n",
    "def dump_pkl(obj, path):\n",
    "    with open(path, \"wb\") as outfile:\n",
    "        pickle.dump(obj, outfile)\n",
    "        \n",
    "        \n",
    "def load_pkl(path):\n",
    "    with open(path, \"rb\") as infile:\n",
    "        return pickle.load(infile)"
   ]
  },
  {
   "cell_type": "markdown",
   "metadata": {},
   "source": [
    "## Reading data"
   ]
  },
  {
   "cell_type": "code",
   "execution_count": 4,
   "metadata": {
    "ExecuteTime": {
     "end_time": "2019-07-24T11:51:48.940890Z",
     "start_time": "2019-07-24T11:51:48.935520Z"
    }
   },
   "outputs": [],
   "source": [
    "# raw_vcf = \"full_na_raw.vcf\"\n",
    "raw_vcf = \"phased_raw.tsv\"\n",
    "# phasing_vcf = \"/icgc/dkfzlsdf/analysis/B260/projects/chromothripsis_medulloblastoma/whatshap_phasing/outs/phased_wgs.vcf\"\n",
    "phasing_vcf = \"phasing.vcf\"\n",
    "ref_genome = \"/icgc/dkfzlsdf/analysis/B260/users/n790i/tools/binning_the_genome/humangenes_biomart_GRCh37p13.sort.bed\"\n",
    "tmp_dir = \"tmp_ase\""
   ]
  },
  {
   "cell_type": "code",
   "execution_count": 4,
   "metadata": {
    "ExecuteTime": {
     "end_time": "2019-07-24T11:35:28.582133Z",
     "start_time": "2019-07-24T11:35:27.123435Z"
    },
    "scrolled": true
   },
   "outputs": [
    {
     "name": "stdout",
     "output_type": "stream",
     "text": [
      "mkdir: cannot create directory ‘tmp_ase’: File exists\r\n"
     ]
    }
   ],
   "source": [
    "!mkdir \"tmp_ase\""
   ]
  },
  {
   "cell_type": "code",
   "execution_count": 5,
   "metadata": {
    "ExecuteTime": {
     "end_time": "2019-07-24T13:20:38.156849Z",
     "start_time": "2019-07-24T13:15:45.685089Z"
    },
    "scrolled": true
   },
   "outputs": [
    {
     "name": "stdout",
     "output_type": "stream",
     "text": [
      "chr\tstart\tend\tGeneName\tGeneID\n",
      "CPU times: user 7.96 s, sys: 2.49 s, total: 10.4 s\n",
      "Wall time: 13.7 s\n"
     ]
    }
   ],
   "source": [
    "%%time\n",
    "genome_df = pd.read_csv(\n",
    "    ref_genome, \n",
    "    sep='\\t', \n",
    "    header=0, \n",
    "    names=parse_header(ref_genome)[0]\n",
    ") \n",
    "phasing_df = pd.read_csv(\n",
    "    phasing_vcf,\n",
    "    sep='\\t'\n",
    ")\n",
    "# phasing_df.rename(columns={\n",
    "#         \"sample_blood_XI046_ST_LFS_1\" \n",
    "#         : \"INFO\"\n",
    "#     }, inplace=True\n",
    "# )\n",
    "# is_phased = np.fromiter(\n",
    "#     ((\"0|1\" in s) or (\"1|0\" in s) \n",
    "#     for s in phasing_df.INFO),\n",
    "#     dtype=bool\n",
    "# )\n",
    "# assert is_phased.size == phasing_df.shape[0], \"phasing_vcf contains non-phased entries\"\n",
    "# phasing_df = phasing_df[is_phased]\n",
    "# raw_df = pd.read_csv(raw_vcf, sep='\\t').to_sparse()\n",
    "raw_df = pd.read_pickle(\"phased_raw.pkl\")"
   ]
  },
  {
   "cell_type": "code",
   "execution_count": 6,
   "metadata": {},
   "outputs": [
    {
     "data": {
      "application/vnd.jupyter.widget-view+json": {
       "model_id": "9df6466766a34c94992c3d685b2e35c6",
       "version_major": 2,
       "version_minor": 0
      },
      "text/plain": [
       "HBox(children=(IntProgress(value=0, description='cell barcode', max=412, style=ProgressStyle(description_width…"
      ]
     },
     "metadata": {},
     "output_type": "display_data"
    },
    {
     "name": "stdout",
     "output_type": "stream",
     "text": [
      "\n",
      "CPU times: user 44.7 s, sys: 4.67 s, total: 49.4 s\n",
      "Wall time: 48.7 s\n"
     ]
    }
   ],
   "source": [
    "%%time\n",
    "barcode_list = []\n",
    "barcode_pattern = r\"^(A|G|C|T)+-1\"\n",
    "for colname in tqdm_notebook(raw_df.columns, desc=\"cell barcode\"):\n",
    "    if re.match(barcode_pattern, colname) is not None:\n",
    "        barcode_list.append(colname)\n",
    "        # dirty hack to handle NaN: NaN != NaN. \n",
    "        # For some reason, it hangs if I try selecting entries that aren't NaN\n",
    "        raw_df[colname] = raw_df[colname].apply(lambda s: ':'.join(s.split(\":\")[2:4]) if s==s else s) "
   ]
  },
  {
   "cell_type": "code",
   "execution_count": 7,
   "metadata": {},
   "outputs": [
    {
     "name": "stdout",
     "output_type": "stream",
     "text": [
      "<class 'pandas.core.sparse.frame.SparseDataFrame'>\n",
      "RangeIndex: 1552849 entries, 0 to 1552848\n",
      "Columns: 412 entries, CHROM to PHASE\n",
      "dtypes: Sparse[float64, nan](1), Sparse[int64, nan](4), Sparse[object, nan](407)\n",
      "memory usage: 502.3 MB\n"
     ]
    }
   ],
   "source": [
    "raw_df.info()"
   ]
  },
  {
   "cell_type": "code",
   "execution_count": 8,
   "metadata": {
    "ExecuteTime": {
     "end_time": "2019-07-24T13:15:44.639204Z",
     "start_time": "2019-07-24T13:14:46.508Z"
    }
   },
   "outputs": [
    {
     "name": "stdout",
     "output_type": "stream",
     "text": [
      "genome_df, (57773, 5):\n",
      "  chr  start    end    GeneName           GeneID\n",
      "0   1  11869  14412     DDX11L1  ENSG00000223972\n",
      "1   1  14363  29806      WASH7P  ENSG00000227232\n",
      "2   1  29554  31109  MIR1302-10  ENSG00000243485\n",
      "3   1  34554  36081     FAM138A  ENSG00000237613\n",
      "4   1  52473  54936      OR4G4P  ENSG00000268020\n",
      "raw_df, (1552849, 412):\n",
      "   CHROM        POS REF ALT AAACCTGCACGACTAT-1 AAACCTGTCTTGCGAA-1  \\\n",
      "0     10   10000018   A   G                NaN                NaN   \n",
      "1     10  100004360   G   A                NaN                NaN   \n",
      "2     10  100004441   G   C                NaN                NaN   \n",
      "3     10  100004996   G   A                NaN                NaN   \n",
      "4     10   10001085   G   A                0:1                NaN   \n",
      "\n",
      "  AAACGGGAGTGTTGAA-1 AAACGGGGTACTCACA-1 AAAGCAAAGCTGGTCC-1 AAAGCAAAGGCCATAG-1  \\\n",
      "0                NaN                NaN                0:1                NaN   \n",
      "1                NaN                NaN                NaN                NaN   \n",
      "2                NaN                NaN                NaN                NaN   \n",
      "3                NaN                NaN                NaN                NaN   \n",
      "4                NaN                NaN                NaN                NaN   \n",
      "\n",
      "   ... TTCTTAGAGTAGTGCG-1 TTGAACGCAGCGATGA-1 TTGCGTCCAACGGCTC-1  \\\n",
      "0  ...                NaN                NaN                NaN   \n",
      "1  ...                NaN                NaN                NaN   \n",
      "2  ...                NaN                NaN                NaN   \n",
      "3  ...                NaN                NaN                NaN   \n",
      "4  ...                NaN                NaN                NaN   \n",
      "\n",
      "  TTGGAACGTTCTGTCC-1 TTTATGCCATGTTTCT-1 TTTCCTCGTGATCCTA-1           SNP  DP  \\\n",
      "0                NaN                NaN                NaN   10_10000018  13   \n",
      "1                NaN                NaN                NaN  10_100004360  12   \n",
      "2                NaN                NaN                NaN  10_100004441   8   \n",
      "3                0:1                NaN                0:2  10_100004996  18   \n",
      "4                NaN                0:2                NaN   10_10001085  11   \n",
      "\n",
      "   AD PHASE  \n",
      "0  28   1.0  \n",
      "1  27   1.0  \n",
      "2  24   1.0  \n",
      "3  43   1.0  \n",
      "4  33   1.0  \n",
      "\n",
      "[5 rows x 412 columns]\n",
      "phasing_df, (1556362, 5):\n",
      "   CHROM    POS REF ALT  PHASE\n",
      "0      1  14464   A   T      1\n",
      "1      1  14907   A   G      1\n",
      "2      1  14976   G   A      1\n",
      "3      1  15118   A   G      1\n",
      "4      1  15211   T   G      1\n",
      "loaded everything into RAM\n"
     ]
    }
   ],
   "source": [
    "print(\"genome_df, {}:\\n{}\".format(genome_df.shape, genome_df.head()), file=log)\n",
    "print(\"raw_df, {}:\\n{}\".format(raw_df.shape, raw_df.head()), file=log)\n",
    "print(\"phasing_df, {}:\\n{}\".format(phasing_df.shape, phasing_df.head()), file=log)\n",
    "print(\"loaded everything into RAM\", file=log)"
   ]
  },
  {
   "cell_type": "code",
   "execution_count": 9,
   "metadata": {},
   "outputs": [],
   "source": [
    "raw_df.to_pickle(\"phased_raw.pkl\")"
   ]
  },
  {
   "cell_type": "code",
   "execution_count": 10,
   "metadata": {},
   "outputs": [],
   "source": [
    "# raw_df.drop(columns=[\"ID\", \"QUAL\", \"FILTER\", \"FORMAT\"], inplace=True)"
   ]
  },
  {
   "cell_type": "code",
   "execution_count": 11,
   "metadata": {},
   "outputs": [],
   "source": [
    "# raw_df.to_csv(\"full_na_raw.vcf\", sep='\\t', index=False, na_rep=\"NA\")"
   ]
  },
  {
   "cell_type": "markdown",
   "metadata": {},
   "source": [
    "## Extracting SNPs"
   ]
  },
  {
   "cell_type": "code",
   "execution_count": 8,
   "metadata": {},
   "outputs": [
    {
     "name": "stdout",
     "output_type": "stream",
     "text": [
      "1552849 SNPs in the sample, 1556362 SNPs in the phasing data, 1552849 common SNPs (100.00%)\n",
      "raw_snps:  ['10_10000018', '10_100004360', '10_100004441', '10_100004996', '10_10001085', '10_10001208', '10_100012739', '10_100012890', '10_100013244', '10_100013438']\n",
      "phasing_snps:  ['1_14464', '1_14907', '1_14976', '1_15118', '1_15211', '1_15447', '1_16068', '1_16103', '1_16298', '1_16378']\n",
      "common_snps:  ['18_24670054', '18_23169856', '3_30474246', '8_3295238', '19_20232863', '1_218045192', '4_190553244', '4_96806267', '5_80104368', '9_7750063']\n",
      "CPU times: user 15.6 s, sys: 9.89 s, total: 25.5 s\n",
      "Wall time: 29.2 s\n"
     ]
    }
   ],
   "source": [
    "%%time\n",
    "raw_snps = [\n",
    "    \"{}_{}\".format(chrom, pos) \n",
    "    for chrom, pos in \n",
    "    raw_df[[\"CHROM\", \"POS\"]].values\n",
    "]\n",
    "phasing_snps = [\n",
    "    \"{}_{}\".format(chrom, pos) \n",
    "    for chrom, pos in \n",
    "    phasing_df[[\"CHROM\", \"POS\"]].values\n",
    "]\n",
    "assert all_unique(raw_snps) and all_unique(phasing_snps), \"duplicate SNPs detected (wtf?)\"\n",
    "common_snps = set(raw_snps) & set(phasing_snps)\n",
    "print(\"{} SNPs in the sample, {} SNPs in the phasing data, {} common SNPs ({:.2f}%)\".format(\n",
    "    raw_df.shape[0], phasing_df.shape[0], \n",
    "    len(common_snps), 100 * len(common_snps) / raw_df.shape[0]\n",
    "))\n",
    "print(\"raw_snps: \", raw_snps[:10], file=log)\n",
    "print(\"phasing_snps: \", phasing_snps[:10], file=log)\n",
    "print(\"common_snps: \", list(common_snps)[:10], file=log)"
   ]
  },
  {
   "cell_type": "markdown",
   "metadata": {},
   "source": [
    "## Dropping out SNPs with unknown phasing"
   ]
  },
  {
   "cell_type": "code",
   "execution_count": 40,
   "metadata": {},
   "outputs": [
    {
     "name": "stderr",
     "output_type": "stream",
     "text": [
      "/software/anaconda3/5.1.0/lib/python3.6/site-packages/ipykernel_launcher.py:6: SettingWithCopyWarning: \n",
      "A value is trying to be set on a copy of a slice from a DataFrame\n",
      "\n",
      "See the caveats in the documentation: http://pandas.pydata.org/pandas-docs/stable/indexing.html#indexing-view-versus-copy\n",
      "  \n"
     ]
    },
    {
     "name": "stdout",
     "output_type": "stream",
     "text": [
      "filtered the dataframes\n",
      "CPU times: user 19.7 s, sys: 2min 14s, total: 2min 33s\n",
      "Wall time: 4min 29s\n"
     ]
    }
   ],
   "source": [
    "%%time\n",
    "raw_df[\"snp\"] = raw_snps\n",
    "phasing_df[\"snp\"] = phasing_snps\n",
    "raw_df = raw_df[raw_df.snp.isin(common_snps)]\n",
    "phasing_df = phasing_df[phasing_df.snp.isin(common_snps)]\n",
    "assert raw_df.shape[0] == phasing_df.shape[0], \"filtering by common SNP gone wrong: unequal number of rows\"\n",
    "raw_df.sort_values(by=\"snp\", inplace=True)\n",
    "phasing_df.sort_values(by=\"snp\", inplace=True)\n",
    "print(\"filtered the dataframes\", file=log)"
   ]
  },
  {
   "cell_type": "markdown",
   "metadata": {},
   "source": [
    "## Extrating phasing information"
   ]
  },
  {
   "cell_type": "code",
   "execution_count": null,
   "metadata": {},
   "outputs": [],
   "source": [
    "phasing_df[\"phase\"] = phasing_df.INFO.apply(lambda s: s.split(\":\")[0] == '1|0')\n",
    "phasing_df.drop(\"INFO\", axis=1, inplace=True)\n",
    "print(\"extracted the phase labels\", file=log)"
   ]
  },
  {
   "cell_type": "markdown",
   "metadata": {},
   "source": [
    "## Integrating phasing information into main DataFrame"
   ]
  },
  {
   "cell_type": "code",
   "execution_count": 11,
   "metadata": {},
   "outputs": [
    {
     "name": "stdout",
     "output_type": "stream",
     "text": [
      "dropped the phasing_df\n"
     ]
    }
   ],
   "source": [
    "raw_df[\"PHASE\"] = phasing_df[\"PHASE\"]\n",
    "del phasing_df # now we don't need it any longer\n",
    "print(\"dropped the phasing_df\", file=log)"
   ]
  },
  {
   "cell_type": "code",
   "execution_count": 86,
   "metadata": {},
   "outputs": [],
   "source": [
    "raw_df.to_csv(\"phased_raw.tsv\", index=False, sep='\\t')"
   ]
  },
  {
   "cell_type": "markdown",
   "metadata": {},
   "source": [
    "## Mapping SNPs to genes (and the other way around)"
   ]
  },
  {
   "cell_type": "code",
   "execution_count": 11,
   "metadata": {
    "ExecuteTime": {
     "end_time": "2019-07-24T12:22:51.227902Z",
     "start_time": "2019-07-24T12:22:51.190625Z"
    }
   },
   "outputs": [
    {
     "data": {
      "text/html": [
       "<div>\n",
       "<style scoped>\n",
       "    .dataframe tbody tr th:only-of-type {\n",
       "        vertical-align: middle;\n",
       "    }\n",
       "\n",
       "    .dataframe tbody tr th {\n",
       "        vertical-align: top;\n",
       "    }\n",
       "\n",
       "    .dataframe thead th {\n",
       "        text-align: right;\n",
       "    }\n",
       "</style>\n",
       "<table border=\"1\" class=\"dataframe\">\n",
       "  <thead>\n",
       "    <tr style=\"text-align: right;\">\n",
       "      <th></th>\n",
       "      <th>chr</th>\n",
       "      <th>start</th>\n",
       "      <th>end</th>\n",
       "      <th>GeneName</th>\n",
       "      <th>GeneID</th>\n",
       "    </tr>\n",
       "  </thead>\n",
       "  <tbody>\n",
       "    <tr>\n",
       "      <th>0</th>\n",
       "      <td>1</td>\n",
       "      <td>11869</td>\n",
       "      <td>14412</td>\n",
       "      <td>DDX11L1</td>\n",
       "      <td>ENSG00000223972</td>\n",
       "    </tr>\n",
       "    <tr>\n",
       "      <th>1</th>\n",
       "      <td>1</td>\n",
       "      <td>14363</td>\n",
       "      <td>29806</td>\n",
       "      <td>WASH7P</td>\n",
       "      <td>ENSG00000227232</td>\n",
       "    </tr>\n",
       "    <tr>\n",
       "      <th>2</th>\n",
       "      <td>1</td>\n",
       "      <td>29554</td>\n",
       "      <td>31109</td>\n",
       "      <td>MIR1302-10</td>\n",
       "      <td>ENSG00000243485</td>\n",
       "    </tr>\n",
       "    <tr>\n",
       "      <th>3</th>\n",
       "      <td>1</td>\n",
       "      <td>34554</td>\n",
       "      <td>36081</td>\n",
       "      <td>FAM138A</td>\n",
       "      <td>ENSG00000237613</td>\n",
       "    </tr>\n",
       "    <tr>\n",
       "      <th>4</th>\n",
       "      <td>1</td>\n",
       "      <td>52473</td>\n",
       "      <td>54936</td>\n",
       "      <td>OR4G4P</td>\n",
       "      <td>ENSG00000268020</td>\n",
       "    </tr>\n",
       "  </tbody>\n",
       "</table>\n",
       "</div>"
      ],
      "text/plain": [
       "  chr  start    end    GeneName           GeneID\n",
       "0   1  11869  14412     DDX11L1  ENSG00000223972\n",
       "1   1  14363  29806      WASH7P  ENSG00000227232\n",
       "2   1  29554  31109  MIR1302-10  ENSG00000243485\n",
       "3   1  34554  36081     FAM138A  ENSG00000237613\n",
       "4   1  52473  54936      OR4G4P  ENSG00000268020"
      ]
     },
     "execution_count": 11,
     "metadata": {},
     "output_type": "execute_result"
    }
   ],
   "source": [
    "genome_df.head()"
   ]
  },
  {
   "cell_type": "code",
   "execution_count": 12,
   "metadata": {},
   "outputs": [],
   "source": [
    "snp_df = raw_df[[\"CHROM\", \"POS\"]]"
   ]
  },
  {
   "cell_type": "code",
   "execution_count": 49,
   "metadata": {},
   "outputs": [
    {
     "data": {
      "text/plain": [
       "T    400995\n",
       "A    400115\n",
       "C    376520\n",
       "G    375219\n",
       "Name: ALT, dtype: int64"
      ]
     },
     "execution_count": 49,
     "metadata": {},
     "output_type": "execute_result"
    }
   ],
   "source": [
    "raw_df.ALT.value_counts()"
   ]
  },
  {
   "cell_type": "code",
   "execution_count": null,
   "metadata": {},
   "outputs": [],
   "source": [
    "chrom_to_genes = {}\n",
    "\n",
    "for chrom in genome_df[\"chr\"].value_counts().keys():\n",
    "    chrom_to_genes[chrom] = genome_df[genome_df.chr == chrom]"
   ]
  },
  {
   "cell_type": "code",
   "execution_count": 59,
   "metadata": {},
   "outputs": [
    {
     "name": "stdout",
     "output_type": "stream",
     "text": [
      "CPU times: user 20.7 s, sys: 8.96 s, total: 29.6 s\n",
      "Wall time: 4min 1s\n"
     ]
    }
   ],
   "source": [
    "%%time\n",
    "\n",
    "def pool_handler(snp_tuple):\n",
    "    chrom, pos = snp_tuple\n",
    "    pos -= 1 # 1-based to 0-based\n",
    "    genes = chrom_to_genes[str(chrom)]\n",
    "    mask = (genes.start <= pos) & (pos < genes.end)\n",
    "    return ';'.join(genes[mask].GeneID)\n",
    "\n",
    "pool = mp.Pool(16)\n",
    "result = pool.map(pool_handler, snp_df.values)\n",
    "pool.close()\n",
    "pool.join()"
   ]
  },
  {
   "cell_type": "code",
   "execution_count": 76,
   "metadata": {},
   "outputs": [],
   "source": [
    "snp_to_genes, gene_to_snps = {}, defaultdict(list)\n",
    "for i, row in enumerate(snp_df.values):\n",
    "    chrom, pos = row\n",
    "    snp = f\"{chrom}_{pos}\"\n",
    "    snp_to_genes[snp] = result[i].split(\";\") if result[i] else []\n",
    "    for gene in snp_to_genes[snp]:\n",
    "        gene_to_snps[gene].append(snp)\n",
    "    \n",
    "with open(\"snp_to_genes.pkl\", \"wb\") as outfile:\n",
    "    pickle.dump(snp_to_genes, outfile)\n",
    "    \n",
    "with open(\"gene_to_snps.pkl\", \"wb\") as outfile:\n",
    "    pickle.dump(gene_to_snps, outfile)"
   ]
  },
  {
   "cell_type": "code",
   "execution_count": null,
   "metadata": {
    "scrolled": true
   },
   "outputs": [
    {
     "name": "stdout",
     "output_type": "stream",
     "text": [
      "CHROM 0.0\n",
      "POS 0.0\n",
      "REF 0.0\n",
      "ALT 0.0\n",
      "AAACCTGCACGACTAT-1 92.79749673020365\n",
      "AAACCTGTCTTGCGAA-1 94.27355782822411\n",
      "AAACGGGAGTGTTGAA-1 98.0235682928604\n",
      "AAACGGGGTACTCACA-1 94.13787174412967\n",
      "AAAGCAAAGCTGGTCC-1 95.34011355901313\n",
      "AAAGCAAAGGCCATAG-1 95.79398898411887\n",
      "AACACGTCACTGCGCA-1 96.73806017198066\n",
      "AACACGTTCGATAGTC-1 96.63811484568042\n",
      "AACCATGGTAAGTGTA-1 93.24654232317502\n",
      "AACTCCCAGAGTAATC-1 94.5939366931363\n",
      "AACTCCCAGGGATTCG-1 95.72025354686772\n",
      "AACTCTTGTCCGATGC-1 95.82792660458294\n",
      "AACTCTTTCAAGTTGC-1 94.0978807340572\n",
      "AAGACCTCACAAACTC-1 95.38403283255488\n",
      "AAGCCGCCAGACACGA-1 94.91734225285265\n",
      "AAGGCAGCAAGCAAGC-1 93.5615761738585\n",
      "AAGGCAGTCAGATTCG-1 95.95659333264213\n",
      "AAGTCTGAGCACAGGT-1 92.84244636793404\n",
      "AAGTCTGTCTACCGTC-1 93.64973670975093\n",
      "AATCGGTTCGCGATGC-1 94.40067901000033\n",
      "ACACCCTCATACGTTG-1 96.26918006837755\n",
      "ACACCGGAGGCATATA-1 96.09962076158081\n",
      "ACACTGACAGGATCCC-1 98.49702063755072\n",
      "ACACTGAGTGCGGTAA-1 95.46671955869502\n",
      "ACAGCTACATAGTGTC-1 94.73979762359379\n",
      "ACATACGCACTGGCCA-1 97.71368626312024\n",
      "ACATACGTCGCTCTGT-1 97.16553251475192\n",
      "ACATGGTCATTTCTTG-1 95.16714117084146\n",
      "ACATGGTGTCCCACAG-1 94.71693641815784\n",
      "ACCAGTAAGTGATGAT-1 94.08847866083566\n",
      "ACCGTAAAGTATGACA-1 96.59406677661512\n",
      "ACCGTAATCGCCTGGA-1 95.4481730032991\n",
      "ACCTTTATCTGAAGTC-1 94.68583229921262\n",
      "ACGATGTCATCCGTTC-1 94.48748719289513\n",
      "ACGGAGACATAGTGAA-1 95.92007980170642\n",
      "ACGGGCTCACTTCAGA-1 96.46269534256068\n",
      "ACGGGTCAGAGGTTAT-1 96.07315328148455\n",
      "ACTGAGTGTCTCGGCA-1 95.50999485461882\n",
      "ACTGATGTCGAGTACT-1 92.21682211213067\n",
      "ACTGCTCGTTGGTGAG-1 92.60977725458174\n",
      "ACTTGTTGTTAGTCAC-1 95.80661094542998\n",
      "ACTTTCAAGCGTCAAG-1 96.81823538541094\n",
      "AGAGTGGTCAGCGGCT-1 95.85181817420754\n",
      "AGATTGCTCATTTGCT-1 94.19731087826312\n",
      "AGATTGCTCCAGGCAC-1 92.48767909822526\n",
      "AGCATACGTTAGAATG-1 95.39968148867018\n",
      "AGCGGTCCAACCCTGG-1 96.67115089747941\n",
      "AGCGGTCGTGCAACCC-1 97.98435005592945\n",
      "AGCGTATAGCGTCGAA-1 98.04552792963128\n",
      "AGCGTATGTAAGAGAG-1 96.18114832800872\n",
      "AGCGTATGTAGGGACT-1 93.54612071102856\n",
      "AGCGTATTCCAACGAT-1 93.31441756410315\n",
      "AGCGTATTCTCCACAC-1 94.8056765339064\n",
      "AGCTCCTAGCCACCTG-1 95.9268415666945\n",
      "AGCTCCTGTGAAGCCA-1 94.49901439225579\n",
      "AGCTCCTTCTCGGAAT-1 98.1410942081297\n",
      "AGCTCTCGTCTTGCGG-1 92.92011006865445\n",
      "AGGCCACAGCATGAGC-1 92.37807410765632\n",
      "AGGCCACAGGAGCGAG-1 96.54840876350501\n"
     ]
    }
   ],
   "source": [
    "for c in raw_df.columns:\n",
    "    print(c, raw_df[c].isna().sum() / raw_df.shape[0] * 100)"
   ]
  },
  {
   "cell_type": "markdown",
   "metadata": {
    "ExecuteTime": {
     "start_time": "2019-07-24T11:50:53.951Z"
    }
   },
   "source": [
    "## Loading barcoded columns and extracting read counts"
   ]
  },
  {
   "cell_type": "code",
   "execution_count": 19,
   "metadata": {},
   "outputs": [
    {
     "data": {
      "application/vnd.jupyter.widget-view+json": {
       "model_id": "2d8a1b8a5561446cb195161b5b260dd7",
       "version_major": 2,
       "version_minor": 0
      },
      "text/plain": [
       "HBox(children=(IntProgress(value=0, description='cell_barcode', max=404, style=ProgressStyle(description_width…"
      ]
     },
     "metadata": {},
     "output_type": "display_data"
    },
    {
     "name": "stdout",
     "output_type": "stream",
     "text": [
      "CPU times: user 11min 24s, sys: 3.14 s, total: 11min 27s\n",
      "Wall time: 11min 26s\n"
     ]
    }
   ],
   "source": [
    "%%time\n",
    "# extract barcoded columns\n",
    "# parse those and split each such column into two different ones: DP and AD\n",
    "counts_df = pd.SparseDataFrame()\n",
    "phase = raw_df.PHASE.values.to_dense()\n",
    "male_alt = phase == 1\n",
    "\n",
    "for barcode in tqdm_notebook(barcode_list, desc=\"cell_barcode\"):\n",
    "    column = raw_df[barcode].to_dense()\n",
    "    ad = column.apply(\n",
    "        lambda s: int(s.split(\":\")[0]) if s==s else s\n",
    "    ).astype(np.float32)\n",
    "    dp = column.apply(\n",
    "        lambda s: int(s.split(\":\")[1]) if s==s else s\n",
    "    ).astype(np.float32)    \n",
    "    ad[male_alt] = dp[male_alt] - ad[male_alt]\n",
    "    counts_df[f\"{barcode}_ad\"] = ad.to_sparse()\n",
    "    counts_df[f\"{barcode}_dp\"] = dp.to_sparse()"
   ]
  },
  {
   "cell_type": "code",
   "execution_count": 20,
   "metadata": {},
   "outputs": [
    {
     "data": {
      "text/html": [
       "<div>\n",
       "<style scoped>\n",
       "    .dataframe tbody tr th:only-of-type {\n",
       "        vertical-align: middle;\n",
       "    }\n",
       "\n",
       "    .dataframe tbody tr th {\n",
       "        vertical-align: top;\n",
       "    }\n",
       "\n",
       "    .dataframe thead th {\n",
       "        text-align: right;\n",
       "    }\n",
       "</style>\n",
       "<table border=\"1\" class=\"dataframe\">\n",
       "  <thead>\n",
       "    <tr style=\"text-align: right;\">\n",
       "      <th></th>\n",
       "      <th>AAACCTGCACGACTAT-1_ad</th>\n",
       "      <th>AAACCTGCACGACTAT-1_dp</th>\n",
       "      <th>AAACCTGTCTTGCGAA-1_ad</th>\n",
       "      <th>AAACCTGTCTTGCGAA-1_dp</th>\n",
       "      <th>AAACGGGAGTGTTGAA-1_ad</th>\n",
       "      <th>AAACGGGAGTGTTGAA-1_dp</th>\n",
       "      <th>AAACGGGGTACTCACA-1_ad</th>\n",
       "      <th>AAACGGGGTACTCACA-1_dp</th>\n",
       "      <th>AAAGCAAAGCTGGTCC-1_ad</th>\n",
       "      <th>AAAGCAAAGCTGGTCC-1_dp</th>\n",
       "      <th>...</th>\n",
       "      <th>TTGAACGCAGCGATGA-1_ad</th>\n",
       "      <th>TTGAACGCAGCGATGA-1_dp</th>\n",
       "      <th>TTGCGTCCAACGGCTC-1_ad</th>\n",
       "      <th>TTGCGTCCAACGGCTC-1_dp</th>\n",
       "      <th>TTGGAACGTTCTGTCC-1_ad</th>\n",
       "      <th>TTGGAACGTTCTGTCC-1_dp</th>\n",
       "      <th>TTTATGCCATGTTTCT-1_ad</th>\n",
       "      <th>TTTATGCCATGTTTCT-1_dp</th>\n",
       "      <th>TTTCCTCGTGATCCTA-1_ad</th>\n",
       "      <th>TTTCCTCGTGATCCTA-1_dp</th>\n",
       "    </tr>\n",
       "  </thead>\n",
       "  <tbody>\n",
       "    <tr>\n",
       "      <th>0</th>\n",
       "      <td>NaN</td>\n",
       "      <td>NaN</td>\n",
       "      <td>NaN</td>\n",
       "      <td>NaN</td>\n",
       "      <td>NaN</td>\n",
       "      <td>NaN</td>\n",
       "      <td>NaN</td>\n",
       "      <td>NaN</td>\n",
       "      <td>1.0</td>\n",
       "      <td>1.0</td>\n",
       "      <td>...</td>\n",
       "      <td>NaN</td>\n",
       "      <td>NaN</td>\n",
       "      <td>NaN</td>\n",
       "      <td>NaN</td>\n",
       "      <td>NaN</td>\n",
       "      <td>NaN</td>\n",
       "      <td>NaN</td>\n",
       "      <td>NaN</td>\n",
       "      <td>NaN</td>\n",
       "      <td>NaN</td>\n",
       "    </tr>\n",
       "    <tr>\n",
       "      <th>1</th>\n",
       "      <td>NaN</td>\n",
       "      <td>NaN</td>\n",
       "      <td>NaN</td>\n",
       "      <td>NaN</td>\n",
       "      <td>NaN</td>\n",
       "      <td>NaN</td>\n",
       "      <td>NaN</td>\n",
       "      <td>NaN</td>\n",
       "      <td>NaN</td>\n",
       "      <td>NaN</td>\n",
       "      <td>...</td>\n",
       "      <td>NaN</td>\n",
       "      <td>NaN</td>\n",
       "      <td>NaN</td>\n",
       "      <td>NaN</td>\n",
       "      <td>NaN</td>\n",
       "      <td>NaN</td>\n",
       "      <td>NaN</td>\n",
       "      <td>NaN</td>\n",
       "      <td>NaN</td>\n",
       "      <td>NaN</td>\n",
       "    </tr>\n",
       "    <tr>\n",
       "      <th>2</th>\n",
       "      <td>NaN</td>\n",
       "      <td>NaN</td>\n",
       "      <td>NaN</td>\n",
       "      <td>NaN</td>\n",
       "      <td>NaN</td>\n",
       "      <td>NaN</td>\n",
       "      <td>NaN</td>\n",
       "      <td>NaN</td>\n",
       "      <td>NaN</td>\n",
       "      <td>NaN</td>\n",
       "      <td>...</td>\n",
       "      <td>NaN</td>\n",
       "      <td>NaN</td>\n",
       "      <td>NaN</td>\n",
       "      <td>NaN</td>\n",
       "      <td>NaN</td>\n",
       "      <td>NaN</td>\n",
       "      <td>NaN</td>\n",
       "      <td>NaN</td>\n",
       "      <td>NaN</td>\n",
       "      <td>NaN</td>\n",
       "    </tr>\n",
       "    <tr>\n",
       "      <th>3</th>\n",
       "      <td>NaN</td>\n",
       "      <td>NaN</td>\n",
       "      <td>NaN</td>\n",
       "      <td>NaN</td>\n",
       "      <td>NaN</td>\n",
       "      <td>NaN</td>\n",
       "      <td>NaN</td>\n",
       "      <td>NaN</td>\n",
       "      <td>NaN</td>\n",
       "      <td>NaN</td>\n",
       "      <td>...</td>\n",
       "      <td>NaN</td>\n",
       "      <td>NaN</td>\n",
       "      <td>NaN</td>\n",
       "      <td>NaN</td>\n",
       "      <td>1.0</td>\n",
       "      <td>1.0</td>\n",
       "      <td>NaN</td>\n",
       "      <td>NaN</td>\n",
       "      <td>2.0</td>\n",
       "      <td>2.0</td>\n",
       "    </tr>\n",
       "    <tr>\n",
       "      <th>4</th>\n",
       "      <td>1.0</td>\n",
       "      <td>1.0</td>\n",
       "      <td>NaN</td>\n",
       "      <td>NaN</td>\n",
       "      <td>NaN</td>\n",
       "      <td>NaN</td>\n",
       "      <td>NaN</td>\n",
       "      <td>NaN</td>\n",
       "      <td>NaN</td>\n",
       "      <td>NaN</td>\n",
       "      <td>...</td>\n",
       "      <td>NaN</td>\n",
       "      <td>NaN</td>\n",
       "      <td>NaN</td>\n",
       "      <td>NaN</td>\n",
       "      <td>NaN</td>\n",
       "      <td>NaN</td>\n",
       "      <td>2.0</td>\n",
       "      <td>2.0</td>\n",
       "      <td>NaN</td>\n",
       "      <td>NaN</td>\n",
       "    </tr>\n",
       "  </tbody>\n",
       "</table>\n",
       "<p>5 rows × 808 columns</p>\n",
       "</div>"
      ],
      "text/plain": [
       "   AAACCTGCACGACTAT-1_ad  AAACCTGCACGACTAT-1_dp  AAACCTGTCTTGCGAA-1_ad  \\\n",
       "0                    NaN                    NaN                    NaN   \n",
       "1                    NaN                    NaN                    NaN   \n",
       "2                    NaN                    NaN                    NaN   \n",
       "3                    NaN                    NaN                    NaN   \n",
       "4                    1.0                    1.0                    NaN   \n",
       "\n",
       "   AAACCTGTCTTGCGAA-1_dp  AAACGGGAGTGTTGAA-1_ad  AAACGGGAGTGTTGAA-1_dp  \\\n",
       "0                    NaN                    NaN                    NaN   \n",
       "1                    NaN                    NaN                    NaN   \n",
       "2                    NaN                    NaN                    NaN   \n",
       "3                    NaN                    NaN                    NaN   \n",
       "4                    NaN                    NaN                    NaN   \n",
       "\n",
       "   AAACGGGGTACTCACA-1_ad  AAACGGGGTACTCACA-1_dp  AAAGCAAAGCTGGTCC-1_ad  \\\n",
       "0                    NaN                    NaN                    1.0   \n",
       "1                    NaN                    NaN                    NaN   \n",
       "2                    NaN                    NaN                    NaN   \n",
       "3                    NaN                    NaN                    NaN   \n",
       "4                    NaN                    NaN                    NaN   \n",
       "\n",
       "   AAAGCAAAGCTGGTCC-1_dp  ...  TTGAACGCAGCGATGA-1_ad  TTGAACGCAGCGATGA-1_dp  \\\n",
       "0                    1.0  ...                    NaN                    NaN   \n",
       "1                    NaN  ...                    NaN                    NaN   \n",
       "2                    NaN  ...                    NaN                    NaN   \n",
       "3                    NaN  ...                    NaN                    NaN   \n",
       "4                    NaN  ...                    NaN                    NaN   \n",
       "\n",
       "   TTGCGTCCAACGGCTC-1_ad  TTGCGTCCAACGGCTC-1_dp  TTGGAACGTTCTGTCC-1_ad  \\\n",
       "0                    NaN                    NaN                    NaN   \n",
       "1                    NaN                    NaN                    NaN   \n",
       "2                    NaN                    NaN                    NaN   \n",
       "3                    NaN                    NaN                    1.0   \n",
       "4                    NaN                    NaN                    NaN   \n",
       "\n",
       "   TTGGAACGTTCTGTCC-1_dp  TTTATGCCATGTTTCT-1_ad  TTTATGCCATGTTTCT-1_dp  \\\n",
       "0                    NaN                    NaN                    NaN   \n",
       "1                    NaN                    NaN                    NaN   \n",
       "2                    NaN                    NaN                    NaN   \n",
       "3                    1.0                    NaN                    NaN   \n",
       "4                    NaN                    2.0                    2.0   \n",
       "\n",
       "   TTTCCTCGTGATCCTA-1_ad  TTTCCTCGTGATCCTA-1_dp  \n",
       "0                    NaN                    NaN  \n",
       "1                    NaN                    NaN  \n",
       "2                    NaN                    NaN  \n",
       "3                    2.0                    2.0  \n",
       "4                    NaN                    NaN  \n",
       "\n",
       "[5 rows x 808 columns]"
      ]
     },
     "execution_count": 20,
     "metadata": {},
     "output_type": "execute_result"
    }
   ],
   "source": [
    "counts_df.head()"
   ]
  },
  {
   "cell_type": "code",
   "execution_count": 21,
   "metadata": {},
   "outputs": [
    {
     "name": "stdout",
     "output_type": "stream",
     "text": [
      "<class 'pandas.core.sparse.frame.SparseDataFrame'>\n",
      "RangeIndex: 1552849 entries, 0 to 1552848\n",
      "Columns: 808 entries, AAACCTGCACGACTAT-1_ad to TTTCCTCGTGATCCTA-1_dp\n",
      "dtypes: Sparse[float32, nan](808)\n",
      "memory usage: 579.4 MB\n"
     ]
    }
   ],
   "source": [
    "counts_df.info()"
   ]
  },
  {
   "cell_type": "code",
   "execution_count": 22,
   "metadata": {},
   "outputs": [],
   "source": [
    "counts_df.to_pickle(\"counts_df.pkl\")"
   ]
  },
  {
   "cell_type": "markdown",
   "metadata": {},
   "source": [
    "## Aggregating read counts over genes"
   ]
  },
  {
   "cell_type": "code",
   "execution_count": 23,
   "metadata": {},
   "outputs": [],
   "source": [
    "gene_to_snps = load_pkl(\"gene_to_snps.pkl\")\n",
    "snp_to_genes = load_pkl(\"snp_to_genes.pkl\")\n",
    "snp_counts_df = pd.read_pickle(\"counts_df.pkl\")\n",
    "gene_counts_df = pd.SparseDataFrame()\n",
    "snp_list = raw_df.SNP.values"
   ]
  },
  {
   "cell_type": "code",
   "execution_count": 24,
   "metadata": {},
   "outputs": [
    {
     "name": "stdout",
     "output_type": "stream",
     "text": [
      "<class 'pandas.core.sparse.frame.SparseDataFrame'>\n",
      "RangeIndex: 1552849 entries, 0 to 1552848\n",
      "Columns: 808 entries, AAACCTGCACGACTAT-1_ad to TTTCCTCGTGATCCTA-1_dp\n",
      "dtypes: Sparse[float32, nan](808)\n",
      "memory usage: 579.4 MB\n"
     ]
    }
   ],
   "source": [
    "snp_counts_df.info()"
   ]
  },
  {
   "cell_type": "code",
   "execution_count": 25,
   "metadata": {},
   "outputs": [
    {
     "data": {
      "application/vnd.jupyter.widget-view+json": {
       "model_id": "9b2f918c85ea403dae6207cf088c9ee2",
       "version_major": 2,
       "version_minor": 0
      },
      "text/plain": [
       "HBox(children=(IntProgress(value=1, bar_style='info', max=1), HTML(value='')))"
      ]
     },
     "metadata": {},
     "output_type": "display_data"
    }
   ],
   "source": [
    "snp_to_idx = {snp : i for i, snp in tqdm_notebook(enumerate(snp_list))}"
   ]
  },
  {
   "cell_type": "code",
   "execution_count": 26,
   "metadata": {},
   "outputs": [
    {
     "data": {
      "text/html": [
       "<div>\n",
       "<style scoped>\n",
       "    .dataframe tbody tr th:only-of-type {\n",
       "        vertical-align: middle;\n",
       "    }\n",
       "\n",
       "    .dataframe tbody tr th {\n",
       "        vertical-align: top;\n",
       "    }\n",
       "\n",
       "    .dataframe thead th {\n",
       "        text-align: right;\n",
       "    }\n",
       "</style>\n",
       "<table border=\"1\" class=\"dataframe\">\n",
       "  <thead>\n",
       "    <tr style=\"text-align: right;\">\n",
       "      <th></th>\n",
       "      <th>AAACCTGCACGACTAT-1_ad</th>\n",
       "      <th>AAACCTGCACGACTAT-1_dp</th>\n",
       "      <th>AAACCTGTCTTGCGAA-1_ad</th>\n",
       "      <th>AAACCTGTCTTGCGAA-1_dp</th>\n",
       "      <th>AAACGGGAGTGTTGAA-1_ad</th>\n",
       "      <th>AAACGGGAGTGTTGAA-1_dp</th>\n",
       "      <th>AAACGGGGTACTCACA-1_ad</th>\n",
       "      <th>AAACGGGGTACTCACA-1_dp</th>\n",
       "      <th>AAAGCAAAGCTGGTCC-1_ad</th>\n",
       "      <th>AAAGCAAAGCTGGTCC-1_dp</th>\n",
       "      <th>...</th>\n",
       "      <th>TTGAACGCAGCGATGA-1_ad</th>\n",
       "      <th>TTGAACGCAGCGATGA-1_dp</th>\n",
       "      <th>TTGCGTCCAACGGCTC-1_ad</th>\n",
       "      <th>TTGCGTCCAACGGCTC-1_dp</th>\n",
       "      <th>TTGGAACGTTCTGTCC-1_ad</th>\n",
       "      <th>TTGGAACGTTCTGTCC-1_dp</th>\n",
       "      <th>TTTATGCCATGTTTCT-1_ad</th>\n",
       "      <th>TTTATGCCATGTTTCT-1_dp</th>\n",
       "      <th>TTTCCTCGTGATCCTA-1_ad</th>\n",
       "      <th>TTTCCTCGTGATCCTA-1_dp</th>\n",
       "    </tr>\n",
       "  </thead>\n",
       "  <tbody>\n",
       "    <tr>\n",
       "      <th>0</th>\n",
       "      <td>NaN</td>\n",
       "      <td>NaN</td>\n",
       "      <td>NaN</td>\n",
       "      <td>NaN</td>\n",
       "      <td>NaN</td>\n",
       "      <td>NaN</td>\n",
       "      <td>NaN</td>\n",
       "      <td>NaN</td>\n",
       "      <td>1.0</td>\n",
       "      <td>1.0</td>\n",
       "      <td>...</td>\n",
       "      <td>NaN</td>\n",
       "      <td>NaN</td>\n",
       "      <td>NaN</td>\n",
       "      <td>NaN</td>\n",
       "      <td>NaN</td>\n",
       "      <td>NaN</td>\n",
       "      <td>NaN</td>\n",
       "      <td>NaN</td>\n",
       "      <td>NaN</td>\n",
       "      <td>NaN</td>\n",
       "    </tr>\n",
       "    <tr>\n",
       "      <th>1</th>\n",
       "      <td>NaN</td>\n",
       "      <td>NaN</td>\n",
       "      <td>NaN</td>\n",
       "      <td>NaN</td>\n",
       "      <td>NaN</td>\n",
       "      <td>NaN</td>\n",
       "      <td>NaN</td>\n",
       "      <td>NaN</td>\n",
       "      <td>NaN</td>\n",
       "      <td>NaN</td>\n",
       "      <td>...</td>\n",
       "      <td>NaN</td>\n",
       "      <td>NaN</td>\n",
       "      <td>NaN</td>\n",
       "      <td>NaN</td>\n",
       "      <td>NaN</td>\n",
       "      <td>NaN</td>\n",
       "      <td>NaN</td>\n",
       "      <td>NaN</td>\n",
       "      <td>NaN</td>\n",
       "      <td>NaN</td>\n",
       "    </tr>\n",
       "    <tr>\n",
       "      <th>2</th>\n",
       "      <td>NaN</td>\n",
       "      <td>NaN</td>\n",
       "      <td>NaN</td>\n",
       "      <td>NaN</td>\n",
       "      <td>NaN</td>\n",
       "      <td>NaN</td>\n",
       "      <td>NaN</td>\n",
       "      <td>NaN</td>\n",
       "      <td>NaN</td>\n",
       "      <td>NaN</td>\n",
       "      <td>...</td>\n",
       "      <td>NaN</td>\n",
       "      <td>NaN</td>\n",
       "      <td>NaN</td>\n",
       "      <td>NaN</td>\n",
       "      <td>NaN</td>\n",
       "      <td>NaN</td>\n",
       "      <td>NaN</td>\n",
       "      <td>NaN</td>\n",
       "      <td>NaN</td>\n",
       "      <td>NaN</td>\n",
       "    </tr>\n",
       "    <tr>\n",
       "      <th>3</th>\n",
       "      <td>NaN</td>\n",
       "      <td>NaN</td>\n",
       "      <td>NaN</td>\n",
       "      <td>NaN</td>\n",
       "      <td>NaN</td>\n",
       "      <td>NaN</td>\n",
       "      <td>NaN</td>\n",
       "      <td>NaN</td>\n",
       "      <td>NaN</td>\n",
       "      <td>NaN</td>\n",
       "      <td>...</td>\n",
       "      <td>NaN</td>\n",
       "      <td>NaN</td>\n",
       "      <td>NaN</td>\n",
       "      <td>NaN</td>\n",
       "      <td>1.0</td>\n",
       "      <td>1.0</td>\n",
       "      <td>NaN</td>\n",
       "      <td>NaN</td>\n",
       "      <td>2.0</td>\n",
       "      <td>2.0</td>\n",
       "    </tr>\n",
       "    <tr>\n",
       "      <th>4</th>\n",
       "      <td>1.0</td>\n",
       "      <td>1.0</td>\n",
       "      <td>NaN</td>\n",
       "      <td>NaN</td>\n",
       "      <td>NaN</td>\n",
       "      <td>NaN</td>\n",
       "      <td>NaN</td>\n",
       "      <td>NaN</td>\n",
       "      <td>NaN</td>\n",
       "      <td>NaN</td>\n",
       "      <td>...</td>\n",
       "      <td>NaN</td>\n",
       "      <td>NaN</td>\n",
       "      <td>NaN</td>\n",
       "      <td>NaN</td>\n",
       "      <td>NaN</td>\n",
       "      <td>NaN</td>\n",
       "      <td>2.0</td>\n",
       "      <td>2.0</td>\n",
       "      <td>NaN</td>\n",
       "      <td>NaN</td>\n",
       "    </tr>\n",
       "  </tbody>\n",
       "</table>\n",
       "<p>5 rows × 808 columns</p>\n",
       "</div>"
      ],
      "text/plain": [
       "   AAACCTGCACGACTAT-1_ad  AAACCTGCACGACTAT-1_dp  AAACCTGTCTTGCGAA-1_ad  \\\n",
       "0                    NaN                    NaN                    NaN   \n",
       "1                    NaN                    NaN                    NaN   \n",
       "2                    NaN                    NaN                    NaN   \n",
       "3                    NaN                    NaN                    NaN   \n",
       "4                    1.0                    1.0                    NaN   \n",
       "\n",
       "   AAACCTGTCTTGCGAA-1_dp  AAACGGGAGTGTTGAA-1_ad  AAACGGGAGTGTTGAA-1_dp  \\\n",
       "0                    NaN                    NaN                    NaN   \n",
       "1                    NaN                    NaN                    NaN   \n",
       "2                    NaN                    NaN                    NaN   \n",
       "3                    NaN                    NaN                    NaN   \n",
       "4                    NaN                    NaN                    NaN   \n",
       "\n",
       "   AAACGGGGTACTCACA-1_ad  AAACGGGGTACTCACA-1_dp  AAAGCAAAGCTGGTCC-1_ad  \\\n",
       "0                    NaN                    NaN                    1.0   \n",
       "1                    NaN                    NaN                    NaN   \n",
       "2                    NaN                    NaN                    NaN   \n",
       "3                    NaN                    NaN                    NaN   \n",
       "4                    NaN                    NaN                    NaN   \n",
       "\n",
       "   AAAGCAAAGCTGGTCC-1_dp  ...  TTGAACGCAGCGATGA-1_ad  TTGAACGCAGCGATGA-1_dp  \\\n",
       "0                    1.0  ...                    NaN                    NaN   \n",
       "1                    NaN  ...                    NaN                    NaN   \n",
       "2                    NaN  ...                    NaN                    NaN   \n",
       "3                    NaN  ...                    NaN                    NaN   \n",
       "4                    NaN  ...                    NaN                    NaN   \n",
       "\n",
       "   TTGCGTCCAACGGCTC-1_ad  TTGCGTCCAACGGCTC-1_dp  TTGGAACGTTCTGTCC-1_ad  \\\n",
       "0                    NaN                    NaN                    NaN   \n",
       "1                    NaN                    NaN                    NaN   \n",
       "2                    NaN                    NaN                    NaN   \n",
       "3                    NaN                    NaN                    1.0   \n",
       "4                    NaN                    NaN                    NaN   \n",
       "\n",
       "   TTGGAACGTTCTGTCC-1_dp  TTTATGCCATGTTTCT-1_ad  TTTATGCCATGTTTCT-1_dp  \\\n",
       "0                    NaN                    NaN                    NaN   \n",
       "1                    NaN                    NaN                    NaN   \n",
       "2                    NaN                    NaN                    NaN   \n",
       "3                    1.0                    NaN                    NaN   \n",
       "4                    NaN                    2.0                    2.0   \n",
       "\n",
       "   TTTCCTCGTGATCCTA-1_ad  TTTCCTCGTGATCCTA-1_dp  \n",
       "0                    NaN                    NaN  \n",
       "1                    NaN                    NaN  \n",
       "2                    NaN                    NaN  \n",
       "3                    2.0                    2.0  \n",
       "4                    NaN                    NaN  \n",
       "\n",
       "[5 rows x 808 columns]"
      ]
     },
     "execution_count": 26,
     "metadata": {},
     "output_type": "execute_result"
    }
   ],
   "source": [
    "snp_counts_df.head()"
   ]
  },
  {
   "cell_type": "code",
   "execution_count": 27,
   "metadata": {},
   "outputs": [
    {
     "data": {
      "application/vnd.jupyter.widget-view+json": {
       "model_id": "3dac57f418a54fe089f19ab216de86bc",
       "version_major": 2,
       "version_minor": 0
      },
      "text/plain": [
       "HBox(children=(IntProgress(value=0, description='mapping refinement', max=23037, style=ProgressStyle(descripti…"
      ]
     },
     "metadata": {},
     "output_type": "display_data"
    },
    {
     "data": {
      "application/vnd.jupyter.widget-view+json": {
       "model_id": "c0d9b7bc041e415d9eef3f267a539c48",
       "version_major": 2,
       "version_minor": 0
      },
      "text/plain": [
       "HBox(children=(IntProgress(value=0, description='cell_barcode processing', max=404, style=ProgressStyle(descri…"
      ]
     },
     "metadata": {},
     "output_type": "display_data"
    }
   ],
   "source": [
    "gene_to_snp_ids = {gene : [snp_to_idx[snp] for snp in snp_list] \n",
    "                   for gene, snp_list in tqdm_notebook(gene_to_snps.items(), desc=\"mapping refinement\")}\n",
    "\n",
    "for barcode in tqdm_notebook(barcode_list, desc=\"cell_barcode processing\"):\n",
    "    gene_to_ad, gene_to_dp = [], []\n",
    "    ad = snp_counts_df[f\"{barcode}_ad\"].values.to_dense()\n",
    "    dp = snp_counts_df[f\"{barcode}_dp\"].values.to_dense()\n",
    "    for gene in gene_to_snps.keys():\n",
    "        snp_ids = gene_to_snp_ids[gene]\n",
    "        gene_to_ad.append(np.nansum(ad[snp_ids]))\n",
    "        gene_to_dp.append(np.nansum(dp[snp_ids]))\n",
    "    gene_counts_df[f\"{barcode}_ad\"] = gene_to_ad\n",
    "    gene_counts_df[f\"{barcode}_dp\"] = gene_to_dp"
   ]
  },
  {
   "cell_type": "code",
   "execution_count": 28,
   "metadata": {},
   "outputs": [
    {
     "data": {
      "text/plain": [
       "(23037, 809)"
      ]
     },
     "execution_count": 28,
     "metadata": {},
     "output_type": "execute_result"
    }
   ],
   "source": [
    "gene_counts_df.insert(column=\"GENE\", loc=0, value=list(gene_to_snps.keys()))\n",
    "gene_counts_df.shape"
   ]
  },
  {
   "cell_type": "code",
   "execution_count": 29,
   "metadata": {
    "scrolled": true
   },
   "outputs": [
    {
     "data": {
      "text/html": [
       "<div>\n",
       "<style scoped>\n",
       "    .dataframe tbody tr th:only-of-type {\n",
       "        vertical-align: middle;\n",
       "    }\n",
       "\n",
       "    .dataframe tbody tr th {\n",
       "        vertical-align: top;\n",
       "    }\n",
       "\n",
       "    .dataframe thead th {\n",
       "        text-align: right;\n",
       "    }\n",
       "</style>\n",
       "<table border=\"1\" class=\"dataframe\">\n",
       "  <thead>\n",
       "    <tr style=\"text-align: right;\">\n",
       "      <th></th>\n",
       "      <th>GENE</th>\n",
       "      <th>AAACCTGCACGACTAT-1_ad</th>\n",
       "      <th>AAACCTGCACGACTAT-1_dp</th>\n",
       "      <th>AAACCTGTCTTGCGAA-1_ad</th>\n",
       "      <th>AAACCTGTCTTGCGAA-1_dp</th>\n",
       "      <th>AAACGGGAGTGTTGAA-1_ad</th>\n",
       "      <th>AAACGGGAGTGTTGAA-1_dp</th>\n",
       "      <th>AAACGGGGTACTCACA-1_ad</th>\n",
       "      <th>AAACGGGGTACTCACA-1_dp</th>\n",
       "      <th>AAAGCAAAGCTGGTCC-1_ad</th>\n",
       "      <th>...</th>\n",
       "      <th>TTGAACGCAGCGATGA-1_ad</th>\n",
       "      <th>TTGAACGCAGCGATGA-1_dp</th>\n",
       "      <th>TTGCGTCCAACGGCTC-1_ad</th>\n",
       "      <th>TTGCGTCCAACGGCTC-1_dp</th>\n",
       "      <th>TTGGAACGTTCTGTCC-1_ad</th>\n",
       "      <th>TTGGAACGTTCTGTCC-1_dp</th>\n",
       "      <th>TTTATGCCATGTTTCT-1_ad</th>\n",
       "      <th>TTTATGCCATGTTTCT-1_dp</th>\n",
       "      <th>TTTCCTCGTGATCCTA-1_ad</th>\n",
       "      <th>TTTCCTCGTGATCCTA-1_dp</th>\n",
       "    </tr>\n",
       "  </thead>\n",
       "  <tbody>\n",
       "    <tr>\n",
       "      <th>0</th>\n",
       "      <td>ENSG00000166024</td>\n",
       "      <td>2.0</td>\n",
       "      <td>5.0</td>\n",
       "      <td>6.0</td>\n",
       "      <td>7.0</td>\n",
       "      <td>0.0</td>\n",
       "      <td>0.0</td>\n",
       "      <td>1.0</td>\n",
       "      <td>3.0</td>\n",
       "      <td>0.0</td>\n",
       "      <td>...</td>\n",
       "      <td>2.0</td>\n",
       "      <td>2.0</td>\n",
       "      <td>2.0</td>\n",
       "      <td>4.0</td>\n",
       "      <td>3.0</td>\n",
       "      <td>7.0</td>\n",
       "      <td>3.0</td>\n",
       "      <td>3.0</td>\n",
       "      <td>7.0</td>\n",
       "      <td>10.0</td>\n",
       "    </tr>\n",
       "    <tr>\n",
       "      <th>1</th>\n",
       "      <td>ENSG00000138131</td>\n",
       "      <td>0.0</td>\n",
       "      <td>0.0</td>\n",
       "      <td>3.0</td>\n",
       "      <td>6.0</td>\n",
       "      <td>0.0</td>\n",
       "      <td>0.0</td>\n",
       "      <td>0.0</td>\n",
       "      <td>0.0</td>\n",
       "      <td>0.0</td>\n",
       "      <td>...</td>\n",
       "      <td>0.0</td>\n",
       "      <td>0.0</td>\n",
       "      <td>1.0</td>\n",
       "      <td>1.0</td>\n",
       "      <td>0.0</td>\n",
       "      <td>0.0</td>\n",
       "      <td>0.0</td>\n",
       "      <td>0.0</td>\n",
       "      <td>1.0</td>\n",
       "      <td>1.0</td>\n",
       "    </tr>\n",
       "    <tr>\n",
       "      <th>2</th>\n",
       "      <td>ENSG00000230928</td>\n",
       "      <td>0.0</td>\n",
       "      <td>0.0</td>\n",
       "      <td>0.0</td>\n",
       "      <td>0.0</td>\n",
       "      <td>0.0</td>\n",
       "      <td>0.0</td>\n",
       "      <td>0.0</td>\n",
       "      <td>0.0</td>\n",
       "      <td>0.0</td>\n",
       "      <td>...</td>\n",
       "      <td>0.0</td>\n",
       "      <td>0.0</td>\n",
       "      <td>0.0</td>\n",
       "      <td>0.0</td>\n",
       "      <td>0.0</td>\n",
       "      <td>0.0</td>\n",
       "      <td>0.0</td>\n",
       "      <td>0.0</td>\n",
       "      <td>0.0</td>\n",
       "      <td>0.0</td>\n",
       "    </tr>\n",
       "    <tr>\n",
       "      <th>3</th>\n",
       "      <td>ENSG00000119943</td>\n",
       "      <td>3.0</td>\n",
       "      <td>6.0</td>\n",
       "      <td>0.0</td>\n",
       "      <td>4.0</td>\n",
       "      <td>1.0</td>\n",
       "      <td>2.0</td>\n",
       "      <td>6.0</td>\n",
       "      <td>10.0</td>\n",
       "      <td>0.0</td>\n",
       "      <td>...</td>\n",
       "      <td>1.0</td>\n",
       "      <td>1.0</td>\n",
       "      <td>0.0</td>\n",
       "      <td>0.0</td>\n",
       "      <td>3.0</td>\n",
       "      <td>6.0</td>\n",
       "      <td>0.0</td>\n",
       "      <td>0.0</td>\n",
       "      <td>5.0</td>\n",
       "      <td>5.0</td>\n",
       "    </tr>\n",
       "    <tr>\n",
       "      <th>4</th>\n",
       "      <td>ENSG00000107521</td>\n",
       "      <td>0.0</td>\n",
       "      <td>6.0</td>\n",
       "      <td>1.0</td>\n",
       "      <td>1.0</td>\n",
       "      <td>0.0</td>\n",
       "      <td>0.0</td>\n",
       "      <td>9.0</td>\n",
       "      <td>13.0</td>\n",
       "      <td>0.0</td>\n",
       "      <td>...</td>\n",
       "      <td>1.0</td>\n",
       "      <td>1.0</td>\n",
       "      <td>0.0</td>\n",
       "      <td>0.0</td>\n",
       "      <td>3.0</td>\n",
       "      <td>3.0</td>\n",
       "      <td>1.0</td>\n",
       "      <td>1.0</td>\n",
       "      <td>0.0</td>\n",
       "      <td>0.0</td>\n",
       "    </tr>\n",
       "  </tbody>\n",
       "</table>\n",
       "<p>5 rows × 809 columns</p>\n",
       "</div>"
      ],
      "text/plain": [
       "              GENE  AAACCTGCACGACTAT-1_ad  AAACCTGCACGACTAT-1_dp  \\\n",
       "0  ENSG00000166024                    2.0                    5.0   \n",
       "1  ENSG00000138131                    0.0                    0.0   \n",
       "2  ENSG00000230928                    0.0                    0.0   \n",
       "3  ENSG00000119943                    3.0                    6.0   \n",
       "4  ENSG00000107521                    0.0                    6.0   \n",
       "\n",
       "   AAACCTGTCTTGCGAA-1_ad  AAACCTGTCTTGCGAA-1_dp  AAACGGGAGTGTTGAA-1_ad  \\\n",
       "0                    6.0                    7.0                    0.0   \n",
       "1                    3.0                    6.0                    0.0   \n",
       "2                    0.0                    0.0                    0.0   \n",
       "3                    0.0                    4.0                    1.0   \n",
       "4                    1.0                    1.0                    0.0   \n",
       "\n",
       "   AAACGGGAGTGTTGAA-1_dp  AAACGGGGTACTCACA-1_ad  AAACGGGGTACTCACA-1_dp  \\\n",
       "0                    0.0                    1.0                    3.0   \n",
       "1                    0.0                    0.0                    0.0   \n",
       "2                    0.0                    0.0                    0.0   \n",
       "3                    2.0                    6.0                   10.0   \n",
       "4                    0.0                    9.0                   13.0   \n",
       "\n",
       "   AAAGCAAAGCTGGTCC-1_ad  ...  TTGAACGCAGCGATGA-1_ad  TTGAACGCAGCGATGA-1_dp  \\\n",
       "0                    0.0  ...                    2.0                    2.0   \n",
       "1                    0.0  ...                    0.0                    0.0   \n",
       "2                    0.0  ...                    0.0                    0.0   \n",
       "3                    0.0  ...                    1.0                    1.0   \n",
       "4                    0.0  ...                    1.0                    1.0   \n",
       "\n",
       "   TTGCGTCCAACGGCTC-1_ad  TTGCGTCCAACGGCTC-1_dp  TTGGAACGTTCTGTCC-1_ad  \\\n",
       "0                    2.0                    4.0                    3.0   \n",
       "1                    1.0                    1.0                    0.0   \n",
       "2                    0.0                    0.0                    0.0   \n",
       "3                    0.0                    0.0                    3.0   \n",
       "4                    0.0                    0.0                    3.0   \n",
       "\n",
       "   TTGGAACGTTCTGTCC-1_dp  TTTATGCCATGTTTCT-1_ad  TTTATGCCATGTTTCT-1_dp  \\\n",
       "0                    7.0                    3.0                    3.0   \n",
       "1                    0.0                    0.0                    0.0   \n",
       "2                    0.0                    0.0                    0.0   \n",
       "3                    6.0                    0.0                    0.0   \n",
       "4                    3.0                    1.0                    1.0   \n",
       "\n",
       "   TTTCCTCGTGATCCTA-1_ad  TTTCCTCGTGATCCTA-1_dp  \n",
       "0                    7.0                   10.0  \n",
       "1                    1.0                    1.0  \n",
       "2                    0.0                    0.0  \n",
       "3                    5.0                    5.0  \n",
       "4                    0.0                    0.0  \n",
       "\n",
       "[5 rows x 809 columns]"
      ]
     },
     "execution_count": 29,
     "metadata": {},
     "output_type": "execute_result"
    }
   ],
   "source": [
    "gene_counts_df.head()"
   ]
  },
  {
   "cell_type": "code",
   "execution_count": 111,
   "metadata": {},
   "outputs": [
    {
     "data": {
      "text/html": [
       "<div>\n",
       "<style scoped>\n",
       "    .dataframe tbody tr th:only-of-type {\n",
       "        vertical-align: middle;\n",
       "    }\n",
       "\n",
       "    .dataframe tbody tr th {\n",
       "        vertical-align: top;\n",
       "    }\n",
       "\n",
       "    .dataframe thead th {\n",
       "        text-align: right;\n",
       "    }\n",
       "</style>\n",
       "<table border=\"1\" class=\"dataframe\">\n",
       "  <thead>\n",
       "    <tr style=\"text-align: right;\">\n",
       "      <th></th>\n",
       "      <th>GENE</th>\n",
       "      <th>AAACCTGCACGACTAT-1_ad</th>\n",
       "      <th>AAACCTGCACGACTAT-1_dp</th>\n",
       "      <th>AAACCTGTCTTGCGAA-1_ad</th>\n",
       "      <th>AAACCTGTCTTGCGAA-1_dp</th>\n",
       "      <th>AAACGGGAGTGTTGAA-1_ad</th>\n",
       "      <th>AAACGGGAGTGTTGAA-1_dp</th>\n",
       "      <th>AAACGGGGTACTCACA-1_ad</th>\n",
       "      <th>AAACGGGGTACTCACA-1_dp</th>\n",
       "      <th>AAAGCAAAGCTGGTCC-1_ad</th>\n",
       "      <th>...</th>\n",
       "      <th>TTGAACGCAGCGATGA-1_ad</th>\n",
       "      <th>TTGAACGCAGCGATGA-1_dp</th>\n",
       "      <th>TTGCGTCCAACGGCTC-1_ad</th>\n",
       "      <th>TTGCGTCCAACGGCTC-1_dp</th>\n",
       "      <th>TTGGAACGTTCTGTCC-1_ad</th>\n",
       "      <th>TTGGAACGTTCTGTCC-1_dp</th>\n",
       "      <th>TTTATGCCATGTTTCT-1_ad</th>\n",
       "      <th>TTTATGCCATGTTTCT-1_dp</th>\n",
       "      <th>TTTCCTCGTGATCCTA-1_ad</th>\n",
       "      <th>TTTCCTCGTGATCCTA-1_dp</th>\n",
       "    </tr>\n",
       "  </thead>\n",
       "  <tbody>\n",
       "    <tr>\n",
       "      <th>0</th>\n",
       "      <td>ENSG00000227232</td>\n",
       "      <td>0.0</td>\n",
       "      <td>0.0</td>\n",
       "      <td>0.0</td>\n",
       "      <td>0.0</td>\n",
       "      <td>1.0</td>\n",
       "      <td>2.0</td>\n",
       "      <td>4.0</td>\n",
       "      <td>4.0</td>\n",
       "      <td>0.0</td>\n",
       "      <td>...</td>\n",
       "      <td>0.0</td>\n",
       "      <td>0.0</td>\n",
       "      <td>0.0</td>\n",
       "      <td>0.0</td>\n",
       "      <td>0.0</td>\n",
       "      <td>0.0</td>\n",
       "      <td>0.0</td>\n",
       "      <td>0.0</td>\n",
       "      <td>0.0</td>\n",
       "      <td>0.0</td>\n",
       "    </tr>\n",
       "    <tr>\n",
       "      <th>1</th>\n",
       "      <td>ENSG00000268020</td>\n",
       "      <td>0.0</td>\n",
       "      <td>0.0</td>\n",
       "      <td>1.0</td>\n",
       "      <td>1.0</td>\n",
       "      <td>0.0</td>\n",
       "      <td>0.0</td>\n",
       "      <td>0.0</td>\n",
       "      <td>0.0</td>\n",
       "      <td>0.0</td>\n",
       "      <td>...</td>\n",
       "      <td>0.0</td>\n",
       "      <td>0.0</td>\n",
       "      <td>0.0</td>\n",
       "      <td>0.0</td>\n",
       "      <td>3.0</td>\n",
       "      <td>3.0</td>\n",
       "      <td>0.0</td>\n",
       "      <td>0.0</td>\n",
       "      <td>0.0</td>\n",
       "      <td>0.0</td>\n",
       "    </tr>\n",
       "    <tr>\n",
       "      <th>2</th>\n",
       "      <td>ENSG00000240361</td>\n",
       "      <td>0.0</td>\n",
       "      <td>1.0</td>\n",
       "      <td>0.0</td>\n",
       "      <td>0.0</td>\n",
       "      <td>0.0</td>\n",
       "      <td>0.0</td>\n",
       "      <td>0.0</td>\n",
       "      <td>0.0</td>\n",
       "      <td>2.0</td>\n",
       "      <td>...</td>\n",
       "      <td>0.0</td>\n",
       "      <td>0.0</td>\n",
       "      <td>0.0</td>\n",
       "      <td>0.0</td>\n",
       "      <td>0.0</td>\n",
       "      <td>0.0</td>\n",
       "      <td>0.0</td>\n",
       "      <td>0.0</td>\n",
       "      <td>0.0</td>\n",
       "      <td>0.0</td>\n",
       "    </tr>\n",
       "    <tr>\n",
       "      <th>3</th>\n",
       "      <td>ENSG00000238009</td>\n",
       "      <td>0.0</td>\n",
       "      <td>2.0</td>\n",
       "      <td>1.0</td>\n",
       "      <td>2.0</td>\n",
       "      <td>2.0</td>\n",
       "      <td>3.0</td>\n",
       "      <td>0.0</td>\n",
       "      <td>0.0</td>\n",
       "      <td>2.0</td>\n",
       "      <td>...</td>\n",
       "      <td>1.0</td>\n",
       "      <td>2.0</td>\n",
       "      <td>1.0</td>\n",
       "      <td>1.0</td>\n",
       "      <td>1.0</td>\n",
       "      <td>2.0</td>\n",
       "      <td>1.0</td>\n",
       "      <td>1.0</td>\n",
       "      <td>0.0</td>\n",
       "      <td>0.0</td>\n",
       "    </tr>\n",
       "    <tr>\n",
       "      <th>4</th>\n",
       "      <td>ENSG00000239945</td>\n",
       "      <td>0.0</td>\n",
       "      <td>0.0</td>\n",
       "      <td>0.0</td>\n",
       "      <td>0.0</td>\n",
       "      <td>0.0</td>\n",
       "      <td>0.0</td>\n",
       "      <td>0.0</td>\n",
       "      <td>0.0</td>\n",
       "      <td>0.0</td>\n",
       "      <td>...</td>\n",
       "      <td>0.0</td>\n",
       "      <td>0.0</td>\n",
       "      <td>0.0</td>\n",
       "      <td>0.0</td>\n",
       "      <td>0.0</td>\n",
       "      <td>0.0</td>\n",
       "      <td>0.0</td>\n",
       "      <td>0.0</td>\n",
       "      <td>0.0</td>\n",
       "      <td>0.0</td>\n",
       "    </tr>\n",
       "  </tbody>\n",
       "</table>\n",
       "<p>5 rows × 809 columns</p>\n",
       "</div>"
      ],
      "text/plain": [
       "              GENE  AAACCTGCACGACTAT-1_ad  AAACCTGCACGACTAT-1_dp  \\\n",
       "0  ENSG00000227232                    0.0                    0.0   \n",
       "1  ENSG00000268020                    0.0                    0.0   \n",
       "2  ENSG00000240361                    0.0                    1.0   \n",
       "3  ENSG00000238009                    0.0                    2.0   \n",
       "4  ENSG00000239945                    0.0                    0.0   \n",
       "\n",
       "   AAACCTGTCTTGCGAA-1_ad  AAACCTGTCTTGCGAA-1_dp  AAACGGGAGTGTTGAA-1_ad  \\\n",
       "0                    0.0                    0.0                    1.0   \n",
       "1                    1.0                    1.0                    0.0   \n",
       "2                    0.0                    0.0                    0.0   \n",
       "3                    1.0                    2.0                    2.0   \n",
       "4                    0.0                    0.0                    0.0   \n",
       "\n",
       "   AAACGGGAGTGTTGAA-1_dp  AAACGGGGTACTCACA-1_ad  AAACGGGGTACTCACA-1_dp  \\\n",
       "0                    2.0                    4.0                    4.0   \n",
       "1                    0.0                    0.0                    0.0   \n",
       "2                    0.0                    0.0                    0.0   \n",
       "3                    3.0                    0.0                    0.0   \n",
       "4                    0.0                    0.0                    0.0   \n",
       "\n",
       "   AAAGCAAAGCTGGTCC-1_ad  ...  TTGAACGCAGCGATGA-1_ad  TTGAACGCAGCGATGA-1_dp  \\\n",
       "0                    0.0  ...                    0.0                    0.0   \n",
       "1                    0.0  ...                    0.0                    0.0   \n",
       "2                    2.0  ...                    0.0                    0.0   \n",
       "3                    2.0  ...                    1.0                    2.0   \n",
       "4                    0.0  ...                    0.0                    0.0   \n",
       "\n",
       "   TTGCGTCCAACGGCTC-1_ad  TTGCGTCCAACGGCTC-1_dp  TTGGAACGTTCTGTCC-1_ad  \\\n",
       "0                    0.0                    0.0                    0.0   \n",
       "1                    0.0                    0.0                    3.0   \n",
       "2                    0.0                    0.0                    0.0   \n",
       "3                    1.0                    1.0                    1.0   \n",
       "4                    0.0                    0.0                    0.0   \n",
       "\n",
       "   TTGGAACGTTCTGTCC-1_dp  TTTATGCCATGTTTCT-1_ad  TTTATGCCATGTTTCT-1_dp  \\\n",
       "0                    0.0                    0.0                    0.0   \n",
       "1                    3.0                    0.0                    0.0   \n",
       "2                    0.0                    0.0                    0.0   \n",
       "3                    2.0                    1.0                    1.0   \n",
       "4                    0.0                    0.0                    0.0   \n",
       "\n",
       "   TTTCCTCGTGATCCTA-1_ad  TTTCCTCGTGATCCTA-1_dp  \n",
       "0                    0.0                    0.0  \n",
       "1                    0.0                    0.0  \n",
       "2                    0.0                    0.0  \n",
       "3                    0.0                    0.0  \n",
       "4                    0.0                    0.0  \n",
       "\n",
       "[5 rows x 809 columns]"
      ]
     },
     "execution_count": 111,
     "metadata": {},
     "output_type": "execute_result"
    }
   ],
   "source": [
    "gene_ordering = {gene : i for i, gene in enumerate(genome_df.GeneID)}\n",
    "gene_counts_df[\"GENE_IDX\"] = [gene_ordering[gene] for gene in gene_counts_df.GENE]\n",
    "gene_counts_df.sort_values(by=\"GENE_IDX\", inplace=True)\n",
    "gene_counts_df.drop(columns=[\"GENE_IDX\"], inplace=True)\n",
    "gene_counts_df.reset_index(drop=True, inplace=True)\n",
    "gene_counts_df.head()"
   ]
  },
  {
   "cell_type": "code",
   "execution_count": 43,
   "metadata": {},
   "outputs": [
    {
     "name": "stdout",
     "output_type": "stream",
     "text": [
      "GENE\n"
     ]
    }
   ],
   "source": [
    "for colname in gene_counts_df.columns:\n",
    "    if re.match(barcode_pattern, colname) is None:\n",
    "        print(colname)"
   ]
  },
  {
   "cell_type": "code",
   "execution_count": 112,
   "metadata": {},
   "outputs": [],
   "source": [
    "gene_counts_df.to_pickle(\"gene_counts.pkl\")"
   ]
  },
  {
   "cell_type": "markdown",
   "metadata": {},
   "source": [
    "## Aggregating by cell barcode"
   ]
  },
  {
   "cell_type": "code",
   "execution_count": 172,
   "metadata": {},
   "outputs": [],
   "source": [
    "gene_counts_df = pd.read_pickle(\"gene_counts.pkl\")\n",
    "cell_gene_counts = pd.DataFrame()\n",
    "cell_gene_counts[\"GENE\"] = gene_counts_df[\"GENE\"]"
   ]
  },
  {
   "cell_type": "code",
   "execution_count": 173,
   "metadata": {},
   "outputs": [],
   "source": [
    "clustering_tsv = \"/icgc/dkfzlsdf/analysis/B260/projects/chromothripsis_medulloblastoma/single_cell_integration_dna_rna/scrna_vs_scdna/outs/Sample1_scDNA_clustering_info.tsv\""
   ]
  },
  {
   "cell_type": "code",
   "execution_count": 174,
   "metadata": {},
   "outputs": [
    {
     "data": {
      "text/html": [
       "<div>\n",
       "<style scoped>\n",
       "    .dataframe tbody tr th:only-of-type {\n",
       "        vertical-align: middle;\n",
       "    }\n",
       "\n",
       "    .dataframe tbody tr th {\n",
       "        vertical-align: top;\n",
       "    }\n",
       "\n",
       "    .dataframe thead th {\n",
       "        text-align: right;\n",
       "    }\n",
       "</style>\n",
       "<table border=\"1\" class=\"dataframe\">\n",
       "  <thead>\n",
       "    <tr style=\"text-align: right;\">\n",
       "      <th></th>\n",
       "      <th>cl_hierarchical</th>\n",
       "      <th>barcode</th>\n",
       "    </tr>\n",
       "  </thead>\n",
       "  <tbody>\n",
       "    <tr>\n",
       "      <th>0</th>\n",
       "      <td>1</td>\n",
       "      <td>AAACCTGTCTTGCGAA-1</td>\n",
       "    </tr>\n",
       "    <tr>\n",
       "      <th>1</th>\n",
       "      <td>2</td>\n",
       "      <td>AACTCCCAGGGATTCG-1</td>\n",
       "    </tr>\n",
       "    <tr>\n",
       "      <th>2</th>\n",
       "      <td>1</td>\n",
       "      <td>CACCTTGAGAAGGACA-1</td>\n",
       "    </tr>\n",
       "    <tr>\n",
       "      <th>3</th>\n",
       "      <td>3</td>\n",
       "      <td>CACCTTGAGGTAAACT-1</td>\n",
       "    </tr>\n",
       "    <tr>\n",
       "      <th>4</th>\n",
       "      <td>3</td>\n",
       "      <td>CAGAGAGGTTCCCACT-1</td>\n",
       "    </tr>\n",
       "  </tbody>\n",
       "</table>\n",
       "</div>"
      ],
      "text/plain": [
       "   cl_hierarchical             barcode\n",
       "0                1  AAACCTGTCTTGCGAA-1\n",
       "1                2  AACTCCCAGGGATTCG-1\n",
       "2                1  CACCTTGAGAAGGACA-1\n",
       "3                3  CACCTTGAGGTAAACT-1\n",
       "4                3  CAGAGAGGTTCCCACT-1"
      ]
     },
     "execution_count": 174,
     "metadata": {},
     "output_type": "execute_result"
    }
   ],
   "source": [
    "clustering_df = pd.read_csv(clustering_tsv, sep='\\t', usecols=[\"cl_hierarchical\", \"barcode\"])\n",
    "clustering_df.head()"
   ]
  },
  {
   "cell_type": "code",
   "execution_count": 175,
   "metadata": {},
   "outputs": [],
   "source": [
    "barcode_to_cluster = {\n",
    "    barcode : cluster_id\n",
    "    for cluster_id, barcode in\n",
    "    clustering_df.values\n",
    "}"
   ]
  },
  {
   "cell_type": "code",
   "execution_count": 176,
   "metadata": {},
   "outputs": [
    {
     "data": {
      "text/plain": [
       "3"
      ]
     },
     "execution_count": 176,
     "metadata": {},
     "output_type": "execute_result"
    }
   ],
   "source": [
    "n_clusters = clustering_df.cl_hierarchical.value_counts().size\n",
    "n_clusters"
   ]
  },
  {
   "cell_type": "code",
   "execution_count": 177,
   "metadata": {},
   "outputs": [
    {
     "data": {
      "text/html": [
       "<div>\n",
       "<style scoped>\n",
       "    .dataframe tbody tr th:only-of-type {\n",
       "        vertical-align: middle;\n",
       "    }\n",
       "\n",
       "    .dataframe tbody tr th {\n",
       "        vertical-align: top;\n",
       "    }\n",
       "\n",
       "    .dataframe thead th {\n",
       "        text-align: right;\n",
       "    }\n",
       "</style>\n",
       "<table border=\"1\" class=\"dataframe\">\n",
       "  <thead>\n",
       "    <tr style=\"text-align: right;\">\n",
       "      <th></th>\n",
       "      <th>GENE</th>\n",
       "      <th>cluster_1_ad</th>\n",
       "      <th>cluster_1_dp</th>\n",
       "      <th>cluster_2_ad</th>\n",
       "      <th>cluster_2_dp</th>\n",
       "      <th>cluster_3_ad</th>\n",
       "      <th>cluster_3_dp</th>\n",
       "    </tr>\n",
       "  </thead>\n",
       "  <tbody>\n",
       "    <tr>\n",
       "      <th>0</th>\n",
       "      <td>ENSG00000227232</td>\n",
       "      <td>0.0</td>\n",
       "      <td>0.0</td>\n",
       "      <td>0.0</td>\n",
       "      <td>0.0</td>\n",
       "      <td>0.0</td>\n",
       "      <td>0.0</td>\n",
       "    </tr>\n",
       "    <tr>\n",
       "      <th>1</th>\n",
       "      <td>ENSG00000268020</td>\n",
       "      <td>0.0</td>\n",
       "      <td>0.0</td>\n",
       "      <td>0.0</td>\n",
       "      <td>0.0</td>\n",
       "      <td>0.0</td>\n",
       "      <td>0.0</td>\n",
       "    </tr>\n",
       "    <tr>\n",
       "      <th>2</th>\n",
       "      <td>ENSG00000240361</td>\n",
       "      <td>0.0</td>\n",
       "      <td>0.0</td>\n",
       "      <td>0.0</td>\n",
       "      <td>0.0</td>\n",
       "      <td>0.0</td>\n",
       "      <td>0.0</td>\n",
       "    </tr>\n",
       "    <tr>\n",
       "      <th>3</th>\n",
       "      <td>ENSG00000238009</td>\n",
       "      <td>0.0</td>\n",
       "      <td>0.0</td>\n",
       "      <td>0.0</td>\n",
       "      <td>0.0</td>\n",
       "      <td>0.0</td>\n",
       "      <td>0.0</td>\n",
       "    </tr>\n",
       "    <tr>\n",
       "      <th>4</th>\n",
       "      <td>ENSG00000239945</td>\n",
       "      <td>0.0</td>\n",
       "      <td>0.0</td>\n",
       "      <td>0.0</td>\n",
       "      <td>0.0</td>\n",
       "      <td>0.0</td>\n",
       "      <td>0.0</td>\n",
       "    </tr>\n",
       "  </tbody>\n",
       "</table>\n",
       "</div>"
      ],
      "text/plain": [
       "              GENE  cluster_1_ad  cluster_1_dp  cluster_2_ad  cluster_2_dp  \\\n",
       "0  ENSG00000227232           0.0           0.0           0.0           0.0   \n",
       "1  ENSG00000268020           0.0           0.0           0.0           0.0   \n",
       "2  ENSG00000240361           0.0           0.0           0.0           0.0   \n",
       "3  ENSG00000238009           0.0           0.0           0.0           0.0   \n",
       "4  ENSG00000239945           0.0           0.0           0.0           0.0   \n",
       "\n",
       "   cluster_3_ad  cluster_3_dp  \n",
       "0           0.0           0.0  \n",
       "1           0.0           0.0  \n",
       "2           0.0           0.0  \n",
       "3           0.0           0.0  \n",
       "4           0.0           0.0  "
      ]
     },
     "execution_count": 177,
     "metadata": {},
     "output_type": "execute_result"
    }
   ],
   "source": [
    "n_genes = gene_counts_df.shape[0]\n",
    "for i in range(1, n_clusters + 1):\n",
    "    cell_gene_counts[f\"cluster_{i}_ad\"] = np.zeros(n_genes)\n",
    "    cell_gene_counts[f\"cluster_{i}_dp\"] = np.zeros(n_genes)\n",
    "cell_gene_counts.head()"
   ]
  },
  {
   "cell_type": "code",
   "execution_count": 178,
   "metadata": {},
   "outputs": [
    {
     "data": {
      "text/plain": [
       "array([1, 2, 3])"
      ]
     },
     "execution_count": 178,
     "metadata": {},
     "output_type": "execute_result"
    }
   ],
   "source": [
    "cluster_label_list = clustering_df.cl_hierarchical.unique()\n",
    "cluster_label_list "
   ]
  },
  {
   "cell_type": "code",
   "execution_count": 179,
   "metadata": {},
   "outputs": [
    {
     "data": {
      "application/vnd.jupyter.widget-view+json": {
       "model_id": "67cea33d92014b93bd9f31b6a5d567cb",
       "version_major": 2,
       "version_minor": 0
      },
      "text/plain": [
       "HBox(children=(IntProgress(value=0, description='cluster', max=3, style=ProgressStyle(description_width='initi…"
      ]
     },
     "metadata": {},
     "output_type": "display_data"
    },
    {
     "data": {
      "application/vnd.jupyter.widget-view+json": {
       "model_id": "3c4b933e5c1e421c9d0b9c538d0fb72a",
       "version_major": 2,
       "version_minor": 0
      },
      "text/plain": [
       "HBox(children=(IntProgress(value=0, description='barcodes in cluster', max=192, style=ProgressStyle(descriptio…"
      ]
     },
     "metadata": {},
     "output_type": "display_data"
    },
    {
     "data": {
      "application/vnd.jupyter.widget-view+json": {
       "model_id": "5e3a2e46dccf4347a7caa928c462b2a6",
       "version_major": 2,
       "version_minor": 0
      },
      "text/plain": [
       "HBox(children=(IntProgress(value=0, description='barcodes in cluster', max=22, style=ProgressStyle(description…"
      ]
     },
     "metadata": {},
     "output_type": "display_data"
    },
    {
     "data": {
      "application/vnd.jupyter.widget-view+json": {
       "model_id": "bee0bc57eb584ea28ae21feb39a2f020",
       "version_major": 2,
       "version_minor": 0
      },
      "text/plain": [
       "HBox(children=(IntProgress(value=0, description='barcodes in cluster', max=54, style=ProgressStyle(description…"
      ]
     },
     "metadata": {},
     "output_type": "display_data"
    }
   ],
   "source": [
    "for cluster_label in tqdm_notebook(cluster_label_list, desc=\"cluster\"): \n",
    "    barcode_group = clustering_df.query(f\"cl_hierarchical == {cluster_label}\").barcode\n",
    "    for barcode in tqdm_notebook(barcode_group, desc=\"barcodes in cluster\"):\n",
    "        prefix = f\"cluster_{cluster_label}\"\n",
    "        cell_gene_counts[prefix + \"_dp\"] += gene_counts_df[f\"{barcode}_dp\"]\n",
    "        cell_gene_counts[prefix + \"_ad\"] += gene_counts_df[f\"{barcode}_ad\"]\n",
    "        "
   ]
  },
  {
   "cell_type": "code",
   "execution_count": 180,
   "metadata": {},
   "outputs": [
    {
     "data": {
      "text/html": [
       "<div>\n",
       "<style scoped>\n",
       "    .dataframe tbody tr th:only-of-type {\n",
       "        vertical-align: middle;\n",
       "    }\n",
       "\n",
       "    .dataframe tbody tr th {\n",
       "        vertical-align: top;\n",
       "    }\n",
       "\n",
       "    .dataframe thead th {\n",
       "        text-align: right;\n",
       "    }\n",
       "</style>\n",
       "<table border=\"1\" class=\"dataframe\">\n",
       "  <thead>\n",
       "    <tr style=\"text-align: right;\">\n",
       "      <th></th>\n",
       "      <th>GENE</th>\n",
       "      <th>cluster_1_ad</th>\n",
       "      <th>cluster_1_dp</th>\n",
       "      <th>cluster_2_ad</th>\n",
       "      <th>cluster_2_dp</th>\n",
       "      <th>cluster_3_ad</th>\n",
       "      <th>cluster_3_dp</th>\n",
       "    </tr>\n",
       "  </thead>\n",
       "  <tbody>\n",
       "    <tr>\n",
       "      <th>0</th>\n",
       "      <td>ENSG00000227232</td>\n",
       "      <td>103.0</td>\n",
       "      <td>149.0</td>\n",
       "      <td>3.0</td>\n",
       "      <td>9.0</td>\n",
       "      <td>45.0</td>\n",
       "      <td>54.0</td>\n",
       "    </tr>\n",
       "    <tr>\n",
       "      <th>1</th>\n",
       "      <td>ENSG00000268020</td>\n",
       "      <td>27.0</td>\n",
       "      <td>36.0</td>\n",
       "      <td>2.0</td>\n",
       "      <td>5.0</td>\n",
       "      <td>10.0</td>\n",
       "      <td>14.0</td>\n",
       "    </tr>\n",
       "    <tr>\n",
       "      <th>2</th>\n",
       "      <td>ENSG00000240361</td>\n",
       "      <td>19.0</td>\n",
       "      <td>49.0</td>\n",
       "      <td>4.0</td>\n",
       "      <td>7.0</td>\n",
       "      <td>5.0</td>\n",
       "      <td>11.0</td>\n",
       "    </tr>\n",
       "    <tr>\n",
       "      <th>3</th>\n",
       "      <td>ENSG00000238009</td>\n",
       "      <td>236.0</td>\n",
       "      <td>462.0</td>\n",
       "      <td>19.0</td>\n",
       "      <td>35.0</td>\n",
       "      <td>62.0</td>\n",
       "      <td>141.0</td>\n",
       "    </tr>\n",
       "    <tr>\n",
       "      <th>4</th>\n",
       "      <td>ENSG00000239945</td>\n",
       "      <td>12.0</td>\n",
       "      <td>23.0</td>\n",
       "      <td>3.0</td>\n",
       "      <td>4.0</td>\n",
       "      <td>3.0</td>\n",
       "      <td>11.0</td>\n",
       "    </tr>\n",
       "  </tbody>\n",
       "</table>\n",
       "</div>"
      ],
      "text/plain": [
       "              GENE  cluster_1_ad  cluster_1_dp  cluster_2_ad  cluster_2_dp  \\\n",
       "0  ENSG00000227232         103.0         149.0           3.0           9.0   \n",
       "1  ENSG00000268020          27.0          36.0           2.0           5.0   \n",
       "2  ENSG00000240361          19.0          49.0           4.0           7.0   \n",
       "3  ENSG00000238009         236.0         462.0          19.0          35.0   \n",
       "4  ENSG00000239945          12.0          23.0           3.0           4.0   \n",
       "\n",
       "   cluster_3_ad  cluster_3_dp  \n",
       "0          45.0          54.0  \n",
       "1          10.0          14.0  \n",
       "2           5.0          11.0  \n",
       "3          62.0         141.0  \n",
       "4           3.0          11.0  "
      ]
     },
     "execution_count": 180,
     "metadata": {},
     "output_type": "execute_result"
    }
   ],
   "source": [
    "cell_gene_counts.head()"
   ]
  },
  {
   "cell_type": "code",
   "execution_count": 181,
   "metadata": {},
   "outputs": [],
   "source": [
    "cell_gene_counts.to_pickle(\"cell_gene_counts.pkl\")"
   ]
  },
  {
   "cell_type": "code",
   "execution_count": 182,
   "metadata": {},
   "outputs": [
    {
     "data": {
      "text/html": [
       "<div>\n",
       "<style scoped>\n",
       "    .dataframe tbody tr th:only-of-type {\n",
       "        vertical-align: middle;\n",
       "    }\n",
       "\n",
       "    .dataframe tbody tr th {\n",
       "        vertical-align: top;\n",
       "    }\n",
       "\n",
       "    .dataframe thead th {\n",
       "        text-align: right;\n",
       "    }\n",
       "</style>\n",
       "<table border=\"1\" class=\"dataframe\">\n",
       "  <thead>\n",
       "    <tr style=\"text-align: right;\">\n",
       "      <th></th>\n",
       "      <th>GENE</th>\n",
       "      <th>1</th>\n",
       "      <th>2</th>\n",
       "      <th>3</th>\n",
       "    </tr>\n",
       "  </thead>\n",
       "  <tbody>\n",
       "    <tr>\n",
       "      <th>0</th>\n",
       "      <td>ENSG00000227232</td>\n",
       "      <td>0.691275</td>\n",
       "      <td>0.333333</td>\n",
       "      <td>0.833333</td>\n",
       "    </tr>\n",
       "    <tr>\n",
       "      <th>1</th>\n",
       "      <td>ENSG00000268020</td>\n",
       "      <td>0.750000</td>\n",
       "      <td>0.400000</td>\n",
       "      <td>0.714286</td>\n",
       "    </tr>\n",
       "    <tr>\n",
       "      <th>2</th>\n",
       "      <td>ENSG00000240361</td>\n",
       "      <td>0.387755</td>\n",
       "      <td>0.571429</td>\n",
       "      <td>0.454545</td>\n",
       "    </tr>\n",
       "    <tr>\n",
       "      <th>3</th>\n",
       "      <td>ENSG00000238009</td>\n",
       "      <td>0.510823</td>\n",
       "      <td>0.542857</td>\n",
       "      <td>0.439716</td>\n",
       "    </tr>\n",
       "    <tr>\n",
       "      <th>4</th>\n",
       "      <td>ENSG00000239945</td>\n",
       "      <td>0.521739</td>\n",
       "      <td>0.750000</td>\n",
       "      <td>0.272727</td>\n",
       "    </tr>\n",
       "  </tbody>\n",
       "</table>\n",
       "</div>"
      ],
      "text/plain": [
       "              GENE         1         2         3\n",
       "0  ENSG00000227232  0.691275  0.333333  0.833333\n",
       "1  ENSG00000268020  0.750000  0.400000  0.714286\n",
       "2  ENSG00000240361  0.387755  0.571429  0.454545\n",
       "3  ENSG00000238009  0.510823  0.542857  0.439716\n",
       "4  ENSG00000239945  0.521739  0.750000  0.272727"
      ]
     },
     "execution_count": 182,
     "metadata": {},
     "output_type": "execute_result"
    }
   ],
   "source": [
    "ase_df = pd.DataFrame(columns=[i+1 for i in range(n_clusters)])\n",
    "ase_df.insert(0, \"GENE\", cell_gene_counts[\"GENE\"])\n",
    "for i in range(n_clusters):\n",
    "       ase_df[i+1] = (cell_gene_counts[f\"cluster_{i+1}_ad\"] \n",
    "                    / cell_gene_counts[f\"cluster_{i+1}_dp\"])\n",
    "ase_df.head()"
   ]
  },
  {
   "cell_type": "code",
   "execution_count": 183,
   "metadata": {},
   "outputs": [
    {
     "name": "stdout",
     "output_type": "stream",
     "text": [
      "<class 'pandas.core.frame.DataFrame'>\n",
      "RangeIndex: 23037 entries, 0 to 23036\n",
      "Data columns (total 4 columns):\n",
      "GENE    23037 non-null Sparse[object, nan]\n",
      "1       22998 non-null Sparse[float64, nan]\n",
      "2       20419 non-null Sparse[float64, nan]\n",
      "3       22588 non-null Sparse[float64, nan]\n",
      "dtypes: Sparse[float64, nan](3), Sparse[object, nan](1)\n",
      "memory usage: 720.0 KB\n"
     ]
    }
   ],
   "source": [
    "ase_df.info()"
   ]
  },
  {
   "cell_type": "code",
   "execution_count": 184,
   "metadata": {
    "scrolled": false
   },
   "outputs": [
    {
     "data": {
      "text/plain": [
       "<Figure size 1440x2160 with 0 Axes>"
      ]
     },
     "metadata": {},
     "output_type": "display_data"
    },
    {
     "data": {
      "image/png": "[encoded data removed]",
      "text/plain": [
       "<Figure size 720x720 with 4 Axes>"
      ]
     },
     "metadata": {},
     "output_type": "display_data"
    }
   ],
   "source": [
    "plt.figure(figsize=(20,30))\n",
    "sns.clustermap(\n",
    "    ase_df\\\n",
    "    .drop(columns=[\"GENE\"])\\\n",
    "    .fillna(value=0)\\\n",
    "    .astype(np.float32)\\\n",
    "    .values,\n",
    "    cmap=\"viridis\"\n",
    ");"
   ]
  },
  {
   "cell_type": "code",
   "execution_count": 185,
   "metadata": {},
   "outputs": [],
   "source": [
    "ase_df.to_pickle(\"ase_df.pkl\")"
   ]
  }
 ],
 "metadata": {
  "kernelspec": {
   "display_name": "Python 3",
   "language": "python",
   "name": "python3"
  },
  "language_info": {
   "codemirror_mode": {
    "name": "ipython",
    "version": 3
   },
   "file_extension": ".py",
   "mimetype": "text/x-python",
   "name": "python",
   "nbconvert_exporter": "python",
   "pygments_lexer": "ipython3",
   "version": "3.7.3"
  },
  "toc": {
   "base_numbering": 1,
   "nav_menu": {},
   "number_sections": true,
   "sideBar": true,
   "skip_h1_title": false,
   "title_cell": "Table of Contents",
   "title_sidebar": "Contents",
   "toc_cell": false,
   "toc_position": {},
   "toc_section_display": true,
   "toc_window_display": false
  },
  "varInspector": {
   "cols": {
    "lenName": 16,
    "lenType": 16,
    "lenVar": 40
   },
   "kernels_config": {
    "python": {
     "delete_cmd_postfix": "",
     "delete_cmd_prefix": "del ",
     "library": "var_list.py",
     "varRefreshCmd": "print(var_dic_list())"
    },
    "r": {
     "delete_cmd_postfix": ") ",
     "delete_cmd_prefix": "rm(",
     "library": "var_list.r",
     "varRefreshCmd": "cat(var_dic_list()) "
    }
   },
   "types_to_exclude": [
    "module",
    "function",
    "builtin_function_or_method",
    "instance",
    "_Feature"
   ],
   "window_display": false
  }
 },
 "nbformat": 4,
 "nbformat_minor": 2
}
