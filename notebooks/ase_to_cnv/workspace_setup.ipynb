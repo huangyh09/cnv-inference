{
 "cells": [
  {
   "cell_type": "code",
   "execution_count": 6,
   "metadata": {},
   "outputs": [
    {
     "name": "stdout",
     "output_type": "stream",
     "text": [
      "The autoreload extension is already loaded. To reload it, use:\n",
      "  %reload_ext autoreload\n"
     ]
    }
   ],
   "source": [
    "%load_ext autoreload\n",
    "%autoreload 1\n",
    "%matplotlib inline\n",
    "\n",
    "import os\n",
    "import shutil\n",
    "import sys\n",
    "import subprocess\n",
    "\n",
    "%aimport cnv_inference_config\n",
    "project_config = cnv_inference_config\n",
    "os.chdir(project_config.MB_ROOT)\n",
    "\n",
    "from collections import defaultdict, OrderedDict\n",
    "import sys\n",
    "\n",
    "import numpy as np\n",
    "import pandas as pd\n",
    "from tqdm import tqdm, tqdm_notebook\n",
    "\n",
    "%aimport util\n",
    "%aimport workspace_manager"
   ]
  },
  {
   "cell_type": "code",
   "execution_count": 8,
   "metadata": {},
   "outputs": [
    {
     "name": "stderr",
     "output_type": "stream",
     "text": [
      "processing read-only data directory\n",
      "processing workspace directory\n",
      "processing image directory\n",
      "loading data to workspace directory\n"
     ]
    },
    {
     "data": {
      "application/vnd.jupyter.widget-view+json": {
       "model_id": "c51f4a5482ae403ba907ddb24def52c0",
       "version_major": 2,
       "version_minor": 0
      },
      "text/plain": [
       "HBox(children=(IntProgress(value=0, description='copying files', max=3, style=ProgressStyle(description_width=…"
      ]
     },
     "metadata": {},
     "output_type": "display_data"
    },
    {
     "name": "stderr",
     "output_type": "stream",
     "text": [
      "/icgc/dkfzlsdf/analysis/B260/users/v390v/cnv_inference/data/processed/first_sample/scDNA/all_gene_counts.pkl —> /icgc/dkfzlsdf/analysis/B260/users/v390v/cnv_inference/data/tmp/ase_to_cnv/first_sample/scDNA/gene_counts.pkl\n"
     ]
    },
    {
     "name": "stdout",
     "output_type": "stream",
     "text": [
      "\n"
     ]
    },
    {
     "name": "stderr",
     "output_type": "stream",
     "text": [
      "/icgc/dkfzlsdf/analysis/B260/users/v390v/cnv_inference/data/processed/first_sample/scDNA/cnv_3_clustering.pkl —> /icgc/dkfzlsdf/analysis/B260/users/v390v/cnv_inference/data/tmp/ase_to_cnv/first_sample/scDNA/clustering.pkl\n",
      "/icgc/dkfzlsdf/analysis/B260/users/v390v/cnv_inference/data/processed/first_sample/scDNA/all_cnv_3_ase.pkl —> /icgc/dkfzlsdf/analysis/B260/users/v390v/cnv_inference/data/tmp/ase_to_cnv/first_sample/scDNA/ase.pkl\n",
      "processing read-only data directory\n",
      "processing workspace directory\n",
      "processing image directory\n",
      "loading data to workspace directory\n"
     ]
    },
    {
     "data": {
      "application/vnd.jupyter.widget-view+json": {
       "model_id": "9d16ba317e3a4916912606afa088d2f5",
       "version_major": 2,
       "version_minor": 0
      },
      "text/plain": [
       "HBox(children=(IntProgress(value=0, description='copying files', max=3, style=ProgressStyle(description_width=…"
      ]
     },
     "metadata": {},
     "output_type": "display_data"
    },
    {
     "name": "stderr",
     "output_type": "stream",
     "text": [
      "/icgc/dkfzlsdf/analysis/B260/users/v390v/cnv_inference/data/processed/first_sample/scRNA/all_gene_counts.pkl —> /icgc/dkfzlsdf/analysis/B260/users/v390v/cnv_inference/data/tmp/ase_to_cnv/first_sample/scRNA/gene_counts.pkl\n"
     ]
    },
    {
     "name": "stdout",
     "output_type": "stream",
     "text": [
      "\n"
     ]
    },
    {
     "name": "stderr",
     "output_type": "stream",
     "text": [
      "/icgc/dkfzlsdf/analysis/B260/users/v390v/cnv_inference/data/processed/first_sample/scRNA/seurat_clustering.pkl —> /icgc/dkfzlsdf/analysis/B260/users/v390v/cnv_inference/data/tmp/ase_to_cnv/first_sample/scRNA/clustering.pkl\n",
      "/icgc/dkfzlsdf/analysis/B260/users/v390v/cnv_inference/data/processed/first_sample/scRNA/all_seurat_ase.pkl —> /icgc/dkfzlsdf/analysis/B260/users/v390v/cnv_inference/data/tmp/ase_to_cnv/first_sample/scRNA/ase.pkl\n"
     ]
    }
   ],
   "source": [
    "workspace = {\n",
    "    \"scDNA\" : workspace_manager.WorkspaceManager(\n",
    "        task_name=\"ase_to_cnv\",\n",
    "        experiment_info={\n",
    "            \"data\" : \"scDNA\",\n",
    "            \"sample\" : \"first_sample\"\n",
    "        },\n",
    "        verbose=True\n",
    "    ),\n",
    "    \"scRNA\" : workspace_manager.WorkspaceManager(\n",
    "        task_name=\"ase_to_cnv\",\n",
    "        experiment_info={\n",
    "            \"data\" : \"scRNA\",\n",
    "            \"sample\" : \"first_sample\"\n",
    "        },\n",
    "        verbose=True\n",
    "    )\n",
    "}\n",
    "\n",
    "filtering_tag = \"all\"\n",
    "clustering_tag = {\n",
    "    \"scDNA\" : \"cnv_3\",\n",
    "    \"scRNA\" : \"seurat\"\n",
    "}\n",
    "requirements = {\n",
    "    \"scDNA\" : {\n",
    "        \"gene_counts\" : f\"{filtering_tag}_gene_counts.pkl\",\n",
    "        \"clustering\" : f\"{clustering_tag['scDNA']}_clustering.pkl\",\n",
    "        \"ase\" : f\"{filtering_tag}_{clustering_tag['scDNA']}_ase.pkl\"\n",
    "    },\n",
    "    \"scRNA\" : {\n",
    "        \"gene_counts\" : f\"{filtering_tag}_gene_counts.pkl\",\n",
    "        \"clustering\" : f\"{clustering_tag['scRNA']}_clustering.pkl\",\n",
    "        \"ase\" : f\"{filtering_tag}_{clustering_tag['scRNA']}_ase.pkl\"\n",
    "    }\n",
    "}\n",
    "\n",
    "for data_type in [\"scDNA\", \"scRNA\"]:\n",
    "    workspace[data_type].prepare_workspace(    \n",
    "        requirements=requirements[data_type]\n",
    "    )"
   ]
  },
  {
   "cell_type": "code",
   "execution_count": 3,
   "metadata": {},
   "outputs": [
    {
     "data": {
      "text/html": [
       "<table><tr><th>Task name: </th><td>ase_to_cnv</td></tr></table><table><tr><th>Experiment info: </th><td><table><tr><th>data</th><td>scDNA</td></tr><tr><th>sample</th><td>first_sample</td></tr></table></td></tr></table><table><tr><th>Datasets: </th><td><ul><li>gene_counts</li><li>clustering</li><li>ase</li></ul></td></tr></table><table><tr><th>Created on </th><td>2019-08-13 17:26</td></tr></table><table><tr><th>Contents: </th><td><table><tr><th>task_name</th><td>ase_to_cnv</td></tr><tr><th>experiment_info</th><td><table><tr><th>data</th><td>scDNA</td></tr><tr><th>sample</th><td>first_sample</td></tr></table></td></tr><tr><th>cookiecutter_info</th><td><table><tr><th>root</th><td>/icgc/dkfzlsdf/analysis/B260/users/v390v/cnv_inference</td></tr><tr><th>lib</th><td>/icgc/dkfzlsdf/analysis/B260/users/v390v/cnv_inference/lib</td></tr><tr><th>notebooks</th><td>/icgc/dkfzlsdf/analysis/B260/users/v390v/cnv_inference/notebooks</td></tr><tr><th>src</th><td>/icgc/dkfzlsdf/analysis/B260/users/v390v/cnv_inference/src</td></tr><tr><th>img</th><td>/icgc/dkfzlsdf/analysis/B260/users/v390v/cnv_inference/img</td></tr><tr><th>data</th><td>/icgc/dkfzlsdf/analysis/B260/users/v390v/cnv_inference/data</td></tr><tr><th>raw</th><td>/icgc/dkfzlsdf/analysis/B260/users/v390v/cnv_inference/data/raw</td></tr><tr><th>tmp</th><td>/icgc/dkfzlsdf/analysis/B260/users/v390v/cnv_inference/data/tmp</td></tr><tr><th>processed</th><td>/icgc/dkfzlsdf/analysis/B260/users/v390v/cnv_inference/data/processed</td></tr></table></td></tr><tr><th>config_dir</th><td>/icgc/dkfzlsdf/analysis/B260/users/v390v/cnv_inference/notebooks/ase_to_cnv</td></tr><tr><th>data_dir</th><td><table><tr><th>root</th><td>/icgc/dkfzlsdf/analysis/B260/users/v390v/cnv_inference/data/processed</td></tr><tr><th>sample</th><td>/icgc/dkfzlsdf/analysis/B260/users/v390v/cnv_inference/data/processed/first_sample/scDNA</td></tr></table></td></tr><tr><th>data</th><td><table><tr><th>gene_counts</th><td>/icgc/dkfzlsdf/analysis/B260/users/v390v/cnv_inference/data/processed/first_sample/scDNA/PC1_PC2_span_75%_gene_counts.pkl</td></tr><tr><th>clustering</th><td>/icgc/dkfzlsdf/analysis/B260/users/v390v/cnv_inference/data/processed/first_sample/scDNA/evo_dist_9_clustering.pkl</td></tr><tr><th>ase</th><td>/icgc/dkfzlsdf/analysis/B260/users/v390v/cnv_inference/data/processed/first_sample/scDNA/PC1_PC2_span_75%_evo_dist_9_ase.pkl</td></tr></table></td></tr><tr><th>tmp_data_dir</th><td><table><tr><th>root</th><td>/icgc/dkfzlsdf/analysis/B260/users/v390v/cnv_inference/data/tmp/ase_to_cnv</td></tr><tr><th>sample</th><td>/icgc/dkfzlsdf/analysis/B260/users/v390v/cnv_inference/data/tmp/ase_to_cnv/first_sample/scDNA</td></tr></table></td></tr><tr><th>tmp_data</th><td><table><tr><th>gene_counts</th><td>/icgc/dkfzlsdf/analysis/B260/users/v390v/cnv_inference/data/tmp/ase_to_cnv/first_sample/scDNA/gene_counts.pkl</td></tr><tr><th>clustering</th><td>/icgc/dkfzlsdf/analysis/B260/users/v390v/cnv_inference/data/tmp/ase_to_cnv/first_sample/scDNA/clustering.pkl</td></tr><tr><th>ase</th><td>/icgc/dkfzlsdf/analysis/B260/users/v390v/cnv_inference/data/tmp/ase_to_cnv/first_sample/scDNA/ase.pkl</td></tr></table></td></tr><tr><th>img_dir</th><td><table><tr><th>root</th><td>/icgc/dkfzlsdf/analysis/B260/users/v390v/cnv_inference/img/ase_to_cnv</td></tr><tr><th>sample</th><td>/icgc/dkfzlsdf/analysis/B260/users/v390v/cnv_inference/img/ase_to_cnv/first_sample</td></tr></table></td></tr></table></td></tr></table>"
      ],
      "text/plain": [
       "Task name: ase_to_cnv\n",
       "Experiment info:\n",
       "{\n",
       "    \"data\": \"scDNA\",\n",
       "    \"sample\": \"first_sample\"\n",
       "}\n",
       "Config generated on 2019-08-13 17:26\n",
       "Contents:\n",
       "{\n",
       "    \"task_name\": \"ase_to_cnv\",\n",
       "    \"experiment_info\": {\n",
       "        \"data\": \"scDNA\",\n",
       "        \"sample\": \"first_sample\"\n",
       "    },\n",
       "    \"cookiecutter_info\": {\n",
       "        \"root\": \"/icgc/dkfzlsdf/analysis/B260/users/v390v/cnv_inference\",\n",
       "        \"lib\": \"/icgc/dkfzlsdf/analysis/B260/users/v390v/cnv_inference/lib\",\n",
       "        \"notebooks\": \"/icgc/dkfzlsdf/analysis/B260/users/v390v/cnv_inference/notebooks\",\n",
       "        \"src\": \"/icgc/dkfzlsdf/analysis/B260/users/v390v/cnv_inference/src\",\n",
       "        \"img\": \"/icgc/dkfzlsdf/analysis/B260/users/v390v/cnv_inference/img\",\n",
       "        \"data\": \"/icgc/dkfzlsdf/analysis/B260/users/v390v/cnv_inference/data\",\n",
       "        \"raw\": \"/icgc/dkfzlsdf/analysis/B260/users/v390v/cnv_inference/data/raw\",\n",
       "        \"tmp\": \"/icgc/dkfzlsdf/analysis/B260/users/v390v/cnv_inference/data/tmp\",\n",
       "        \"processed\": \"/icgc/dkfzlsdf/analysis/B260/users/v390v/cnv_inference/data/processed\"\n",
       "    },\n",
       "    \"config_dir\": \"/icgc/dkfzlsdf/analysis/B260/users/v390v/cnv_inference/notebooks/ase_to_cnv\",\n",
       "    \"data_dir\": {\n",
       "        \"root\": \"/icgc/dkfzlsdf/analysis/B260/users/v390v/cnv_inference/data/processed\",\n",
       "        \"sample\": \"/icgc/dkfzlsdf/analysis/B260/users/v390v/cnv_inference/data/processed/first_sample/scDNA\"\n",
       "    },\n",
       "    \"data\": {\n",
       "        \"gene_counts\": \"/icgc/dkfzlsdf/analysis/B260/users/v390v/cnv_inference/data/processed/first_sample/scDNA/PC1_PC2_span_75%_gene_counts.pkl\",\n",
       "        \"clustering\": \"/icgc/dkfzlsdf/analysis/B260/users/v390v/cnv_inference/data/processed/first_sample/scDNA/evo_dist_9_clustering.pkl\",\n",
       "        \"ase\": \"/icgc/dkfzlsdf/analysis/B260/users/v390v/cnv_inference/data/processed/first_sample/scDNA/PC1_PC2_span_75%_evo_dist_9_ase.pkl\"\n",
       "    },\n",
       "    \"tmp_data_dir\": {\n",
       "        \"root\": \"/icgc/dkfzlsdf/analysis/B260/users/v390v/cnv_inference/data/tmp/ase_to_cnv\",\n",
       "        \"sample\": \"/icgc/dkfzlsdf/analysis/B260/users/v390v/cnv_inference/data/tmp/ase_to_cnv/first_sample/scDNA\"\n",
       "    },\n",
       "    \"tmp_data\": {\n",
       "        \"gene_counts\": \"/icgc/dkfzlsdf/analysis/B260/users/v390v/cnv_inference/data/tmp/ase_to_cnv/first_sample/scDNA/gene_counts.pkl\",\n",
       "        \"clustering\": \"/icgc/dkfzlsdf/analysis/B260/users/v390v/cnv_inference/data/tmp/ase_to_cnv/first_sample/scDNA/clustering.pkl\",\n",
       "        \"ase\": \"/icgc/dkfzlsdf/analysis/B260/users/v390v/cnv_inference/data/tmp/ase_to_cnv/first_sample/scDNA/ase.pkl\"\n",
       "    },\n",
       "    \"img_dir\": {\n",
       "        \"root\": \"/icgc/dkfzlsdf/analysis/B260/users/v390v/cnv_inference/img/ase_to_cnv\",\n",
       "        \"sample\": \"/icgc/dkfzlsdf/analysis/B260/users/v390v/cnv_inference/img/ase_to_cnv/first_sample\"\n",
       "    }\n",
       "}"
      ]
     },
     "execution_count": 3,
     "metadata": {},
     "output_type": "execute_result"
    }
   ],
   "source": [
    "workspace[\"scDNA\"]"
   ]
  },
  {
   "cell_type": "code",
   "execution_count": 4,
   "metadata": {},
   "outputs": [
    {
     "data": {
      "text/html": [
       "<table><tr><th>Task name: </th><td>ase_to_cnv</td></tr></table><table><tr><th>Experiment info: </th><td><table><tr><th>data</th><td>scRNA</td></tr><tr><th>sample</th><td>first_sample</td></tr></table></td></tr></table><table><tr><th>Datasets: </th><td><ul><li>gene_counts</li><li>clustering</li><li>ase</li></ul></td></tr></table><table><tr><th>Created on </th><td>2019-08-13 17:26</td></tr></table><table><tr><th>Contents: </th><td><table><tr><th>task_name</th><td>ase_to_cnv</td></tr><tr><th>experiment_info</th><td><table><tr><th>data</th><td>scRNA</td></tr><tr><th>sample</th><td>first_sample</td></tr></table></td></tr><tr><th>cookiecutter_info</th><td><table><tr><th>root</th><td>/icgc/dkfzlsdf/analysis/B260/users/v390v/cnv_inference</td></tr><tr><th>lib</th><td>/icgc/dkfzlsdf/analysis/B260/users/v390v/cnv_inference/lib</td></tr><tr><th>notebooks</th><td>/icgc/dkfzlsdf/analysis/B260/users/v390v/cnv_inference/notebooks</td></tr><tr><th>src</th><td>/icgc/dkfzlsdf/analysis/B260/users/v390v/cnv_inference/src</td></tr><tr><th>img</th><td>/icgc/dkfzlsdf/analysis/B260/users/v390v/cnv_inference/img</td></tr><tr><th>data</th><td>/icgc/dkfzlsdf/analysis/B260/users/v390v/cnv_inference/data</td></tr><tr><th>raw</th><td>/icgc/dkfzlsdf/analysis/B260/users/v390v/cnv_inference/data/raw</td></tr><tr><th>tmp</th><td>/icgc/dkfzlsdf/analysis/B260/users/v390v/cnv_inference/data/tmp</td></tr><tr><th>processed</th><td>/icgc/dkfzlsdf/analysis/B260/users/v390v/cnv_inference/data/processed</td></tr></table></td></tr><tr><th>config_dir</th><td>/icgc/dkfzlsdf/analysis/B260/users/v390v/cnv_inference/notebooks/ase_to_cnv</td></tr><tr><th>data_dir</th><td><table><tr><th>root</th><td>/icgc/dkfzlsdf/analysis/B260/users/v390v/cnv_inference/data/processed</td></tr><tr><th>sample</th><td>/icgc/dkfzlsdf/analysis/B260/users/v390v/cnv_inference/data/processed/first_sample/scRNA</td></tr></table></td></tr><tr><th>data</th><td><table><tr><th>gene_counts</th><td>/icgc/dkfzlsdf/analysis/B260/users/v390v/cnv_inference/data/processed/first_sample/scRNA/PC1_PC2_span_75%_gene_counts.pkl</td></tr><tr><th>clustering</th><td>/icgc/dkfzlsdf/analysis/B260/users/v390v/cnv_inference/data/processed/first_sample/scRNA/seurat_clustering.pkl</td></tr><tr><th>ase</th><td>/icgc/dkfzlsdf/analysis/B260/users/v390v/cnv_inference/data/processed/first_sample/scRNA/seurat_ase.pkl</td></tr></table></td></tr><tr><th>tmp_data_dir</th><td><table><tr><th>root</th><td>/icgc/dkfzlsdf/analysis/B260/users/v390v/cnv_inference/data/tmp/ase_to_cnv</td></tr><tr><th>sample</th><td>/icgc/dkfzlsdf/analysis/B260/users/v390v/cnv_inference/data/tmp/ase_to_cnv/first_sample/scRNA</td></tr></table></td></tr><tr><th>tmp_data</th><td><table><tr><th>gene_counts</th><td>/icgc/dkfzlsdf/analysis/B260/users/v390v/cnv_inference/data/tmp/ase_to_cnv/first_sample/scRNA/gene_counts.pkl</td></tr><tr><th>clustering</th><td>/icgc/dkfzlsdf/analysis/B260/users/v390v/cnv_inference/data/tmp/ase_to_cnv/first_sample/scRNA/clustering.pkl</td></tr><tr><th>ase</th><td>/icgc/dkfzlsdf/analysis/B260/users/v390v/cnv_inference/data/tmp/ase_to_cnv/first_sample/scRNA/ase.pkl</td></tr></table></td></tr><tr><th>img_dir</th><td><table><tr><th>root</th><td>/icgc/dkfzlsdf/analysis/B260/users/v390v/cnv_inference/img/ase_to_cnv</td></tr><tr><th>sample</th><td>/icgc/dkfzlsdf/analysis/B260/users/v390v/cnv_inference/img/ase_to_cnv/first_sample</td></tr></table></td></tr></table></td></tr></table>"
      ],
      "text/plain": [
       "Task name: ase_to_cnv\n",
       "Experiment info:\n",
       "{\n",
       "    \"data\": \"scRNA\",\n",
       "    \"sample\": \"first_sample\"\n",
       "}\n",
       "Config generated on 2019-08-13 17:26\n",
       "Contents:\n",
       "{\n",
       "    \"task_name\": \"ase_to_cnv\",\n",
       "    \"experiment_info\": {\n",
       "        \"data\": \"scRNA\",\n",
       "        \"sample\": \"first_sample\"\n",
       "    },\n",
       "    \"cookiecutter_info\": {\n",
       "        \"root\": \"/icgc/dkfzlsdf/analysis/B260/users/v390v/cnv_inference\",\n",
       "        \"lib\": \"/icgc/dkfzlsdf/analysis/B260/users/v390v/cnv_inference/lib\",\n",
       "        \"notebooks\": \"/icgc/dkfzlsdf/analysis/B260/users/v390v/cnv_inference/notebooks\",\n",
       "        \"src\": \"/icgc/dkfzlsdf/analysis/B260/users/v390v/cnv_inference/src\",\n",
       "        \"img\": \"/icgc/dkfzlsdf/analysis/B260/users/v390v/cnv_inference/img\",\n",
       "        \"data\": \"/icgc/dkfzlsdf/analysis/B260/users/v390v/cnv_inference/data\",\n",
       "        \"raw\": \"/icgc/dkfzlsdf/analysis/B260/users/v390v/cnv_inference/data/raw\",\n",
       "        \"tmp\": \"/icgc/dkfzlsdf/analysis/B260/users/v390v/cnv_inference/data/tmp\",\n",
       "        \"processed\": \"/icgc/dkfzlsdf/analysis/B260/users/v390v/cnv_inference/data/processed\"\n",
       "    },\n",
       "    \"config_dir\": \"/icgc/dkfzlsdf/analysis/B260/users/v390v/cnv_inference/notebooks/ase_to_cnv\",\n",
       "    \"data_dir\": {\n",
       "        \"root\": \"/icgc/dkfzlsdf/analysis/B260/users/v390v/cnv_inference/data/processed\",\n",
       "        \"sample\": \"/icgc/dkfzlsdf/analysis/B260/users/v390v/cnv_inference/data/processed/first_sample/scRNA\"\n",
       "    },\n",
       "    \"data\": {\n",
       "        \"gene_counts\": \"/icgc/dkfzlsdf/analysis/B260/users/v390v/cnv_inference/data/processed/first_sample/scRNA/PC1_PC2_span_75%_gene_counts.pkl\",\n",
       "        \"clustering\": \"/icgc/dkfzlsdf/analysis/B260/users/v390v/cnv_inference/data/processed/first_sample/scRNA/seurat_clustering.pkl\",\n",
       "        \"ase\": \"/icgc/dkfzlsdf/analysis/B260/users/v390v/cnv_inference/data/processed/first_sample/scRNA/seurat_ase.pkl\"\n",
       "    },\n",
       "    \"tmp_data_dir\": {\n",
       "        \"root\": \"/icgc/dkfzlsdf/analysis/B260/users/v390v/cnv_inference/data/tmp/ase_to_cnv\",\n",
       "        \"sample\": \"/icgc/dkfzlsdf/analysis/B260/users/v390v/cnv_inference/data/tmp/ase_to_cnv/first_sample/scRNA\"\n",
       "    },\n",
       "    \"tmp_data\": {\n",
       "        \"gene_counts\": \"/icgc/dkfzlsdf/analysis/B260/users/v390v/cnv_inference/data/tmp/ase_to_cnv/first_sample/scRNA/gene_counts.pkl\",\n",
       "        \"clustering\": \"/icgc/dkfzlsdf/analysis/B260/users/v390v/cnv_inference/data/tmp/ase_to_cnv/first_sample/scRNA/clustering.pkl\",\n",
       "        \"ase\": \"/icgc/dkfzlsdf/analysis/B260/users/v390v/cnv_inference/data/tmp/ase_to_cnv/first_sample/scRNA/ase.pkl\"\n",
       "    },\n",
       "    \"img_dir\": {\n",
       "        \"root\": \"/icgc/dkfzlsdf/analysis/B260/users/v390v/cnv_inference/img/ase_to_cnv\",\n",
       "        \"sample\": \"/icgc/dkfzlsdf/analysis/B260/users/v390v/cnv_inference/img/ase_to_cnv/first_sample\"\n",
       "    }\n",
       "}"
      ]
     },
     "execution_count": 4,
     "metadata": {},
     "output_type": "execute_result"
    }
   ],
   "source": [
    "workspace[\"scRNA\"]"
   ]
  }
 ],
 "metadata": {
  "kernelspec": {
   "display_name": "Python [conda env:.conda-mb] *",
   "language": "python",
   "name": "conda-env-.conda-mb-py"
  },
  "language_info": {
   "codemirror_mode": {
    "name": "ipython",
    "version": 3
   },
   "file_extension": ".py",
   "mimetype": "text/x-python",
   "name": "python",
   "nbconvert_exporter": "python",
   "pygments_lexer": "ipython3",
   "version": "3.7.3"
  }
 },
 "nbformat": 4,
 "nbformat_minor": 2
}
