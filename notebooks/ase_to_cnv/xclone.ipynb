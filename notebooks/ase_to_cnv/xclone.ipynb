{
 "cells": [
  {
   "cell_type": "code",
   "execution_count": 12,
   "metadata": {},
   "outputs": [
    {
     "name": "stdout",
     "output_type": "stream",
     "text": [
      "The autoreload extension is already loaded. To reload it, use:\n",
      "  %reload_ext autoreload\n"
     ]
    }
   ],
   "source": [
    "%load_ext autoreload\n",
    "%autoreload 2\n",
    "\n",
    "import os\n",
    "import subprocess\n",
    "import sys\n",
    "import warnings\n",
    "\n",
    "warnings.simplefilter(\"ignore\", FutureWarning)\n",
    "\n",
    "%aimport cnv_inference_config\n",
    "project_config = cnv_inference_config\n",
    "os.chdir(project_config.MB_ROOT)\n",
    "\n",
    "from collections import Counter, defaultdict, OrderedDict\n",
    "import itertools\n",
    "from itertools import product as cartesian\n",
    "import multiprocessing as mp\n",
    "import pickle\n",
    "\n",
    "from joblib import Parallel, delayed\n",
    "import numpy as np\n",
    "import pandas as pd\n",
    "import scipy as sp\n",
    "import scipy.stats as sps\n",
    "from tqdm import tqdm, tqdm_notebook\n",
    "\n",
    "import matplotlib.pyplot as plt\n",
    "import seaborn as sns\n",
    "\n",
    "import toolkit\n",
    "import util\n",
    "from workspace.workspace_manager import WorkspaceManager\n",
    "\n",
    "sns.set()\n",
    "\n",
    "workspace = {}\n",
    "for data_type in [\"scDNA\", \"scRNA\"]:\n",
    "    workspace.update({ \n",
    "        data_type : WorkspaceManager(\n",
    "            task_name=\"ase_to_cnv\",\n",
    "            experiment_info={\"data\" : data_type},\n",
    "            verbose=True\n",
    "        )\n",
    "    })\n",
    "    workspace[data_type].load_workspace()"
   ]
  },
  {
   "cell_type": "code",
   "execution_count": 13,
   "metadata": {},
   "outputs": [
    {
     "data": {
      "application/vnd.jupyter.widget-view+json": {
       "model_id": "5bc08e2e2d1d46ed8b73135cd5f339ab",
       "version_major": 2,
       "version_minor": 0
      },
      "text/plain": [
       "HBox(children=(IntProgress(value=0, description='scDNA, loading datasets into RAM', max=2, style=ProgressStyle…"
      ]
     },
     "metadata": {},
     "output_type": "display_data"
    },
    {
     "data": {
      "application/vnd.jupyter.widget-view+json": {
       "model_id": "266732042f584438ae3cc97046e06d8c",
       "version_major": 2,
       "version_minor": 0
      },
      "text/plain": [
       "HBox(children=(IntProgress(value=0, description='scRNA, loading datasets into RAM', max=2, style=ProgressStyle…"
      ]
     },
     "metadata": {},
     "output_type": "display_data"
    }
   ],
   "source": [
    "data = {}\n",
    "for data_type in [\"scDNA\", \"scRNA\"]:\n",
    "    data[data_type] = {\n",
    "        data_name :\n",
    "        util.pickle_load(data_dump)\n",
    "        for data_name, data_dump in tqdm_notebook(\n",
    "            workspace[data_type].tmp_data.items(),\n",
    "            f\"{data_type}, loading datasets into RAM\"\n",
    "        )\n",
    "    }\n",
    "    \n",
    "for modality in [\"scDNA\", \"scRNA\"]:\n",
    "    data[modality][\"block_counts\"].rename(\n",
    "        columns={\"GENE_ID\" : \"BLOCK_ID\"}, \n",
    "        inplace=True\n",
    "    )"
   ]
  },
  {
   "cell_type": "code",
   "execution_count": 14,
   "metadata": {},
   "outputs": [
    {
     "name": "stdout",
     "output_type": "stream",
     "text": [
      "Datasets have 8776 blocks in common\n"
     ]
    }
   ],
   "source": [
    "common_blocks = (set(data[\"scDNA\"][\"block_counts\"].BLOCK_ID) \n",
    "                & set(data[\"scRNA\"][\"block_counts\"].BLOCK_ID))\n",
    "\n",
    "print(\"Datasets have {} blocks in common\".format(len(common_blocks)))\n",
    "\n",
    "for modality in workspace.keys():\n",
    "    data[modality][\"block_counts\"] = util.filter_by_isin(\n",
    "        data[modality][\"block_counts\"], \n",
    "        \"BLOCK_ID\", \n",
    "        common_blocks\n",
    "    ).reset_index(drop=True)\n",
    "\n",
    "common_block_ids = data[\"scDNA\"][\"block_counts\"][\"BLOCK_ID\"].values.astype(int)\n",
    "    \n",
    "assert (data[\"scDNA\"][\"block_counts\"].shape[0] \n",
    "        == data[\"scRNA\"][\"block_counts\"].shape[0])"
   ]
  },
  {
   "cell_type": "code",
   "execution_count": 15,
   "metadata": {},
   "outputs": [],
   "source": [
    "M_prime = toolkit.extract_barcodes(data[\"scDNA\"][\"block_counts\"]).size\n",
    "M = data[\"scRNA\"][\"clustering\"][\"LABEL\"].unique().size \n",
    "# M = toolkit.extract_barcodes(data[\"scRNA\"][\"block_counts\"]).size\n",
    "K = data[\"scDNA\"][\"clustering\"][\"LABEL\"].unique().size\n",
    "N_G = data[\"scDNA\"][\"block_counts\"].shape[0]\n",
    "T_max = 5\n",
    "tau = np.concatenate([[(t - k, k) for k in range(t + 1)] \n",
    "                      for t in range(1, T_max +1)])\n",
    "conf_to_num = {tuple(cnv_config) : i for i, cnv_config in enumerate(tau)}\n",
    "num_to_conf = {val : key for key, val in conf_to_num.items()}"
   ]
  },
  {
   "cell_type": "code",
   "execution_count": 16,
   "metadata": {},
   "outputs": [],
   "source": [
    "D_G_prime = toolkit.extract_counts(data[\"scDNA\"][\"block_counts\"]).values\n",
    "D_G = toolkit.extract_counts(\n",
    "    toolkit.aggregate_by_barcode_groups(\n",
    "        data[\"scRNA\"][\"block_counts\"],\n",
    "        data[\"scRNA\"][\"clustering\"]\n",
    "    )\n",
    ").values\n",
    "\n",
    "A_G_prime = toolkit.extract_counts(\n",
    "    data[\"scDNA\"][\"block_counts\"], \n",
    "    suffix=\"ad\"\n",
    ").values\n",
    "A_G = toolkit.extract_counts(\n",
    "    toolkit.aggregate_by_barcode_groups(\n",
    "        data[\"scRNA\"][\"block_counts\"], \n",
    "        data[\"scRNA\"][\"clustering\"]\n",
    "    ),\n",
    "    suffix=\"ad\"\n",
    ").values"
   ]
  },
  {
   "cell_type": "code",
   "execution_count": 17,
   "metadata": {},
   "outputs": [],
   "source": [
    "f = data[\"scDNA\"][\"clustering\"][\"LABEL\"].value_counts().sort_index().values / M_prime\n",
    "assert np.isclose(f.sum(), 1)"
   ]
  },
  {
   "cell_type": "code",
   "execution_count": 18,
   "metadata": {
    "scrolled": true
   },
   "outputs": [
    {
     "data": {
      "application/vnd.jupyter.widget-view+json": {
       "model_id": "05e5c90b5283488f8cf9f5f267496f59",
       "version_major": 2,
       "version_minor": 0
      },
      "text/plain": [
       "HBox(children=(IntProgress(value=0, description='reading CNV information', max=9, style=ProgressStyle(descript…"
      ]
     },
     "metadata": {},
     "output_type": "display_data"
    },
    {
     "name": "stdout",
     "output_type": "stream",
     "text": [
      "(18011, 4) 2.0\n",
      "(18011, 4) 2.0\n",
      "(18011, 4) 2.0\n",
      "(18011, 4) 2.0\n",
      "(18011, 4) 4.0\n",
      "(18011, 4) 2.0\n",
      "(18011, 4) 2.0\n",
      "(18011, 4) 2.0\n",
      "(18011, 4) 2.0\n"
     ]
    }
   ],
   "source": [
    "rodata_dir = \"/icgc/dkfzlsdf/analysis/B260/users/v390v/cnv_inference/data/raw/first_sample\"\n",
    "cnv = []\n",
    "for i in tqdm_notebook(range(9), \"reading CNV information\"):\n",
    "    snp_cnv = pd.read_csv(\n",
    "        f\"{rodata_dir}/TabHaplotypeblock_with_phasedSNPs_{i + 1}.bed\", \n",
    "        usecols=[0, 1, 2, 3],\n",
    "        names=[\"CHROM\", \"START\", \"END\", \"CNV\"],\n",
    "        sep='\\t'\n",
    "    )\n",
    "    snp_cnv.drop_duplicates(inplace=True)\n",
    "    print(snp_cnv.shape, np.median(snp_cnv[\"CNV\"]))\n",
    "    cnv.append(snp_cnv[\"CNV\"].values.astype(int))\n",
    "cnv = np.column_stack(cnv)\n",
    "cnv[cnv > T_max] = T_max # CNV number clipping"
   ]
  },
  {
   "cell_type": "code",
   "execution_count": 19,
   "metadata": {
    "scrolled": true
   },
   "outputs": [
    {
     "data": {
      "text/plain": [
       "<matplotlib.axes._subplots.AxesSubplot at 0x7f9417342ac8>"
      ]
     },
     "execution_count": 19,
     "metadata": {},
     "output_type": "execute_result"
    },
    {
     "data": {
      "image/png": "[encoded data removed]",
      "text/plain": [
       "<Figure size 432x288 with 2 Axes>"
      ]
     },
     "metadata": {},
     "output_type": "display_data"
    }
   ],
   "source": [
    "sns.heatmap(cnv, cmap=\"BuGn_r\")"
   ]
  },
  {
   "cell_type": "code",
   "execution_count": 20,
   "metadata": {},
   "outputs": [
    {
     "data": {
      "text/plain": [
       "2    47\n",
       "1    45\n",
       "4    33\n",
       "5    31\n",
       "7    25\n",
       "3    25\n",
       "6    24\n",
       "8    22\n",
       "9    16\n",
       "Name: LABEL, dtype: int64"
      ]
     },
     "execution_count": 20,
     "metadata": {},
     "output_type": "execute_result"
    }
   ],
   "source": [
    "data[\"scDNA\"][\"clustering\"][\"LABEL\"].value_counts()"
   ]
  },
  {
   "cell_type": "code",
   "execution_count": 21,
   "metadata": {},
   "outputs": [],
   "source": [
    "data[\"scDNA\"][\"clonal_block_counts\"] = toolkit.aggregate_by_barcode_groups(\n",
    "    data[\"scDNA\"][\"block_counts\"],\n",
    "    data[\"scDNA\"][\"clustering\"]\n",
    ")\n",
    "\n",
    "D_C_prime = toolkit.extract_counts(\n",
    "    data[\"scDNA\"][\"clonal_block_counts\"]\n",
    ").values\n",
    "A_C_prime = toolkit.extract_counts(\n",
    "    data[\"scDNA\"][\"clonal_block_counts\"], \"ad\"\n",
    ").values"
   ]
  },
  {
   "cell_type": "code",
   "execution_count": 22,
   "metadata": {
    "code_folding": []
   },
   "outputs": [],
   "source": [
    "def beta_mode(a, b):\n",
    "    return (a - 1) / (a + b - 2)"
   ]
  },
  {
   "cell_type": "code",
   "execution_count": 23,
   "metadata": {},
   "outputs": [
    {
     "data": {
      "application/vnd.jupyter.widget-view+json": {
       "model_id": "9f91171019ab4a8e8fa9c1e98c7bf7ff",
       "version_major": 2,
       "version_minor": 0
      },
      "text/plain": [
       "HBox(children=(IntProgress(value=1, bar_style='info', max=1), HTML(value='')))"
      ]
     },
     "metadata": {},
     "output_type": "display_data"
    }
   ],
   "source": [
    "T = np.full_like(D_C_prime, np.nan)\n",
    "for block_id, clone_id in tqdm_notebook(cartesian(range(N_G), range(K))):\n",
    "    t = cnv[block_id, clone_id]\n",
    "    ad = A_C_prime[block_id, clone_id]\n",
    "    dp = D_C_prime[block_id, clone_id]\n",
    "    if dp == 0 or dp is np.nan:\n",
    "        continue\n",
    "    ase_ratio = ad / dp\n",
    "    offset = np.argmin(np.abs(np.arange(t + 1) / t - ase_ratio))\n",
    "    T[block_id, clone_id] = int(conf_to_num[(t, 0)] + offset)"
   ]
  },
  {
   "cell_type": "code",
   "execution_count": 24,
   "metadata": {},
   "outputs": [],
   "source": [
    "# ASE ratios are stored as (\\alpha, \\beta) parameter tuples\n",
    "# of the underlying Beta distributions\n",
    "Alpha_G = np.zeros(shape=(N_G, tau.shape[0]))\n",
    "Beta_G = np.zeros(shape=(N_G, tau.shape[0]))\n",
    "Theta_G = np.zeros(shape=(N_G, tau.shape[0])) "
   ]
  },
  {
   "cell_type": "code",
   "execution_count": 25,
   "metadata": {
    "code_folding": [],
    "scrolled": true
   },
   "outputs": [
    {
     "data": {
      "application/vnd.jupyter.widget-view+json": {
       "model_id": "aee6dc93c2ca49eea25d4ab461479c58",
       "version_major": 2,
       "version_minor": 0
      },
      "text/plain": [
       "HBox(children=(IntProgress(value=1, bar_style='info', max=1), HTML(value='')))"
      ]
     },
     "metadata": {},
     "output_type": "display_data"
    }
   ],
   "source": [
    "eps = 1\n",
    "for block_id, cnv_config in tqdm_notebook(itertools.product(range(N_G), tau)):\n",
    "    k0, k1 = cnv_config\n",
    "    t = k0 + k1\n",
    "    \n",
    "    if k0 == 0:\n",
    "        alpha, beta = 1, 1 + eps\n",
    "    elif k1 == 0:\n",
    "        alpha, beta = 1 + eps, 1\n",
    "    else:\n",
    "        if k1 > k0:\n",
    "            alpha = 1 + eps\n",
    "            beta = k1 / k0 * alpha + (k0 - k1) / k0\n",
    "        else:\n",
    "            beta = 1 + eps\n",
    "            alpha = k0 / k1 * beta + (k1 - k0) / k1\n",
    "        assert np.isclose(beta_mode(alpha, beta), k0 / t)\n",
    "    \n",
    "    assert alpha >= 1 and beta >= 1\n",
    "    config_id = conf_to_num[tuple(cnv_config)]\n",
    "    Alpha_G[block_id, config_id] = alpha\n",
    "    Beta_G[block_id, config_id] = beta\n",
    "    Theta_G[block_id, config_id] = k0 / t"
   ]
  },
  {
   "cell_type": "code",
   "execution_count": 26,
   "metadata": {},
   "outputs": [],
   "source": [
    "def update_I_G(cell_id, Theta_G):\n",
    "    logprobas = np.array([\n",
    "        cell_loglikelihood(\n",
    "            cell_id, \n",
    "            A_G[:, cell_id], \n",
    "            D_G[:, cell_id], \n",
    "            Theta_G[:, clone_id]\n",
    "        ) \n",
    "        + np.log(f[clone_id])\n",
    "        for clone_id in range(K)\n",
    "    ])\n",
    "#     print(f\"{cell_id}:\\t {logprobas}\")\n",
    "    return sps.rv_discrete(\n",
    "       a=0, b=K, \n",
    "       values=[np.arange(K), np.abs(logprobas) / np.nansum(np.abs(logprobas))]\n",
    "    ).rvs()"
   ]
  },
  {
   "cell_type": "code",
   "execution_count": 27,
   "metadata": {},
   "outputs": [],
   "source": [
    "def cell_logit(cell_id, A, D, X):\n",
    "    ok_mask = ~(np.isnan(D) | (D == 0))\n",
    "    probas = sps.binom(\n",
    "        n=D[ok_mask], \n",
    "        p=X[ok_mask]\n",
    "    ).pmf(A[ok_mask])\n",
    "    return np.sum(np.log(probas[probas > 0]))\n",
    "\n",
    "\n",
    "def cell_likelihood(cell_id, A, D, X):\n",
    "    return np.exp(cell_logit(cell_id, A, D, X)).prod()\n",
    "\n",
    "\n",
    "def cell_loglikelihood(cell_id, A, D, X):\n",
    "    return cell_logit(cell_id, A, D, X).sum()"
   ]
  },
  {
   "cell_type": "code",
   "execution_count": 28,
   "metadata": {
    "scrolled": true
   },
   "outputs": [
    {
     "data": {
      "application/vnd.jupyter.widget-view+json": {
       "model_id": "0179e76552a7487a8fc16e956f7f8a40",
       "version_major": 2,
       "version_minor": 0
      },
      "text/plain": [
       "HBox(children=(IntProgress(value=0, description='updating I_G', max=10, style=ProgressStyle(description_width=…"
      ]
     },
     "metadata": {},
     "output_type": "display_data"
    }
   ],
   "source": [
    "I_G_prime = data[\"scDNA\"][\"clustering\"][\"LABEL\"].astype(int).values - 1 # to zero-indexing\n",
    "I_G = np.array(Parallel(16)(\n",
    "    delayed(update_I_G)(cell_id, Theta_G)\n",
    "    for cell_id in tqdm_notebook(range(M), \"updating I_G\")\n",
    "))"
   ]
  },
  {
   "cell_type": "code",
   "execution_count": 29,
   "metadata": {},
   "outputs": [
    {
     "data": {
      "application/vnd.jupyter.widget-view+json": {
       "model_id": "b91f1e57b0fd4b4aa3852b576472b9fe",
       "version_major": 2,
       "version_minor": 0
      },
      "text/plain": [
       "HBox(children=(IntProgress(value=0, description='updating H_G and X_G', max=268, style=ProgressStyle(descripti…"
      ]
     },
     "metadata": {},
     "output_type": "display_data"
    },
    {
     "data": {
      "application/vnd.jupyter.widget-view+json": {
       "model_id": "494ba42ffadd45afaf10c3793834ce1e",
       "version_major": 2,
       "version_minor": 0
      },
      "text/plain": [
       "HBox(children=(IntProgress(value=0, description='updating H_G and X_G', max=10, style=ProgressStyle(descriptio…"
      ]
     },
     "metadata": {},
     "output_type": "display_data"
    }
   ],
   "source": [
    "H_G_prime = np.full_like(D_G_prime, np.nan)\n",
    "X_G_prime = np.full_like(D_G_prime, np.nan)\n",
    "for cell_id in tqdm_notebook(range(M_prime), \"updating H_G and X_G\"):\n",
    "    H_G_prime[:, cell_id] = T[:, I_G_prime[cell_id]]\n",
    "    not_na_mask = ~np.isnan(H_G_prime[:, cell_id])\n",
    "    X_G_prime[not_na_mask, cell_id] = Theta_G[\n",
    "        not_na_mask, \n",
    "        H_G_prime[not_na_mask, cell_id].astype(int)\n",
    "    ]\n",
    "\n",
    "H_G = np.full_like(D_G, np.nan)\n",
    "X_G = np.full_like(D_G, np.nan)\n",
    "for cell_id in tqdm_notebook(range(M), \"updating H_G and X_G\"):\n",
    "    H_G[:, cell_id] = T[:, I_G[cell_id]]\n",
    "    not_na_mask = ~np.isnan(H_G[:, cell_id])\n",
    "    X_G[not_na_mask, cell_id] = Theta_G[\n",
    "        not_na_mask, \n",
    "        H_G[not_na_mask, cell_id].astype(int)\n",
    "    ]"
   ]
  },
  {
   "cell_type": "code",
   "execution_count": 30,
   "metadata": {},
   "outputs": [],
   "source": [
    "def classification_report(labels, title, outfile=None):\n",
    "                \n",
    "        sns.set(style=\"whitegrid\", font_scale=1.5);\n",
    "        fig, ax = plt.subplots(2, 1, figsize=(20,25))\n",
    "        ax[0].set_title(\"Cluster label assigned by XClone\", fontsize=20)\n",
    "        sns.countplot(\n",
    "            labels, \n",
    "            palette=#sns.color_palette(\"muted\", \n",
    "                      #                n_colors=np.unique(labels).size),\n",
    "            {\n",
    "#                 \"1\" : \"#3182bd\", #\"C0\",\n",
    "#                 \"2\" : \"#2ca25f\", #\"C2\",\n",
    "#                 \"3\" : \"#feb24c\"#\"C1\"\n",
    "                1 : \"xkcd:orange\",\n",
    "                2 : \"xkcd:azure\",\n",
    "                3 : \"xkcd:cyan\",\n",
    "                4 : \"xkcd:yellow\",\n",
    "                5 : \"xkcd:blue\",\n",
    "                6 : \"xkcd:red\",\n",
    "                7 : \"xkcd:pink\",\n",
    "                8 : \"xkcd:grey\",\n",
    "                9 : \"xkcd:black\"\n",
    "            },\n",
    "            ax=ax[0]\n",
    "        )\n",
    "\n",
    "    \n",
    "        ax[1].set_title(title)\n",
    "        \n",
    "        sns.scatterplot(\n",
    "            x=\"TSNE_1\", y=\"TSNE_2\", \n",
    "            hue=labels, \n",
    "            data=data[\"scRNA\"][\"clustering\"], \n",
    "            legend=\"full\",\n",
    "            palette=#sns.color_palette(\"muted\", \n",
    "                     #                 n_colors=np.unique(labels).size),\n",
    "            {\n",
    "#                 1 : \"#3182bd\", #\"C0\",\n",
    "#                 2 : \"#2ca25f\", #\"C2\",\n",
    "#                 3 : \"#feb24c\"#\"C1\"\n",
    "                1 : \"xkcd:orange\",\n",
    "                2 : \"xkcd:azure\",\n",
    "                3 : \"xkcd:cyan\",\n",
    "                4 : \"xkcd:yellow\",\n",
    "                5 : \"xkcd:blue\",\n",
    "                6 : \"xkcd:red\",\n",
    "                7 : \"xkcd:pink\",\n",
    "                8 : \"xkcd:grey\",\n",
    "                9 : \"xkcd:black\"\n",
    "            },\n",
    "            ax=ax[1]\n",
    "        );\n",
    "        ax[1].legend().get_frame().set_facecolor(\"white\");\n",
    "        ax[1].legend(frameon=False, bbox_to_anchor=(1,0.5), loc=\"center left\")\n",
    "        fig.subplots_adjust(right=0.75)\n",
    "        if outfile is not None:\n",
    "            fig.savefig(outfile, format=outfile.split('.')[-1], dpi=300)\n",
    "        plt.close()\n",
    "        plt.clf()"
   ]
  },
  {
   "cell_type": "code",
   "execution_count": 31,
   "metadata": {},
   "outputs": [],
   "source": [
    "def total_loglikelihood(X_G_prime, X_G):\n",
    "    return (\n",
    "        np.sum([\n",
    "            cell_loglikelihood(cell_id, A_G_prime[:, cell_id], D_G_prime[:, cell_id], X_G_prime[:, cell_id])\n",
    "            for cell_id in range(M)#tqdm_notebook(range(M_prime), \"scDNA: computing log L\")\n",
    "        ]) + np.sum([\n",
    "            cell_loglikelihood(cell_id, A_G[:, cell_id], D_G[:, cell_id], X_G[:, cell_id])\n",
    "            for cell_id in range(M)#tqdm_notebook(range(M), \"scRNA: computing log L\")\n",
    "        ])   \n",
    "    )"
   ]
  },
  {
   "cell_type": "code",
   "execution_count": 33,
   "metadata": {
    "code_folding": []
   },
   "outputs": [
    {
     "name": "stdout",
     "output_type": "stream",
     "text": [
      "Initial prior total loglikelihood:\t -400198.14423451526\n"
     ]
    },
    {
     "name": "stderr",
     "output_type": "stream",
     "text": [
      "/home/v390v/.conda/envs/mb/lib/python3.7/site-packages/ipykernel_launcher.py:7: RuntimeWarning: invalid value encountered in greater\n",
      "  import sys\n"
     ]
    },
    {
     "data": {
      "application/vnd.jupyter.widget-view+json": {
       "model_id": "7bcc6983bd6341af95da512f503d3380",
       "version_major": 2,
       "version_minor": 0
      },
      "text/plain": [
       "HBox(children=(IntProgress(value=1, bar_style='info', description='computing posterior', max=1, style=Progress…"
      ]
     },
     "metadata": {},
     "output_type": "display_data"
    },
    {
     "data": {
      "application/vnd.jupyter.widget-view+json": {
       "model_id": "cfd8a88217e8478b953680ed2bfe66a9",
       "version_major": 2,
       "version_minor": 0
      },
      "text/plain": [
       "HBox(children=(IntProgress(value=0, max=268), HTML(value='')))"
      ]
     },
     "metadata": {},
     "output_type": "display_data"
    },
    {
     "data": {
      "application/vnd.jupyter.widget-view+json": {
       "model_id": "684219fbbbb6403db27be115371013d8",
       "version_major": 2,
       "version_minor": 0
      },
      "text/plain": [
       "HBox(children=(IntProgress(value=0, max=10), HTML(value='')))"
      ]
     },
     "metadata": {},
     "output_type": "display_data"
    },
    {
     "name": "stdout",
     "output_type": "stream",
     "text": [
      "Initial posterior total loglikelihood:\t -374280.8431529163\n"
     ]
    }
   ],
   "source": [
    "prior_total_loglikelihood = total_loglikelihood(X_G_prime, X_G)\n",
    "print(\"Initial prior total loglikelihood:\\t\", prior_total_loglikelihood)\n",
    "for block_id, cnv_code in tqdm_notebook(cartesian(range(N_G), range(tau.shape[0])), \"computing posterior\"):\n",
    "    a_prime = A_G_prime[block_id, :]\n",
    "    d_prime = D_G_prime[block_id, :]\n",
    "    h_prime_mask = H_G_prime[block_id, :] == cnv_code\n",
    "    \n",
    "    a = A_G[block_id, :]\n",
    "    d = D_G[block_id, :]\n",
    "    h_mask = H_G[block_id, :] == cnv_code\n",
    "    \n",
    "    u = np.nansum(np.hstack((a_prime * h_prime_mask, a * h_mask)))  \n",
    "    v = np.nansum(np.hstack(((d_prime - a_prime) * h_prime_mask, (d - a) * h_mask)))\n",
    "\n",
    "    assert u >= 0, v >= 0\n",
    "    Alpha_G[block_id, cnv_code] += u\n",
    "    Beta_G[block_id, cnv_code] += v\n",
    "\n",
    "Theta_G = sps.beta(a=Alpha_G, b=Beta_G).rvs(size=Alpha_G.shape)  \n",
    "    \n",
    "for cell_id in tqdm_notebook(range(M_prime)):\n",
    "    not_na_mask = ~np.isnan(H_G_prime[:, cell_id])\n",
    "    X_G_prime[not_na_mask, cell_id] = Theta_G[not_na_mask, \n",
    "                                              H_G_prime[not_na_mask, cell_id].astype(int)]\n",
    "\n",
    "for cell_id in tqdm_notebook(range(M)):\n",
    "    not_na_mask = ~np.isnan(H_G[:, cell_id])\n",
    "    X_G[not_na_mask, cell_id] = Theta_G[not_na_mask, \n",
    "                                        H_G[not_na_mask, cell_id].astype(int)]\n",
    "    \n",
    "posterior_total_loglikelihood = total_loglikelihood(X_G_prime, X_G)\n",
    "print(\"Initial posterior total loglikelihood:\\t\", posterior_total_loglikelihood)\n",
    "# assert posterior_total_loglikelihood > prior_total_loglikelihood"
   ]
  },
  {
   "cell_type": "code",
   "execution_count": null,
   "metadata": {
    "code_folding": [],
    "scrolled": false
   },
   "outputs": [
    {
     "name": "stdout",
     "output_type": "stream",
     "text": [
      "-374280.8431529163\n"
     ]
    },
    {
     "data": {
      "application/vnd.jupyter.widget-view+json": {
       "model_id": "c8b6acd344af47409f5741381533ea48",
       "version_major": 2,
       "version_minor": 0
      },
      "text/plain": [
       "HBox(children=(IntProgress(value=0, description='sampling iteration', max=10000, style=ProgressStyle(descripti…"
      ]
     },
     "metadata": {},
     "output_type": "display_data"
    },
    {
     "name": "stdout",
     "output_type": "stream",
     "text": [
      "% changed:\t 90.0\n",
      "Counter({9: 2, 8: 2, 6: 2, 5: 1, 7: 1, 1: 1, 2: 1})\n"
     ]
    },
    {
     "name": "stderr",
     "output_type": "stream",
     "text": [
      "/home/v390v/.conda/envs/mb/lib/python3.7/site-packages/ipykernel_launcher.py:7: RuntimeWarning: invalid value encountered in greater\n",
      "  import sys\n"
     ]
    },
    {
     "name": "stdout",
     "output_type": "stream",
     "text": [
      "Iter 0:\t loglikelihood of -382604.71953687764\n",
      "% changed:\t 100.0\n",
      "Counter({3: 2, 1: 2, 8: 1, 2: 1, 5: 1, 9: 1, 4: 1, 6: 1})\n",
      "Iter 1:\t loglikelihood of -384216.7253803791\n",
      "% changed:\t 90.0\n",
      "Counter({1: 2, 5: 2, 6: 2, 2: 1, 7: 1, 8: 1, 9: 1})\n",
      "Iter 2:\t loglikelihood of -385023.0907452116\n",
      "% changed:\t 80.0\n",
      "Counter({6: 3, 7: 2, 5: 2, 2: 1, 3: 1, 1: 1})\n",
      "Iter 3:\t loglikelihood of -374947.07764005905\n",
      "% changed:\t 90.0\n",
      "Counter({3: 3, 5: 2, 7: 1, 1: 1, 9: 1, 6: 1, 2: 1})\n",
      "Iter 4:\t loglikelihood of -373442.07391015114\n",
      "UPDATE ASSIGNMENT\n",
      "% changed:\t 80.0\n",
      "Counter({5: 3, 7: 3, 8: 2, 9: 1, 2: 1})\n",
      "Iter 5:\t loglikelihood of -381789.09300347936\n",
      "% changed:\t 90.0\n",
      "Counter({5: 4, 2: 4, 6: 1, 8: 1})\n",
      "Iter 6:\t loglikelihood of -397017.06126588525\n",
      "% changed:\t 100.0\n",
      "Counter({2: 2, 8: 2, 9: 2, 3: 1, 5: 1, 7: 1, 6: 1})\n",
      "Iter 7:\t loglikelihood of -372113.6197365558\n",
      "UPDATE ASSIGNMENT\n",
      "% changed:\t 100.0\n",
      "Counter({6: 3, 5: 2, 8: 2, 4: 1, 3: 1, 1: 1})\n",
      "Iter 8:\t loglikelihood of -387348.3458155921\n",
      "% changed:\t 100.0\n",
      "Counter({2: 2, 7: 2, 4: 2, 1: 1, 9: 1, 5: 1, 6: 1})\n",
      "Iter 9:\t loglikelihood of -370783.4860132851\n",
      "UPDATE ASSIGNMENT\n",
      "% changed:\t 90.0\n",
      "Counter({3: 4, 2: 3, 7: 1, 5: 1, 6: 1})\n",
      "Iter 10:\t loglikelihood of -366393.7310065485\n",
      "UPDATE ASSIGNMENT\n",
      "% changed:\t 90.0\n",
      "Counter({6: 2, 8: 2, 2: 2, 7: 2, 4: 1, 1: 1})\n",
      "Iter 11:\t loglikelihood of -354652.4231740141\n",
      "UPDATE ASSIGNMENT\n",
      "% changed:\t 80.0\n",
      "Counter({6: 2, 8: 2, 2: 2, 5: 2, 1: 2})\n",
      "Iter 12:\t loglikelihood of -362208.69023155665\n",
      "% changed:\t 100.0\n",
      "Counter({3: 3, 8: 2, 9: 2, 6: 1, 5: 1, 1: 1})\n",
      "Iter 13:\t loglikelihood of -354620.49962442834\n",
      "UPDATE ASSIGNMENT\n",
      "% changed:\t 90.0\n",
      "Counter({6: 3, 1: 2, 9: 1, 5: 1, 8: 1, 4: 1, 3: 1})\n",
      "Iter 14:\t loglikelihood of -359592.00637376163\n",
      "% changed:\t 80.0\n",
      "Counter({6: 3, 9: 2, 3: 1, 2: 1, 1: 1, 4: 1, 7: 1})\n",
      "Iter 15:\t loglikelihood of -355874.26803916297\n",
      "% changed:\t 80.0\n",
      "Counter({8: 3, 2: 2, 6: 2, 4: 1, 5: 1, 7: 1})\n",
      "Iter 16:\t loglikelihood of -352397.47457805614\n",
      "UPDATE ASSIGNMENT\n",
      "% changed:\t 90.0\n",
      "Counter({1: 3, 9: 2, 8: 1, 6: 1, 3: 1, 7: 1, 5: 1})\n",
      "Iter 17:\t loglikelihood of -353304.5639578159\n",
      "% changed:\t 90.0\n",
      "Counter({2: 2, 6: 2, 7: 2, 3: 2, 1: 1, 4: 1})\n",
      "Iter 18:\t loglikelihood of -349584.9503834946\n",
      "UPDATE ASSIGNMENT\n",
      "% changed:\t 80.0\n",
      "Counter({3: 3, 5: 2, 2: 2, 1: 1, 7: 1, 4: 1})\n",
      "Iter 19:\t loglikelihood of -375401.56557157496\n",
      "% changed:\t 80.0\n",
      "Counter({3: 2, 7: 2, 8: 2, 6: 2, 1: 1, 9: 1})\n",
      "Iter 20:\t loglikelihood of -342177.2990037082\n",
      "UPDATE ASSIGNMENT\n",
      "% changed:\t 100.0\n",
      "Counter({1: 3, 3: 2, 2: 2, 4: 1, 6: 1, 5: 1})\n",
      "Iter 21:\t loglikelihood of -351834.54229378165\n",
      "% changed:\t 90.0\n",
      "Counter({7: 2, 5: 2, 4: 2, 8: 2, 6: 1, 3: 1})\n",
      "Iter 22:\t loglikelihood of -364992.6555836975\n",
      "% changed:\t 80.0\n",
      "Counter({6: 2, 2: 2, 7: 2, 8: 1, 3: 1, 5: 1, 1: 1})\n",
      "Iter 23:\t loglikelihood of -350211.65228198154\n",
      "% changed:\t 100.0\n",
      "Counter({6: 3, 2: 3, 1: 2, 9: 1, 8: 1})\n",
      "Iter 24:\t loglikelihood of -355091.4466351727\n",
      "% changed:\t 90.0\n",
      "Counter({8: 3, 3: 2, 5: 1, 6: 1, 2: 1, 1: 1, 9: 1})\n",
      "Iter 25:\t loglikelihood of -361709.35685314774\n",
      "% changed:\t 80.0\n",
      "Counter({9: 5, 8: 1, 1: 1, 3: 1, 6: 1, 5: 1})\n",
      "Iter 26:\t loglikelihood of -350377.83196311555\n",
      "% changed:\t 100.0\n",
      "Counter({9: 3, 6: 2, 3: 2, 5: 1, 8: 1, 4: 1})\n",
      "Iter 27:\t loglikelihood of -373989.20089401427\n",
      "% changed:\t 90.0\n",
      "Counter({2: 3, 5: 2, 1: 2, 8: 2, 6: 1})\n",
      "Iter 28:\t loglikelihood of -374119.1622129852\n",
      "% changed:\t 80.0\n",
      "Counter({3: 3, 9: 3, 2: 2, 1: 1, 6: 1})\n",
      "Iter 29:\t loglikelihood of -351451.12085143186\n",
      "% changed:\t 90.0\n",
      "Counter({2: 4, 3: 3, 6: 2, 1: 1})\n",
      "Iter 30:\t loglikelihood of -351899.23335246695\n",
      "% changed:\t 100.0\n",
      "Counter({5: 3, 8: 2, 2: 2, 7: 1, 3: 1, 4: 1})\n",
      "Iter 31:\t loglikelihood of -377240.4027306229\n",
      "% changed:\t 100.0\n",
      "Counter({2: 3, 5: 2, 3: 2, 4: 1, 7: 1, 1: 1})\n",
      "Iter 32:\t loglikelihood of -368748.25688885327\n",
      "% changed:\t 90.0\n",
      "Counter({8: 2, 2: 2, 5: 2, 4: 1, 7: 1, 9: 1, 1: 1})\n",
      "Iter 33:\t loglikelihood of -355281.9994137584\n",
      "% changed:\t 80.0\n",
      "Counter({2: 3, 1: 2, 6: 2, 9: 1, 8: 1, 7: 1})\n",
      "Iter 34:\t loglikelihood of -351815.6813125225\n",
      "% changed:\t 80.0\n",
      "Counter({9: 3, 3: 3, 5: 1, 6: 1, 1: 1, 7: 1})\n",
      "Iter 35:\t loglikelihood of -361846.95932128537\n",
      "% changed:\t 100.0\n",
      "Counter({3: 2, 7: 2, 5: 2, 9: 1, 1: 1, 2: 1, 8: 1})\n",
      "Iter 36:\t loglikelihood of -353833.3139557815\n",
      "% changed:\t 90.0\n",
      "Counter({3: 2, 1: 2, 6: 2, 9: 2, 5: 1, 2: 1})\n",
      "Iter 37:\t loglikelihood of -373396.58668363397\n",
      "% changed:\t 90.0\n",
      "Counter({7: 5, 1: 2, 6: 1, 5: 1, 2: 1})\n",
      "Iter 38:\t loglikelihood of -350835.6929208592\n",
      "% changed:\t 100.0\n",
      "Counter({3: 3, 9: 2, 8: 1, 2: 1, 5: 1, 7: 1, 6: 1})\n",
      "Iter 39:\t loglikelihood of -360036.41321909556\n",
      "% changed:\t 70.0\n",
      "Counter({8: 2, 9: 2, 4: 2, 6: 1, 5: 1, 2: 1, 1: 1})\n",
      "Iter 40:\t loglikelihood of -361135.2870361522\n",
      "% changed:\t 100.0\n",
      "Counter({1: 3, 6: 3, 9: 2, 5: 1, 4: 1})\n",
      "Iter 41:\t loglikelihood of -366461.4783124287\n",
      "% changed:\t 90.0\n",
      "Counter({8: 4, 2: 2, 9: 1, 3: 1, 1: 1, 7: 1})\n",
      "Iter 42:\t loglikelihood of -351034.5577478829\n",
      "% changed:\t 90.0\n",
      "Counter({6: 2, 1: 2, 5: 2, 3: 2, 9: 1, 8: 1})\n",
      "Iter 43:\t loglikelihood of -357450.7893429416\n",
      "% changed:\t 70.0\n",
      "Counter({9: 4, 8: 2, 6: 2, 3: 1, 5: 1})\n",
      "Iter 44:\t loglikelihood of -351625.52691655315\n",
      "% changed:\t 90.0\n",
      "Counter({6: 5, 4: 1, 9: 1, 2: 1, 3: 1, 5: 1})\n",
      "Iter 45:\t loglikelihood of -352242.7106104266\n",
      "% changed:\t 90.0\n",
      "Counter({6: 3, 5: 2, 9: 1, 7: 1, 8: 1, 2: 1, 1: 1})\n",
      "Iter 46:\t loglikelihood of -383024.3586871814\n",
      "% changed:\t 80.0\n",
      "Counter({9: 2, 3: 2, 2: 2, 6: 2, 7: 1, 8: 1})\n",
      "Iter 47:\t loglikelihood of -351344.09429181204\n",
      "% changed:\t 80.0\n",
      "Counter({7: 3, 6: 2, 9: 2, 4: 2, 8: 1})\n",
      "Iter 48:\t loglikelihood of -348489.17253313796\n",
      "% changed:\t 100.0\n",
      "Counter({7: 2, 4: 2, 5: 2, 1: 1, 3: 1, 8: 1, 9: 1})\n",
      "Iter 49:\t loglikelihood of -354735.63978904847\n",
      "% changed:\t 90.0\n",
      "Counter({2: 3, 6: 3, 7: 1, 9: 1, 3: 1, 4: 1})\n",
      "Iter 50:\t loglikelihood of -350272.80990401946\n",
      "% changed:\t 100.0\n",
      "Counter({5: 3, 8: 2, 9: 1, 3: 1, 7: 1, 6: 1, 1: 1})\n",
      "Iter 51:\t loglikelihood of -383019.62134310184\n",
      "% changed:\t 80.0\n",
      "Counter({8: 2, 5: 2, 4: 2, 6: 2, 3: 1, 1: 1})\n",
      "Iter 52:\t loglikelihood of -377644.8419660876\n",
      "% changed:\t 80.0\n",
      "Counter({1: 3, 8: 2, 5: 2, 6: 2, 2: 1})\n",
      "Iter 53:\t loglikelihood of -373459.68082581926\n",
      "% changed:\t 100.0\n",
      "Counter({5: 3, 7: 2, 4: 1, 3: 1, 9: 1, 1: 1, 6: 1})\n",
      "Iter 54:\t loglikelihood of -353874.2030103225\n",
      "% changed:\t 80.0\n",
      "Counter({8: 3, 5: 3, 6: 2, 9: 1, 4: 1})\n",
      "Iter 55:\t loglikelihood of -364558.8026123678\n",
      "% changed:\t 100.0\n",
      "Counter({9: 3, 1: 2, 7: 2, 6: 1, 3: 1, 2: 1})\n",
      "Iter 56:\t loglikelihood of -352535.6300204191\n",
      "% changed:\t 90.0\n",
      "Counter({9: 3, 6: 1, 1: 1, 8: 1, 4: 1, 2: 1, 7: 1, 3: 1})\n",
      "Iter 57:\t loglikelihood of -353940.13249731914\n",
      "% changed:\t 70.0\n",
      "Counter({8: 2, 7: 2, 6: 2, 9: 1, 2: 1, 5: 1, 1: 1})\n",
      "Iter 58:\t loglikelihood of -358658.81420760904\n",
      "% changed:\t 80.0\n",
      "Counter({9: 2, 7: 2, 3: 2, 2: 2, 5: 1, 6: 1})\n",
      "Iter 59:\t loglikelihood of -357707.8124213425\n",
      "% changed:\t 70.0\n",
      "Counter({5: 3, 2: 2, 4: 2, 6: 2, 3: 1})\n",
      "Iter 60:\t loglikelihood of -381109.2995021298\n",
      "% changed:\t 80.0\n",
      "Counter({7: 3, 5: 2, 1: 2, 3: 1, 9: 1, 6: 1})\n",
      "Iter 61:\t loglikelihood of -374595.7694768127\n",
      "% changed:\t 90.0\n",
      "Counter({1: 3, 5: 2, 7: 2, 4: 1, 3: 1, 6: 1})\n",
      "Iter 62:\t loglikelihood of -366514.9834228074\n",
      "% changed:\t 100.0\n",
      "Counter({5: 5, 9: 2, 1: 1, 6: 1, 4: 1})\n",
      "Iter 63:\t loglikelihood of -412781.51882122445\n",
      "% changed:\t 90.0\n",
      "Counter({9: 3, 6: 2, 5: 2, 3: 1, 7: 1, 1: 1})\n",
      "Iter 64:\t loglikelihood of -364892.5553815074\n",
      "% changed:\t 80.0\n",
      "Counter({3: 3, 1: 2, 2: 2, 9: 1, 4: 1, 5: 1})\n",
      "Iter 65:\t loglikelihood of -352635.31990808423\n",
      "% changed:\t 90.0\n",
      "Counter({1: 3, 2: 3, 3: 1, 8: 1, 6: 1, 5: 1})\n",
      "Iter 66:\t loglikelihood of -350574.52098781354\n",
      "% changed:\t 70.0\n",
      "Counter({7: 5, 3: 2, 5: 2, 1: 1})\n",
      "Iter 67:\t loglikelihood of -367666.3268281759\n",
      "% changed:\t 80.0\n",
      "Counter({2: 3, 6: 2, 3: 2, 1: 2, 9: 1})\n",
      "Iter 68:\t loglikelihood of -351843.3222241951\n",
      "% changed:\t 100.0\n",
      "Counter({7: 2, 5: 2, 3: 2, 1: 2, 9: 1, 6: 1})\n",
      "Iter 69:\t loglikelihood of -367764.5516250434\n",
      "% changed:\t 100.0\n",
      "Counter({9: 4, 3: 1, 7: 1, 5: 1, 2: 1, 8: 1, 4: 1})\n",
      "Iter 70:\t loglikelihood of -356606.1732938341\n",
      "% changed:\t 100.0\n",
      "Counter({2: 3, 6: 3, 1: 2, 3: 1, 5: 1})\n",
      "Iter 71:\t loglikelihood of -353803.47508388\n",
      "% changed:\t 90.0\n",
      "Counter({2: 4, 9: 3, 6: 1, 4: 1, 8: 1})\n",
      "Iter 72:\t loglikelihood of -353465.61089624406\n",
      "% changed:\t 100.0\n",
      "Counter({9: 4, 3: 1, 4: 1, 2: 1, 7: 1, 8: 1, 5: 1})\n",
      "Iter 73:\t loglikelihood of -352296.1942096808\n"
     ]
    },
    {
     "name": "stdout",
     "output_type": "stream",
     "text": [
      "% changed:\t 80.0\n",
      "Counter({6: 3, 1: 2, 3: 2, 9: 1, 7: 1, 8: 1})\n",
      "Iter 74:\t loglikelihood of -350785.98695306387\n",
      "% changed:\t 80.0\n",
      "Counter({5: 2, 8: 2, 1: 1, 4: 1, 7: 1, 3: 1, 9: 1, 6: 1})\n",
      "Iter 75:\t loglikelihood of -362701.4125440626\n",
      "% changed:\t 100.0\n",
      "Counter({2: 3, 1: 3, 5: 2, 8: 1, 3: 1})\n",
      "Iter 76:\t loglikelihood of -351877.7436479023\n",
      "% changed:\t 80.0\n",
      "Counter({6: 2, 8: 2, 1: 2, 5: 1, 7: 1, 2: 1, 9: 1})\n",
      "Iter 77:\t loglikelihood of -360522.3832776577\n",
      "% changed:\t 100.0\n",
      "Counter({8: 2, 2: 2, 5: 2, 9: 1, 6: 1, 4: 1, 1: 1})\n",
      "Iter 78:\t loglikelihood of -366165.3069774543\n",
      "% changed:\t 90.0\n",
      "Counter({1: 2, 3: 2, 7: 1, 5: 1, 2: 1, 9: 1, 6: 1, 8: 1})\n",
      "Iter 79:\t loglikelihood of -356649.6772357491\n",
      "% changed:\t 70.0\n",
      "Counter({7: 6, 2: 1, 4: 1, 3: 1, 5: 1})\n",
      "Iter 80:\t loglikelihood of -343752.3162429412\n",
      "% changed:\t 80.0\n",
      "Counter({1: 4, 5: 3, 3: 1, 9: 1, 6: 1})\n",
      "Iter 81:\t loglikelihood of -389668.9657983347\n",
      "% changed:\t 90.0\n",
      "Counter({3: 3, 5: 2, 1: 2, 6: 1, 8: 1, 9: 1})\n",
      "Iter 82:\t loglikelihood of -351862.2362852215\n",
      "% changed:\t 100.0\n",
      "Counter({2: 3, 1: 3, 4: 1, 5: 1, 9: 1, 7: 1})\n",
      "Iter 83:\t loglikelihood of -358651.4444370407\n",
      "% changed:\t 90.0\n",
      "Counter({1: 4, 3: 2, 7: 2, 6: 1, 5: 1})\n",
      "Iter 84:\t loglikelihood of -357860.8178656895\n",
      "% changed:\t 80.0\n",
      "Counter({2: 3, 9: 2, 3: 1, 1: 1, 7: 1, 5: 1, 4: 1})\n",
      "Iter 85:\t loglikelihood of -351874.6493441138\n",
      "% changed:\t 90.0\n",
      "Counter({5: 3, 3: 2, 1: 1, 4: 1, 6: 1, 9: 1, 7: 1})\n",
      "Iter 86:\t loglikelihood of -374568.2618720976\n",
      "% changed:\t 90.0\n",
      "Counter({3: 4, 5: 2, 6: 1, 1: 1, 8: 1, 7: 1})\n",
      "Iter 87:\t loglikelihood of -361857.8756686"
     ]
    },
    {
     "data": {
      "text/html": [
       "<b>limit_output extension: Maximum message size of 10000 exceeded with 10004 characters</b>"
      ]
     },
     "metadata": {},
     "output_type": "display_data"
    }
   ],
   "source": [
    "def update_alpha_beta(block_id, cnv_code, Theta_G, Alpha_G, Beta_G, H_G, changed_mask):\n",
    "    a = A_G[block_id, changed_mask]\n",
    "    d = D_G[block_id, changed_mask]\n",
    "    h_mask = H_G[block_id, changed_mask] == cnv_code\n",
    "    \n",
    "    u = np.nansum(a * h_mask)\n",
    "    v = np.nansum((d - a) * h_mask)\n",
    "    assert u >= 0, v >= 0\n",
    "    \n",
    "    new_alpha = Alpha_G[block_id, cnv_code] + u\n",
    "    new_beta = Beta_G[block_id, cnv_code] + v\n",
    "    return new_alpha, new_beta\n",
    "\n",
    "Alpha_G_prior = Alpha_G.copy()\n",
    "Beta_G_prior = Beta_G.copy()\n",
    "\n",
    "print(posterior_total_loglikelihood)\n",
    "\n",
    "for ITER in tqdm_notebook(range(10000), \"sampling iteration\"):\n",
    "    new_I_G = np.array([update_I_G(cell_id, Theta_G) for cell_id in range(M)])#tqdm_notebook(range(M), \"updating I_G\")])\n",
    "#     new_I_G = \\\n",
    "#        np.array(Parallel(16)(\n",
    "#            delayed(update_I_G)(cell_id, Theta_G)\n",
    "#            for cell_id in tqdm_notebook(range(M), \"updating I_G\")\n",
    "#        ))\n",
    "    \n",
    "    changed_mask = new_I_G != I_G\n",
    "    print(\"% changed:\\t\", 100 * np.mean(changed_mask))\n",
    "    \n",
    "    print(Counter(new_I_G + 1))\n",
    "#     plt.hist(new_I_G, bins=np.arange(K+1))\n",
    "#     plt.show()\n",
    "    \n",
    "    new_alpha_beta = np.array([\n",
    "        update_alpha_beta(block_id, cnv_code, Theta_G, Alpha_G, Beta_G, H_G, changed_mask)\n",
    "        for block_id, cnv_code in cartesian(\n",
    "            range(N_G), range(tau.shape[0])\n",
    "        )#, \"computing posterior\")\n",
    "    ])\n",
    "#     \\\n",
    "#         np.vstack(Parallel(16)(\n",
    "#             delayed(update_alpha_beta)(block_id, cnv_code, Theta_G, Alpha_G, Beta_G, H_G, changed_mask)\n",
    "#             for block_id, cnv_code in tqdm_notebook(cartesian(\n",
    "#                 range(N_G), range(tau.shape[0])\n",
    "#             ), \"computing posterior\")\n",
    "#         ))\n",
    "    \n",
    "    new_Alpha_G = new_alpha_beta[:, 0].reshape(Alpha_G.shape)\n",
    "    new_Beta_G = new_alpha_beta[:, 1].reshape(Alpha_G.shape)\n",
    "    new_Theta_G = sps.beta(a=new_Alpha_G, b=new_Beta_G).rvs(size=Alpha_G.shape)\n",
    "    \n",
    "#     np.vstack(update_alpha_beta(block_id, cnv_code)\n",
    "#         for block_id, cnv_code in tqdm_notebook(cartesian(\n",
    "#             range(N_G), range(tau.shape[0])\n",
    "#         ), \"computing| posterior\"))\n",
    "\n",
    "\n",
    "    new_H_G = H_G.copy()\n",
    "    new_X_G = X_G.copy()\n",
    "    for cell_id in range(M):#tqdm_notebook(range(M), \"updating H_G and X_G\"):\n",
    "        new_H_G[:, cell_id] = T[:, new_I_G[cell_id]]\n",
    "        not_na_mask = ~np.isnan(new_H_G[:, cell_id])\n",
    "        new_X_G[not_na_mask, cell_id] = new_Theta_G[\n",
    "            not_na_mask, \n",
    "            new_H_G[not_na_mask, cell_id].astype(int)\n",
    "        ]\n",
    "        \n",
    "    curr_loglikelihood = total_loglikelihood(X_G_prime, new_X_G)\n",
    " \n",
    "    print(f\"Iter {ITER}:\\t loglikelihood of {curr_loglikelihood}\")\n",
    "    \n",
    "    if curr_loglikelihood > posterior_total_loglikelihood:\n",
    "        print(\"UPDATE ASSIGNMENT\")\n",
    "        posterior_total_loglikelihood = curr_loglikelihood\n",
    "        I_G = new_I_G.copy()\n",
    "        Alpha_G = new_Alpha_G.copy()\n",
    "        Beta_G = new_Beta_G.copy()\n",
    "        Theta_G = new_Theta_G.copy()\n",
    "    #     Theta_G[Theta_G == 0] = 0.01\n",
    "    #     Theta_G[Theta_G == 1] = 0.99\n",
    "#         print(\"Plotting report\")\n",
    "        classification_report(\n",
    "            data[\"scRNA\"][\"clustering\"].LABEL.apply(lambda i: I_G[i] + 1),#I_G + 1,\n",
    "            title=f\"XClone label assignment, iteration {ITER},\"\\\n",
    "                    f\" loglikelihood {posterior_total_loglikelihood} \\n\"\\\n",
    "                    \"evo_dist_9 clustering of scDNA,\\n\"\\\n",
    "                    \"seurat clustering of scRNA,\\n\"\\\n",
    "                    f\"{N_G} haplotype blocks\",\n",
    "            outfile=f\"{workspace['scRNA'].img_dir}/xclone/\"\\\n",
    "                    f\"iter_{ITER}_loglikelihood_{posterior_total_loglikelihood}.png\"\n",
    "        )\n",
    "#         plt.show()"
   ]
  },
  {
   "cell_type": "code",
   "execution_count": null,
   "metadata": {},
   "outputs": [],
   "source": []
  }
 ],
 "metadata": {
  "kernelspec": {
   "display_name": "Python [conda env:.conda-mb] *",
   "language": "python",
   "name": "conda-env-.conda-mb-py"
  },
  "language_info": {
   "codemirror_mode": {
    "name": "ipython",
    "version": 3
   },
   "file_extension": ".py",
   "mimetype": "text/x-python",
   "name": "python",
   "nbconvert_exporter": "python",
   "pygments_lexer": "ipython3",
   "version": "3.7.3"
  }
 },
 "nbformat": 4,
 "nbformat_minor": 2
}
