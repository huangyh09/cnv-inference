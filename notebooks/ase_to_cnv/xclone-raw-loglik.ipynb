{
 "cells": [
  {
   "cell_type": "code",
   "execution_count": 1,
   "metadata": {},
   "outputs": [],
   "source": [
    "%load_ext autoreload\n",
    "%autoreload 2\n",
    "\n",
    "import os\n",
    "import subprocess\n",
    "import sys\n",
    "import warnings\n",
    "\n",
    "warnings.simplefilter(\"ignore\", FutureWarning)\n",
    "\n",
    "%aimport cnv_inference_config\n",
    "project_config = cnv_inference_config\n",
    "os.chdir(project_config.MB_ROOT)\n",
    "\n",
    "from collections import Counter, defaultdict, OrderedDict\n",
    "import itertools\n",
    "from itertools import product as cartesian\n",
    "import multiprocessing as mp\n",
    "import pickle\n",
    "\n",
    "import numba\n",
    "from joblib import Parallel, delayed\n",
    "import numpy as np\n",
    "import pandas as pd\n",
    "import scipy as sp\n",
    "import scipy.stats as sps\n",
    "from tqdm import tqdm, tqdm_notebook\n",
    "\n",
    "import matplotlib.pyplot as plt\n",
    "import seaborn as sns\n",
    "\n",
    "import toolkit\n",
    "import util\n",
    "from workspace.workspace_manager import WorkspaceManager\n",
    "\n",
    "sns.set()\n",
    "\n",
    "workspace = {}\n",
    "for data_type in [\"scDNA\", \"scRNA\"]:\n",
    "    workspace.update({ \n",
    "        data_type : WorkspaceManager(\n",
    "            task_name=\"ase_to_cnv\",\n",
    "            experiment_info={\"data\" : data_type},\n",
    "            verbose=True\n",
    "        )\n",
    "    })\n",
    "    workspace[data_type].load_workspace()"
   ]
  },
  {
   "cell_type": "code",
   "execution_count": 2,
   "metadata": {},
   "outputs": [
    {
     "data": {
      "application/vnd.jupyter.widget-view+json": {
       "model_id": "3ed642a6e14e4d3da9ac44b019184a85",
       "version_major": 2,
       "version_minor": 0
      },
      "text/plain": [
       "HBox(children=(IntProgress(value=0, description='scDNA, loading datasets into RAM', max=2, style=ProgressStyle…"
      ]
     },
     "metadata": {},
     "output_type": "display_data"
    },
    {
     "name": "stdout",
     "output_type": "stream",
     "text": [
      "\n"
     ]
    },
    {
     "data": {
      "application/vnd.jupyter.widget-view+json": {
       "model_id": "90a8ccf5b91b4efa9df26da0b268830d",
       "version_major": 2,
       "version_minor": 0
      },
      "text/plain": [
       "HBox(children=(IntProgress(value=0, description='scRNA, loading datasets into RAM', max=2, style=ProgressStyle…"
      ]
     },
     "metadata": {},
     "output_type": "display_data"
    },
    {
     "name": "stdout",
     "output_type": "stream",
     "text": [
      "\n"
     ]
    }
   ],
   "source": [
    "data = {}\n",
    "for data_type in [\"scDNA\", \"scRNA\"]:\n",
    "    data[data_type] = {\n",
    "        data_name :\n",
    "        util.pickle_load(data_dump)\n",
    "        for data_name, data_dump in tqdm_notebook(\n",
    "            workspace[data_type].tmp_data.items(),\n",
    "            f\"{data_type}, loading datasets into RAM\"\n",
    "        )\n",
    "    }\n",
    "    \n",
    "for modality in [\"scDNA\", \"scRNA\"]:\n",
    "    data[modality][\"block_counts\"].rename(\n",
    "        columns={\"GENE_ID\" : \"BLOCK_ID\"}, \n",
    "        inplace=True\n",
    "    )"
   ]
  },
  {
   "cell_type": "code",
   "execution_count": 3,
   "metadata": {},
   "outputs": [
    {
     "name": "stdout",
     "output_type": "stream",
     "text": [
      "Datasets have 8776 blocks in common\n"
     ]
    }
   ],
   "source": [
    "common_blocks = (set(data[\"scDNA\"][\"block_counts\"].BLOCK_ID) \n",
    "                & set(data[\"scRNA\"][\"block_counts\"].BLOCK_ID))\n",
    "\n",
    "print(\"Datasets have {} blocks in common\".format(len(common_blocks)))\n",
    "\n",
    "for modality in workspace.keys():\n",
    "    data[modality][\"block_counts\"] = util.filter_by_isin(\n",
    "        data[modality][\"block_counts\"], \n",
    "        \"BLOCK_ID\", \n",
    "        common_blocks\n",
    "    ).reset_index(drop=True)\n",
    "\n",
    "common_block_ids = data[\"scDNA\"][\"block_counts\"][\"BLOCK_ID\"].values.astype(int)\n",
    "    \n",
    "assert (data[\"scDNA\"][\"block_counts\"].shape[0] \n",
    "        == data[\"scRNA\"][\"block_counts\"].shape[0])"
   ]
  },
  {
   "cell_type": "code",
   "execution_count": 4,
   "metadata": {},
   "outputs": [],
   "source": [
    "D_G_prime = toolkit.extract_counts(data[\"scDNA\"][\"block_counts\"]).values\n",
    "D_G = toolkit.extract_counts(\n",
    "    toolkit.aggregate_by_barcode_groups(\n",
    "        data[\"scRNA\"][\"block_counts\"],\n",
    "        data[\"scRNA\"][\"clustering\"]\n",
    "    )\n",
    ").values\n",
    "\n",
    "A_G_prime = toolkit.extract_counts(\n",
    "    data[\"scDNA\"][\"block_counts\"], \n",
    "    suffix=\"ad\"\n",
    ").values\n",
    "A_G = toolkit.extract_counts(\n",
    "    toolkit.aggregate_by_barcode_groups(\n",
    "        data[\"scRNA\"][\"block_counts\"], \n",
    "        data[\"scRNA\"][\"clustering\"]\n",
    "    ),\n",
    "    suffix=\"ad\"\n",
    ").values"
   ]
  },
  {
   "cell_type": "code",
   "execution_count": 5,
   "metadata": {
    "scrolled": true
   },
   "outputs": [
    {
     "data": {
      "application/vnd.jupyter.widget-view+json": {
       "model_id": "1a9b81b0c1864f138431ba1ec9e35119",
       "version_major": 2,
       "version_minor": 0
      },
      "text/plain": [
       "HBox(children=(IntProgress(value=0, description='reading CNV information', max=9, style=ProgressStyle(descript…"
      ]
     },
     "metadata": {},
     "output_type": "display_data"
    },
    {
     "name": "stdout",
     "output_type": "stream",
     "text": [
      "(18011, 4) 2.0\n",
      "(18011, 4) 2.0\n",
      "(18011, 4) 2.0\n",
      "(18011, 4) 2.0\n",
      "(18011, 4) 4.0\n",
      "(18011, 4) 2.0\n",
      "(18011, 4) 2.0\n",
      "(18011, 4) 2.0\n",
      "(18011, 4) 2.0\n",
      "\n"
     ]
    }
   ],
   "source": [
    "rodata_dir = \"/icgc/dkfzlsdf/analysis/B260/users/v390v/cnv_inference/data/raw/first_sample\"\n",
    "CNV_prime = []\n",
    "for i in tqdm_notebook(range(9), \"reading CNV information\"):\n",
    "    snp_cnv = pd.read_csv(\n",
    "        f\"{rodata_dir}/TabHaplotypeblock_with_phasedSNPs_{i + 1}.bed\", \n",
    "        usecols=[0, 1, 2, 3],\n",
    "        names=[\"CHROM\", \"START\", \"END\", \"CNV\"],\n",
    "        sep='\\t'\n",
    "    )\n",
    "    snp_cnv.drop_duplicates(inplace=True)\n",
    "    print(snp_cnv.shape, np.median(snp_cnv[\"CNV\"]))\n",
    "    CNV_prime.append(snp_cnv[\"CNV\"].values.astype(int))\n",
    "CNV_prime = np.column_stack(CNV_prime)"
   ]
  },
  {
   "cell_type": "code",
   "execution_count": 17,
   "metadata": {
    "code_folding": []
   },
   "outputs": [],
   "source": [
    "def classification_report(labels, title, outfile=None, show=True):\n",
    "                \n",
    "        sns.set(style=\"whitegrid\", font_scale=1.5);\n",
    "        fig, ax = plt.subplots(2, 1, figsize=(20,30))\n",
    "        ax[0].set_title(\"Cluster label assigned by XClone\", fontsize=20)\n",
    "        \n",
    "        palette =  {\n",
    "            1 : \"xkcd:orange\",\n",
    "            2 : \"xkcd:azure\",\n",
    "            3 : \"xkcd:cyan\",\n",
    "            4 : \"xkcd:yellow\",\n",
    "            5 : \"xkcd:blue\",\n",
    "            6 : \"xkcd:red\",\n",
    "            7 : \"xkcd:pink\",\n",
    "            8 : \"xkcd:grey\",\n",
    "            9 : \"xkcd:black\"\n",
    "        }\n",
    "        \n",
    "        sns.countplot(\n",
    "            labels, \n",
    "            palette=palette,\n",
    "            ax=ax[0]\n",
    "        )\n",
    "\n",
    "        ax[1].set_title(title)\n",
    "        \n",
    "        sns.scatterplot(\n",
    "            x=\"TSNE_1\", y=\"TSNE_2\", \n",
    "            hue=labels, \n",
    "            data=data[\"scRNA\"][\"clustering\"], \n",
    "            legend=\"full\",\n",
    "            palette=palette,\n",
    "            ax=ax[1]\n",
    "        );\n",
    "        ax[1].legend().get_frame().set_facecolor(\"white\");\n",
    "        ax[1].legend(frameon=False, bbox_to_anchor=(1,0.5), loc=\"center left\")\n",
    "        fig.subplots_adjust(right=0.75)\n",
    "        if outfile is not None:\n",
    "            fig.savefig(outfile, format=outfile.split('.')[-1], dpi=300)\n",
    "        if show == True:\n",
    "            plt.show()\n",
    "        plt.close()\n",
    "        plt.clf()"
   ]
  },
  {
   "cell_type": "code",
   "execution_count": 20,
   "metadata": {},
   "outputs": [
    {
     "name": "stdout",
     "output_type": "stream",
     "text": [
      "CPU times: user 7.01 s, sys: 743 ms, total: 7.76 s\n",
      "Wall time: 4.19 s\n"
     ]
    }
   ],
   "source": [
    "%%time\n",
    "from classification.models.xclone import XClone\n",
    "import classification.models.xclone_routines as xclone_routines\n",
    "\n",
    "T_max = 5\n",
    "I_G_prime = data[\"scDNA\"][\"clustering\"][\"LABEL\"].astype(int).values - 1\n",
    "xclone = XClone(\n",
    "    A_G_prime=A_G_prime, \n",
    "    D_G_prime=D_G_prime, \n",
    "    I_G_prime=I_G_prime,\n",
    "    CNV_prime=CNV_prime, T_max=T_max,\n",
    "    A_G=A_G, \n",
    "    D_G=D_G, \n",
    "    report_dir=\"/icgc/dkfzlsdf/analysis/B260/users/v390v/\"\\\n",
    "                \"cnv_inference/data/tmp/xclone/22_10_2019/evening_run\",\n",
    "    verbose=True\n",
    ")"
   ]
  },
  {
   "cell_type": "code",
   "execution_count": 22,
   "metadata": {
    "scrolled": false
   },
   "outputs": [
    {
     "name": "stdout",
     "output_type": "stream",
     "text": [
      "Iteration 217 — labelling update!-4481883.73 --> -4450712.03, 70% labels reassigned\n",
      "Iteration 2914 — labelling update!-4450712.03 --> -4448228.10, 80% labels reassigned\n",
      "Iteration 3049 — labelling update!-4448228.10 --> -4442557.80, 90% labels reassigned\n",
      "Iteration 8576 — labelling update!-4442557.80 --> -4433074.46, 70% labels reassigned\n",
      "Iteration 9746 — labelling update!-4433074.46 --> -4426099.07, 80% labels reassigned\n",
      "CPU times: user 2h 40min 12s, sys: 16min 15s, total: 2h 56min 27s\n",
      "Wall time: 2h 28min 27s\n"
     ]
    },
    {
     "data": {
      "text/plain": [
       "<Figure size 432x288 with 0 Axes>"
      ]
     },
     "metadata": {},
     "output_type": "display_data"
    }
   ],
   "source": [
    "%%time\n",
    "callback = lambda xclone_instance: classification_report(\n",
    "        data[\"scRNA\"][\"clustering\"][\"LABEL\"].apply(\n",
    "            lambda i: xclone_instance._params.I_G[i] + 1\n",
    "        ),\n",
    "        title=f\"Refactored XClone, iteration {xclone_instance._iter_count},\"\\\n",
    "                f\" {round(100 * xclone_instance._changed_mask.mean())}\",\n",
    "        outfile=\"/icgc/dkfzlsdf/analysis/B260/users/v390v/\"\\\n",
    "                \"cnv_inference/data/tmp/xclone/22_10_2019/evening_run/img/\"\\\n",
    "                f\"{xclone_instance._iter_count}.png\",\n",
    "        show=False\n",
    "    )\n",
    "xclone.fit(10000, callback)"
   ]
  }
 ],
 "metadata": {
  "kernelspec": {
   "display_name": "Python [conda env:.conda-xclone] *",
   "language": "python",
   "name": "conda-env-.conda-xclone-py"
  },
  "language_info": {
   "codemirror_mode": {
    "name": "ipython",
    "version": 3
   },
   "file_extension": ".py",
   "mimetype": "text/x-python",
   "name": "python",
   "nbconvert_exporter": "python",
   "pygments_lexer": "ipython3",
   "version": "3.7.3"
  }
 },
 "nbformat": 4,
 "nbformat_minor": 2
}
