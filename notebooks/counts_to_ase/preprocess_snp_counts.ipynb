{
 "cells": [
  {
   "cell_type": "code",
   "execution_count": 16,
   "metadata": {
    "ExecuteTime": {
     "end_time": "2019-07-24T13:21:20.804458Z",
     "start_time": "2019-07-24T13:21:11.742301Z"
    }
   },
   "outputs": [
    {
     "name": "stdout",
     "output_type": "stream",
     "text": [
      "The autoreload extension is already loaded. To reload it, use:\n",
      "  %reload_ext autoreload\n"
     ]
    }
   ],
   "source": [
    "%load_ext autoreload\n",
    "%autoreload 2\n",
    "\n",
    "import os\n",
    "import subprocess\n",
    "import sys\n",
    "import warnings\n",
    "\n",
    "warnings.simplefilter(\"ignore\", FutureWarning)\n",
    "\n",
    "import cnv_inference_config\n",
    "project_config = cnv_inference_config\n",
    "os.chdir(project_config.MB_ROOT)\n",
    "\n",
    "from collections import defaultdict, OrderedDict\n",
    "import multiprocessing as mp\n",
    "import sys\n",
    "\n",
    "import numpy as np\n",
    "import pandas as pd\n",
    "from tqdm import tqdm, tqdm_notebook\n",
    "\n",
    "import matplotlib.pyplot as plt\n",
    "import seaborn as sns\n",
    "\n",
    "from data_types import ase\n",
    "import plotlib\n",
    "import toolkit\n",
    "import util\n",
    "import test_phasing\n",
    "from workspace.workspace_manager import WorkspaceManager\n",
    "\n",
    "workspace = WorkspaceManager(\n",
    "    task_name=\"counts_to_ase\",\n",
    "    experiment_info={\"data\" : \"scRNA\"},\n",
    "    verbose=True\n",
    ")\n",
    "workspace.load_workspace()\n",
    "\n",
    "sns.set()"
   ]
  },
  {
   "cell_type": "markdown",
   "metadata": {},
   "source": [
    "## Loading data"
   ]
  },
  {
   "cell_type": "code",
   "execution_count": 17,
   "metadata": {},
   "outputs": [
    {
     "data": {
      "application/vnd.jupyter.widget-view+json": {
       "model_id": "eabf700fca4c49b7b3690a758b4bb26f",
       "version_major": 2,
       "version_minor": 0
      },
      "text/plain": [
       "HBox(children=(IntProgress(value=0, description='loading datasets into RAM', max=3, style=ProgressStyle(descri…"
      ]
     },
     "metadata": {},
     "output_type": "display_data"
    }
   ],
   "source": [
    "requirements = [\"raw_counts\", \"phasing\", \"genome\"]\n",
    "\n",
    "data = {\n",
    "    dtype : \n",
    "    util.pickle_load(workspace.tmp_data[dtype])\n",
    "    for dtype in tqdm_notebook(\n",
    "        requirements,\n",
    "        \"loading datasets into RAM\"\n",
    "    )\n",
    "}"
   ]
  },
  {
   "cell_type": "code",
   "execution_count": 18,
   "metadata": {},
   "outputs": [],
   "source": [
    "# data[\"raw_counts\"].drop(columns=[\"PHASE\"], inplace=True)"
   ]
  },
  {
   "cell_type": "code",
   "execution_count": 19,
   "metadata": {
    "scrolled": true
   },
   "outputs": [
    {
     "data": {
      "application/vnd.jupyter.widget-view+json": {
       "model_id": "839735659fae4114a42e7e3f8f937618",
       "version_major": 2,
       "version_minor": 0
      },
      "text/plain": [
       "HBox(children=(IntProgress(value=0, description='extracting snps...', max=240960, style=ProgressStyle(descript…"
      ]
     },
     "metadata": {},
     "output_type": "display_data"
    },
    {
     "data": {
      "application/vnd.jupyter.widget-view+json": {
       "model_id": "a256b559a4754a4e87a17b8bf21b9581",
       "version_major": 2,
       "version_minor": 0
      },
      "text/plain": [
       "HBox(children=(IntProgress(value=0, description='extracting snps...', max=2038356, style=ProgressStyle(descrip…"
      ]
     },
     "metadata": {},
     "output_type": "display_data"
    }
   ],
   "source": [
    "all_snps = toolkit.extract_snps(data[\"raw_counts\"])\n",
    "haplotype_snps = toolkit.extract_snps(data[\"phasing\"])\n",
    "common_snps = np.intersect1d(all_snps, haplotype_snps)"
   ]
  },
  {
   "cell_type": "code",
   "execution_count": 20,
   "metadata": {},
   "outputs": [
    {
     "data": {
      "application/vnd.jupyter.widget-view+json": {
       "model_id": "3ec306563b644700b6fd3c4674d243ea",
       "version_major": 2,
       "version_minor": 0
      },
      "text/plain": [
       "HBox(children=(IntProgress(value=0, max=13340), HTML(value='')))"
      ]
     },
     "metadata": {},
     "output_type": "display_data"
    },
    {
     "data": {
      "text/html": [
       "<div>\n",
       "<style scoped>\n",
       "    .dataframe tbody tr th:only-of-type {\n",
       "        vertical-align: middle;\n",
       "    }\n",
       "\n",
       "    .dataframe tbody tr th {\n",
       "        vertical-align: top;\n",
       "    }\n",
       "\n",
       "    .dataframe thead th {\n",
       "        text-align: right;\n",
       "    }\n",
       "</style>\n",
       "<table border=\"1\" class=\"dataframe\">\n",
       "  <thead>\n",
       "    <tr style=\"text-align: right;\">\n",
       "      <th></th>\n",
       "      <th>CHROM</th>\n",
       "      <th>POS</th>\n",
       "      <th>AAACCTGCACATCCAA-1_ad</th>\n",
       "      <th>AAACCTGCACATCCAA-1_dp</th>\n",
       "      <th>AAACCTGCACTAGTAC-1_ad</th>\n",
       "      <th>AAACCTGCACTAGTAC-1_dp</th>\n",
       "      <th>AAACCTGCATCATCCC-1_ad</th>\n",
       "      <th>AAACCTGCATCATCCC-1_dp</th>\n",
       "      <th>AAACCTGGTAGCGATG-1_ad</th>\n",
       "      <th>AAACCTGGTAGCGATG-1_dp</th>\n",
       "      <th>...</th>\n",
       "      <th>TTTGTCAGTGCGCTTG-1_ad</th>\n",
       "      <th>TTTGTCAGTGCGCTTG-1_dp</th>\n",
       "      <th>TTTGTCAGTGTTTGTG-1_ad</th>\n",
       "      <th>TTTGTCAGTGTTTGTG-1_dp</th>\n",
       "      <th>TTTGTCAGTTAAAGAC-1_ad</th>\n",
       "      <th>TTTGTCAGTTAAAGAC-1_dp</th>\n",
       "      <th>TTTGTCATCATCGGAT-1_ad</th>\n",
       "      <th>TTTGTCATCATCGGAT-1_dp</th>\n",
       "      <th>TTTGTCATCCCAAGAT-1_ad</th>\n",
       "      <th>TTTGTCATCCCAAGAT-1_dp</th>\n",
       "    </tr>\n",
       "  </thead>\n",
       "  <tbody>\n",
       "    <tr>\n",
       "      <th>44</th>\n",
       "      <td>1.0</td>\n",
       "      <td>817842.0</td>\n",
       "      <td>NaN</td>\n",
       "      <td>NaN</td>\n",
       "      <td>NaN</td>\n",
       "      <td>NaN</td>\n",
       "      <td>NaN</td>\n",
       "      <td>NaN</td>\n",
       "      <td>NaN</td>\n",
       "      <td>NaN</td>\n",
       "      <td>...</td>\n",
       "      <td>NaN</td>\n",
       "      <td>NaN</td>\n",
       "      <td>NaN</td>\n",
       "      <td>NaN</td>\n",
       "      <td>NaN</td>\n",
       "      <td>NaN</td>\n",
       "      <td>NaN</td>\n",
       "      <td>NaN</td>\n",
       "      <td>NaN</td>\n",
       "      <td>NaN</td>\n",
       "    </tr>\n",
       "    <tr>\n",
       "      <th>45</th>\n",
       "      <td>1.0</td>\n",
       "      <td>817964.0</td>\n",
       "      <td>NaN</td>\n",
       "      <td>NaN</td>\n",
       "      <td>NaN</td>\n",
       "      <td>NaN</td>\n",
       "      <td>NaN</td>\n",
       "      <td>NaN</td>\n",
       "      <td>NaN</td>\n",
       "      <td>NaN</td>\n",
       "      <td>...</td>\n",
       "      <td>NaN</td>\n",
       "      <td>NaN</td>\n",
       "      <td>NaN</td>\n",
       "      <td>NaN</td>\n",
       "      <td>NaN</td>\n",
       "      <td>NaN</td>\n",
       "      <td>NaN</td>\n",
       "      <td>NaN</td>\n",
       "      <td>NaN</td>\n",
       "      <td>NaN</td>\n",
       "    </tr>\n",
       "    <tr>\n",
       "      <th>46</th>\n",
       "      <td>1.0</td>\n",
       "      <td>817969.0</td>\n",
       "      <td>NaN</td>\n",
       "      <td>NaN</td>\n",
       "      <td>NaN</td>\n",
       "      <td>NaN</td>\n",
       "      <td>NaN</td>\n",
       "      <td>NaN</td>\n",
       "      <td>NaN</td>\n",
       "      <td>NaN</td>\n",
       "      <td>...</td>\n",
       "      <td>NaN</td>\n",
       "      <td>NaN</td>\n",
       "      <td>NaN</td>\n",
       "      <td>NaN</td>\n",
       "      <td>NaN</td>\n",
       "      <td>NaN</td>\n",
       "      <td>NaN</td>\n",
       "      <td>NaN</td>\n",
       "      <td>NaN</td>\n",
       "      <td>NaN</td>\n",
       "    </tr>\n",
       "    <tr>\n",
       "      <th>47</th>\n",
       "      <td>1.0</td>\n",
       "      <td>817980.0</td>\n",
       "      <td>NaN</td>\n",
       "      <td>NaN</td>\n",
       "      <td>NaN</td>\n",
       "      <td>NaN</td>\n",
       "      <td>NaN</td>\n",
       "      <td>NaN</td>\n",
       "      <td>NaN</td>\n",
       "      <td>NaN</td>\n",
       "      <td>...</td>\n",
       "      <td>NaN</td>\n",
       "      <td>NaN</td>\n",
       "      <td>NaN</td>\n",
       "      <td>NaN</td>\n",
       "      <td>NaN</td>\n",
       "      <td>NaN</td>\n",
       "      <td>NaN</td>\n",
       "      <td>NaN</td>\n",
       "      <td>NaN</td>\n",
       "      <td>NaN</td>\n",
       "    </tr>\n",
       "    <tr>\n",
       "      <th>48</th>\n",
       "      <td>1.0</td>\n",
       "      <td>849998.0</td>\n",
       "      <td>NaN</td>\n",
       "      <td>NaN</td>\n",
       "      <td>NaN</td>\n",
       "      <td>NaN</td>\n",
       "      <td>NaN</td>\n",
       "      <td>NaN</td>\n",
       "      <td>NaN</td>\n",
       "      <td>NaN</td>\n",
       "      <td>...</td>\n",
       "      <td>NaN</td>\n",
       "      <td>NaN</td>\n",
       "      <td>NaN</td>\n",
       "      <td>NaN</td>\n",
       "      <td>NaN</td>\n",
       "      <td>NaN</td>\n",
       "      <td>NaN</td>\n",
       "      <td>NaN</td>\n",
       "      <td>NaN</td>\n",
       "      <td>NaN</td>\n",
       "    </tr>\n",
       "  </tbody>\n",
       "</table>\n",
       "<p>5 rows × 13340 columns</p>\n",
       "</div>"
      ],
      "text/plain": [
       "    CHROM       POS  AAACCTGCACATCCAA-1_ad  AAACCTGCACATCCAA-1_dp  \\\n",
       "44    1.0  817842.0                    NaN                    NaN   \n",
       "45    1.0  817964.0                    NaN                    NaN   \n",
       "46    1.0  817969.0                    NaN                    NaN   \n",
       "47    1.0  817980.0                    NaN                    NaN   \n",
       "48    1.0  849998.0                    NaN                    NaN   \n",
       "\n",
       "    AAACCTGCACTAGTAC-1_ad  AAACCTGCACTAGTAC-1_dp  AAACCTGCATCATCCC-1_ad  \\\n",
       "44                    NaN                    NaN                    NaN   \n",
       "45                    NaN                    NaN                    NaN   \n",
       "46                    NaN                    NaN                    NaN   \n",
       "47                    NaN                    NaN                    NaN   \n",
       "48                    NaN                    NaN                    NaN   \n",
       "\n",
       "    AAACCTGCATCATCCC-1_dp  AAACCTGGTAGCGATG-1_ad  AAACCTGGTAGCGATG-1_dp  ...  \\\n",
       "44                    NaN                    NaN                    NaN  ...   \n",
       "45                    NaN                    NaN                    NaN  ...   \n",
       "46                    NaN                    NaN                    NaN  ...   \n",
       "47                    NaN                    NaN                    NaN  ...   \n",
       "48                    NaN                    NaN                    NaN  ...   \n",
       "\n",
       "    TTTGTCAGTGCGCTTG-1_ad  TTTGTCAGTGCGCTTG-1_dp  TTTGTCAGTGTTTGTG-1_ad  \\\n",
       "44                    NaN                    NaN                    NaN   \n",
       "45                    NaN                    NaN                    NaN   \n",
       "46                    NaN                    NaN                    NaN   \n",
       "47                    NaN                    NaN                    NaN   \n",
       "48                    NaN                    NaN                    NaN   \n",
       "\n",
       "    TTTGTCAGTGTTTGTG-1_dp  TTTGTCAGTTAAAGAC-1_ad  TTTGTCAGTTAAAGAC-1_dp  \\\n",
       "44                    NaN                    NaN                    NaN   \n",
       "45                    NaN                    NaN                    NaN   \n",
       "46                    NaN                    NaN                    NaN   \n",
       "47                    NaN                    NaN                    NaN   \n",
       "48                    NaN                    NaN                    NaN   \n",
       "\n",
       "    TTTGTCATCATCGGAT-1_ad  TTTGTCATCATCGGAT-1_dp  TTTGTCATCCCAAGAT-1_ad  \\\n",
       "44                    NaN                    NaN                    NaN   \n",
       "45                    NaN                    NaN                    NaN   \n",
       "46                    NaN                    NaN                    NaN   \n",
       "47                    NaN                    NaN                    NaN   \n",
       "48                    NaN                    NaN                    NaN   \n",
       "\n",
       "    TTTGTCATCCCAAGAT-1_dp  \n",
       "44                    NaN  \n",
       "45                    NaN  \n",
       "46                    NaN  \n",
       "47                    NaN  \n",
       "48                    NaN  \n",
       "\n",
       "[5 rows x 13340 columns]"
      ]
     },
     "execution_count": 20,
     "metadata": {},
     "output_type": "execute_result"
    }
   ],
   "source": [
    "new_cols = []\n",
    "phased_mask =  np.isin(all_snps, common_snps)\n",
    "for col in tqdm_notebook(data[\"raw_counts\"].columns):\n",
    "    new_cols.append(\n",
    "        data[\"raw_counts\"][col]\\\n",
    "        .to_dense()\\\n",
    "        [phased_mask]\\\n",
    "        .to_sparse()\n",
    "    )\n",
    "new_df = pd.concat(new_cols, axis=1)\n",
    "new_df.head()"
   ]
  },
  {
   "cell_type": "code",
   "execution_count": 21,
   "metadata": {},
   "outputs": [],
   "source": [
    "data[\"raw_counts\"] = new_df.reset_index(drop=True)"
   ]
  },
  {
   "cell_type": "code",
   "execution_count": 22,
   "metadata": {},
   "outputs": [],
   "source": [
    "phased_mask = np.isin(haplotype_snps, common_snps)\n",
    "data[\"phasing\"] = data[\"phasing\"][phased_mask].reset_index(drop=True)"
   ]
  },
  {
   "cell_type": "code",
   "execution_count": 23,
   "metadata": {},
   "outputs": [],
   "source": [
    "# data[\"phasing\"].drop(columns=\"PHASE\", inplace=True)"
   ]
  },
  {
   "cell_type": "code",
   "execution_count": 24,
   "metadata": {},
   "outputs": [],
   "source": [
    "data[\"phasing\"].drop_duplicates(inplace=True)"
   ]
  },
  {
   "cell_type": "markdown",
   "metadata": {},
   "source": [
    "### Loading raw read counts"
   ]
  },
  {
   "cell_type": "code",
   "execution_count": 25,
   "metadata": {
    "ExecuteTime": {
     "end_time": "2019-07-24T13:20:38.156849Z",
     "start_time": "2019-07-24T13:15:45.685089Z"
    },
    "code_folding": [],
    "scrolled": true
   },
   "outputs": [],
   "source": [
    "# def load_raw_counts(chunksize = 2**16):\n",
    "#     if os.path.exists(f\"{sample_data_dir}/raw_counts.pkl\"):\n",
    "#         # this is much faster than reading in chunks and concatenating those\n",
    "#         raw_counts_df = util.pickle_load(f\"{sample_data_dir}/raw_counts.pkl\")\n",
    "#     else:\n",
    "        \n",
    "#         reader = pd.read_csv(f\"{sample_data_dir}/raw_counts.csv\", \n",
    "#                              dtype=np.float64, \n",
    "#                              chunksize=chunksize)\n",
    "#         raw_counts_df = pd.concat(\n",
    "#             [chunk.to_sparse() for chunk in \n",
    "#              tqdm_notebook(reader, \n",
    "#                            desc=f\"reading counts in chunks of size {chunksize}\")]\n",
    "#         )\n",
    "#         util.pickle_dump(raw_counts_df, f\"{sample_data_dir}/raw_counts.pkl\")\n",
    "#     return raw_counts_df"
   ]
  },
  {
   "cell_type": "code",
   "execution_count": 26,
   "metadata": {
    "scrolled": false
   },
   "outputs": [],
   "source": [
    "# util.nan_fraction(\n",
    "#     raw_counts_df, \n",
    "#     axis_list=[0], \n",
    "#     verbose=True, \n",
    "#     show_plots=True,\n",
    "#     suptitle=\"raw_counts_df\"\n",
    "# );"
   ]
  },
  {
   "cell_type": "markdown",
   "metadata": {},
   "source": [
    "### Loading reference genome"
   ]
  },
  {
   "cell_type": "code",
   "execution_count": 27,
   "metadata": {
    "ExecuteTime": {
     "end_time": "2019-07-24T13:20:38.156849Z",
     "start_time": "2019-07-24T13:15:45.685089Z"
    },
    "code_folding": []
   },
   "outputs": [],
   "source": [
    "# def load_genome():\n",
    "#     # genome_df = pd.read_csv(\n",
    "#     #     f\"{root_data_dir}/genome_binning_1mb.tsv\", \n",
    "#     #     sep='\\t',\n",
    "#     #     names=[\"CHROM\", \"START\", \"END\", \"GENE_ID\"]\n",
    "#     # )\n",
    "#     genome_df = pd.read_csv(f\"{root_data_dir}/genome.csv\")\n",
    "#     assert np.all(np.isin([\"CHROM\", \"START\", \"END\", \"GENE_ID\"], \n",
    "#                           genome_df.columns))\n",
    "#     return genome_df"
   ]
  },
  {
   "cell_type": "code",
   "execution_count": 28,
   "metadata": {
    "ExecuteTime": {
     "end_time": "2019-07-24T13:20:38.156849Z",
     "start_time": "2019-07-24T13:15:45.685089Z"
    },
    "code_folding": [
     0
    ]
   },
   "outputs": [],
   "source": [
    "# genome_df = load_genome()\n",
    "# genome_df.head()"
   ]
  },
  {
   "cell_type": "code",
   "execution_count": 29,
   "metadata": {},
   "outputs": [],
   "source": [
    "# genome_df.to_pickle(f\"{sample_data_dir}/genome.pkl\")"
   ]
  },
  {
   "cell_type": "markdown",
   "metadata": {},
   "source": [
    "### Loading phasing information"
   ]
  },
  {
   "cell_type": "code",
   "execution_count": 30,
   "metadata": {
    "ExecuteTime": {
     "end_time": "2019-07-24T13:20:38.156849Z",
     "start_time": "2019-07-24T13:15:45.685089Z"
    },
    "code_folding": [],
    "scrolled": true
   },
   "outputs": [],
   "source": [
    "# def load_phasing_info(raw_counts_df):\n",
    "#     phasing_df = pd.read_csv(f\"{root_data_dir}/phasing.csv\")\n",
    "#     assert np.all(np.isin([\"CHROM\", \"POS\", \"PHASE\"], phasing_df.columns))\n",
    "#     phasing_df = phasing_df.merge(raw_counts_df[[\"CHROM\", \"POS\"]].to_dense())\n",
    "#     assert phasing_df.shape[0] == raw_counts_df.shape[0]\n",
    "#     return phasing_df"
   ]
  },
  {
   "cell_type": "code",
   "execution_count": 31,
   "metadata": {},
   "outputs": [],
   "source": [
    "# phasing_df = load_phasing_info(raw_counts_df)\n",
    "# phasing_df.head()"
   ]
  },
  {
   "cell_type": "code",
   "execution_count": 32,
   "metadata": {},
   "outputs": [],
   "source": [
    "# phasing_df.to_pickle(f\"{sample_data_dir}/phasing.pkl\")"
   ]
  },
  {
   "cell_type": "markdown",
   "metadata": {},
   "source": [
    "## Ensuring that alternative allele is maternal (0|1 in raw phasing results)"
   ]
  },
  {
   "cell_type": "code",
   "execution_count": 33,
   "metadata": {
    "code_folding": []
   },
   "outputs": [],
   "source": [
    "def load_counts(raw_counts_df, phasing_df):\n",
    "#     if os.path.exists(f\"{sample_data_dir}/counts.pkl\"):\n",
    "#         counts_df = util.pickle_load(f\"{sample_data_dir}/counts.pkl\")\n",
    "#     else:\n",
    "    counts_df = raw_counts_df.copy()\n",
    "    counts_df[\"PHASE\"] = phasing_df.PHASE\n",
    "    male_alt = counts_df.PHASE == 1\n",
    "\n",
    "    for barcode in tqdm_notebook(toolkit.extract_barcodes(counts_df), \n",
    "                                 desc=f\"cell_barcode\"):\n",
    "        ad = counts_df[f\"{barcode}_ad\"].to_dense()\n",
    "        dp = counts_df[f\"{barcode}_dp\"].to_dense()\n",
    "        ad[male_alt] = dp[male_alt].sub(ad[male_alt], fill_value=0)\n",
    "        counts_df[f\"{barcode}_ad\"] = ad.to_sparse()\n",
    "\n",
    "    new_nan_stats = util.nan_fraction(counts_df.drop(columns=[\"PHASE\"]))\n",
    "    old_nan_stats = util.nan_fraction(raw_counts_df)\n",
    "\n",
    "    assert old_nan_stats == new_nan_stats\n",
    "#     util.pickle_dump(counts_df, f\"{sample_data_dir}/counts.pkl\")\n",
    "\n",
    "    print(\"Ensuring that non-phased SNPs were filtered out\")\n",
    "    assert np.all(np.isin(toolkit.extract_snps(counts_df), \n",
    "                  toolkit.extract_snps(phasing_df)))\n",
    "\n",
    "    print(\"{:.2f}% of non-missing read counts\".format(\n",
    "        100 * counts_df.density\n",
    "    ))\n",
    "    return counts_df"
   ]
  },
  {
   "cell_type": "code",
   "execution_count": 34,
   "metadata": {},
   "outputs": [
    {
     "data": {
      "application/vnd.jupyter.widget-view+json": {
       "model_id": "c3d89211d2bd40b0972ba57c0eaabd57",
       "version_major": 2,
       "version_minor": 0
      },
      "text/plain": [
       "HBox(children=(IntProgress(value=0, description='cell_barcode', max=6669, style=ProgressStyle(description_widt…"
      ]
     },
     "metadata": {},
     "output_type": "display_data"
    },
    {
     "name": "stdout",
     "output_type": "stream",
     "text": [
      "Ensuring that non-phased SNPs were filtered out\n"
     ]
    },
    {
     "data": {
      "application/vnd.jupyter.widget-view+json": {
       "model_id": "27be1c6efe86483d97a783ed12717b07",
       "version_major": 2,
       "version_minor": 0
      },
      "text/plain": [
       "HBox(children=(IntProgress(value=0, description='extracting snps...', max=232300, style=ProgressStyle(descript…"
      ]
     },
     "metadata": {},
     "output_type": "display_data"
    },
    {
     "data": {
      "application/vnd.jupyter.widget-view+json": {
       "model_id": "ac67f980a7ab4fd9a91f4afaa5311fdc",
       "version_major": 2,
       "version_minor": 0
      },
      "text/plain": [
       "HBox(children=(IntProgress(value=0, description='extracting snps...', max=232300, style=ProgressStyle(descript…"
      ]
     },
     "metadata": {},
     "output_type": "display_data"
    },
    {
     "name": "stdout",
     "output_type": "stream",
     "text": [
      "0.07% of non-missing read counts\n",
      "CPU times: user 6min, sys: 12.5 s, total: 6min 13s\n",
      "Wall time: 6min 11s\n"
     ]
    },
    {
     "data": {
      "text/html": [
       "<div>\n",
       "<style scoped>\n",
       "    .dataframe tbody tr th:only-of-type {\n",
       "        vertical-align: middle;\n",
       "    }\n",
       "\n",
       "    .dataframe tbody tr th {\n",
       "        vertical-align: top;\n",
       "    }\n",
       "\n",
       "    .dataframe thead th {\n",
       "        text-align: right;\n",
       "    }\n",
       "</style>\n",
       "<table border=\"1\" class=\"dataframe\">\n",
       "  <thead>\n",
       "    <tr style=\"text-align: right;\">\n",
       "      <th></th>\n",
       "      <th>CHROM</th>\n",
       "      <th>POS</th>\n",
       "      <th>AAACCTGCACATCCAA-1_ad</th>\n",
       "      <th>AAACCTGCACATCCAA-1_dp</th>\n",
       "      <th>AAACCTGCACTAGTAC-1_ad</th>\n",
       "      <th>AAACCTGCACTAGTAC-1_dp</th>\n",
       "      <th>AAACCTGCATCATCCC-1_ad</th>\n",
       "      <th>AAACCTGCATCATCCC-1_dp</th>\n",
       "      <th>AAACCTGGTAGCGATG-1_ad</th>\n",
       "      <th>AAACCTGGTAGCGATG-1_dp</th>\n",
       "      <th>...</th>\n",
       "      <th>TTTGTCAGTGCGCTTG-1_dp</th>\n",
       "      <th>TTTGTCAGTGTTTGTG-1_ad</th>\n",
       "      <th>TTTGTCAGTGTTTGTG-1_dp</th>\n",
       "      <th>TTTGTCAGTTAAAGAC-1_ad</th>\n",
       "      <th>TTTGTCAGTTAAAGAC-1_dp</th>\n",
       "      <th>TTTGTCATCATCGGAT-1_ad</th>\n",
       "      <th>TTTGTCATCATCGGAT-1_dp</th>\n",
       "      <th>TTTGTCATCCCAAGAT-1_ad</th>\n",
       "      <th>TTTGTCATCCCAAGAT-1_dp</th>\n",
       "      <th>PHASE</th>\n",
       "    </tr>\n",
       "  </thead>\n",
       "  <tbody>\n",
       "    <tr>\n",
       "      <th>0</th>\n",
       "      <td>1.0</td>\n",
       "      <td>817842.0</td>\n",
       "      <td>NaN</td>\n",
       "      <td>NaN</td>\n",
       "      <td>NaN</td>\n",
       "      <td>NaN</td>\n",
       "      <td>NaN</td>\n",
       "      <td>NaN</td>\n",
       "      <td>NaN</td>\n",
       "      <td>NaN</td>\n",
       "      <td>...</td>\n",
       "      <td>NaN</td>\n",
       "      <td>NaN</td>\n",
       "      <td>NaN</td>\n",
       "      <td>NaN</td>\n",
       "      <td>NaN</td>\n",
       "      <td>NaN</td>\n",
       "      <td>NaN</td>\n",
       "      <td>NaN</td>\n",
       "      <td>NaN</td>\n",
       "      <td>0</td>\n",
       "    </tr>\n",
       "    <tr>\n",
       "      <th>1</th>\n",
       "      <td>1.0</td>\n",
       "      <td>817964.0</td>\n",
       "      <td>NaN</td>\n",
       "      <td>NaN</td>\n",
       "      <td>NaN</td>\n",
       "      <td>NaN</td>\n",
       "      <td>NaN</td>\n",
       "      <td>NaN</td>\n",
       "      <td>NaN</td>\n",
       "      <td>NaN</td>\n",
       "      <td>...</td>\n",
       "      <td>NaN</td>\n",
       "      <td>NaN</td>\n",
       "      <td>NaN</td>\n",
       "      <td>NaN</td>\n",
       "      <td>NaN</td>\n",
       "      <td>NaN</td>\n",
       "      <td>NaN</td>\n",
       "      <td>NaN</td>\n",
       "      <td>NaN</td>\n",
       "      <td>0</td>\n",
       "    </tr>\n",
       "    <tr>\n",
       "      <th>2</th>\n",
       "      <td>1.0</td>\n",
       "      <td>817969.0</td>\n",
       "      <td>NaN</td>\n",
       "      <td>NaN</td>\n",
       "      <td>NaN</td>\n",
       "      <td>NaN</td>\n",
       "      <td>NaN</td>\n",
       "      <td>NaN</td>\n",
       "      <td>NaN</td>\n",
       "      <td>NaN</td>\n",
       "      <td>...</td>\n",
       "      <td>NaN</td>\n",
       "      <td>NaN</td>\n",
       "      <td>NaN</td>\n",
       "      <td>NaN</td>\n",
       "      <td>NaN</td>\n",
       "      <td>NaN</td>\n",
       "      <td>NaN</td>\n",
       "      <td>NaN</td>\n",
       "      <td>NaN</td>\n",
       "      <td>0</td>\n",
       "    </tr>\n",
       "    <tr>\n",
       "      <th>3</th>\n",
       "      <td>1.0</td>\n",
       "      <td>817980.0</td>\n",
       "      <td>NaN</td>\n",
       "      <td>NaN</td>\n",
       "      <td>NaN</td>\n",
       "      <td>NaN</td>\n",
       "      <td>NaN</td>\n",
       "      <td>NaN</td>\n",
       "      <td>NaN</td>\n",
       "      <td>NaN</td>\n",
       "      <td>...</td>\n",
       "      <td>NaN</td>\n",
       "      <td>NaN</td>\n",
       "      <td>NaN</td>\n",
       "      <td>NaN</td>\n",
       "      <td>NaN</td>\n",
       "      <td>NaN</td>\n",
       "      <td>NaN</td>\n",
       "      <td>NaN</td>\n",
       "      <td>NaN</td>\n",
       "      <td>0</td>\n",
       "    </tr>\n",
       "    <tr>\n",
       "      <th>4</th>\n",
       "      <td>1.0</td>\n",
       "      <td>849998.0</td>\n",
       "      <td>NaN</td>\n",
       "      <td>NaN</td>\n",
       "      <td>NaN</td>\n",
       "      <td>NaN</td>\n",
       "      <td>NaN</td>\n",
       "      <td>NaN</td>\n",
       "      <td>NaN</td>\n",
       "      <td>NaN</td>\n",
       "      <td>...</td>\n",
       "      <td>NaN</td>\n",
       "      <td>NaN</td>\n",
       "      <td>NaN</td>\n",
       "      <td>NaN</td>\n",
       "      <td>NaN</td>\n",
       "      <td>NaN</td>\n",
       "      <td>NaN</td>\n",
       "      <td>NaN</td>\n",
       "      <td>NaN</td>\n",
       "      <td>0</td>\n",
       "    </tr>\n",
       "  </tbody>\n",
       "</table>\n",
       "<p>5 rows × 13341 columns</p>\n",
       "</div>"
      ],
      "text/plain": [
       "   CHROM       POS  AAACCTGCACATCCAA-1_ad  AAACCTGCACATCCAA-1_dp  \\\n",
       "0    1.0  817842.0                    NaN                    NaN   \n",
       "1    1.0  817964.0                    NaN                    NaN   \n",
       "2    1.0  817969.0                    NaN                    NaN   \n",
       "3    1.0  817980.0                    NaN                    NaN   \n",
       "4    1.0  849998.0                    NaN                    NaN   \n",
       "\n",
       "   AAACCTGCACTAGTAC-1_ad  AAACCTGCACTAGTAC-1_dp  AAACCTGCATCATCCC-1_ad  \\\n",
       "0                    NaN                    NaN                    NaN   \n",
       "1                    NaN                    NaN                    NaN   \n",
       "2                    NaN                    NaN                    NaN   \n",
       "3                    NaN                    NaN                    NaN   \n",
       "4                    NaN                    NaN                    NaN   \n",
       "\n",
       "   AAACCTGCATCATCCC-1_dp  AAACCTGGTAGCGATG-1_ad  AAACCTGGTAGCGATG-1_dp  ...  \\\n",
       "0                    NaN                    NaN                    NaN  ...   \n",
       "1                    NaN                    NaN                    NaN  ...   \n",
       "2                    NaN                    NaN                    NaN  ...   \n",
       "3                    NaN                    NaN                    NaN  ...   \n",
       "4                    NaN                    NaN                    NaN  ...   \n",
       "\n",
       "   TTTGTCAGTGCGCTTG-1_dp  TTTGTCAGTGTTTGTG-1_ad  TTTGTCAGTGTTTGTG-1_dp  \\\n",
       "0                    NaN                    NaN                    NaN   \n",
       "1                    NaN                    NaN                    NaN   \n",
       "2                    NaN                    NaN                    NaN   \n",
       "3                    NaN                    NaN                    NaN   \n",
       "4                    NaN                    NaN                    NaN   \n",
       "\n",
       "   TTTGTCAGTTAAAGAC-1_ad  TTTGTCAGTTAAAGAC-1_dp  TTTGTCATCATCGGAT-1_ad  \\\n",
       "0                    NaN                    NaN                    NaN   \n",
       "1                    NaN                    NaN                    NaN   \n",
       "2                    NaN                    NaN                    NaN   \n",
       "3                    NaN                    NaN                    NaN   \n",
       "4                    NaN                    NaN                    NaN   \n",
       "\n",
       "   TTTGTCATCATCGGAT-1_dp  TTTGTCATCCCAAGAT-1_ad  TTTGTCATCCCAAGAT-1_dp  PHASE  \n",
       "0                    NaN                    NaN                    NaN      0  \n",
       "1                    NaN                    NaN                    NaN      0  \n",
       "2                    NaN                    NaN                    NaN      0  \n",
       "3                    NaN                    NaN                    NaN      0  \n",
       "4                    NaN                    NaN                    NaN      0  \n",
       "\n",
       "[5 rows x 13341 columns]"
      ]
     },
     "execution_count": 34,
     "metadata": {},
     "output_type": "execute_result"
    }
   ],
   "source": [
    "%%time\n",
    "data[\"counts\"] = load_counts(data[\"raw_counts\"], data[\"phasing\"])\n",
    "data[\"counts\"].head()"
   ]
  },
  {
   "cell_type": "code",
   "execution_count": 35,
   "metadata": {},
   "outputs": [
    {
     "name": "stderr",
     "output_type": "stream",
     "text": [
      "/icgc/dkfzlsdf/analysis/B260/users/v390v/cnv_inference/data/tmp/counts_to_ase/first_sample/scRNA/cnv_^_haplotype_block_phasing.pkl —> /icgc/dkfzlsdf/analysis/B260/users/v390v/cnv_inference/data/processed/first_sample/scRNA/cnv_^_haplotype_block_phasing.pkl\n"
     ]
    }
   ],
   "source": [
    "util.pickle_dump(\n",
    "    data[\"phasing\"],\n",
    "    os.path.join(\n",
    "        workspace.tmp_dir,\n",
    "        \"cnv_^_haplotype_block_phasing.pkl\"\n",
    "    )\n",
    ")\n",
    "workspace.add_entry(\"cnv_^_haplotype_block_phasing\", \"cnv_^_haplotype_block_phasing.pkl\")\n",
    "workspace.verify()\n",
    "workspace.push()"
   ]
  },
  {
   "cell_type": "code",
   "execution_count": 36,
   "metadata": {},
   "outputs": [
    {
     "name": "stderr",
     "output_type": "stream",
     "text": [
      "/icgc/dkfzlsdf/analysis/B260/users/v390v/cnv_inference/data/tmp/counts_to_ase/first_sample/scRNA/cnv_^_haplotype_block_phasing.pkl —> /icgc/dkfzlsdf/analysis/B260/users/v390v/cnv_inference/data/processed/first_sample/scRNA/cnv_^_haplotype_block_phasing.pkl\n",
      "/icgc/dkfzlsdf/analysis/B260/users/v390v/cnv_inference/data/tmp/counts_to_ase/first_sample/scRNA/cnv_^_haplotype_block_counts.pkl —> /icgc/dkfzlsdf/analysis/B260/users/v390v/cnv_inference/data/processed/first_sample/scRNA/cnv_^_haplotype_block_counts.pkl\n"
     ]
    }
   ],
   "source": [
    "util.pickle_dump(\n",
    "    data[\"counts\"],\n",
    "    os.path.join(\n",
    "        workspace.tmp_dir,\n",
    "        \"cnv_^_haplotype_block_counts.pkl\"\n",
    "    )\n",
    ")\n",
    "workspace.add_entry(\"cnv_^_haplotype_block_counts\", \n",
    "                    \"cnv_^_haplotype_block_counts.pkl\")\n",
    "workspace.verify()\n",
    "workspace.push()"
   ]
  },
  {
   "cell_type": "code",
   "execution_count": 37,
   "metadata": {
    "scrolled": true
   },
   "outputs": [
    {
     "name": "stdout",
     "output_type": "stream",
     "text": [
      "<class 'pandas.core.sparse.frame.SparseDataFrame'>\n",
      "RangeIndex: 232300 entries, 0 to 232299\n",
      "Columns: 13341 entries, CHROM to PHASE\n",
      "dtypes: Sparse[float64, nan](13340), Sparse[int64, nan](1)\n",
      "memory usage: 24.2 MB\n"
     ]
    }
   ],
   "source": [
    "data[\"counts\"].info()"
   ]
  },
  {
   "cell_type": "markdown",
   "metadata": {},
   "source": [
    "## Getting an ASE matrix and selecting informative genes from it"
   ]
  },
  {
   "cell_type": "code",
   "execution_count": 18,
   "metadata": {},
   "outputs": [
    {
     "data": {
      "application/vnd.jupyter.widget-view+json": {
       "model_id": "cdbbdda6bb5a4737b0535b547847fe56",
       "version_major": 2,
       "version_minor": 0
      },
      "text/plain": [
       "HBox(children=(IntProgress(value=0, description='ase from read counts', max=6126, style=ProgressStyle(descript…"
      ]
     },
     "metadata": {},
     "output_type": "display_data"
    },
    {
     "name": "stdout",
     "output_type": "stream",
     "text": [
      "\n",
      "<class 'pandas.core.frame.DataFrame'>\n",
      "RangeIndex: 10224 entries, 0 to 10223\n",
      "Columns: 6126 entries, AAACCTGCACATCCAA-1 to TTTGTCATCCCAAGAT-1\n",
      "dtypes: float64(6126)\n",
      "memory usage: 477.8 MB\n",
      "CPU times: user 9.84 s, sys: 12.5 s, total: 22.4 s\n",
      "Wall time: 29.9 s\n"
     ]
    }
   ],
   "source": [
    "%%time\n",
    "gene_counts_df = util.pickle_load(f\"{sample_data_dir}/gene_counts.pkl\")\n",
    "ase_df = ase_matrix.compute_ase(\n",
    "    gene_counts_df, \n",
    "    toolkit.extract_barcodes(gene_counts_df)\n",
    ")\n",
    "util.pickle_dump(ase_df, f\"{sample_data_dir}/ase.pkl\")\n",
    "ase_df.info()"
   ]
  },
  {
   "cell_type": "code",
   "execution_count": 19,
   "metadata": {},
   "outputs": [
    {
     "name": "stdout",
     "output_type": "stream",
     "text": [
      "Per column:\n",
      "AAACCTGCACATCCAA-1    0.997164\n",
      "AAACCTGCACTAGTAC-1    0.996088\n",
      "AAACCTGCATCATCCC-1    0.997555\n",
      "AAACCTGGTAGCTCCG-1    0.995794\n",
      "AAACCTGGTCTAAACC-1    0.994914\n",
      "                        ...   \n",
      "TTTGTCAGTGCGCTTG-1    0.989241\n",
      "TTTGTCAGTGTTTGTG-1    0.993642\n",
      "TTTGTCAGTTAAAGAC-1    0.995794\n",
      "TTTGTCATCATCGGAT-1    0.991784\n",
      "TTTGTCATCCCAAGAT-1    0.995012\n",
      "Length: 6126, dtype: float64\n",
      "Per row:\n",
      "0        0.990042\n",
      "1        0.999674\n",
      "2        0.999510\n",
      "3        0.999347\n",
      "4        0.996898\n",
      "           ...   \n",
      "10219    0.999347\n",
      "10220    0.999837\n",
      "10221    0.998368\n",
      "10222    0.999837\n",
      "10223    0.999837\n",
      "Length: 10224, dtype: float64\n",
      "In total:  0.9948370985516976\n"
     ]
    },
    {
     "data": {
      "image/png": "[encoded data removed]",
      "text/plain": [
       "<Figure size 1152x576 with 2 Axes>"
      ]
     },
     "metadata": {},
     "output_type": "display_data"
    }
   ],
   "source": [
    "nan_info = util.nan_fraction(\n",
    "    ase_df, \n",
    "    axis_list=[0,1],\n",
    "    verbose=True, \n",
    "    show_plots=True,\n",
    "    suptitle=f\"ase_df, {data_name}, {sample_name}\"\n",
    ");"
   ]
  },
  {
   "cell_type": "code",
   "execution_count": 40,
   "metadata": {
    "scrolled": false
   },
   "outputs": [
    {
     "data": {
      "image/png": "[encoded data removed]",
      "text/plain": [
       "<Figure size 1080x432 with 1 Axes>"
      ]
     },
     "metadata": {},
     "output_type": "display_data"
    }
   ],
   "source": [
    "import ipywidgets as widgets\n",
    "\n",
    "def plot_selection_by_nan_fraction(nan_info, cutoff=0.1, outfile=os.devnull):\n",
    "    plt.figure(figsize=(15,6))\n",
    "    plt.title(\"Fraction of non-missing values in the rows of ASE matrix ({}, {})\"\\\n",
    "              .format(data_name, sample_name), fontsize=18)\n",
    "    plt.xlabel(\"number of genes\", fontsize=16);\n",
    "    plt.ylabel(\"fraction of non-missing values\", fontsize=16)\n",
    "    n_remaining_genes = (1 - nan_info[\"row\"] >= 1 - cutoff).sum()\n",
    "    plt.axhline(\n",
    "        1-cutoff, \n",
    "        color=\"red\", \n",
    "        linestyle=\"--\", \n",
    "        label=\"cutoff of {:.2f}\".format(1-cutoff)\n",
    "    );\n",
    "    plt.axvline(n_remaining_genes, \n",
    "                color=\"black\", linestyle=\"--\", \n",
    "                label=f\"{n_remaining_genes} genes above threshold\")\n",
    "    plt.plot(sorted(1 - nan_info[\"row\"])[::-1]);\n",
    "    plt.legend().get_frame().set_facecolor(\"white\");\n",
    "    plt.savefig(outfile, format=outfile.split('.')[-1], dpi=300)\n",
    "\n",
    "plot_selection_by_nan_fraction(\n",
    "    nan_info, \n",
    "    cutoff=0.95, \n",
    "    outfile=f\"{sample_img_dir}/nans_with_threshold.pdf\"\n",
    ")"
   ]
  }
 ],
 "metadata": {
  "kernelspec": {
   "display_name": "Python 3",
   "language": "python",
   "name": "python3"
  },
  "language_info": {
   "codemirror_mode": {
    "name": "ipython",
    "version": 3
   },
   "file_extension": ".py",
   "mimetype": "text/x-python",
   "name": "python",
   "nbconvert_exporter": "python",
   "pygments_lexer": "ipython3",
   "version": "3.7.3"
  },
  "toc": {
   "base_numbering": 1,
   "nav_menu": {},
   "number_sections": true,
   "sideBar": true,
   "skip_h1_title": false,
   "title_cell": "Table of Contents",
   "title_sidebar": "Contents",
   "toc_cell": false,
   "toc_position": {},
   "toc_section_display": true,
   "toc_window_display": false
  },
  "varInspector": {
   "cols": {
    "lenName": 16,
    "lenType": 16,
    "lenVar": 40
   },
   "kernels_config": {
    "python": {
     "delete_cmd_postfix": "",
     "delete_cmd_prefix": "del ",
     "library": "var_list.py",
     "varRefreshCmd": "print(var_dic_list())"
    },
    "r": {
     "delete_cmd_postfix": ") ",
     "delete_cmd_prefix": "rm(",
     "library": "var_list.r",
     "varRefreshCmd": "cat(var_dic_list()) "
    }
   },
   "types_to_exclude": [
    "module",
    "function",
    "builtin_function_or_method",
    "instance",
    "_Feature"
   ],
   "window_display": false
  }
 },
 "nbformat": 4,
 "nbformat_minor": 2
}
