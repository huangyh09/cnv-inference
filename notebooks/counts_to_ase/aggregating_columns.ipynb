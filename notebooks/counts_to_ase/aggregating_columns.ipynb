{
 "cells": [
  {
   "cell_type": "code",
   "execution_count": 4,
   "metadata": {},
   "outputs": [
    {
     "name": "stdout",
     "output_type": "stream",
     "text": [
      "The autoreload extension is already loaded. To reload it, use:\n",
      "  %reload_ext autoreload\n"
     ]
    }
   ],
   "source": [
    "%load_ext autoreload\n",
    "%autoreload 2\n",
    "\n",
    "import os\n",
    "import subprocess\n",
    "import sys\n",
    "import warnings\n",
    "\n",
    "warnings.simplefilter(\"ignore\", FutureWarning)\n",
    "\n",
    "import cnv_inference_config\n",
    "project_config = cnv_inference_config\n",
    "os.chdir(project_config.MB_ROOT)\n",
    "\n",
    "from collections import defaultdict, OrderedDict\n",
    "import multiprocessing as mp\n",
    "import sys\n",
    "\n",
    "import numpy as np\n",
    "import pandas as pd\n",
    "from tqdm import tqdm, tqdm_notebook\n",
    "\n",
    "import matplotlib.pyplot as plt\n",
    "import seaborn as sns\n",
    "\n",
    "from data_types import ase\n",
    "import plotlib\n",
    "import toolkit\n",
    "import util\n",
    "import test_phasing\n",
    "from workspace.workspace_manager import WorkspaceManager\n",
    "\n",
    "workspace = WorkspaceManager(\n",
    "    task_name=\"counts_to_ase\",\n",
    "    experiment_info={\"data\" : \"scDNA\"},\n",
    "    verbose=True\n",
    ")\n",
    "workspace.load_workspace()\n",
    "\n",
    "sns.set()"
   ]
  },
  {
   "cell_type": "code",
   "execution_count": 5,
   "metadata": {
    "scrolled": true
   },
   "outputs": [
    {
     "data": {
      "application/vnd.jupyter.widget-view+json": {
       "model_id": "3a01da3fd94749069a6a999387867182",
       "version_major": 2,
       "version_minor": 0
      },
      "text/plain": [
       "HBox(children=(IntProgress(value=0, description='loading datasets into RAM', max=1, style=ProgressStyle(descri…"
      ]
     },
     "metadata": {},
     "output_type": "display_data"
    },
    {
     "name": "stdout",
     "output_type": "stream",
     "text": [
      "\n",
      "Currently working on scDNA, first_sample\n"
     ]
    },
    {
     "data": {
      "text/html": [
       "<div>\n",
       "<style scoped>\n",
       "    .dataframe tbody tr th:only-of-type {\n",
       "        vertical-align: middle;\n",
       "    }\n",
       "\n",
       "    .dataframe tbody tr th {\n",
       "        vertical-align: top;\n",
       "    }\n",
       "\n",
       "    .dataframe thead th {\n",
       "        text-align: right;\n",
       "    }\n",
       "</style>\n",
       "<table border=\"1\" class=\"dataframe\">\n",
       "  <thead>\n",
       "    <tr style=\"text-align: right;\">\n",
       "      <th></th>\n",
       "      <th>LABEL</th>\n",
       "      <th>BARCODE</th>\n",
       "      <th>TSNE_1</th>\n",
       "      <th>TSNE_2</th>\n",
       "    </tr>\n",
       "  </thead>\n",
       "  <tbody>\n",
       "    <tr>\n",
       "      <th>0</th>\n",
       "      <td>1</td>\n",
       "      <td>AAACCTGTCTTGCGAA-1</td>\n",
       "      <td>9.411309</td>\n",
       "      <td>2.267972</td>\n",
       "    </tr>\n",
       "    <tr>\n",
       "      <th>1</th>\n",
       "      <td>1</td>\n",
       "      <td>AAACGGGAGTGTTGAA-1</td>\n",
       "      <td>4.764729</td>\n",
       "      <td>3.159622</td>\n",
       "    </tr>\n",
       "    <tr>\n",
       "      <th>2</th>\n",
       "      <td>3</td>\n",
       "      <td>AAACGGGGTACTCACA-1</td>\n",
       "      <td>-20.151240</td>\n",
       "      <td>6.528130</td>\n",
       "    </tr>\n",
       "    <tr>\n",
       "      <th>3</th>\n",
       "      <td>1</td>\n",
       "      <td>AAAGCAAAGCTGGTCC-1</td>\n",
       "      <td>9.120229</td>\n",
       "      <td>-3.189401</td>\n",
       "    </tr>\n",
       "    <tr>\n",
       "      <th>4</th>\n",
       "      <td>1</td>\n",
       "      <td>AAAGCAAAGGCCATAG-1</td>\n",
       "      <td>1.129511</td>\n",
       "      <td>-0.906303</td>\n",
       "    </tr>\n",
       "  </tbody>\n",
       "</table>\n",
       "</div>"
      ],
      "text/plain": [
       "   LABEL             BARCODE     TSNE_1    TSNE_2\n",
       "0      1  AAACCTGTCTTGCGAA-1   9.411309  2.267972\n",
       "1      1  AAACGGGAGTGTTGAA-1   4.764729  3.159622\n",
       "2      3  AAACGGGGTACTCACA-1 -20.151240  6.528130\n",
       "3      1  AAAGCAAAGCTGGTCC-1   9.120229 -3.189401\n",
       "4      1  AAAGCAAAGGCCATAG-1   1.129511 -0.906303"
      ]
     },
     "execution_count": 5,
     "metadata": {},
     "output_type": "execute_result"
    }
   ],
   "source": [
    "clustering_name = 'cnv_3'\n",
    "requirements = [\"gene_counts\"]\n",
    "\n",
    "data = {\n",
    "    dtype : \n",
    "    util.pickle_load(workspace.tmp_data[dtype])\n",
    "    for dtype in tqdm_notebook(\n",
    "        requirements,\n",
    "        \"loading datasets into RAM\"\n",
    "    )\n",
    "}\n",
    "data_name = workspace.experiment_info['data']\n",
    "sample_name = workspace.experiment_info['sample']\n",
    "print(f\"Currently working on {data_name}, {sample_name}\")\n",
    "\n",
    "data[f\"{clustering_name}_clustering\"] = util.pickle_load(\n",
    "    f\"{workspace.dir}\"\n",
    "    f\"/{clustering_name}_clustering.pkl\"\n",
    ")\n",
    "data[f\"{clustering_name}_clustering\"].head()"
   ]
  },
  {
   "cell_type": "code",
   "execution_count": 6,
   "metadata": {},
   "outputs": [
    {
     "data": {
      "text/html": [
       "<div>\n",
       "<style scoped>\n",
       "    .dataframe tbody tr th:only-of-type {\n",
       "        vertical-align: middle;\n",
       "    }\n",
       "\n",
       "    .dataframe tbody tr th {\n",
       "        vertical-align: top;\n",
       "    }\n",
       "\n",
       "    .dataframe thead th {\n",
       "        text-align: right;\n",
       "    }\n",
       "</style>\n",
       "<table border=\"1\" class=\"dataframe\">\n",
       "  <thead>\n",
       "    <tr style=\"text-align: right;\">\n",
       "      <th></th>\n",
       "      <th>1_ad</th>\n",
       "      <th>1_dp</th>\n",
       "      <th>2_ad</th>\n",
       "      <th>2_dp</th>\n",
       "      <th>3_ad</th>\n",
       "      <th>3_dp</th>\n",
       "    </tr>\n",
       "  </thead>\n",
       "  <tbody>\n",
       "    <tr>\n",
       "      <th>0</th>\n",
       "      <td>774.0</td>\n",
       "      <td>1546.0</td>\n",
       "      <td>69.0</td>\n",
       "      <td>157.0</td>\n",
       "      <td>229.0</td>\n",
       "      <td>474.0</td>\n",
       "    </tr>\n",
       "    <tr>\n",
       "      <th>1</th>\n",
       "      <td>1556.0</td>\n",
       "      <td>3137.0</td>\n",
       "      <td>182.0</td>\n",
       "      <td>304.0</td>\n",
       "      <td>479.0</td>\n",
       "      <td>1008.0</td>\n",
       "    </tr>\n",
       "    <tr>\n",
       "      <th>2</th>\n",
       "      <td>623.0</td>\n",
       "      <td>1067.0</td>\n",
       "      <td>45.0</td>\n",
       "      <td>89.0</td>\n",
       "      <td>163.0</td>\n",
       "      <td>309.0</td>\n",
       "    </tr>\n",
       "    <tr>\n",
       "      <th>3</th>\n",
       "      <td>44.0</td>\n",
       "      <td>74.0</td>\n",
       "      <td>0.0</td>\n",
       "      <td>1.0</td>\n",
       "      <td>18.0</td>\n",
       "      <td>26.0</td>\n",
       "    </tr>\n",
       "    <tr>\n",
       "      <th>4</th>\n",
       "      <td>26.0</td>\n",
       "      <td>70.0</td>\n",
       "      <td>2.0</td>\n",
       "      <td>5.0</td>\n",
       "      <td>8.0</td>\n",
       "      <td>21.0</td>\n",
       "    </tr>\n",
       "  </tbody>\n",
       "</table>\n",
       "</div>"
      ],
      "text/plain": [
       "     1_ad    1_dp   2_ad   2_dp   3_ad    3_dp\n",
       "0   774.0  1546.0   69.0  157.0  229.0   474.0\n",
       "1  1556.0  3137.0  182.0  304.0  479.0  1008.0\n",
       "2   623.0  1067.0   45.0   89.0  163.0   309.0\n",
       "3    44.0    74.0    0.0    1.0   18.0    26.0\n",
       "4    26.0    70.0    2.0    5.0    8.0    21.0"
      ]
     },
     "execution_count": 6,
     "metadata": {},
     "output_type": "execute_result"
    }
   ],
   "source": [
    "data[f'cnv_^_haplotype_block_{clustering_name}_gene_counts'] =\\\n",
    "    toolkit.aggregate_by_barcode_groups(\n",
    "        data[\"gene_counts\"], \n",
    "        data[f\"{clustering_name}_clustering\"]\n",
    "    )\n",
    "util.pickle_dump(\n",
    "    data[f'cnv_^_haplotype_block_{clustering_name}_gene_counts'], \n",
    "    f\"{workspace.tmp_dir}\"\n",
    "    f\"/cnv_^_haplotype_block_{clustering_name}_gene_counts.pkl\"\n",
    ")\n",
    "workspace.add_entry(\n",
    "    f\"cnv_^_haplotype_block_{clustering_name}_gene_counts\",\n",
    "    f'cnv_^_haplotype_block_{clustering_name}_gene_counts.pkl'\n",
    ")\n",
    "data[f'cnv_^_haplotype_block_{clustering_name}_gene_counts'].head()"
   ]
  },
  {
   "cell_type": "code",
   "execution_count": 7,
   "metadata": {},
   "outputs": [],
   "source": [
    "data[f'cnv_^_haplotype_block_{clustering_name}_ase'] = ase.compute_ase(\n",
    "    data[f'cnv_^_haplotype_block_{clustering_name}_gene_counts'], \n",
    "    toolkit.extract_cluster_labels(data[f'{clustering_name}_clustering'])\n",
    ")\n",
    "util.pickle_dump(\n",
    "    data[f'cnv_^_haplotype_block_{clustering_name}_ase'], \n",
    "    f\"{workspace.tmp_dir}\"\n",
    "    f\"/cnv_^_haplotype_block_{clustering_name}_ase.pkl\"\n",
    ")\n",
    "workspace.add_entry(\n",
    "    f\"cnv_^_haplotype_block_{clustering_name}_ase\",\n",
    "    f'cnv_^_haplotype_block_{clustering_name}_ase.pkl'\n",
    ")"
   ]
  },
  {
   "cell_type": "code",
   "execution_count": 10,
   "metadata": {},
   "outputs": [
    {
     "name": "stdout",
     "output_type": "stream",
     "text": [
      "CPU times: user 28.5 s, sys: 2.16 s, total: 30.7 s\n",
      "Wall time: 30.2 s\n"
     ]
    },
    {
     "data": {
      "image/png": "[encoded data removed]",
      "text/plain": [
       "<Figure size 720x720 with 4 Axes>"
      ]
     },
     "metadata": {},
     "output_type": "display_data"
    }
   ],
   "source": [
    "%%time\n",
    "ase.plot_ase(\n",
    "    data[f'cnv_^_haplotype_block_{clustering_name}_ase'],\n",
    "    title=f\"{data_name}, {sample_name}, {clustering_name}\"\n",
    "    f\" clustering, cnv_^_haplotype\",\n",
    "    xlabel=f\"{clustering_name} cluster labels\",\n",
    "    ylabel=\"all genes\",\n",
    "    row_cluster=True,\n",
    "    outfile=f\"{workspace.img_dir}/cnv_^_haplotype_block_{clustering_name}_ase.pdf\"\n",
    ")"
   ]
  },
  {
   "cell_type": "code",
   "execution_count": 9,
   "metadata": {
    "scrolled": true
   },
   "outputs": [
    {
     "name": "stdout",
     "output_type": "stream",
     "text": [
      "Staged for commit: \n",
      "\t-cnv_^_haplotype_block_cnv_3_gene_counts : cnv_^_haplotype_block_cnv_3_gene_counts.pkl\n",
      "\t-cnv_^_haplotype_block_cnv_3_ase : cnv_^_haplotype_block_cnv_3_ase.pkl\n"
     ]
    },
    {
     "name": "stderr",
     "output_type": "stream",
     "text": [
      "/icgc/dkfzlsdf/analysis/B260/users/v390v/cnv_inference/data/tmp/counts_to_ase/first_sample/scDNA/cnv_^_haplotype_block_cnv_3_gene_counts.pkl —> /icgc/dkfzlsdf/analysis/B260/users/v390v/cnv_inference/data/processed/first_sample/scDNA/cnv_^_haplotype_block_cnv_3_gene_counts.pkl\n",
      "/icgc/dkfzlsdf/analysis/B260/users/v390v/cnv_inference/data/tmp/counts_to_ase/first_sample/scDNA/cnv_^_haplotype_block_cnv_3_ase.pkl —> /icgc/dkfzlsdf/analysis/B260/users/v390v/cnv_inference/data/processed/first_sample/scDNA/cnv_^_haplotype_block_cnv_3_ase.pkl\n"
     ]
    }
   ],
   "source": [
    "workspace.status()\n",
    "workspace.verify()\n",
    "workspace.push()"
   ]
  }
 ],
 "metadata": {
  "kernelspec": {
   "display_name": "Python [conda env:.conda-mb] *",
   "language": "python",
   "name": "conda-env-.conda-mb-py"
  },
  "language_info": {
   "codemirror_mode": {
    "name": "ipython",
    "version": 3
   },
   "file_extension": ".py",
   "mimetype": "text/x-python",
   "name": "python",
   "nbconvert_exporter": "python",
   "pygments_lexer": "ipython3",
   "version": "3.7.3"
  }
 },
 "nbformat": 4,
 "nbformat_minor": 2
}
