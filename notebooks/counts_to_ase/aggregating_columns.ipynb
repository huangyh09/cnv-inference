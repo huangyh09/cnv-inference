{
 "cells": [
  {
   "cell_type": "code",
   "execution_count": 6,
   "metadata": {},
   "outputs": [
    {
     "name": "stdout",
     "output_type": "stream",
     "text": [
      "The autoreload extension is already loaded. To reload it, use:\n",
      "  %reload_ext autoreload\n"
     ]
    }
   ],
   "source": [
    "%load_ext autoreload\n",
    "%autoreload 1\n",
    "\n",
    "import os\n",
    "import subprocess\n",
    "import sys\n",
    "import warnings\n",
    "\n",
    "warnings.simplefilter(\"ignore\", FutureWarning)\n",
    "\n",
    "%aimport cnv_inference_config\n",
    "project_config = cnv_inference_config\n",
    "os.chdir(project_config.MB_ROOT)\n",
    "\n",
    "from collections import defaultdict, OrderedDict\n",
    "import multiprocessing as mp\n",
    "import numpy as np\n",
    "import pandas as pd\n",
    "from tqdm import tqdm, tqdm_notebook\n",
    "\n",
    "import matplotlib.pyplot as plt\n",
    "import seaborn as sns\n",
    "%matplotlib inline\n",
    "sns.set()\n",
    "\n",
    "%aimport ase_matrix\n",
    "%aimport plotlib\n",
    "%aimport toolkit\n",
    "%aimport util\n",
    "%aimport qc\n",
    "%aimport workspace_manager\n",
    "\n",
    "workspace = workspace_manager.WorkspaceManager(\n",
    "    task_name=\"counts_to_ase\",\n",
    "    experiment_info={\"data\" : \"scDNA\"},\n",
    "    verbose=True\n",
    ")\n",
    "workspace.load_workspace()"
   ]
  },
  {
   "cell_type": "code",
   "execution_count": 26,
   "metadata": {
    "scrolled": true
   },
   "outputs": [
    {
     "data": {
      "application/vnd.jupyter.widget-view+json": {
       "model_id": "b89870cd5731471eb7541288703d5262",
       "version_major": 2,
       "version_minor": 0
      },
      "text/plain": [
       "HBox(children=(IntProgress(value=0, description='loading datasets into RAM', max=2, style=ProgressStyle(descri…"
      ]
     },
     "metadata": {},
     "output_type": "display_data"
    },
    {
     "name": "stdout",
     "output_type": "stream",
     "text": [
      "\n",
      "Currently working on scDNA, first_sample\n"
     ]
    },
    {
     "data": {
      "text/html": [
       "<div>\n",
       "<style scoped>\n",
       "    .dataframe tbody tr th:only-of-type {\n",
       "        vertical-align: middle;\n",
       "    }\n",
       "\n",
       "    .dataframe tbody tr th {\n",
       "        vertical-align: top;\n",
       "    }\n",
       "\n",
       "    .dataframe thead th {\n",
       "        text-align: right;\n",
       "    }\n",
       "</style>\n",
       "<table border=\"1\" class=\"dataframe\">\n",
       "  <thead>\n",
       "    <tr style=\"text-align: right;\">\n",
       "      <th></th>\n",
       "      <th>BARCODE</th>\n",
       "      <th>CELL_ID</th>\n",
       "      <th>LABEL</th>\n",
       "    </tr>\n",
       "  </thead>\n",
       "  <tbody>\n",
       "    <tr>\n",
       "      <th>0</th>\n",
       "      <td>AAACCTGTCTTGCGAA-1</td>\n",
       "      <td>1</td>\n",
       "      <td>9</td>\n",
       "    </tr>\n",
       "    <tr>\n",
       "      <th>1</th>\n",
       "      <td>AACTCCCAGGGATTCG-1</td>\n",
       "      <td>10</td>\n",
       "      <td>8</td>\n",
       "    </tr>\n",
       "    <tr>\n",
       "      <th>2</th>\n",
       "      <td>CACCTTGAGAAGGACA-1</td>\n",
       "      <td>100</td>\n",
       "      <td>6</td>\n",
       "    </tr>\n",
       "    <tr>\n",
       "      <th>3</th>\n",
       "      <td>CACCTTGAGGTAAACT-1</td>\n",
       "      <td>101</td>\n",
       "      <td>2</td>\n",
       "    </tr>\n",
       "    <tr>\n",
       "      <th>4</th>\n",
       "      <td>CAGAGAGGTTCCCACT-1</td>\n",
       "      <td>104</td>\n",
       "      <td>5</td>\n",
       "    </tr>\n",
       "  </tbody>\n",
       "</table>\n",
       "</div>"
      ],
      "text/plain": [
       "              BARCODE  CELL_ID  LABEL\n",
       "0  AAACCTGTCTTGCGAA-1        1      9\n",
       "1  AACTCCCAGGGATTCG-1       10      8\n",
       "2  CACCTTGAGAAGGACA-1      100      6\n",
       "3  CACCTTGAGGTAAACT-1      101      2\n",
       "4  CAGAGAGGTTCCCACT-1      104      5"
      ]
     },
     "execution_count": 26,
     "metadata": {},
     "output_type": "execute_result"
    }
   ],
   "source": [
    "clustering_name = 'evo_dist_9'\n",
    "requirements = [\"gene_counts\"]\n",
    "\n",
    "data = {\n",
    "    dtype : \n",
    "    util.pickle_load(workspace.tmp_data[dtype])\n",
    "    for dtype in tqdm_notebook(\n",
    "        requirements,\n",
    "        \"loading datasets into RAM\"\n",
    "    )\n",
    "}\n",
    "data_name = workspace.experiment_info['data']\n",
    "sample_name = workspace.experiment_info['sample']\n",
    "print(f\"Currently working on {data_name}, {sample_name}\")\n",
    "\n",
    "data[f\"{clustering_name}_clustering\"] = util.pickle_load(\n",
    "    f\"{workspace.dir}\"\n",
    "    f\"/{clustering_name}_clustering.pkl\"\n",
    ")\n",
    "data[f\"{clustering_name}_clustering\"].head()"
   ]
  },
  {
   "cell_type": "code",
   "execution_count": 27,
   "metadata": {},
   "outputs": [
    {
     "data": {
      "text/html": [
       "<div>\n",
       "<style scoped>\n",
       "    .dataframe tbody tr th:only-of-type {\n",
       "        vertical-align: middle;\n",
       "    }\n",
       "\n",
       "    .dataframe tbody tr th {\n",
       "        vertical-align: top;\n",
       "    }\n",
       "\n",
       "    .dataframe thead th {\n",
       "        text-align: right;\n",
       "    }\n",
       "</style>\n",
       "<table border=\"1\" class=\"dataframe\">\n",
       "  <thead>\n",
       "    <tr style=\"text-align: right;\">\n",
       "      <th></th>\n",
       "      <th>1_ad</th>\n",
       "      <th>1_dp</th>\n",
       "      <th>2_ad</th>\n",
       "      <th>2_dp</th>\n",
       "      <th>3_ad</th>\n",
       "      <th>3_dp</th>\n",
       "      <th>4_ad</th>\n",
       "      <th>4_dp</th>\n",
       "      <th>5_ad</th>\n",
       "      <th>5_dp</th>\n",
       "      <th>6_ad</th>\n",
       "      <th>6_dp</th>\n",
       "      <th>7_ad</th>\n",
       "      <th>7_dp</th>\n",
       "      <th>8_ad</th>\n",
       "      <th>8_dp</th>\n",
       "      <th>9_ad</th>\n",
       "      <th>9_dp</th>\n",
       "    </tr>\n",
       "  </thead>\n",
       "  <tbody>\n",
       "    <tr>\n",
       "      <th>0</th>\n",
       "      <td>14.0</td>\n",
       "      <td>32.0</td>\n",
       "      <td>16.0</td>\n",
       "      <td>25.0</td>\n",
       "      <td>12.0</td>\n",
       "      <td>26.0</td>\n",
       "      <td>18.0</td>\n",
       "      <td>31.0</td>\n",
       "      <td>17.0</td>\n",
       "      <td>19.0</td>\n",
       "      <td>27.0</td>\n",
       "      <td>39.0</td>\n",
       "      <td>14.0</td>\n",
       "      <td>19.0</td>\n",
       "      <td>3.0</td>\n",
       "      <td>9.0</td>\n",
       "      <td>8.0</td>\n",
       "      <td>12.0</td>\n",
       "    </tr>\n",
       "    <tr>\n",
       "      <th>1</th>\n",
       "      <td>3.0</td>\n",
       "      <td>9.0</td>\n",
       "      <td>1.0</td>\n",
       "      <td>2.0</td>\n",
       "      <td>2.0</td>\n",
       "      <td>8.0</td>\n",
       "      <td>NaN</td>\n",
       "      <td>NaN</td>\n",
       "      <td>5.0</td>\n",
       "      <td>8.0</td>\n",
       "      <td>2.0</td>\n",
       "      <td>11.0</td>\n",
       "      <td>2.0</td>\n",
       "      <td>6.0</td>\n",
       "      <td>1.0</td>\n",
       "      <td>5.0</td>\n",
       "      <td>2.0</td>\n",
       "      <td>6.0</td>\n",
       "    </tr>\n",
       "    <tr>\n",
       "      <th>2</th>\n",
       "      <td>6.0</td>\n",
       "      <td>12.0</td>\n",
       "      <td>3.0</td>\n",
       "      <td>8.0</td>\n",
       "      <td>2.0</td>\n",
       "      <td>7.0</td>\n",
       "      <td>5.0</td>\n",
       "      <td>16.0</td>\n",
       "      <td>3.0</td>\n",
       "      <td>3.0</td>\n",
       "      <td>8.0</td>\n",
       "      <td>11.0</td>\n",
       "      <td>NaN</td>\n",
       "      <td>NaN</td>\n",
       "      <td>1.0</td>\n",
       "      <td>7.0</td>\n",
       "      <td>1.0</td>\n",
       "      <td>3.0</td>\n",
       "    </tr>\n",
       "    <tr>\n",
       "      <th>3</th>\n",
       "      <td>53.0</td>\n",
       "      <td>107.0</td>\n",
       "      <td>56.0</td>\n",
       "      <td>100.0</td>\n",
       "      <td>27.0</td>\n",
       "      <td>51.0</td>\n",
       "      <td>32.0</td>\n",
       "      <td>68.0</td>\n",
       "      <td>52.0</td>\n",
       "      <td>98.0</td>\n",
       "      <td>35.0</td>\n",
       "      <td>68.0</td>\n",
       "      <td>29.0</td>\n",
       "      <td>56.0</td>\n",
       "      <td>20.0</td>\n",
       "      <td>35.0</td>\n",
       "      <td>20.0</td>\n",
       "      <td>55.0</td>\n",
       "    </tr>\n",
       "    <tr>\n",
       "      <th>4</th>\n",
       "      <td>9.0</td>\n",
       "      <td>9.0</td>\n",
       "      <td>8.0</td>\n",
       "      <td>8.0</td>\n",
       "      <td>4.0</td>\n",
       "      <td>6.0</td>\n",
       "      <td>4.0</td>\n",
       "      <td>9.0</td>\n",
       "      <td>6.0</td>\n",
       "      <td>7.0</td>\n",
       "      <td>9.0</td>\n",
       "      <td>11.0</td>\n",
       "      <td>1.0</td>\n",
       "      <td>1.0</td>\n",
       "      <td>4.0</td>\n",
       "      <td>4.0</td>\n",
       "      <td>4.0</td>\n",
       "      <td>4.0</td>\n",
       "    </tr>\n",
       "  </tbody>\n",
       "</table>\n",
       "</div>"
      ],
      "text/plain": [
       "   1_ad   1_dp  2_ad   2_dp  3_ad  3_dp  4_ad  4_dp  5_ad  5_dp  6_ad  6_dp  \\\n",
       "0  14.0   32.0  16.0   25.0  12.0  26.0  18.0  31.0  17.0  19.0  27.0  39.0   \n",
       "1   3.0    9.0   1.0    2.0   2.0   8.0   NaN   NaN   5.0   8.0   2.0  11.0   \n",
       "2   6.0   12.0   3.0    8.0   2.0   7.0   5.0  16.0   3.0   3.0   8.0  11.0   \n",
       "3  53.0  107.0  56.0  100.0  27.0  51.0  32.0  68.0  52.0  98.0  35.0  68.0   \n",
       "4   9.0    9.0   8.0    8.0   4.0   6.0   4.0   9.0   6.0   7.0   9.0  11.0   \n",
       "\n",
       "   7_ad  7_dp  8_ad  8_dp  9_ad  9_dp  \n",
       "0  14.0  19.0   3.0   9.0   8.0  12.0  \n",
       "1   2.0   6.0   1.0   5.0   2.0   6.0  \n",
       "2   NaN   NaN   1.0   7.0   1.0   3.0  \n",
       "3  29.0  56.0  20.0  35.0  20.0  55.0  \n",
       "4   1.0   1.0   4.0   4.0   4.0   4.0  "
      ]
     },
     "execution_count": 27,
     "metadata": {},
     "output_type": "execute_result"
    }
   ],
   "source": [
    "data[f'{clustering_name}_gene_counts'] =\\\n",
    "    toolkit.aggregate_by_barcode_groups(\n",
    "        data[\"gene_counts\"], \n",
    "        data[f\"{clustering_name}_clustering\"]\n",
    "    )\n",
    "util.pickle_dump(\n",
    "    data[f'{clustering_name}_gene_counts'], \n",
    "    f\"{workspace.tmp_dir}\"\n",
    "    \"/clustered_gene_counts.pkl\"\n",
    ")\n",
    "workspace.add_entry(\n",
    "    \"clustered_gene_counts\",\n",
    "    f'{clustering_name}_gene_counts.pkl'\n",
    ")\n",
    "data[f'{clustering_name}_gene_counts'].head()"
   ]
  },
  {
   "cell_type": "code",
   "execution_count": 28,
   "metadata": {},
   "outputs": [
    {
     "data": {
      "application/vnd.jupyter.widget-view+json": {
       "model_id": "26b9fec31e484fd79219092d9daba7cf",
       "version_major": 2,
       "version_minor": 0
      },
      "text/plain": [
       "HBox(children=(IntProgress(value=0, description='ase from read counts', max=9, style=ProgressStyle(description…"
      ]
     },
     "metadata": {},
     "output_type": "display_data"
    },
    {
     "name": "stdout",
     "output_type": "stream",
     "text": [
      "\n"
     ]
    }
   ],
   "source": [
    "data[f'{clustering_name}_ase'] = ase_matrix.compute_ase(\n",
    "    data[f'{clustering_name}_gene_counts'], \n",
    "    toolkit.extract_cluster_labels(data[f'{clustering_name}_clustering'])\n",
    ")\n",
    "util.pickle_dump(\n",
    "    data[f'{clustering_name}_ase'], \n",
    "    f\"{workspace.tmp_dir}\"\n",
    "    f\"/{clustering_name}_clustered_ase.pkl\"\n",
    ")"
   ]
  },
  {
   "cell_type": "code",
   "execution_count": 31,
   "metadata": {},
   "outputs": [
    {
     "name": "stdout",
     "output_type": "stream",
     "text": [
      "CPU times: user 43.5 s, sys: 1.23 s, total: 44.8 s\n",
      "Wall time: 44.6 s\n"
     ]
    },
    {
     "data": {
      "image/png": "[encoded data removed]",
      "text/plain": [
       "<Figure size 720x720 with 4 Axes>"
      ]
     },
     "metadata": {},
     "output_type": "display_data"
    }
   ],
   "source": [
    "%%time\n",
    "ase_matrix.plot_ase(\n",
    "    data[f'{clustering_name}_ase'],\n",
    "    title=f\"{data_name}, {sample_name}, {clustering_name}\"\n",
    "    f\" clustering, all genes\",\n",
    "    xlabel=f\"{clustering_name} cluster labels\",\n",
    "    ylabel=\"all genes\",\n",
    "    row_cluster=False,\n",
    "    outfile=f\"{workspace.img_dir}/{clustering_name}_ase.pdf\"\n",
    ")"
   ]
  },
  {
   "cell_type": "code",
   "execution_count": 30,
   "metadata": {},
   "outputs": [
    {
     "name": "stdout",
     "output_type": "stream",
     "text": [
      "Staged for commit: \n",
      "\t-clustered_gene_counts : evo_dist_9_gene_counts.pkl\n"
     ]
    },
    {
     "name": "stderr",
     "output_type": "stream",
     "text": [
      "/icgc/dkfzlsdf/analysis/B260/users/v390v/cnv_inference/data/tmp/counts_to_ase/first_sample/scDNA/clustered_gene_counts.pkl —> /icgc/dkfzlsdf/analysis/B260/users/v390v/cnv_inference/data/processed/first_sample/scDNA/evo_dist_9_gene_counts.pkl\n"
     ]
    }
   ],
   "source": [
    "workspace.status()\n",
    "workspace.verify()\n",
    "workspace.push()"
   ]
  }
 ],
 "metadata": {
  "kernelspec": {
   "display_name": "Python [conda env:.conda-mb] *",
   "language": "python",
   "name": "conda-env-.conda-mb-py"
  },
  "language_info": {
   "codemirror_mode": {
    "name": "ipython",
    "version": 3
   },
   "file_extension": ".py",
   "mimetype": "text/x-python",
   "name": "python",
   "nbconvert_exporter": "python",
   "pygments_lexer": "ipython3",
   "version": "3.7.3"
  }
 },
 "nbformat": 4,
 "nbformat_minor": 2
}
