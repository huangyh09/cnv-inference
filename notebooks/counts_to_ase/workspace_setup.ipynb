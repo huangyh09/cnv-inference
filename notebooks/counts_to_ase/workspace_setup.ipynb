{
 "cells": [
  {
   "cell_type": "code",
   "execution_count": 2,
   "metadata": {},
   "outputs": [],
   "source": [
    "%load_ext autoreload\n",
    "%autoreload 1\n",
    "%matplotlib inline\n",
    "\n",
    "import os\n",
    "import shutil\n",
    "import sys\n",
    "import subprocess\n",
    "\n",
    "%aimport cnv_inference_config\n",
    "project_config = cnv_inference_config\n",
    "os.chdir(project_config.MB_ROOT)\n",
    "\n",
    "from collections import defaultdict, OrderedDict\n",
    "import sys\n",
    "\n",
    "import numpy as np\n",
    "import pandas as pd\n",
    "from tqdm import tqdm, tqdm_notebook\n",
    "\n",
    "%aimport util\n",
    "%aimport workspace_manager"
   ]
  },
  {
   "cell_type": "code",
   "execution_count": 3,
   "metadata": {},
   "outputs": [
    {
     "name": "stderr",
     "output_type": "stream",
     "text": [
      "processing read-only data directory\n",
      "processing workspace directory\n",
      "processing image directory\n",
      "loading data to workspace directory\n"
     ]
    },
    {
     "data": {
      "application/vnd.jupyter.widget-view+json": {
       "model_id": "f71b0b12b38344bfba2495dc56f7a703",
       "version_major": 2,
       "version_minor": 0
      },
      "text/plain": [
       "HBox(children=(IntProgress(value=0, description='copying files', max=9, style=ProgressStyle(description_width=…"
      ]
     },
     "metadata": {},
     "output_type": "display_data"
    },
    {
     "name": "stderr",
     "output_type": "stream",
     "text": [
      "/icgc/dkfzlsdf/analysis/B260/users/v390v/cnv_inference/data/processed/first_sample/scDNA/raw_counts.pkl —> /icgc/dkfzlsdf/analysis/B260/users/v390v/cnv_inference/data/tmp/counts_to_ase/first_sample/scDNA/raw_counts.pkl\n",
      "/icgc/dkfzlsdf/analysis/B260/users/v390v/cnv_inference/data/processed/first_sample/scDNA/phasing.pkl —> /icgc/dkfzlsdf/analysis/B260/users/v390v/cnv_inference/data/tmp/counts_to_ase/first_sample/scDNA/phasing.pkl\n",
      "/icgc/dkfzlsdf/analysis/B260/users/v390v/cnv_inference/data/processed/first_sample/scDNA/genome.pkl —> /icgc/dkfzlsdf/analysis/B260/users/v390v/cnv_inference/data/tmp/counts_to_ase/first_sample/scDNA/genome.pkl\n",
      "/icgc/dkfzlsdf/analysis/B260/users/v390v/cnv_inference/data/processed/first_sample/scDNA/counts.pkl —> /icgc/dkfzlsdf/analysis/B260/users/v390v/cnv_inference/data/tmp/counts_to_ase/first_sample/scDNA/counts.pkl\n",
      "/icgc/dkfzlsdf/analysis/B260/users/v390v/cnv_inference/data/processed/first_sample/scDNA/gene_counts.pkl —> /icgc/dkfzlsdf/analysis/B260/users/v390v/cnv_inference/data/tmp/counts_to_ase/first_sample/scDNA/gene_counts.pkl\n",
      "/icgc/dkfzlsdf/analysis/B260/users/v390v/cnv_inference/data/processed/first_sample/scDNA/scoring.pkl —> /icgc/dkfzlsdf/analysis/B260/users/v390v/cnv_inference/data/tmp/counts_to_ase/first_sample/scDNA/scoring.pkl\n",
      "/icgc/dkfzlsdf/analysis/B260/users/v390v/cnv_inference/data/processed/first_sample/scDNA/snp_to_genes.pkl —> /icgc/dkfzlsdf/analysis/B260/users/v390v/cnv_inference/data/tmp/counts_to_ase/first_sample/scDNA/snp_to_genes.pkl\n",
      "/icgc/dkfzlsdf/analysis/B260/users/v390v/cnv_inference/data/processed/first_sample/scDNA/gene_to_snps.pkl —> /icgc/dkfzlsdf/analysis/B260/users/v390v/cnv_inference/data/tmp/counts_to_ase/first_sample/scDNA/gene_to_snps.pkl\n"
     ]
    },
    {
     "name": "stdout",
     "output_type": "stream",
     "text": [
      "\n"
     ]
    },
    {
     "name": "stderr",
     "output_type": "stream",
     "text": [
      "/icgc/dkfzlsdf/analysis/B260/users/v390v/cnv_inference/data/processed/first_sample/scDNA/cnv_3_clustering.pkl —> /icgc/dkfzlsdf/analysis/B260/users/v390v/cnv_inference/data/tmp/counts_to_ase/first_sample/scDNA/clustering.pkl\n"
     ]
    }
   ],
   "source": [
    "workspace = workspace_manager.WorkspaceManager(\n",
    "    task_name=\"counts_to_ase\",\n",
    "    experiment_info={\n",
    "        \"data\" : \"scDNA\",\n",
    "        \"sample\" : \"first_sample\"\n",
    "    },\n",
    "    cookiecutter_info=util.load_cookiecutter_info(project_config),\n",
    "    verbose=True\n",
    ")\n",
    "requirements = {\n",
    "        dtype : f\"{dtype}.pkl\"\n",
    "        for dtype in [\"raw_counts\", \"phasing\", \n",
    "                      \"genome\", \"counts\", \n",
    "                      \"gene_counts\", \"scoring\", \n",
    "                      \"snp_to_genes\", \"gene_to_snps\"]\n",
    "    }\n",
    "requirements.update({\n",
    "    \"clustering\" : \"cnv_3_clustering.pkl\"\n",
    "})\n",
    "workspace.prepare_workspace(requirements)"
   ]
  },
  {
   "cell_type": "code",
   "execution_count": 4,
   "metadata": {},
   "outputs": [
    {
     "data": {
      "text/html": [
       "<table><tr><th>Task name: </th><td>counts_to_ase</td></tr></table><table><tr><th>Experiment info: </th><td><table><tr><th>data</th><td>scDNA</td></tr><tr><th>sample</th><td>first_sample</td></tr></table></td></tr></table><table><tr><th>Datasets: </th><td><ul><li>raw_counts</li><li>phasing</li><li>genome</li><li>counts</li><li>gene_counts</li><li>scoring</li><li>snp_to_genes</li><li>gene_to_snps</li><li>clustering</li></ul></td></tr></table><table><tr><th>Created on </th><td>2019-08-14 15:05</td></tr></table><table><tr><th>Contents: </th><td><table><tr><th>task_name</th><td>counts_to_ase</td></tr><tr><th>experiment_info</th><td><table><tr><th>data</th><td>scDNA</td></tr><tr><th>sample</th><td>first_sample</td></tr></table></td></tr><tr><th>cookiecutter_info</th><td><table><tr><th>root</th><td>/icgc/dkfzlsdf/analysis/B260/users/v390v/cnv_inference</td></tr><tr><th>lib</th><td>/icgc/dkfzlsdf/analysis/B260/users/v390v/cnv_inference/lib</td></tr><tr><th>notebooks</th><td>/icgc/dkfzlsdf/analysis/B260/users/v390v/cnv_inference/notebooks</td></tr><tr><th>src</th><td>/icgc/dkfzlsdf/analysis/B260/users/v390v/cnv_inference/src</td></tr><tr><th>img</th><td>/icgc/dkfzlsdf/analysis/B260/users/v390v/cnv_inference/img</td></tr><tr><th>data</th><td>/icgc/dkfzlsdf/analysis/B260/users/v390v/cnv_inference/data</td></tr><tr><th>raw</th><td>/icgc/dkfzlsdf/analysis/B260/users/v390v/cnv_inference/data/raw</td></tr><tr><th>tmp</th><td>/icgc/dkfzlsdf/analysis/B260/users/v390v/cnv_inference/data/tmp</td></tr><tr><th>processed</th><td>/icgc/dkfzlsdf/analysis/B260/users/v390v/cnv_inference/data/processed</td></tr></table></td></tr><tr><th>config_dir</th><td>/icgc/dkfzlsdf/analysis/B260/users/v390v/cnv_inference/notebooks/counts_to_ase</td></tr><tr><th>data_dir</th><td><table><tr><th>root</th><td>/icgc/dkfzlsdf/analysis/B260/users/v390v/cnv_inference/data/processed</td></tr><tr><th>sample</th><td>/icgc/dkfzlsdf/analysis/B260/users/v390v/cnv_inference/data/processed/first_sample/scDNA</td></tr></table></td></tr><tr><th>data</th><td><table><tr><th>raw_counts</th><td>/icgc/dkfzlsdf/analysis/B260/users/v390v/cnv_inference/data/processed/first_sample/scDNA/raw_counts.pkl</td></tr><tr><th>phasing</th><td>/icgc/dkfzlsdf/analysis/B260/users/v390v/cnv_inference/data/processed/first_sample/scDNA/phasing.pkl</td></tr><tr><th>genome</th><td>/icgc/dkfzlsdf/analysis/B260/users/v390v/cnv_inference/data/processed/first_sample/scDNA/genome.pkl</td></tr><tr><th>counts</th><td>/icgc/dkfzlsdf/analysis/B260/users/v390v/cnv_inference/data/processed/first_sample/scDNA/counts.pkl</td></tr><tr><th>gene_counts</th><td>/icgc/dkfzlsdf/analysis/B260/users/v390v/cnv_inference/data/processed/first_sample/scDNA/gene_counts.pkl</td></tr><tr><th>scoring</th><td>/icgc/dkfzlsdf/analysis/B260/users/v390v/cnv_inference/data/processed/first_sample/scDNA/scoring.pkl</td></tr><tr><th>snp_to_genes</th><td>/icgc/dkfzlsdf/analysis/B260/users/v390v/cnv_inference/data/processed/first_sample/scDNA/snp_to_genes.pkl</td></tr><tr><th>gene_to_snps</th><td>/icgc/dkfzlsdf/analysis/B260/users/v390v/cnv_inference/data/processed/first_sample/scDNA/gene_to_snps.pkl</td></tr><tr><th>clustering</th><td>/icgc/dkfzlsdf/analysis/B260/users/v390v/cnv_inference/data/processed/first_sample/scDNA/cnv_3_clustering.pkl</td></tr></table></td></tr><tr><th>tmp_data_dir</th><td><table><tr><th>root</th><td>/icgc/dkfzlsdf/analysis/B260/users/v390v/cnv_inference/data/tmp/counts_to_ase</td></tr><tr><th>sample</th><td>/icgc/dkfzlsdf/analysis/B260/users/v390v/cnv_inference/data/tmp/counts_to_ase/first_sample/scDNA</td></tr></table></td></tr><tr><th>tmp_data</th><td><table><tr><th>raw_counts</th><td>/icgc/dkfzlsdf/analysis/B260/users/v390v/cnv_inference/data/tmp/counts_to_ase/first_sample/scDNA/raw_counts.pkl</td></tr><tr><th>phasing</th><td>/icgc/dkfzlsdf/analysis/B260/users/v390v/cnv_inference/data/tmp/counts_to_ase/first_sample/scDNA/phasing.pkl</td></tr><tr><th>genome</th><td>/icgc/dkfzlsdf/analysis/B260/users/v390v/cnv_inference/data/tmp/counts_to_ase/first_sample/scDNA/genome.pkl</td></tr><tr><th>counts</th><td>/icgc/dkfzlsdf/analysis/B260/users/v390v/cnv_inference/data/tmp/counts_to_ase/first_sample/scDNA/counts.pkl</td></tr><tr><th>gene_counts</th><td>/icgc/dkfzlsdf/analysis/B260/users/v390v/cnv_inference/data/tmp/counts_to_ase/first_sample/scDNA/gene_counts.pkl</td></tr><tr><th>scoring</th><td>/icgc/dkfzlsdf/analysis/B260/users/v390v/cnv_inference/data/tmp/counts_to_ase/first_sample/scDNA/scoring.pkl</td></tr><tr><th>snp_to_genes</th><td>/icgc/dkfzlsdf/analysis/B260/users/v390v/cnv_inference/data/tmp/counts_to_ase/first_sample/scDNA/snp_to_genes.pkl</td></tr><tr><th>gene_to_snps</th><td>/icgc/dkfzlsdf/analysis/B260/users/v390v/cnv_inference/data/tmp/counts_to_ase/first_sample/scDNA/gene_to_snps.pkl</td></tr><tr><th>clustering</th><td>/icgc/dkfzlsdf/analysis/B260/users/v390v/cnv_inference/data/tmp/counts_to_ase/first_sample/scDNA/clustering.pkl</td></tr></table></td></tr><tr><th>img_dir</th><td><table><tr><th>root</th><td>/icgc/dkfzlsdf/analysis/B260/users/v390v/cnv_inference/img/counts_to_ase</td></tr><tr><th>sample</th><td>/icgc/dkfzlsdf/analysis/B260/users/v390v/cnv_inference/img/counts_to_ase/first_sample</td></tr></table></td></tr></table></td></tr></table>"
      ],
      "text/plain": [
       "Task name: counts_to_ase\n",
       "Experiment info:\n",
       "{\n",
       "    \"data\": \"scDNA\",\n",
       "    \"sample\": \"first_sample\"\n",
       "}\n",
       "Config generated on 2019-08-14 15:05\n",
       "Contents:\n",
       "{\n",
       "    \"task_name\": \"counts_to_ase\",\n",
       "    \"experiment_info\": {\n",
       "        \"data\": \"scDNA\",\n",
       "        \"sample\": \"first_sample\"\n",
       "    },\n",
       "    \"cookiecutter_info\": {\n",
       "        \"root\": \"/icgc/dkfzlsdf/analysis/B260/users/v390v/cnv_inference\",\n",
       "        \"lib\": \"/icgc/dkfzlsdf/analysis/B260/users/v390v/cnv_inference/lib\",\n",
       "        \"notebooks\": \"/icgc/dkfzlsdf/analysis/B260/users/v390v/cnv_inference/notebooks\",\n",
       "        \"src\": \"/icgc/dkfzlsdf/analysis/B260/users/v390v/cnv_inference/src\",\n",
       "        \"img\": \"/icgc/dkfzlsdf/analysis/B260/users/v390v/cnv_inference/img\",\n",
       "        \"data\": \"/icgc/dkfzlsdf/analysis/B260/users/v390v/cnv_inference/data\",\n",
       "        \"raw\": \"/icgc/dkfzlsdf/analysis/B260/users/v390v/cnv_inference/data/raw\",\n",
       "        \"tmp\": \"/icgc/dkfzlsdf/analysis/B260/users/v390v/cnv_inference/data/tmp\",\n",
       "        \"processed\": \"/icgc/dkfzlsdf/analysis/B260/users/v390v/cnv_inference/data/processed\"\n",
       "    },\n",
       "    \"config_dir\": \"/icgc/dkfzlsdf/analysis/B260/users/v390v/cnv_inference/notebooks/counts_to_ase\",\n",
       "    \"data_dir\": {\n",
       "        \"root\": \"/icgc/dkfzlsdf/analysis/B260/users/v390v/cnv_inference/data/processed\",\n",
       "        \"sample\": \"/icgc/dkfzlsdf/analysis/B260/users/v390v/cnv_inference/data/processed/first_sample/scDNA\"\n",
       "    },\n",
       "    \"data\": {\n",
       "        \"raw_counts\": \"/icgc/dkfzlsdf/analysis/B260/users/v390v/cnv_inference/data/processed/first_sample/scDNA/raw_counts.pkl\",\n",
       "        \"phasing\": \"/icgc/dkfzlsdf/analysis/B260/users/v390v/cnv_inference/data/processed/first_sample/scDNA/phasing.pkl\",\n",
       "        \"genome\": \"/icgc/dkfzlsdf/analysis/B260/users/v390v/cnv_inference/data/processed/first_sample/scDNA/genome.pkl\",\n",
       "        \"counts\": \"/icgc/dkfzlsdf/analysis/B260/users/v390v/cnv_inference/data/processed/first_sample/scDNA/counts.pkl\",\n",
       "        \"gene_counts\": \"/icgc/dkfzlsdf/analysis/B260/users/v390v/cnv_inference/data/processed/first_sample/scDNA/gene_counts.pkl\",\n",
       "        \"scoring\": \"/icgc/dkfzlsdf/analysis/B260/users/v390v/cnv_inference/data/processed/first_sample/scDNA/scoring.pkl\",\n",
       "        \"snp_to_genes\": \"/icgc/dkfzlsdf/analysis/B260/users/v390v/cnv_inference/data/processed/first_sample/scDNA/snp_to_genes.pkl\",\n",
       "        \"gene_to_snps\": \"/icgc/dkfzlsdf/analysis/B260/users/v390v/cnv_inference/data/processed/first_sample/scDNA/gene_to_snps.pkl\",\n",
       "        \"clustering\": \"/icgc/dkfzlsdf/analysis/B260/users/v390v/cnv_inference/data/processed/first_sample/scDNA/cnv_3_clustering.pkl\"\n",
       "    },\n",
       "    \"tmp_data_dir\": {\n",
       "        \"root\": \"/icgc/dkfzlsdf/analysis/B260/users/v390v/cnv_inference/data/tmp/counts_to_ase\",\n",
       "        \"sample\": \"/icgc/dkfzlsdf/analysis/B260/users/v390v/cnv_inference/data/tmp/counts_to_ase/first_sample/scDNA\"\n",
       "    },\n",
       "    \"tmp_data\": {\n",
       "        \"raw_counts\": \"/icgc/dkfzlsdf/analysis/B260/users/v390v/cnv_inference/data/tmp/counts_to_ase/first_sample/scDNA/raw_counts.pkl\",\n",
       "        \"phasing\": \"/icgc/dkfzlsdf/analysis/B260/users/v390v/cnv_inference/data/tmp/counts_to_ase/first_sample/scDNA/phasing.pkl\",\n",
       "        \"genome\": \"/icgc/dkfzlsdf/analysis/B260/users/v390v/cnv_inference/data/tmp/counts_to_ase/first_sample/scDNA/genome.pkl\",\n",
       "        \"counts\": \"/icgc/dkfzlsdf/analysis/B260/users/v390v/cnv_inference/data/tmp/counts_to_ase/first_sample/scDNA/counts.pkl\",\n",
       "        \"gene_counts\": \"/icgc/dkfzlsdf/analysis/B260/users/v390v/cnv_inference/data/tmp/counts_to_ase/first_sample/scDNA/gene_counts.pkl\",\n",
       "        \"scoring\": \"/icgc/dkfzlsdf/analysis/B260/users/v390v/cnv_inference/data/tmp/counts_to_ase/first_sample/scDNA/scoring.pkl\",\n",
       "        \"snp_to_genes\": \"/icgc/dkfzlsdf/analysis/B260/users/v390v/cnv_inference/data/tmp/counts_to_ase/first_sample/scDNA/snp_to_genes.pkl\",\n",
       "        \"gene_to_snps\": \"/icgc/dkfzlsdf/analysis/B260/users/v390v/cnv_inference/data/tmp/counts_to_ase/first_sample/scDNA/gene_to_snps.pkl\",\n",
       "        \"clustering\": \"/icgc/dkfzlsdf/analysis/B260/users/v390v/cnv_inference/data/tmp/counts_to_ase/first_sample/scDNA/clustering.pkl\"\n",
       "    },\n",
       "    \"img_dir\": {\n",
       "        \"root\": \"/icgc/dkfzlsdf/analysis/B260/users/v390v/cnv_inference/img/counts_to_ase\",\n",
       "        \"sample\": \"/icgc/dkfzlsdf/analysis/B260/users/v390v/cnv_inference/img/counts_to_ase/first_sample\"\n",
       "    }\n",
       "}"
      ]
     },
     "execution_count": 4,
     "metadata": {},
     "output_type": "execute_result"
    }
   ],
   "source": [
    "workspace"
   ]
  }
 ],
 "metadata": {
  "kernelspec": {
   "display_name": "Python [conda env:.conda-mb] *",
   "language": "python",
   "name": "conda-env-.conda-mb-py"
  },
  "language_info": {
   "codemirror_mode": {
    "name": "ipython",
    "version": 3
   },
   "file_extension": ".py",
   "mimetype": "text/x-python",
   "name": "python",
   "nbconvert_exporter": "python",
   "pygments_lexer": "ipython3",
   "version": "3.7.3"
  }
 },
 "nbformat": 4,
 "nbformat_minor": 2
}
