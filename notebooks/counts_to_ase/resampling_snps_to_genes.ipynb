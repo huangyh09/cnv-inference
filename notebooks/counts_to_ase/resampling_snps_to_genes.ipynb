{
 "cells": [
  {
   "cell_type": "code",
   "execution_count": 2,
   "metadata": {},
   "outputs": [
    {
     "name": "stdout",
     "output_type": "stream",
     "text": [
      "The autoreload extension is already loaded. To reload it, use:\n",
      "  %reload_ext autoreload\n"
     ]
    }
   ],
   "source": [
    "%load_ext autoreload\n",
    "%autoreload 1\n",
    "\n",
    "import os\n",
    "import subprocess\n",
    "import sys\n",
    "import warnings\n",
    "\n",
    "warnings.simplefilter(\"ignore\", FutureWarning)\n",
    "\n",
    "%aimport cnv_inference_config\n",
    "project_config = cnv_inference_config\n",
    "os.chdir(project_config.MB_ROOT)\n",
    "\n",
    "%matplotlib inline\n",
    "\n",
    "from collections import defaultdict, OrderedDict\n",
    "import multiprocessing as mp\n",
    "import numpy as np\n",
    "import pandas as pd\n",
    "from tqdm import tqdm_notebook\n",
    "\n",
    "import matplotlib.pyplot as plt\n",
    "import seaborn as sns\n",
    "sns.set()\n",
    "\n",
    "%aimport toolkit\n",
    "%aimport util\n",
    "%aimport workspace_manager\n",
    "\n",
    "workspace = workspace_manager.WorkspaceManager(\n",
    "    task_name=\"counts_to_ase\",\n",
    "    verbose=True\n",
    ")\n",
    "workspace.load_workspace(\n",
    "    requirements = {\n",
    "        dtype : f\"{dtype}.pkl\"\n",
    "        for dtype in [\"genome\", \"counts\"]\n",
    "    }\n",
    ")"
   ]
  },
  {
   "cell_type": "code",
   "execution_count": 6,
   "metadata": {},
   "outputs": [
    {
     "name": "stderr",
     "output_type": "stream",
     "text": [
      "/home/v390v/.conda/envs/mb/lib/python3.7/site-packages/pandas/core/generic.py:3607: FutureWarning: SparseDataFrame is deprecated and will be removed in a future version.\n",
      "Use a regular DataFrame whose columns are SparseArrays instead.\n",
      "\n",
      "See http://pandas.pydata.org/pandas-docs/stable/user_guide/sparse.html#migrating for more.\n",
      "\n",
      "  result = self._constructor(new_data).__finalize__(self)\n",
      "/home/v390v/.conda/envs/mb/lib/python3.7/site-packages/pandas/core/frame.py:3451: FutureWarning: SparseSeries is deprecated and will be removed in a future version.\n",
      "Use a Series with sparse values instead.\n",
      "\n",
      "    >>> series = pd.Series(pd.SparseArray(...))\n",
      "\n",
      "See http://pandas.pydata.org/pandas-docs/stable/user_guide/sparse.html#migrating for more.\n",
      "\n",
      "  return klass(values, index=self.index, name=items, fastpath=True)\n"
     ]
    }
   ],
   "source": [
    "data = {\n",
    "    data_type : util.pickle_load(workspace.tmp_data[data_type])\n",
    "    for data_type in [\"counts\", \"genome\"]\n",
    "}\n",
    "data[\"snp\"] = data[\"counts\"]\\\n",
    "                [[\"CHROM\", \"POS\"]]\\\n",
    "                .to_dense()\\\n",
    "                .astype(np.int64)"
   ]
  },
  {
   "cell_type": "code",
   "execution_count": 7,
   "metadata": {},
   "outputs": [],
   "source": [
    "chrom_to_genes = {\n",
    "    chrom : data[\"genome\"][data[\"genome\"][\"CHROM\"] == chrom]\n",
    "    for chrom in data[\"genome\"][\"CHROM\"].unique()\n",
    "}"
   ]
  },
  {
   "cell_type": "code",
   "execution_count": 9,
   "metadata": {},
   "outputs": [
    {
     "data": {
      "application/vnd.jupyter.widget-view+json": {
       "model_id": "322ea4a9aac148a3803dd5c8a436b1d5",
       "version_major": 2,
       "version_minor": 0
      },
      "text/plain": [
       "HBox(children=(IntProgress(value=0, description='SNP processing', max=1552849, style=ProgressStyle(description…"
      ]
     },
     "metadata": {},
     "output_type": "display_data"
    },
    {
     "name": "stdout",
     "output_type": "stream",
     "text": [
      "\n",
      "CPU times: user 18.9 s, sys: 2.75 s, total: 21.6 s\n",
      "Wall time: 3min 50s\n"
     ]
    }
   ],
   "source": [
    "%%time\n",
    "\n",
    "# Here gene coverage for each phased SNP is computed\n",
    "# TODO: rewrite this using \"bedtools intersect\".\n",
    "# This part doesn't scale well.\n",
    "\n",
    "def intersect_snp_with_genes(snp_tuple):\n",
    "    chrom, pos = snp_tuple\n",
    "    # 1-based to 0-based \n",
    "    pos -= 1 # because CellSNP is 1-based, but .bed files are 0-based\n",
    "    genes_on_chrom = chrom_to_genes[str(chrom)]\n",
    "    mask = ((genes_on_chrom.START <= pos) \n",
    "            & (pos < genes_on_chrom.END))\n",
    "    return '@'.join(genes_on_chrom[mask].GENE_ID)\n",
    "\n",
    "pool = mp.Pool(16)\n",
    "result = pool.map(intersect_snp_with_genes, \n",
    "                  tqdm_notebook(data[\"snp\"].values, \n",
    "                                \"SNP processing\"))\n",
    "pool.close()\n",
    "pool.join()"
   ]
  },
  {
   "cell_type": "code",
   "execution_count": 10,
   "metadata": {},
   "outputs": [
    {
     "data": {
      "application/vnd.jupyter.widget-view+json": {
       "model_id": "858e88c8f5734cc0b067b1ef86c81964",
       "version_major": 2,
       "version_minor": 0
      },
      "text/plain": [
       "HBox(children=(IntProgress(value=1, bar_style='info', description='mapping SNPs to genes', max=1, style=Progre…"
      ]
     },
     "metadata": {},
     "output_type": "display_data"
    },
    {
     "name": "stdout",
     "output_type": "stream",
     "text": [
      "\n"
     ]
    }
   ],
   "source": [
    "\"\"\" Here the raw results computed in parallel are parsed \"\"\"\n",
    "snp_to_genes, gene_to_snps = {}, OrderedDict()\n",
    "\n",
    "# This way we ensure proper gene ordering\n",
    "for gene_id in data[\"genome\"].GENE_ID:\n",
    "    gene_to_snps[gene_id] = []\n",
    "\n",
    "for i, row in tqdm_notebook(enumerate(data[\"snp\"].values), \n",
    "                            \"mapping SNPs to genes\"):\n",
    "    chrom, pos = row\n",
    "    snp = f\"{chrom},{pos}\"\n",
    "    snp_to_genes[snp] = result[i].split(\"@\") if result[i] else []\n",
    "    for gene in snp_to_genes[snp]:\n",
    "        gene_to_snps[gene].append(snp)"
   ]
  },
  {
   "cell_type": "code",
   "execution_count": 11,
   "metadata": {},
   "outputs": [
    {
     "data": {
      "image/png": "[encoded data removed]",
      "text/plain": [
       "<Figure size 1152x576 with 1 Axes>"
      ]
     },
     "metadata": {},
     "output_type": "display_data"
    }
   ],
   "source": [
    "plt.figure(figsize=(16,8))\n",
    "sns.set(font_scale=1.5)\n",
    "plt.title(f\"{workspace.experiment_info['data']}, \"\n",
    "          \"number of genes covering one SNP\")\n",
    "plt.xlabel(\"number of genes\")\n",
    "plt.ylabel(\"snp count\")\n",
    "plt.hist([len(gene_list) for gene_list in snp_to_genes.values()]);"
   ]
  },
  {
   "cell_type": "code",
   "execution_count": 12,
   "metadata": {},
   "outputs": [
    {
     "data": {
      "image/png": "[encoded data removed]",
      "text/plain": [
       "<Figure size 1152x576 with 1 Axes>"
      ]
     },
     "metadata": {},
     "output_type": "display_data"
    }
   ],
   "source": [
    "plt.figure(figsize=(16,8))\n",
    "plt.title(f\"{workspace.experiment_info['data']}\"\n",
    "          \", number of SNPs covered by gene\")\n",
    "plt.xlabel(\"number of snps\")\n",
    "plt.ylabel(\"gene count\")\n",
    "plt.hist([len(snp_list) for snp_list \n",
    "          in gene_to_snps.values()]);"
   ]
  },
  {
   "cell_type": "code",
   "execution_count": 30,
   "metadata": {},
   "outputs": [],
   "source": [
    "util.pickle_dump(\n",
    "    snp_to_genes, \n",
    "    f\"{workspace.tmp_dir}/snp_to_genes.pkl\"\n",
    ")\n",
    "workspace.add_entry(\"snp_to_genes\", \"snp_to_genes.pkl\")\n",
    "util.pickle_dump(\n",
    "    gene_to_snps, \n",
    "    f\"{workspace.tmp_dir}/gene_to_snps.pkl\"\n",
    ")\n",
    "workspace.add_entry(\"gene_to_snps\", \"gene_to_snps.pkl\")"
   ]
  },
  {
   "cell_type": "code",
   "execution_count": 31,
   "metadata": {},
   "outputs": [
    {
     "name": "stdout",
     "output_type": "stream",
     "text": [
      "Staged for commit: \n",
      "\t-snp_to_genes : snp_to_genes.pkl\n",
      "\t-gene_counts : gene_counts.pkl\n",
      "\t-gene_to_snps : gene_to_snps.pkl\n"
     ]
    }
   ],
   "source": [
    "workspace.status()"
   ]
  },
  {
   "cell_type": "code",
   "execution_count": 20,
   "metadata": {},
   "outputs": [],
   "source": [
    "data[\"counts\"] = util.pickle_load(workspace.tmp_data[\"counts\"])"
   ]
  },
  {
   "cell_type": "code",
   "execution_count": 21,
   "metadata": {},
   "outputs": [
    {
     "data": {
      "application/vnd.jupyter.widget-view+json": {
       "model_id": "7d28597682d94cc2b4228c824d75ad90",
       "version_major": 2,
       "version_minor": 0
      },
      "text/plain": [
       "HBox(children=(IntProgress(value=0, description='extracting snps...', max=1552849, style=ProgressStyle(descrip…"
      ]
     },
     "metadata": {},
     "output_type": "display_data"
    },
    {
     "name": "stdout",
     "output_type": "stream",
     "text": [
      "\n"
     ]
    },
    {
     "data": {
      "application/vnd.jupyter.widget-view+json": {
       "model_id": "77c88b0bb80b4d0eac5e08f5d66d36cb",
       "version_major": 2,
       "version_minor": 0
      },
      "text/plain": [
       "HBox(children=(IntProgress(value=1, bar_style='info', description='mapping snps to their index numbers by posi…"
      ]
     },
     "metadata": {},
     "output_type": "display_data"
    },
    {
     "name": "stdout",
     "output_type": "stream",
     "text": [
      "\n"
     ]
    }
   ],
   "source": [
    "snp_to_idx = {snp : i for i, snp in \n",
    "              tqdm_notebook(enumerate(toolkit.extract_snps(data[\"counts\"])), \n",
    "                            \"mapping snps to their index numbers \"\n",
    "                            \"by position in the genome\")}"
   ]
  },
  {
   "cell_type": "code",
   "execution_count": 22,
   "metadata": {},
   "outputs": [
    {
     "data": {
      "application/vnd.jupyter.widget-view+json": {
       "model_id": "20029277b45e4524a16693964339200e",
       "version_major": 2,
       "version_minor": 0
      },
      "text/plain": [
       "HBox(children=(IntProgress(value=0, description='mapping gene to SNP ids (for faster row selection)', max=3399…"
      ]
     },
     "metadata": {},
     "output_type": "display_data"
    },
    {
     "name": "stdout",
     "output_type": "stream",
     "text": [
      "\n"
     ]
    },
    {
     "data": {
      "application/vnd.jupyter.widget-view+json": {
       "model_id": "9905b352095e463aa4db579574dfd6fe",
       "version_major": 2,
       "version_minor": 0
      },
      "text/plain": [
       "HBox(children=(IntProgress(value=0, description='cell_barcode processing', max=268, style=ProgressStyle(descri…"
      ]
     },
     "metadata": {},
     "output_type": "display_data"
    },
    {
     "name": "stderr",
     "output_type": "stream",
     "text": [
      "/home/v390v/.conda/envs/mb/lib/python3.7/site-packages/pandas/core/frame.py:3451: FutureWarning: SparseSeries is deprecated and will be removed in a future version.\n",
      "Use a Series with sparse values instead.\n",
      "\n",
      "    >>> series = pd.Series(pd.SparseArray(...))\n",
      "\n",
      "See http://pandas.pydata.org/pandas-docs/stable/user_guide/sparse.html#migrating for more.\n",
      "\n",
      "  return klass(values, index=self.index, name=items, fastpath=True)\n",
      "/home/v390v/.conda/envs/mb/lib/python3.7/site-packages/pandas/core/frame.py:3451: FutureWarning: SparseSeries is deprecated and will be removed in a future version.\n",
      "Use a Series with sparse values instead.\n",
      "\n",
      "    >>> series = pd.Series(pd.SparseArray(...))\n",
      "\n",
      "See http://pandas.pydata.org/pandas-docs/stable/user_guide/sparse.html#migrating for more.\n",
      "\n",
      "  return klass(values, index=self.index, name=items, fastpath=True)\n",
      "/home/v390v/.conda/envs/mb/lib/python3.7/site-packages/pandas/core/frame.py:3451: FutureWarning: SparseSeries is deprecated and will be removed in a future version.\n",
      "Use a Series with sparse values instead.\n",
      "\n",
      "    >>> series = pd.Series(pd.SparseArray(...))\n",
      "\n",
      "See http://pandas.pydata.org/pandas-docs/stable/user_guide/sparse.html#migrating for more.\n",
      "\n",
      "  return klass(values, index=self.index, name=items, fastpath=True)\n",
      "/home/v390v/.conda/envs/mb/lib/python3.7/site-packages/pandas/core/frame.py:3451: FutureWarning: SparseSeries is deprecated and will be removed in a future version.\n",
      "Use a Series with sparse values instead.\n",
      "\n",
      "    >>> series = pd.Series(pd.SparseArray(...))\n",
      "\n",
      "See http://pandas.pydata.org/pandas-docs/stable/user_guide/sparse.html#migrating for more.\n",
      "\n",
      "  return klass(values, index=self.index, name=items, fastpath=True)\n",
      "/home/v390v/.conda/envs/mb/lib/python3.7/site-packages/pandas/core/frame.py:3451: FutureWarning: SparseSeries is deprecated and will be removed in a future version.\n",
      "Use a Series with sparse values instead.\n",
      "\n",
      "    >>> series = pd.Series(pd.SparseArray(...))\n",
      "\n",
      "See http://pandas.pydata.org/pandas-docs/stable/user_guide/sparse.html#migrating for more.\n",
      "\n",
      "  return klass(values, index=self.index, name=items, fastpath=True)\n",
      "/home/v390v/.conda/envs/mb/lib/python3.7/site-packages/pandas/core/frame.py:3451: FutureWarning: SparseSeries is deprecated and will be removed in a future version.\n",
      "Use a Series with sparse values instead.\n",
      "\n",
      "    >>> series = pd.Series(pd.SparseArray(...))\n",
      "\n",
      "See http://pandas.pydata.org/pandas-docs/stable/user_guide/sparse.html#migrating for more.\n",
      "\n",
      "  return klass(values, index=self.index, name=items, fastpath=True)\n",
      "/home/v390v/.conda/envs/mb/lib/python3.7/site-packages/pandas/core/frame.py:3451: FutureWarning: SparseSeries is deprecated and will be removed in a future version.\n",
      "Use a Series with sparse values instead.\n",
      "\n",
      "    >>> series = pd.Series(pd.SparseArray(...))\n",
      "\n",
      "See http://pandas.pydata.org/pandas-docs/stable/user_guide/sparse.html#migrating for more.\n",
      "\n",
      "  return klass(values, index=self.index, name=items, fastpath=True)\n",
      "/home/v390v/.conda/envs/mb/lib/python3.7/site-packages/pandas/core/frame.py:3451: FutureWarning: SparseSeries is deprecated and will be removed in a future version.\n",
      "Use a Series with sparse values instead.\n",
      "\n",
      "    >>> series = pd.Series(pd.SparseArray(...))\n",
      "\n",
      "See http://pandas.pydata.org/pandas-docs/stable/user_guide/sparse.html#migrating for more.\n",
      "\n",
      "  return klass(values, index=self.index, name=items, fastpath=True)\n",
      "/home/v390v/.conda/envs/mb/lib/python3.7/site-packages/pandas/core/frame.py:3451: FutureWarning: SparseSeries is deprecated and will be removed in a future version.\n",
      "Use a Series with sparse values instead.\n",
      "\n",
      "    >>> series = pd.Series(pd.SparseArray(...))\n",
      "\n",
      "See http://pandas.pydata.org/pandas-docs/stable/user_guide/sparse.html#migrating for more.\n",
      "\n",
      "  return klass(values, index=self.index, name=items, fastpath=True)\n",
      "/home/v390v/.conda/envs/mb/lib/python3.7/site-packages/pandas/core/frame.py:3451: FutureWarning: SparseSeries is deprecated and will be removed in a future version.\n",
      "Use a Series with sparse values instead.\n",
      "\n",
      "    >>> series = pd.Series(pd.SparseArray(...))\n",
      "\n",
      "See http://pandas.pydata.org/pandas-docs/stable/user_guide/sparse.html#migrating for more.\n",
      "\n",
      "  return klass(values, index=self.index, name=items, fastpath=True)\n",
      "/home/v390v/.conda/envs/mb/lib/python3.7/site-packages/pandas/core/frame.py:3451: FutureWarning: SparseSeries is deprecated and will be removed in a future version.\n",
      "Use a Series with sparse values instead.\n",
      "\n",
      "    >>> series = pd.Series(pd.SparseArray(...))\n",
      "\n",
      "See http://pandas.pydata.org/pandas-docs/stable/user_guide/sparse.html#migrating for more.\n",
      "\n",
      "  return klass(values, index=self.index, name=items, fastpath=True)\n",
      "/home/v390v/.conda/envs/mb/lib/python3.7/site-packages/pandas/core/frame.py:3451: FutureWarning: SparseSeries is deprecated and will be removed in a future version.\n",
      "Use a Series with sparse values instead.\n",
      "\n",
      "    >>> series = pd.Series(pd.SparseArray(...))\n",
      "\n",
      "See http://pandas.pydata.org/pandas-docs/stable/user_guide/sparse.html#migrating for more.\n",
      "\n",
      "  return klass(values, index=self.index, name=items, fastpath=True)\n",
      "/home/v390v/.conda/envs/mb/lib/python3.7/site-packages/pandas/core/frame.py:3451: FutureWarning: SparseSeries is deprecated and will be removed in a future version.\n",
      "Use a Series with sparse values instead.\n",
      "\n",
      "    >>> series = pd.Series(pd.SparseArray(...))\n",
      "\n",
      "See http://pandas.pydata.org/pandas-docs/stable/user_guide/sparse.html#migrating for more.\n",
      "\n",
      "  return klass(values, index=self.index, name=items, fastpath=True)\n",
      "/home/v390v/.conda/envs/mb/lib/python3.7/site-packages/pandas/core/frame.py:3451: FutureWarning: SparseSeries is deprecated and will be removed in a future version.\n",
      "Use a Series with sparse values instead.\n",
      "\n",
      "    >>> series = pd.Series(pd.SparseArray(...))\n",
      "\n",
      "See http://pandas.pydata.org/pandas-docs/stable/user_guide/sparse.html#migrating for more.\n",
      "\n",
      "  return klass(values, index=self.index, name=items, fastpath=True)\n",
      "/home/v390v/.conda/envs/mb/lib/python3.7/site-packages/pandas/core/frame.py:3451: FutureWarning: SparseSeries is deprecated and will be removed in a future version.\n",
      "Use a Series with sparse values instead.\n",
      "\n",
      "    >>> series = pd.Series(pd.SparseArray(...))\n",
      "\n",
      "See http://pandas.pydata.org/pandas-docs/stable/user_guide/sparse.html#migrating for more.\n",
      "\n",
      "  return klass(values, index=self.index, name=items, fastpath=True)\n",
      "/home/v390v/.conda/envs/mb/lib/python3.7/site-packages/pandas/core/frame.py:3451: FutureWarning: SparseSeries is deprecated and will be removed in a future version.\n",
      "Use a Series with sparse values instead.\n",
      "\n",
      "    >>> series = pd.Series(pd.SparseArray(...))\n",
      "\n",
      "See http://pandas.pydata.org/pandas-docs/stable/user_guide/sparse.html#migrating for more.\n",
      "\n",
      "  return klass(values, index=self.index, name=items, fastpath=True)\n"
     ]
    },
    {
     "name": "stdout",
     "output_type": "stream",
     "text": [
      "\n"
     ]
    },
    {
     "name": "stderr",
     "output_type": "stream",
     "text": [
      "/home/v390v/.conda/envs/mb/lib/python3.7/site-packages/ipykernel_launcher.py:32: FutureWarning: DataFrame/Series.to_dense is deprecated and will be removed in a future version\n"
     ]
    },
    {
     "name": "stdout",
     "output_type": "stream",
     "text": [
      "<class 'pandas.core.frame.DataFrame'>\n",
      "RangeIndex: 15819 entries, 0 to 15818\n",
      "Columns: 536 entries, AAACCTGTCTTGCGAA-1_ad to TTGGAACGTTCTGTCC-1_dp\n",
      "dtypes: float64(536)\n",
      "memory usage: 64.7 MB\n",
      "CPU times: user 1.11 s, sys: 7.06 s, total: 8.17 s\n",
      "Wall time: 24.8 s\n"
     ]
    }
   ],
   "source": [
    "%%time\n",
    "\n",
    "gene_to_snp_ids = {gene : np.array([snp_to_idx[snp] for snp in snp_list]) \n",
    "                   for gene, snp_list \n",
    "                   in tqdm_notebook(gene_to_snps.items(), \n",
    "                                    desc=\"mapping gene to SNP ids\"\n",
    "                                    \" (for faster row selection)\")}\n",
    "\n",
    "def extract_gene_counts(barcode):\n",
    "    gene_to_ad, gene_to_dp = [], []\n",
    "    # I need to convert these columns to dense format\n",
    "    # because I need only a subset of rows on each iteration \n",
    "    ad = data[\"counts\"][f\"{barcode}_ad\"].to_dense().values\n",
    "    dp = data[\"counts\"][f\"{barcode}_dp\"].to_dense().values\n",
    "    # gene_to_snps is an OrderedDict, so we can guarantee\n",
    "    # that all the genes are processed in a correct order\n",
    "    for gene, snp_ids in gene_to_snp_ids.items():\n",
    "        if len(snp_ids) > 0:\n",
    "            ad_sample, dp_sample = ad[snp_ids], dp[snp_ids]\n",
    "            gene_to_ad.append(np.nan  if np.all(np.isnan(ad_sample)) \n",
    "                                      else np.nansum(ad_sample))\n",
    "            gene_to_dp.append(np.nan  if np.all(np.isnan(dp_sample)) \n",
    "                                      else np.nansum(dp_sample))\n",
    "    return pd.DataFrame({f\"{barcode}_ad\" : gene_to_ad, \n",
    "                         f\"{barcode}_dp\" : gene_to_dp})\n",
    "\n",
    "with mp.Pool(16) as pool:\n",
    "    result_list = pool.map(\n",
    "        extract_gene_counts, \n",
    "        tqdm_notebook(toolkit.extract_barcodes(data[\"counts\"]), \n",
    "                      desc=\"cell_barcode processing\")\n",
    "    )\n",
    "    \n",
    "gene_counts_df = pd.concat(result_list, axis=1).to_dense()\n",
    "gene_counts_df.info()"
   ]
  },
  {
   "cell_type": "code",
   "execution_count": 23,
   "metadata": {},
   "outputs": [
    {
     "data": {
      "application/vnd.jupyter.widget-view+json": {
       "model_id": "a09ff027e4184d1aa1e75ea0e01a7aeb",
       "version_major": 2,
       "version_minor": 0
      },
      "text/plain": [
       "HBox(children=(IntProgress(value=0, description='asserting correct gene ordering', max=15819, style=ProgressSt…"
      ]
     },
     "metadata": {},
     "output_type": "display_data"
    },
    {
     "name": "stderr",
     "output_type": "stream",
     "text": [
      "/icgc/dkfzlsdf/analysis/B260/users/v390v/cnv_inference/lib/toolkit.py:51: FutureWarning: arrays to stack must be passed as a \"sequence\" type such as list or tuple. Support for non-sequence iterables such as generators is deprecated as of NumPy 1.16 and will raise an error in the future.\n",
      "  for gene_id in tqdm_notebook(df.GENE_ID, \"asserting correct gene ordering\"))\n"
     ]
    },
    {
     "name": "stdout",
     "output_type": "stream",
     "text": [
      "\n"
     ]
    },
    {
     "data": {
      "text/html": [
       "<div>\n",
       "<style scoped>\n",
       "    .dataframe tbody tr th:only-of-type {\n",
       "        vertical-align: middle;\n",
       "    }\n",
       "\n",
       "    .dataframe tbody tr th {\n",
       "        vertical-align: top;\n",
       "    }\n",
       "\n",
       "    .dataframe thead th {\n",
       "        text-align: right;\n",
       "    }\n",
       "</style>\n",
       "<table border=\"1\" class=\"dataframe\">\n",
       "  <thead>\n",
       "    <tr style=\"text-align: right;\">\n",
       "      <th></th>\n",
       "      <th>GENE_ID</th>\n",
       "      <th>AAACCTGTCTTGCGAA-1_ad</th>\n",
       "      <th>AAACCTGTCTTGCGAA-1_dp</th>\n",
       "      <th>AAACGGGAGTGTTGAA-1_ad</th>\n",
       "      <th>AAACGGGAGTGTTGAA-1_dp</th>\n",
       "      <th>AAACGGGGTACTCACA-1_ad</th>\n",
       "      <th>AAACGGGGTACTCACA-1_dp</th>\n",
       "      <th>AAAGCAAAGCTGGTCC-1_ad</th>\n",
       "      <th>AAAGCAAAGCTGGTCC-1_dp</th>\n",
       "      <th>AAAGCAAAGGCCATAG-1_ad</th>\n",
       "      <th>...</th>\n",
       "      <th>TTCTACACACCCGTGA-1_ad</th>\n",
       "      <th>TTCTACACACCCGTGA-1_dp</th>\n",
       "      <th>TTCTCCTTCAAGCCAT-1_ad</th>\n",
       "      <th>TTCTCCTTCAAGCCAT-1_dp</th>\n",
       "      <th>TTCTTAGAGTAGTGCG-1_ad</th>\n",
       "      <th>TTCTTAGAGTAGTGCG-1_dp</th>\n",
       "      <th>TTGAACGCAGCGATGA-1_ad</th>\n",
       "      <th>TTGAACGCAGCGATGA-1_dp</th>\n",
       "      <th>TTGGAACGTTCTGTCC-1_ad</th>\n",
       "      <th>TTGGAACGTTCTGTCC-1_dp</th>\n",
       "    </tr>\n",
       "  </thead>\n",
       "  <tbody>\n",
       "    <tr>\n",
       "      <th>0</th>\n",
       "      <td>ENSG00000223972,ENSG00000227232,ENSG00000243485</td>\n",
       "      <td>NaN</td>\n",
       "      <td>NaN</td>\n",
       "      <td>1.0</td>\n",
       "      <td>2.0</td>\n",
       "      <td>4.0</td>\n",
       "      <td>4.0</td>\n",
       "      <td>NaN</td>\n",
       "      <td>NaN</td>\n",
       "      <td>NaN</td>\n",
       "      <td>...</td>\n",
       "      <td>1.0</td>\n",
       "      <td>2.0</td>\n",
       "      <td>0.0</td>\n",
       "      <td>3.0</td>\n",
       "      <td>NaN</td>\n",
       "      <td>NaN</td>\n",
       "      <td>NaN</td>\n",
       "      <td>NaN</td>\n",
       "      <td>NaN</td>\n",
       "      <td>NaN</td>\n",
       "    </tr>\n",
       "    <tr>\n",
       "      <th>1</th>\n",
       "      <td>ENSG00000268020</td>\n",
       "      <td>1.0</td>\n",
       "      <td>1.0</td>\n",
       "      <td>NaN</td>\n",
       "      <td>NaN</td>\n",
       "      <td>NaN</td>\n",
       "      <td>NaN</td>\n",
       "      <td>NaN</td>\n",
       "      <td>NaN</td>\n",
       "      <td>NaN</td>\n",
       "      <td>...</td>\n",
       "      <td>NaN</td>\n",
       "      <td>NaN</td>\n",
       "      <td>NaN</td>\n",
       "      <td>NaN</td>\n",
       "      <td>NaN</td>\n",
       "      <td>NaN</td>\n",
       "      <td>NaN</td>\n",
       "      <td>NaN</td>\n",
       "      <td>2.0</td>\n",
       "      <td>3.0</td>\n",
       "    </tr>\n",
       "    <tr>\n",
       "      <th>2</th>\n",
       "      <td>ENSG00000240361</td>\n",
       "      <td>NaN</td>\n",
       "      <td>NaN</td>\n",
       "      <td>NaN</td>\n",
       "      <td>NaN</td>\n",
       "      <td>NaN</td>\n",
       "      <td>NaN</td>\n",
       "      <td>0.0</td>\n",
       "      <td>3.0</td>\n",
       "      <td>NaN</td>\n",
       "      <td>...</td>\n",
       "      <td>NaN</td>\n",
       "      <td>NaN</td>\n",
       "      <td>NaN</td>\n",
       "      <td>NaN</td>\n",
       "      <td>0.0</td>\n",
       "      <td>1.0</td>\n",
       "      <td>NaN</td>\n",
       "      <td>NaN</td>\n",
       "      <td>NaN</td>\n",
       "      <td>NaN</td>\n",
       "    </tr>\n",
       "    <tr>\n",
       "      <th>3</th>\n",
       "      <td>ENSG00000233750,ENSG00000238009,ENSG00000239945</td>\n",
       "      <td>0.0</td>\n",
       "      <td>2.0</td>\n",
       "      <td>0.0</td>\n",
       "      <td>3.0</td>\n",
       "      <td>NaN</td>\n",
       "      <td>NaN</td>\n",
       "      <td>0.0</td>\n",
       "      <td>4.0</td>\n",
       "      <td>3.0</td>\n",
       "      <td>...</td>\n",
       "      <td>1.0</td>\n",
       "      <td>3.0</td>\n",
       "      <td>4.0</td>\n",
       "      <td>4.0</td>\n",
       "      <td>0.0</td>\n",
       "      <td>1.0</td>\n",
       "      <td>1.0</td>\n",
       "      <td>2.0</td>\n",
       "      <td>2.0</td>\n",
       "      <td>2.0</td>\n",
       "    </tr>\n",
       "    <tr>\n",
       "      <th>4</th>\n",
       "      <td>ENSG00000237683,ENSG00000268903,ENSG00000269981</td>\n",
       "      <td>NaN</td>\n",
       "      <td>NaN</td>\n",
       "      <td>NaN</td>\n",
       "      <td>NaN</td>\n",
       "      <td>2.0</td>\n",
       "      <td>2.0</td>\n",
       "      <td>NaN</td>\n",
       "      <td>NaN</td>\n",
       "      <td>NaN</td>\n",
       "      <td>...</td>\n",
       "      <td>0.0</td>\n",
       "      <td>1.0</td>\n",
       "      <td>NaN</td>\n",
       "      <td>NaN</td>\n",
       "      <td>NaN</td>\n",
       "      <td>NaN</td>\n",
       "      <td>NaN</td>\n",
       "      <td>NaN</td>\n",
       "      <td>NaN</td>\n",
       "      <td>NaN</td>\n",
       "    </tr>\n",
       "  </tbody>\n",
       "</table>\n",
       "<p>5 rows × 537 columns</p>\n",
       "</div>"
      ],
      "text/plain": [
       "                                           GENE_ID  AAACCTGTCTTGCGAA-1_ad  \\\n",
       "0  ENSG00000223972,ENSG00000227232,ENSG00000243485                    NaN   \n",
       "1                                  ENSG00000268020                    1.0   \n",
       "2                                  ENSG00000240361                    NaN   \n",
       "3  ENSG00000233750,ENSG00000238009,ENSG00000239945                    0.0   \n",
       "4  ENSG00000237683,ENSG00000268903,ENSG00000269981                    NaN   \n",
       "\n",
       "   AAACCTGTCTTGCGAA-1_dp  AAACGGGAGTGTTGAA-1_ad  AAACGGGAGTGTTGAA-1_dp  \\\n",
       "0                    NaN                    1.0                    2.0   \n",
       "1                    1.0                    NaN                    NaN   \n",
       "2                    NaN                    NaN                    NaN   \n",
       "3                    2.0                    0.0                    3.0   \n",
       "4                    NaN                    NaN                    NaN   \n",
       "\n",
       "   AAACGGGGTACTCACA-1_ad  AAACGGGGTACTCACA-1_dp  AAAGCAAAGCTGGTCC-1_ad  \\\n",
       "0                    4.0                    4.0                    NaN   \n",
       "1                    NaN                    NaN                    NaN   \n",
       "2                    NaN                    NaN                    0.0   \n",
       "3                    NaN                    NaN                    0.0   \n",
       "4                    2.0                    2.0                    NaN   \n",
       "\n",
       "   AAAGCAAAGCTGGTCC-1_dp  AAAGCAAAGGCCATAG-1_ad  ...  TTCTACACACCCGTGA-1_ad  \\\n",
       "0                    NaN                    NaN  ...                    1.0   \n",
       "1                    NaN                    NaN  ...                    NaN   \n",
       "2                    3.0                    NaN  ...                    NaN   \n",
       "3                    4.0                    3.0  ...                    1.0   \n",
       "4                    NaN                    NaN  ...                    0.0   \n",
       "\n",
       "   TTCTACACACCCGTGA-1_dp  TTCTCCTTCAAGCCAT-1_ad  TTCTCCTTCAAGCCAT-1_dp  \\\n",
       "0                    2.0                    0.0                    3.0   \n",
       "1                    NaN                    NaN                    NaN   \n",
       "2                    NaN                    NaN                    NaN   \n",
       "3                    3.0                    4.0                    4.0   \n",
       "4                    1.0                    NaN                    NaN   \n",
       "\n",
       "   TTCTTAGAGTAGTGCG-1_ad  TTCTTAGAGTAGTGCG-1_dp  TTGAACGCAGCGATGA-1_ad  \\\n",
       "0                    NaN                    NaN                    NaN   \n",
       "1                    NaN                    NaN                    NaN   \n",
       "2                    0.0                    1.0                    NaN   \n",
       "3                    0.0                    1.0                    1.0   \n",
       "4                    NaN                    NaN                    NaN   \n",
       "\n",
       "   TTGAACGCAGCGATGA-1_dp  TTGGAACGTTCTGTCC-1_ad  TTGGAACGTTCTGTCC-1_dp  \n",
       "0                    NaN                    NaN                    NaN  \n",
       "1                    NaN                    2.0                    3.0  \n",
       "2                    NaN                    NaN                    NaN  \n",
       "3                    2.0                    2.0                    2.0  \n",
       "4                    NaN                    NaN                    NaN  \n",
       "\n",
       "[5 rows x 537 columns]"
      ]
     },
     "execution_count": 23,
     "metadata": {},
     "output_type": "execute_result"
    }
   ],
   "source": [
    "gene_counts_df.insert(\n",
    "    0, \"GENE_ID\", \n",
    "    [gene for gene, snp_list \n",
    "     in gene_to_snps.items() \n",
    "     if len(snp_list) > 0]\n",
    ")\n",
    "toolkit.assert_gene_ordering(gene_counts_df, data[\"genome\"])\n",
    "gene_counts_df.head()"
   ]
  },
  {
   "cell_type": "code",
   "execution_count": 33,
   "metadata": {},
   "outputs": [
    {
     "name": "stderr",
     "output_type": "stream",
     "text": [
      "/icgc/dkfzlsdf/analysis/B260/users/v390v/cnv_inference/data/tmp/counts_to_ase/first_sample/scDNA/snp_to_genes.pkl —> /icgc/dkfzlsdf/analysis/B260/users/v390v/cnv_inference/data/processed/first_sample/scDNA/snp_to_genes.pkl\n",
      "/icgc/dkfzlsdf/analysis/B260/users/v390v/cnv_inference/data/tmp/counts_to_ase/first_sample/scDNA/gene_counts.pkl —> /icgc/dkfzlsdf/analysis/B260/users/v390v/cnv_inference/data/processed/first_sample/scDNA/gene_counts.pkl\n",
      "/icgc/dkfzlsdf/analysis/B260/users/v390v/cnv_inference/data/tmp/counts_to_ase/first_sample/scDNA/gene_to_snps.pkl —> /icgc/dkfzlsdf/analysis/B260/users/v390v/cnv_inference/data/processed/first_sample/scDNA/gene_to_snps.pkl\n"
     ]
    }
   ],
   "source": [
    "util.pickle_dump(\n",
    "    gene_counts_df,\n",
    "    os.path.join(\n",
    "        workspace.tmp_dir,\n",
    "        \"gene_counts.pkl\"\n",
    "    )\n",
    ")\n",
    "workspace.add_entry(\"gene_counts\", \"gene_counts.pkl\")\n",
    "workspace.verify()\n",
    "workspace.push()"
   ]
  }
 ],
 "metadata": {
  "kernelspec": {
   "display_name": "Python [conda env:.conda-mb] *",
   "language": "python",
   "name": "conda-env-.conda-mb-py"
  },
  "language_info": {
   "codemirror_mode": {
    "name": "ipython",
    "version": 3
   },
   "file_extension": ".py",
   "mimetype": "text/x-python",
   "name": "python",
   "nbconvert_exporter": "python",
   "pygments_lexer": "ipython3",
   "version": "3.7.3"
  }
 },
 "nbformat": 4,
 "nbformat_minor": 2
}
