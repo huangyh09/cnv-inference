{
 "cells": [
  {
   "cell_type": "code",
   "execution_count": 82,
   "metadata": {},
   "outputs": [
    {
     "name": "stdout",
     "output_type": "stream",
     "text": [
      "The autoreload extension is already loaded. To reload it, use:\n",
      "  %reload_ext autoreload\n"
     ]
    }
   ],
   "source": [
    "%load_ext autoreload\n",
    "%autoreload 2\n",
    "\n",
    "import os\n",
    "import subprocess\n",
    "import sys\n",
    "import warnings\n",
    "\n",
    "warnings.simplefilter(\"ignore\", FutureWarning)\n",
    "\n",
    "import cnv_inference_config\n",
    "project_config = cnv_inference_config\n",
    "os.chdir(project_config.MB_ROOT)\n",
    "\n",
    "from collections import defaultdict, OrderedDict\n",
    "import multiprocessing as mp\n",
    "import sys\n",
    "\n",
    "import numpy as np\n",
    "import pandas as pd\n",
    "from tqdm import tqdm, tqdm_notebook\n",
    "\n",
    "import matplotlib.pyplot as plt\n",
    "import seaborn as sns\n",
    "\n",
    "from data_types import ase\n",
    "import plotlib\n",
    "import toolkit\n",
    "import util\n",
    "import test_phasing\n",
    "from workspace.workspace_manager import WorkspaceManager\n",
    "\n",
    "workspace = WorkspaceManager(\n",
    "    task_name=\"counts_to_ase\",\n",
    "    experiment_info={\"data\" : \"scDNA\"},\n",
    "    verbose=True\n",
    ")\n",
    "workspace.load_workspace()\n",
    "\n",
    "sns.set()"
   ]
  },
  {
   "cell_type": "code",
   "execution_count": 83,
   "metadata": {},
   "outputs": [],
   "source": [
    "data = {\n",
    "    data_type : util.pickle_load(workspace.tmp_data[data_type])\n",
    "    for data_type in [\"counts\", \"gene_counts\", \"genome\"]\n",
    "}\n",
    "data[\"snp\"] = data[\"counts\"]\\\n",
    "                [[\"CHROM\", \"POS\"]]\\\n",
    "                .to_dense()\\\n",
    "                .astype(np.int64)"
   ]
  },
  {
   "cell_type": "code",
   "execution_count": 84,
   "metadata": {},
   "outputs": [
    {
     "data": {
      "text/plain": [
       "(12291, 537)"
      ]
     },
     "execution_count": 84,
     "metadata": {},
     "output_type": "execute_result"
    }
   ],
   "source": [
    "data[\"gene_counts\"].shape"
   ]
  },
  {
   "cell_type": "code",
   "execution_count": 41,
   "metadata": {},
   "outputs": [],
   "source": [
    "chrom_to_genes = {\n",
    "    str(chrom) : data[\"genome\"][data[\"genome\"][\"CHROM\"] == chrom]\n",
    "    for chrom in data[\"genome\"][\"CHROM\"].unique()\n",
    "}"
   ]
  },
  {
   "cell_type": "code",
   "execution_count": 42,
   "metadata": {},
   "outputs": [
    {
     "data": {
      "text/plain": [
       "(18011, 4)"
      ]
     },
     "execution_count": 42,
     "metadata": {},
     "output_type": "execute_result"
    }
   ],
   "source": [
    "data[\"genome\"].shape"
   ]
  },
  {
   "cell_type": "code",
   "execution_count": 43,
   "metadata": {},
   "outputs": [
    {
     "data": {
      "application/vnd.jupyter.widget-view+json": {
       "model_id": "ddb31af35fc343afae11dfe31f35ce76",
       "version_major": 2,
       "version_minor": 0
      },
      "text/plain": [
       "HBox(children=(IntProgress(value=0, description='SNP processing', max=232300, style=ProgressStyle(description_…"
      ]
     },
     "metadata": {},
     "output_type": "display_data"
    },
    {
     "name": "stdout",
     "output_type": "stream",
     "text": [
      "CPU times: user 3.48 s, sys: 6.92 s, total: 10.4 s\n",
      "Wall time: 42.5 s\n"
     ]
    }
   ],
   "source": [
    "%%time\n",
    "\n",
    "# Here gene coverage for each phased SNP is computed\n",
    "# TODO: rewrite this using \"bedtools intersect\".\n",
    "# This part doesn't scale well.\n",
    "\n",
    "def intersect_snp_with_genes(snp_tuple):\n",
    "    chrom, pos = snp_tuple\n",
    "    # 1-based to 0-based \n",
    "    pos -= 1 # because CellSNP is 1-based, but .bed files are 0-based\n",
    "    genes_on_chrom = chrom_to_genes[str(chrom)]\n",
    "    mask = ((genes_on_chrom.START <= pos) \n",
    "            & (pos < genes_on_chrom.END))\n",
    "    return '@'.join(genes_on_chrom[mask].GENE_ID)\n",
    "\n",
    "pool = mp.Pool(16)\n",
    "result = pool.map(intersect_snp_with_genes, \n",
    "                  tqdm_notebook(data[\"snp\"].values, \n",
    "                                \"SNP processing\"))\n",
    "pool.close()\n",
    "pool.join()"
   ]
  },
  {
   "cell_type": "code",
   "execution_count": 44,
   "metadata": {},
   "outputs": [
    {
     "data": {
      "application/vnd.jupyter.widget-view+json": {
       "model_id": "d232aef3e6e34e668461fefc27ef3c3c",
       "version_major": 2,
       "version_minor": 0
      },
      "text/plain": [
       "HBox(children=(IntProgress(value=1, bar_style='info', description='mapping SNPs to genes', max=1, style=Progre…"
      ]
     },
     "metadata": {},
     "output_type": "display_data"
    }
   ],
   "source": [
    "\"\"\" Here the raw results computed in parallel are parsed \"\"\"\n",
    "snp_to_genes, gene_to_snps = {}, OrderedDict()\n",
    "\n",
    "# This way we ensure proper gene ordering\n",
    "for gene_id in data[\"genome\"].GENE_ID:\n",
    "    gene_to_snps[gene_id] = []\n",
    "\n",
    "for i, row in tqdm_notebook(enumerate(data[\"snp\"].values), \n",
    "                            \"mapping SNPs to genes\"):\n",
    "    chrom, pos = row\n",
    "    snp = f\"{chrom},{pos}\"\n",
    "    snp_to_genes[snp] = result[i].split(\"@\") if result[i] else []\n",
    "    for gene in snp_to_genes[snp]:\n",
    "        gene_to_snps[gene].append(snp)"
   ]
  },
  {
   "cell_type": "code",
   "execution_count": 45,
   "metadata": {},
   "outputs": [
    {
     "data": {
      "image/png": "[encoded data removed]",
      "text/plain": [
       "<Figure size 1152x576 with 1 Axes>"
      ]
     },
     "metadata": {},
     "output_type": "display_data"
    }
   ],
   "source": [
    "plt.figure(figsize=(16,8))\n",
    "sns.set(font_scale=1.5)\n",
    "plt.title(f\"{workspace.experiment_info['data']}, \"\n",
    "          \"number of genes covering one SNP\")\n",
    "plt.xlabel(\"number of genes\")\n",
    "plt.ylabel(\"snp count\")\n",
    "plt.hist([len(gene_list) for gene_list in snp_to_genes.values()]);"
   ]
  },
  {
   "cell_type": "code",
   "execution_count": 46,
   "metadata": {},
   "outputs": [
    {
     "data": {
      "image/png": "[encoded data removed]",
      "text/plain": [
       "<Figure size 1152x576 with 1 Axes>"
      ]
     },
     "metadata": {},
     "output_type": "display_data"
    }
   ],
   "source": [
    "plt.figure(figsize=(16,8))\n",
    "plt.title(f\"{workspace.experiment_info['data']}\"\n",
    "          \", number of SNPs covered by gene\")\n",
    "plt.xlabel(\"number of snps\")\n",
    "plt.ylabel(\"gene count\")\n",
    "plt.hist([len(snp_list) for snp_list \n",
    "          in gene_to_snps.values()]);"
   ]
  },
  {
   "cell_type": "code",
   "execution_count": 47,
   "metadata": {},
   "outputs": [],
   "source": [
    "util.pickle_dump(\n",
    "    snp_to_genes, \n",
    "    f\"{workspace.tmp_dir}/cnv_^_haplotype_block_snp_to_genes.pkl\"\n",
    ")\n",
    "workspace.add_entry(\"cnv_^_haplotype_block_snp_to_genes\", \n",
    "                    \"cnv_^_haplotype_block_snp_to_genes.pkl\")\n",
    "util.pickle_dump(\n",
    "    gene_to_snps, \n",
    "    f\"{workspace.tmp_dir}/cnv_^_haplotype_block_gene_to_snps.pkl\"\n",
    ")\n",
    "workspace.add_entry(\"cnv_^_haplotype_block_gene_to_snps\", \n",
    "                    \"cnv_^_haplotype_block_gene_to_snps.pkl\")"
   ]
  },
  {
   "cell_type": "code",
   "execution_count": 48,
   "metadata": {},
   "outputs": [
    {
     "name": "stdout",
     "output_type": "stream",
     "text": [
      "Staged for commit: \n",
      "\t-cnv_^_haplotype_block_snp_to_genes : cnv_^_haplotype_block_snp_to_genes.pkl\n",
      "\t-cnv_^_haplotype_block_gene_to_snps : cnv_^_haplotype_block_gene_to_snps.pkl\n"
     ]
    }
   ],
   "source": [
    "workspace.status()"
   ]
  },
  {
   "cell_type": "code",
   "execution_count": 49,
   "metadata": {},
   "outputs": [],
   "source": [
    "data[\"counts\"] = util.pickle_load(workspace.tmp_data[\"counts\"])"
   ]
  },
  {
   "cell_type": "code",
   "execution_count": 50,
   "metadata": {},
   "outputs": [
    {
     "data": {
      "application/vnd.jupyter.widget-view+json": {
       "model_id": "454c126096f443c484730ad8bcfcea40",
       "version_major": 2,
       "version_minor": 0
      },
      "text/plain": [
       "HBox(children=(IntProgress(value=0, description='extracting snps...', max=232300, style=ProgressStyle(descript…"
      ]
     },
     "metadata": {},
     "output_type": "display_data"
    },
    {
     "data": {
      "application/vnd.jupyter.widget-view+json": {
       "model_id": "623b1c27a9344f2aa4e185a6da380870",
       "version_major": 2,
       "version_minor": 0
      },
      "text/plain": [
       "HBox(children=(IntProgress(value=1, bar_style='info', description='mapping snps to their index numbers by posi…"
      ]
     },
     "metadata": {},
     "output_type": "display_data"
    }
   ],
   "source": [
    "snp_to_idx = {snp : i for i, snp in \n",
    "              tqdm_notebook(enumerate(toolkit.extract_snps(data[\"counts\"])), \n",
    "                            \"mapping snps to their index numbers \"\n",
    "                            \"by position in the genome\")}"
   ]
  },
  {
   "cell_type": "code",
   "execution_count": 51,
   "metadata": {},
   "outputs": [
    {
     "data": {
      "application/vnd.jupyter.widget-view+json": {
       "model_id": "1f8fd3908b8343948942cb19cd1a7836",
       "version_major": 2,
       "version_minor": 0
      },
      "text/plain": [
       "HBox(children=(IntProgress(value=0, description='mapping gene to SNP ids (for faster row selection)', max=1801…"
      ]
     },
     "metadata": {},
     "output_type": "display_data"
    },
    {
     "data": {
      "application/vnd.jupyter.widget-view+json": {
       "model_id": "c689687f0e10420da6f29535d10fae60",
       "version_major": 2,
       "version_minor": 0
      },
      "text/plain": [
       "HBox(children=(IntProgress(value=0, description='cell_barcode processing', max=6669, style=ProgressStyle(descr…"
      ]
     },
     "metadata": {},
     "output_type": "display_data"
    },
    {
     "name": "stdout",
     "output_type": "stream",
     "text": [
      "<class 'pandas.core.frame.DataFrame'>\n",
      "RangeIndex: 8779 entries, 0 to 8778\n",
      "Columns: 13338 entries, AAACCTGCACATCCAA-1_ad to TTTGTCATCCCAAGAT-1_dp\n",
      "dtypes: float64(13338)\n",
      "memory usage: 893.4 MB\n",
      "CPU times: user 10.5 s, sys: 11.7 s, total: 22.1 s\n",
      "Wall time: 1min 48s\n"
     ]
    }
   ],
   "source": [
    "%%time\n",
    "\n",
    "gene_to_snp_ids = {gene : np.array([snp_to_idx[snp] for snp in snp_list]) \n",
    "                   for gene, snp_list \n",
    "                   in tqdm_notebook(gene_to_snps.items(), \n",
    "                                    desc=\"mapping gene to SNP ids\"\n",
    "                                    \" (for faster row selection)\")}\n",
    "\n",
    "def extract_gene_counts(barcode):\n",
    "    gene_to_ad, gene_to_dp = [], []\n",
    "    # I need to convert these columns to dense format\n",
    "    # because I need only a subset of rows on each iteration \n",
    "#     male_alt = data[\"counts\"][\"PHASE\"].to_dense() == 1\n",
    "    ad = data[\"counts\"][f\"{barcode}_ad\"].to_dense()\n",
    "    dp = data[\"counts\"][f\"{barcode}_dp\"].to_dense()\n",
    "#     ad[male_alt] = dp[male_alt].sub(ad[male_alt], fill_value=0)\n",
    "    ad = ad.values\n",
    "    dp = dp.values\n",
    "    # gene_to_snps is an OrderedDict, so we can guarantee\n",
    "    # that all the genes are processed in a correct order\n",
    "    for gene, snp_ids in gene_to_snp_ids.items():\n",
    "        if len(snp_ids) > 0:\n",
    "            ad_sample, dp_sample = ad[snp_ids], dp[snp_ids]\n",
    "            gene_to_ad.append(np.nan  if np.all(np.isnan(ad_sample)) \n",
    "                                      else np.nansum(ad_sample))\n",
    "            gene_to_dp.append(np.nan  if np.all(np.isnan(dp_sample)) \n",
    "                                      else np.nansum(dp_sample))\n",
    "    return pd.DataFrame({f\"{barcode}_ad\" : gene_to_ad, \n",
    "                         f\"{barcode}_dp\" : gene_to_dp})\n",
    "\n",
    "with mp.Pool(16) as pool:\n",
    "    result_list = pool.map(\n",
    "        extract_gene_counts, \n",
    "        tqdm_notebook(toolkit.extract_barcodes(data[\"counts\"]), \n",
    "                      desc=\"cell_barcode processing\")\n",
    "    )\n",
    "    \n",
    "gene_counts_df = pd.concat(result_list, axis=1).to_dense()\n",
    "gene_counts_df.info()"
   ]
  },
  {
   "cell_type": "code",
   "execution_count": 52,
   "metadata": {},
   "outputs": [
    {
     "data": {
      "application/vnd.jupyter.widget-view+json": {
       "model_id": "99feb269f51d4ba192d2e918b9953c87",
       "version_major": 2,
       "version_minor": 0
      },
      "text/plain": [
       "HBox(children=(IntProgress(value=0, description='asserting correct gene ordering', max=8779, style=ProgressSty…"
      ]
     },
     "metadata": {},
     "output_type": "display_data"
    },
    {
     "data": {
      "text/html": [
       "<div>\n",
       "<style scoped>\n",
       "    .dataframe tbody tr th:only-of-type {\n",
       "        vertical-align: middle;\n",
       "    }\n",
       "\n",
       "    .dataframe tbody tr th {\n",
       "        vertical-align: top;\n",
       "    }\n",
       "\n",
       "    .dataframe thead th {\n",
       "        text-align: right;\n",
       "    }\n",
       "</style>\n",
       "<table border=\"1\" class=\"dataframe\">\n",
       "  <thead>\n",
       "    <tr style=\"text-align: right;\">\n",
       "      <th></th>\n",
       "      <th>GENE_ID</th>\n",
       "      <th>AAACCTGCACATCCAA-1_ad</th>\n",
       "      <th>AAACCTGCACATCCAA-1_dp</th>\n",
       "      <th>AAACCTGCACTAGTAC-1_ad</th>\n",
       "      <th>AAACCTGCACTAGTAC-1_dp</th>\n",
       "      <th>AAACCTGCATCATCCC-1_ad</th>\n",
       "      <th>AAACCTGCATCATCCC-1_dp</th>\n",
       "      <th>AAACCTGGTAGCGATG-1_ad</th>\n",
       "      <th>AAACCTGGTAGCGATG-1_dp</th>\n",
       "      <th>AAACCTGGTAGCTCCG-1_ad</th>\n",
       "      <th>...</th>\n",
       "      <th>TTTGTCAGTGCGCTTG-1_ad</th>\n",
       "      <th>TTTGTCAGTGCGCTTG-1_dp</th>\n",
       "      <th>TTTGTCAGTGTTTGTG-1_ad</th>\n",
       "      <th>TTTGTCAGTGTTTGTG-1_dp</th>\n",
       "      <th>TTTGTCAGTTAAAGAC-1_ad</th>\n",
       "      <th>TTTGTCAGTTAAAGAC-1_dp</th>\n",
       "      <th>TTTGTCATCATCGGAT-1_ad</th>\n",
       "      <th>TTTGTCATCATCGGAT-1_dp</th>\n",
       "      <th>TTTGTCATCCCAAGAT-1_ad</th>\n",
       "      <th>TTTGTCATCCCAAGAT-1_dp</th>\n",
       "    </tr>\n",
       "  </thead>\n",
       "  <tbody>\n",
       "    <tr>\n",
       "      <th>0</th>\n",
       "      <td>0</td>\n",
       "      <td>NaN</td>\n",
       "      <td>NaN</td>\n",
       "      <td>NaN</td>\n",
       "      <td>NaN</td>\n",
       "      <td>NaN</td>\n",
       "      <td>NaN</td>\n",
       "      <td>NaN</td>\n",
       "      <td>NaN</td>\n",
       "      <td>NaN</td>\n",
       "      <td>...</td>\n",
       "      <td>NaN</td>\n",
       "      <td>NaN</td>\n",
       "      <td>NaN</td>\n",
       "      <td>NaN</td>\n",
       "      <td>NaN</td>\n",
       "      <td>NaN</td>\n",
       "      <td>NaN</td>\n",
       "      <td>NaN</td>\n",
       "      <td>NaN</td>\n",
       "      <td>NaN</td>\n",
       "    </tr>\n",
       "    <tr>\n",
       "      <th>1</th>\n",
       "      <td>1</td>\n",
       "      <td>NaN</td>\n",
       "      <td>NaN</td>\n",
       "      <td>1.0</td>\n",
       "      <td>1.0</td>\n",
       "      <td>NaN</td>\n",
       "      <td>NaN</td>\n",
       "      <td>NaN</td>\n",
       "      <td>NaN</td>\n",
       "      <td>NaN</td>\n",
       "      <td>...</td>\n",
       "      <td>NaN</td>\n",
       "      <td>NaN</td>\n",
       "      <td>NaN</td>\n",
       "      <td>NaN</td>\n",
       "      <td>0.0</td>\n",
       "      <td>23.0</td>\n",
       "      <td>NaN</td>\n",
       "      <td>NaN</td>\n",
       "      <td>NaN</td>\n",
       "      <td>NaN</td>\n",
       "    </tr>\n",
       "    <tr>\n",
       "      <th>2</th>\n",
       "      <td>2</td>\n",
       "      <td>NaN</td>\n",
       "      <td>NaN</td>\n",
       "      <td>NaN</td>\n",
       "      <td>NaN</td>\n",
       "      <td>NaN</td>\n",
       "      <td>NaN</td>\n",
       "      <td>NaN</td>\n",
       "      <td>NaN</td>\n",
       "      <td>NaN</td>\n",
       "      <td>...</td>\n",
       "      <td>NaN</td>\n",
       "      <td>NaN</td>\n",
       "      <td>NaN</td>\n",
       "      <td>NaN</td>\n",
       "      <td>NaN</td>\n",
       "      <td>NaN</td>\n",
       "      <td>NaN</td>\n",
       "      <td>NaN</td>\n",
       "      <td>NaN</td>\n",
       "      <td>NaN</td>\n",
       "    </tr>\n",
       "    <tr>\n",
       "      <th>3</th>\n",
       "      <td>5</td>\n",
       "      <td>NaN</td>\n",
       "      <td>NaN</td>\n",
       "      <td>NaN</td>\n",
       "      <td>NaN</td>\n",
       "      <td>NaN</td>\n",
       "      <td>NaN</td>\n",
       "      <td>NaN</td>\n",
       "      <td>NaN</td>\n",
       "      <td>NaN</td>\n",
       "      <td>...</td>\n",
       "      <td>NaN</td>\n",
       "      <td>NaN</td>\n",
       "      <td>NaN</td>\n",
       "      <td>NaN</td>\n",
       "      <td>NaN</td>\n",
       "      <td>NaN</td>\n",
       "      <td>NaN</td>\n",
       "      <td>NaN</td>\n",
       "      <td>NaN</td>\n",
       "      <td>NaN</td>\n",
       "    </tr>\n",
       "    <tr>\n",
       "      <th>4</th>\n",
       "      <td>6</td>\n",
       "      <td>NaN</td>\n",
       "      <td>NaN</td>\n",
       "      <td>NaN</td>\n",
       "      <td>NaN</td>\n",
       "      <td>NaN</td>\n",
       "      <td>NaN</td>\n",
       "      <td>NaN</td>\n",
       "      <td>NaN</td>\n",
       "      <td>NaN</td>\n",
       "      <td>...</td>\n",
       "      <td>NaN</td>\n",
       "      <td>NaN</td>\n",
       "      <td>NaN</td>\n",
       "      <td>NaN</td>\n",
       "      <td>NaN</td>\n",
       "      <td>NaN</td>\n",
       "      <td>NaN</td>\n",
       "      <td>NaN</td>\n",
       "      <td>1.0</td>\n",
       "      <td>1.0</td>\n",
       "    </tr>\n",
       "  </tbody>\n",
       "</table>\n",
       "<p>5 rows × 13339 columns</p>\n",
       "</div>"
      ],
      "text/plain": [
       "  GENE_ID  AAACCTGCACATCCAA-1_ad  AAACCTGCACATCCAA-1_dp  \\\n",
       "0       0                    NaN                    NaN   \n",
       "1       1                    NaN                    NaN   \n",
       "2       2                    NaN                    NaN   \n",
       "3       5                    NaN                    NaN   \n",
       "4       6                    NaN                    NaN   \n",
       "\n",
       "   AAACCTGCACTAGTAC-1_ad  AAACCTGCACTAGTAC-1_dp  AAACCTGCATCATCCC-1_ad  \\\n",
       "0                    NaN                    NaN                    NaN   \n",
       "1                    1.0                    1.0                    NaN   \n",
       "2                    NaN                    NaN                    NaN   \n",
       "3                    NaN                    NaN                    NaN   \n",
       "4                    NaN                    NaN                    NaN   \n",
       "\n",
       "   AAACCTGCATCATCCC-1_dp  AAACCTGGTAGCGATG-1_ad  AAACCTGGTAGCGATG-1_dp  \\\n",
       "0                    NaN                    NaN                    NaN   \n",
       "1                    NaN                    NaN                    NaN   \n",
       "2                    NaN                    NaN                    NaN   \n",
       "3                    NaN                    NaN                    NaN   \n",
       "4                    NaN                    NaN                    NaN   \n",
       "\n",
       "   AAACCTGGTAGCTCCG-1_ad  ...  TTTGTCAGTGCGCTTG-1_ad  TTTGTCAGTGCGCTTG-1_dp  \\\n",
       "0                    NaN  ...                    NaN                    NaN   \n",
       "1                    NaN  ...                    NaN                    NaN   \n",
       "2                    NaN  ...                    NaN                    NaN   \n",
       "3                    NaN  ...                    NaN                    NaN   \n",
       "4                    NaN  ...                    NaN                    NaN   \n",
       "\n",
       "   TTTGTCAGTGTTTGTG-1_ad  TTTGTCAGTGTTTGTG-1_dp  TTTGTCAGTTAAAGAC-1_ad  \\\n",
       "0                    NaN                    NaN                    NaN   \n",
       "1                    NaN                    NaN                    0.0   \n",
       "2                    NaN                    NaN                    NaN   \n",
       "3                    NaN                    NaN                    NaN   \n",
       "4                    NaN                    NaN                    NaN   \n",
       "\n",
       "   TTTGTCAGTTAAAGAC-1_dp  TTTGTCATCATCGGAT-1_ad  TTTGTCATCATCGGAT-1_dp  \\\n",
       "0                    NaN                    NaN                    NaN   \n",
       "1                   23.0                    NaN                    NaN   \n",
       "2                    NaN                    NaN                    NaN   \n",
       "3                    NaN                    NaN                    NaN   \n",
       "4                    NaN                    NaN                    NaN   \n",
       "\n",
       "   TTTGTCATCCCAAGAT-1_ad  TTTGTCATCCCAAGAT-1_dp  \n",
       "0                    NaN                    NaN  \n",
       "1                    NaN                    NaN  \n",
       "2                    NaN                    NaN  \n",
       "3                    NaN                    NaN  \n",
       "4                    1.0                    1.0  \n",
       "\n",
       "[5 rows x 13339 columns]"
      ]
     },
     "execution_count": 52,
     "metadata": {},
     "output_type": "execute_result"
    }
   ],
   "source": [
    "gene_counts_df.insert(\n",
    "    0, \"GENE_ID\", \n",
    "    [gene for gene, snp_list \n",
    "     in gene_to_snps.items() \n",
    "     if len(snp_list) > 0]\n",
    ")\n",
    "toolkit.assert_gene_ordering(gene_counts_df, data[\"genome\"])\n",
    "gene_counts_df.head()"
   ]
  },
  {
   "cell_type": "code",
   "execution_count": 53,
   "metadata": {},
   "outputs": [],
   "source": [
    "data[\"clustering\"] = util.pickle_load(f\"{workspace.tmp_dir}/clustering.pkl\")"
   ]
  },
  {
   "cell_type": "code",
   "execution_count": 54,
   "metadata": {},
   "outputs": [],
   "source": [
    "clean_barcodes = data[\"clustering\"][\"BARCODE\"]\n",
    "raw_barcodes = toolkit.extract_barcodes(gene_counts_df)\n",
    "noisy_barcodes = np.setdiff1d(raw_barcodes, clean_barcodes)\n",
    "gene_counts_df.drop(\n",
    "    columns=[f\"{barcode}_ad\" for barcode in noisy_barcodes],\n",
    "    inplace=True\n",
    ")\n",
    "gene_counts_df.drop(\n",
    "    columns=[f\"{barcode}_dp\" for barcode in noisy_barcodes],\n",
    "    inplace=True\n",
    ")"
   ]
  },
  {
   "cell_type": "code",
   "execution_count": 55,
   "metadata": {
    "scrolled": true
   },
   "outputs": [
    {
     "name": "stderr",
     "output_type": "stream",
     "text": [
      "/icgc/dkfzlsdf/analysis/B260/users/v390v/cnv_inference/data/tmp/counts_to_ase/first_sample/scRNA/cnv_^_haplotype_block_snp_to_genes.pkl —> /icgc/dkfzlsdf/analysis/B260/users/v390v/cnv_inference/data/processed/first_sample/scRNA/cnv_^_haplotype_block_snp_to_genes.pkl\n",
      "/icgc/dkfzlsdf/analysis/B260/users/v390v/cnv_inference/data/tmp/counts_to_ase/first_sample/scRNA/cnv_^_haplotype_block_gene_to_snps.pkl —> /icgc/dkfzlsdf/analysis/B260/users/v390v/cnv_inference/data/processed/first_sample/scRNA/cnv_^_haplotype_block_gene_to_snps.pkl\n",
      "/icgc/dkfzlsdf/analysis/B260/users/v390v/cnv_inference/data/tmp/counts_to_ase/first_sample/scRNA/cnv_^_haplotype_block_gene_counts.pkl —> /icgc/dkfzlsdf/analysis/B260/users/v390v/cnv_inference/data/processed/first_sample/scRNA/cnv_^_haplotype_block_gene_counts.pkl\n"
     ]
    }
   ],
   "source": [
    "util.pickle_dump(\n",
    "    gene_counts_df,\n",
    "    os.path.join(\n",
    "        workspace.tmp_dir,\n",
    "        \"cnv_^_haplotype_block_gene_counts.pkl\"\n",
    "    )\n",
    ")\n",
    "workspace.add_entry(\"cnv_^_haplotype_block_gene_counts\", \n",
    "                    \"cnv_^_haplotype_block_gene_counts.pkl\")\n",
    "workspace.verify()\n",
    "workspace.push()"
   ]
  },
  {
   "cell_type": "code",
   "execution_count": 61,
   "metadata": {},
   "outputs": [
    {
     "data": {
      "text/html": [
       "<div>\n",
       "<style scoped>\n",
       "    .dataframe tbody tr th:only-of-type {\n",
       "        vertical-align: middle;\n",
       "    }\n",
       "\n",
       "    .dataframe tbody tr th {\n",
       "        vertical-align: top;\n",
       "    }\n",
       "\n",
       "    .dataframe thead th {\n",
       "        text-align: right;\n",
       "    }\n",
       "</style>\n",
       "<table border=\"1\" class=\"dataframe\">\n",
       "  <thead>\n",
       "    <tr style=\"text-align: right;\">\n",
       "      <th></th>\n",
       "      <th>GENE_ID</th>\n",
       "      <th>AAACCTGCACATCCAA-1_ad</th>\n",
       "      <th>AAACCTGCACATCCAA-1_dp</th>\n",
       "      <th>AAACCTGCACTAGTAC-1_ad</th>\n",
       "      <th>AAACCTGCACTAGTAC-1_dp</th>\n",
       "      <th>AAACCTGCATCATCCC-1_ad</th>\n",
       "      <th>AAACCTGCATCATCCC-1_dp</th>\n",
       "      <th>AAACCTGGTAGCTCCG-1_ad</th>\n",
       "      <th>AAACCTGGTAGCTCCG-1_dp</th>\n",
       "      <th>AAACCTGGTCTAAACC-1_ad</th>\n",
       "      <th>...</th>\n",
       "      <th>TTTGTCAGTGCGCTTG-1_ad</th>\n",
       "      <th>TTTGTCAGTGCGCTTG-1_dp</th>\n",
       "      <th>TTTGTCAGTGTTTGTG-1_ad</th>\n",
       "      <th>TTTGTCAGTGTTTGTG-1_dp</th>\n",
       "      <th>TTTGTCAGTTAAAGAC-1_ad</th>\n",
       "      <th>TTTGTCAGTTAAAGAC-1_dp</th>\n",
       "      <th>TTTGTCATCATCGGAT-1_ad</th>\n",
       "      <th>TTTGTCATCATCGGAT-1_dp</th>\n",
       "      <th>TTTGTCATCCCAAGAT-1_ad</th>\n",
       "      <th>TTTGTCATCCCAAGAT-1_dp</th>\n",
       "    </tr>\n",
       "  </thead>\n",
       "  <tbody>\n",
       "    <tr>\n",
       "      <th>0</th>\n",
       "      <td>0</td>\n",
       "      <td>NaN</td>\n",
       "      <td>NaN</td>\n",
       "      <td>NaN</td>\n",
       "      <td>NaN</td>\n",
       "      <td>NaN</td>\n",
       "      <td>NaN</td>\n",
       "      <td>NaN</td>\n",
       "      <td>NaN</td>\n",
       "      <td>NaN</td>\n",
       "      <td>...</td>\n",
       "      <td>NaN</td>\n",
       "      <td>NaN</td>\n",
       "      <td>NaN</td>\n",
       "      <td>NaN</td>\n",
       "      <td>NaN</td>\n",
       "      <td>NaN</td>\n",
       "      <td>NaN</td>\n",
       "      <td>NaN</td>\n",
       "      <td>NaN</td>\n",
       "      <td>NaN</td>\n",
       "    </tr>\n",
       "    <tr>\n",
       "      <th>1</th>\n",
       "      <td>1</td>\n",
       "      <td>NaN</td>\n",
       "      <td>NaN</td>\n",
       "      <td>1.0</td>\n",
       "      <td>1.0</td>\n",
       "      <td>NaN</td>\n",
       "      <td>NaN</td>\n",
       "      <td>NaN</td>\n",
       "      <td>NaN</td>\n",
       "      <td>NaN</td>\n",
       "      <td>...</td>\n",
       "      <td>NaN</td>\n",
       "      <td>NaN</td>\n",
       "      <td>NaN</td>\n",
       "      <td>NaN</td>\n",
       "      <td>0.0</td>\n",
       "      <td>23.0</td>\n",
       "      <td>NaN</td>\n",
       "      <td>NaN</td>\n",
       "      <td>NaN</td>\n",
       "      <td>NaN</td>\n",
       "    </tr>\n",
       "    <tr>\n",
       "      <th>2</th>\n",
       "      <td>2</td>\n",
       "      <td>NaN</td>\n",
       "      <td>NaN</td>\n",
       "      <td>NaN</td>\n",
       "      <td>NaN</td>\n",
       "      <td>NaN</td>\n",
       "      <td>NaN</td>\n",
       "      <td>NaN</td>\n",
       "      <td>NaN</td>\n",
       "      <td>NaN</td>\n",
       "      <td>...</td>\n",
       "      <td>NaN</td>\n",
       "      <td>NaN</td>\n",
       "      <td>NaN</td>\n",
       "      <td>NaN</td>\n",
       "      <td>NaN</td>\n",
       "      <td>NaN</td>\n",
       "      <td>NaN</td>\n",
       "      <td>NaN</td>\n",
       "      <td>NaN</td>\n",
       "      <td>NaN</td>\n",
       "    </tr>\n",
       "    <tr>\n",
       "      <th>3</th>\n",
       "      <td>5</td>\n",
       "      <td>NaN</td>\n",
       "      <td>NaN</td>\n",
       "      <td>NaN</td>\n",
       "      <td>NaN</td>\n",
       "      <td>NaN</td>\n",
       "      <td>NaN</td>\n",
       "      <td>NaN</td>\n",
       "      <td>NaN</td>\n",
       "      <td>NaN</td>\n",
       "      <td>...</td>\n",
       "      <td>NaN</td>\n",
       "      <td>NaN</td>\n",
       "      <td>NaN</td>\n",
       "      <td>NaN</td>\n",
       "      <td>NaN</td>\n",
       "      <td>NaN</td>\n",
       "      <td>NaN</td>\n",
       "      <td>NaN</td>\n",
       "      <td>NaN</td>\n",
       "      <td>NaN</td>\n",
       "    </tr>\n",
       "    <tr>\n",
       "      <th>4</th>\n",
       "      <td>6</td>\n",
       "      <td>NaN</td>\n",
       "      <td>NaN</td>\n",
       "      <td>NaN</td>\n",
       "      <td>NaN</td>\n",
       "      <td>NaN</td>\n",
       "      <td>NaN</td>\n",
       "      <td>NaN</td>\n",
       "      <td>NaN</td>\n",
       "      <td>NaN</td>\n",
       "      <td>...</td>\n",
       "      <td>NaN</td>\n",
       "      <td>NaN</td>\n",
       "      <td>NaN</td>\n",
       "      <td>NaN</td>\n",
       "      <td>NaN</td>\n",
       "      <td>NaN</td>\n",
       "      <td>NaN</td>\n",
       "      <td>NaN</td>\n",
       "      <td>1.0</td>\n",
       "      <td>1.0</td>\n",
       "    </tr>\n",
       "  </tbody>\n",
       "</table>\n",
       "<p>5 rows × 12253 columns</p>\n",
       "</div>"
      ],
      "text/plain": [
       "  GENE_ID  AAACCTGCACATCCAA-1_ad  AAACCTGCACATCCAA-1_dp  \\\n",
       "0       0                    NaN                    NaN   \n",
       "1       1                    NaN                    NaN   \n",
       "2       2                    NaN                    NaN   \n",
       "3       5                    NaN                    NaN   \n",
       "4       6                    NaN                    NaN   \n",
       "\n",
       "   AAACCTGCACTAGTAC-1_ad  AAACCTGCACTAGTAC-1_dp  AAACCTGCATCATCCC-1_ad  \\\n",
       "0                    NaN                    NaN                    NaN   \n",
       "1                    1.0                    1.0                    NaN   \n",
       "2                    NaN                    NaN                    NaN   \n",
       "3                    NaN                    NaN                    NaN   \n",
       "4                    NaN                    NaN                    NaN   \n",
       "\n",
       "   AAACCTGCATCATCCC-1_dp  AAACCTGGTAGCTCCG-1_ad  AAACCTGGTAGCTCCG-1_dp  \\\n",
       "0                    NaN                    NaN                    NaN   \n",
       "1                    NaN                    NaN                    NaN   \n",
       "2                    NaN                    NaN                    NaN   \n",
       "3                    NaN                    NaN                    NaN   \n",
       "4                    NaN                    NaN                    NaN   \n",
       "\n",
       "   AAACCTGGTCTAAACC-1_ad  ...  TTTGTCAGTGCGCTTG-1_ad  TTTGTCAGTGCGCTTG-1_dp  \\\n",
       "0                    NaN  ...                    NaN                    NaN   \n",
       "1                    NaN  ...                    NaN                    NaN   \n",
       "2                    NaN  ...                    NaN                    NaN   \n",
       "3                    NaN  ...                    NaN                    NaN   \n",
       "4                    NaN  ...                    NaN                    NaN   \n",
       "\n",
       "   TTTGTCAGTGTTTGTG-1_ad  TTTGTCAGTGTTTGTG-1_dp  TTTGTCAGTTAAAGAC-1_ad  \\\n",
       "0                    NaN                    NaN                    NaN   \n",
       "1                    NaN                    NaN                    0.0   \n",
       "2                    NaN                    NaN                    NaN   \n",
       "3                    NaN                    NaN                    NaN   \n",
       "4                    NaN                    NaN                    NaN   \n",
       "\n",
       "   TTTGTCAGTTAAAGAC-1_dp  TTTGTCATCATCGGAT-1_ad  TTTGTCATCATCGGAT-1_dp  \\\n",
       "0                    NaN                    NaN                    NaN   \n",
       "1                   23.0                    NaN                    NaN   \n",
       "2                    NaN                    NaN                    NaN   \n",
       "3                    NaN                    NaN                    NaN   \n",
       "4                    NaN                    NaN                    NaN   \n",
       "\n",
       "   TTTGTCATCCCAAGAT-1_ad  TTTGTCATCCCAAGAT-1_dp  \n",
       "0                    NaN                    NaN  \n",
       "1                    NaN                    NaN  \n",
       "2                    NaN                    NaN  \n",
       "3                    NaN                    NaN  \n",
       "4                    1.0                    1.0  \n",
       "\n",
       "[5 rows x 12253 columns]"
      ]
     },
     "execution_count": 61,
     "metadata": {},
     "output_type": "execute_result"
    }
   ],
   "source": [
    "gene_counts_df.head()"
   ]
  }
 ],
 "metadata": {
  "kernelspec": {
   "display_name": "Python [conda env:.conda-mb] *",
   "language": "python",
   "name": "conda-env-.conda-mb-py"
  },
  "language_info": {
   "codemirror_mode": {
    "name": "ipython",
    "version": 3
   },
   "file_extension": ".py",
   "mimetype": "text/x-python",
   "name": "python",
   "nbconvert_exporter": "python",
   "pygments_lexer": "ipython3",
   "version": "3.7.3"
  }
 },
 "nbformat": 4,
 "nbformat_minor": 2
}
